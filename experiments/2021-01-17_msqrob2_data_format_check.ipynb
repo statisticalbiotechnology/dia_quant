{
 "cells": [
  {
   "cell_type": "code",
   "execution_count": 6,
   "metadata": {},
   "outputs": [],
   "source": [
    "import os\n",
    "import pandas as pd\n",
    "import numpy as np"
   ]
  },
  {
   "cell_type": "code",
   "execution_count": 3,
   "metadata": {},
   "outputs": [],
   "source": [
    "os.chdir('/home/ptruong/anaconda3/envs/r_env/lib/R/library/msdata/quant/')"
   ]
  },
  {
   "cell_type": "code",
   "execution_count": 4,
   "metadata": {},
   "outputs": [
    {
     "data": {
      "text/plain": [
       "['cptac_a_b_peptides.txt']"
      ]
     },
     "execution_count": 4,
     "metadata": {},
     "output_type": "execute_result"
    }
   ],
   "source": [
    "os.listdir()"
   ]
  },
  {
   "cell_type": "code",
   "execution_count": 7,
   "metadata": {},
   "outputs": [],
   "source": [
    "df = pd.read_csv('cptac_a_b_peptides.txt', sep = \"\\t\")"
   ]
  },
  {
   "cell_type": "code",
   "execution_count": 9,
   "metadata": {},
   "outputs": [
    {
     "data": {
      "text/plain": [
       "0         AAAAGAGGAGDSGDAVTK\n",
       "1                  AAAALAGGK\n",
       "2                 AAAALAGGKK\n",
       "3               AAADALSDLEIK\n",
       "4            AAADALSDLEIKDSK\n",
       "                ...         \n",
       "11461       YYSIYDLGNNAVGLAK\n",
       "11462       YYTFNGPNYNENETIR\n",
       "11463             YYTITEVATR\n",
       "11464            YYTVFDRDNNR\n",
       "11465    YYTVFDRDNNRVGFAEAAR\n",
       "Name: Sequence, Length: 11466, dtype: object"
      ]
     },
     "execution_count": 9,
     "metadata": {},
     "output_type": "execute_result"
    }
   ],
   "source": [
    "# fnames - feature names columns\n",
    "df.iloc[:,0]"
   ]
  },
  {
   "cell_type": "code",
   "execution_count": 22,
   "metadata": {},
   "outputs": [
    {
     "data": {
      "text/plain": [
       "11466"
      ]
     },
     "execution_count": 22,
     "metadata": {},
     "output_type": "execute_result"
    }
   ],
   "source": [
    "len(df.iloc[:,0].unique())\n"
   ]
  },
  {
   "cell_type": "code",
   "execution_count": 16,
   "metadata": {},
   "outputs": [
    {
     "data": {
      "text/html": [
       "<div>\n",
       "<style scoped>\n",
       "    .dataframe tbody tr th:only-of-type {\n",
       "        vertical-align: middle;\n",
       "    }\n",
       "\n",
       "    .dataframe tbody tr th {\n",
       "        vertical-align: top;\n",
       "    }\n",
       "\n",
       "    .dataframe thead th {\n",
       "        text-align: right;\n",
       "    }\n",
       "</style>\n",
       "<table border=\"1\" class=\"dataframe\">\n",
       "  <thead>\n",
       "    <tr style=\"text-align: right;\">\n",
       "      <th></th>\n",
       "      <th>Intensity 6A_7</th>\n",
       "      <th>Intensity 6A_8</th>\n",
       "      <th>Intensity 6A_9</th>\n",
       "      <th>Intensity 6B_7</th>\n",
       "      <th>Intensity 6B_8</th>\n",
       "      <th>Intensity 6B_9</th>\n",
       "    </tr>\n",
       "  </thead>\n",
       "  <tbody>\n",
       "    <tr>\n",
       "      <th>0</th>\n",
       "      <td>0.0</td>\n",
       "      <td>0.0</td>\n",
       "      <td>66760.0</td>\n",
       "      <td>0.0</td>\n",
       "      <td>37436.0</td>\n",
       "      <td>0.0</td>\n",
       "    </tr>\n",
       "    <tr>\n",
       "      <th>1</th>\n",
       "      <td>2441300.0</td>\n",
       "      <td>1220000.0</td>\n",
       "      <td>1337600.0</td>\n",
       "      <td>2850900.0</td>\n",
       "      <td>935580.0</td>\n",
       "      <td>1606200.0</td>\n",
       "    </tr>\n",
       "    <tr>\n",
       "      <th>2</th>\n",
       "      <td>1029200.0</td>\n",
       "      <td>668040.0</td>\n",
       "      <td>638990.0</td>\n",
       "      <td>777030.0</td>\n",
       "      <td>641270.0</td>\n",
       "      <td>562840.0</td>\n",
       "    </tr>\n",
       "    <tr>\n",
       "      <th>3</th>\n",
       "      <td>515460.0</td>\n",
       "      <td>670780.0</td>\n",
       "      <td>712140.0</td>\n",
       "      <td>426580.0</td>\n",
       "      <td>620510.0</td>\n",
       "      <td>737780.0</td>\n",
       "    </tr>\n",
       "    <tr>\n",
       "      <th>4</th>\n",
       "      <td>331130.0</td>\n",
       "      <td>420900.0</td>\n",
       "      <td>365560.0</td>\n",
       "      <td>329250.0</td>\n",
       "      <td>380820.0</td>\n",
       "      <td>414490.0</td>\n",
       "    </tr>\n",
       "    <tr>\n",
       "      <th>...</th>\n",
       "      <td>...</td>\n",
       "      <td>...</td>\n",
       "      <td>...</td>\n",
       "      <td>...</td>\n",
       "      <td>...</td>\n",
       "      <td>...</td>\n",
       "    </tr>\n",
       "    <tr>\n",
       "      <th>11461</th>\n",
       "      <td>0.0</td>\n",
       "      <td>0.0</td>\n",
       "      <td>0.0</td>\n",
       "      <td>0.0</td>\n",
       "      <td>0.0</td>\n",
       "      <td>0.0</td>\n",
       "    </tr>\n",
       "    <tr>\n",
       "      <th>11462</th>\n",
       "      <td>88629.0</td>\n",
       "      <td>0.0</td>\n",
       "      <td>55584.0</td>\n",
       "      <td>63071.0</td>\n",
       "      <td>0.0</td>\n",
       "      <td>0.0</td>\n",
       "    </tr>\n",
       "    <tr>\n",
       "      <th>11463</th>\n",
       "      <td>298360.0</td>\n",
       "      <td>0.0</td>\n",
       "      <td>0.0</td>\n",
       "      <td>0.0</td>\n",
       "      <td>366000.0</td>\n",
       "      <td>0.0</td>\n",
       "    </tr>\n",
       "    <tr>\n",
       "      <th>11464</th>\n",
       "      <td>0.0</td>\n",
       "      <td>0.0</td>\n",
       "      <td>0.0</td>\n",
       "      <td>0.0</td>\n",
       "      <td>0.0</td>\n",
       "      <td>0.0</td>\n",
       "    </tr>\n",
       "    <tr>\n",
       "      <th>11465</th>\n",
       "      <td>0.0</td>\n",
       "      <td>0.0</td>\n",
       "      <td>0.0</td>\n",
       "      <td>0.0</td>\n",
       "      <td>0.0</td>\n",
       "      <td>0.0</td>\n",
       "    </tr>\n",
       "  </tbody>\n",
       "</table>\n",
       "<p>11466 rows × 6 columns</p>\n",
       "</div>"
      ],
      "text/plain": [
       "       Intensity 6A_7  Intensity 6A_8  Intensity 6A_9  Intensity 6B_7  \\\n",
       "0                 0.0             0.0         66760.0             0.0   \n",
       "1           2441300.0       1220000.0       1337600.0       2850900.0   \n",
       "2           1029200.0        668040.0        638990.0        777030.0   \n",
       "3            515460.0        670780.0        712140.0        426580.0   \n",
       "4            331130.0        420900.0        365560.0        329250.0   \n",
       "...               ...             ...             ...             ...   \n",
       "11461             0.0             0.0             0.0             0.0   \n",
       "11462         88629.0             0.0         55584.0         63071.0   \n",
       "11463        298360.0             0.0             0.0             0.0   \n",
       "11464             0.0             0.0             0.0             0.0   \n",
       "11465             0.0             0.0             0.0             0.0   \n",
       "\n",
       "       Intensity 6B_8  Intensity 6B_9  \n",
       "0             37436.0             0.0  \n",
       "1            935580.0       1606200.0  \n",
       "2            641270.0        562840.0  \n",
       "3            620510.0        737780.0  \n",
       "4            380820.0        414490.0  \n",
       "...               ...             ...  \n",
       "11461             0.0             0.0  \n",
       "11462             0.0             0.0  \n",
       "11463        366000.0             0.0  \n",
       "11464             0.0             0.0  \n",
       "11465             0.0             0.0  \n",
       "\n",
       "[11466 rows x 6 columns]"
      ]
     },
     "execution_count": 16,
     "metadata": {},
     "output_type": "execute_result"
    }
   ],
   "source": [
    "# expressions \n",
    "df.iloc[:,55:61]"
   ]
  },
  {
   "cell_type": "code",
   "execution_count": 20,
   "metadata": {},
   "outputs": [
    {
     "data": {
      "text/plain": [
       "0        2\n",
       "1        0\n",
       "2        0\n",
       "3        2\n",
       "4        3\n",
       "        ..\n",
       "11461    1\n",
       "11462    0\n",
       "11463    0\n",
       "11464    2\n",
       "11465    2\n",
       "Name: D Count, Length: 11466, dtype: int64"
      ]
     },
     "execution_count": 20,
     "metadata": {},
     "output_type": "execute_result"
    }
   ],
   "source": [
    "# condition columns\n",
    "df.iloc[:,12]"
   ]
  },
  {
   "cell_type": "code",
   "execution_count": null,
   "metadata": {},
   "outputs": [],
   "source": [
    "df"
   ]
  }
 ],
 "metadata": {
  "kernelspec": {
   "display_name": "Python [conda env:py37]",
   "language": "python",
   "name": "conda-env-py37-py"
  },
  "language_info": {
   "codemirror_mode": {
    "name": "ipython",
    "version": 3
   },
   "file_extension": ".py",
   "mimetype": "text/x-python",
   "name": "python",
   "nbconvert_exporter": "python",
   "pygments_lexer": "ipython3",
   "version": "3.7.10"
  }
 },
 "nbformat": 4,
 "nbformat_minor": 4
}
