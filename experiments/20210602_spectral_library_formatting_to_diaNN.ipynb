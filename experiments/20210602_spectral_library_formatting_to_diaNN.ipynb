{
 "cells": [
  {
   "cell_type": "markdown",
   "metadata": {},
   "source": [
    "# About\n",
    "\n",
    "Check why target_decoy spectral library does not give protein Id for DIA-NN.\n"
   ]
  },
  {
   "cell_type": "code",
   "execution_count": 2,
   "metadata": {},
   "outputs": [],
   "source": [
    "import os\n",
    "os.chdir(\"/hdd_14T/data/PXD002952/res_20210530_DIAUmpire/MSFragger\")\n",
    "\n",
    "import pandas as pd"
   ]
  },
  {
   "cell_type": "code",
   "execution_count": 3,
   "metadata": {},
   "outputs": [
    {
     "name": "stderr",
     "output_type": "stream",
     "text": [
      "/home/ptruong/anaconda3/envs/py37/lib/python3.7/site-packages/IPython/core/interactiveshell.py:3156: DtypeWarning: Columns (23) have mixed types.Specify dtype option on import or set low_memory=False.\n",
      "  interactivity=interactivity, compiler=compiler, result=result)\n"
     ]
    }
   ],
   "source": [
    "\n",
    "# check library colummns \n",
    "\n",
    "lib = pd.read_csv(\"library.tsv\", sep = \"\\t\")\n",
    "lib_mod = pd.read_csv(\"library_target_decoy.tsv\", sep = \"\\t\")"
   ]
  },
  {
   "cell_type": "code",
   "execution_count": 4,
   "metadata": {},
   "outputs": [
    {
     "data": {
      "text/plain": [
       "Index(['PrecursorMz', 'ProductMz', 'Annotation', 'ProteinId', 'GeneName',\n",
       "       'PeptideSequence', 'ModifiedPeptideSequence', 'PrecursorCharge',\n",
       "       'LibraryIntensity', 'NormalizedRetentionTime', 'PrecursorIonMobility',\n",
       "       'FragmentType', 'FragmentCharge', 'FragmentSeriesNumber',\n",
       "       'FragmentLossType'],\n",
       "      dtype='object')"
      ]
     },
     "execution_count": 4,
     "metadata": {},
     "output_type": "execute_result"
    }
   ],
   "source": [
    "lib.columns"
   ]
  },
  {
   "cell_type": "code",
   "execution_count": 5,
   "metadata": {},
   "outputs": [
    {
     "data": {
      "text/plain": [
       "Index(['PrecursorMz', 'ProductMz', 'PrecursorCharge', 'ProductCharge',\n",
       "       'LibraryIntensity', 'NormalizedRetentionTime', 'PeptideSequence',\n",
       "       'ModifiedPeptideSequence', 'PeptideGroupLabel', 'LabelType',\n",
       "       'CompoundName', 'SumFormula', 'SMILES', 'Adducts', 'ProteinId',\n",
       "       'UniprotId', 'GeneName', 'FragmentType', 'FragmentSeriesNumber',\n",
       "       'Annotation', 'CollisionEnergy', 'PrecursorIonMobility',\n",
       "       'TransitionGroupId', 'TransitionId', 'Decoy', 'DetectingTransition',\n",
       "       'IdentifyingTransition', 'QuantifyingTransition', 'Peptidoforms'],\n",
       "      dtype='object')"
      ]
     },
     "execution_count": 5,
     "metadata": {},
     "output_type": "execute_result"
    }
   ],
   "source": [
    "lib_mod.columns"
   ]
  },
  {
   "cell_type": "code",
   "execution_count": 17,
   "metadata": {},
   "outputs": [],
   "source": [
    "lib_mod[lib.drop([\"FragmentLossType\", 'FragmentCharge'], axis = 1).columns].to_csv(\"library_target_decoy_reformatted.tsv\", sep = \"\\t\", index = False)"
   ]
  },
  {
   "cell_type": "code",
   "execution_count": 10,
   "metadata": {},
   "outputs": [
    {
     "data": {
      "text/html": [
       "<div>\n",
       "<style scoped>\n",
       "    .dataframe tbody tr th:only-of-type {\n",
       "        vertical-align: middle;\n",
       "    }\n",
       "\n",
       "    .dataframe tbody tr th {\n",
       "        vertical-align: top;\n",
       "    }\n",
       "\n",
       "    .dataframe thead th {\n",
       "        text-align: right;\n",
       "    }\n",
       "</style>\n",
       "<table border=\"1\" class=\"dataframe\">\n",
       "  <thead>\n",
       "    <tr style=\"text-align: right;\">\n",
       "      <th></th>\n",
       "      <th>PrecursorMz</th>\n",
       "      <th>ProductMz</th>\n",
       "      <th>Annotation</th>\n",
       "      <th>ProteinId</th>\n",
       "      <th>GeneName</th>\n",
       "      <th>PeptideSequence</th>\n",
       "      <th>ModifiedPeptideSequence</th>\n",
       "      <th>PrecursorCharge</th>\n",
       "      <th>LibraryIntensity</th>\n",
       "      <th>NormalizedRetentionTime</th>\n",
       "      <th>PrecursorIonMobility</th>\n",
       "      <th>FragmentType</th>\n",
       "      <th>FragmentSeriesNumber</th>\n",
       "    </tr>\n",
       "  </thead>\n",
       "  <tbody>\n",
       "    <tr>\n",
       "      <th>0</th>\n",
       "      <td>399.187428</td>\n",
       "      <td>234.144834</td>\n",
       "      <td>y2^1</td>\n",
       "      <td>P32471</td>\n",
       "      <td>EFB1</td>\n",
       "      <td>ASTDFSK</td>\n",
       "      <td>(UniMod:1)ASTDFSK</td>\n",
       "      <td>2</td>\n",
       "      <td>3066.745572</td>\n",
       "      <td>41.499265</td>\n",
       "      <td>NaN</td>\n",
       "      <td>y</td>\n",
       "      <td>2</td>\n",
       "    </tr>\n",
       "    <tr>\n",
       "      <th>1</th>\n",
       "      <td>399.187428</td>\n",
       "      <td>302.134664</td>\n",
       "      <td>b3^1</td>\n",
       "      <td>P32471</td>\n",
       "      <td>EFB1</td>\n",
       "      <td>ASTDFSK</td>\n",
       "      <td>(UniMod:1)ASTDFSK</td>\n",
       "      <td>2</td>\n",
       "      <td>6035.264966</td>\n",
       "      <td>41.499265</td>\n",
       "      <td>NaN</td>\n",
       "      <td>b</td>\n",
       "      <td>3</td>\n",
       "    </tr>\n",
       "    <tr>\n",
       "      <th>2</th>\n",
       "      <td>399.187428</td>\n",
       "      <td>381.213248</td>\n",
       "      <td>y3^1</td>\n",
       "      <td>P32471</td>\n",
       "      <td>EFB1</td>\n",
       "      <td>ASTDFSK</td>\n",
       "      <td>(UniMod:1)ASTDFSK</td>\n",
       "      <td>2</td>\n",
       "      <td>10000.000000</td>\n",
       "      <td>41.499265</td>\n",
       "      <td>NaN</td>\n",
       "      <td>y</td>\n",
       "      <td>3</td>\n",
       "    </tr>\n",
       "    <tr>\n",
       "      <th>3</th>\n",
       "      <td>399.187428</td>\n",
       "      <td>496.240193</td>\n",
       "      <td>y4^1</td>\n",
       "      <td>P32471</td>\n",
       "      <td>EFB1</td>\n",
       "      <td>ASTDFSK</td>\n",
       "      <td>(UniMod:1)ASTDFSK</td>\n",
       "      <td>2</td>\n",
       "      <td>2326.355487</td>\n",
       "      <td>41.499265</td>\n",
       "      <td>NaN</td>\n",
       "      <td>y</td>\n",
       "      <td>4</td>\n",
       "    </tr>\n",
       "    <tr>\n",
       "      <th>4</th>\n",
       "      <td>399.187428</td>\n",
       "      <td>597.287872</td>\n",
       "      <td>y5^1</td>\n",
       "      <td>P32471</td>\n",
       "      <td>EFB1</td>\n",
       "      <td>ASTDFSK</td>\n",
       "      <td>(UniMod:1)ASTDFSK</td>\n",
       "      <td>2</td>\n",
       "      <td>3528.163944</td>\n",
       "      <td>41.499265</td>\n",
       "      <td>NaN</td>\n",
       "      <td>y</td>\n",
       "      <td>5</td>\n",
       "    </tr>\n",
       "    <tr>\n",
       "      <th>...</th>\n",
       "      <td>...</td>\n",
       "      <td>...</td>\n",
       "      <td>...</td>\n",
       "      <td>...</td>\n",
       "      <td>...</td>\n",
       "      <td>...</td>\n",
       "      <td>...</td>\n",
       "      <td>...</td>\n",
       "      <td>...</td>\n",
       "      <td>...</td>\n",
       "      <td>...</td>\n",
       "      <td>...</td>\n",
       "      <td>...</td>\n",
       "    </tr>\n",
       "    <tr>\n",
       "      <th>915555</th>\n",
       "      <td>1199.992827</td>\n",
       "      <td>1620.882980</td>\n",
       "      <td>y29^2</td>\n",
       "      <td>P76187</td>\n",
       "      <td>ydhF</td>\n",
       "      <td>LPFTLATNQVEISPVHQPLLLDGTLDQLQQLR</td>\n",
       "      <td>LPFTLATNQVEISPVHQPLLLDGTLDQLQQLR</td>\n",
       "      <td>3</td>\n",
       "      <td>724.781725</td>\n",
       "      <td>90.695640</td>\n",
       "      <td>NaN</td>\n",
       "      <td>y</td>\n",
       "      <td>29</td>\n",
       "    </tr>\n",
       "    <tr>\n",
       "      <th>915556</th>\n",
       "      <td>1199.992827</td>\n",
       "      <td>1694.417187</td>\n",
       "      <td>y30^2</td>\n",
       "      <td>P76187</td>\n",
       "      <td>ydhF</td>\n",
       "      <td>LPFTLATNQVEISPVHQPLLLDGTLDQLQQLR</td>\n",
       "      <td>LPFTLATNQVEISPVHQPLLLDGTLDQLQQLR</td>\n",
       "      <td>3</td>\n",
       "      <td>757.354508</td>\n",
       "      <td>90.695640</td>\n",
       "      <td>NaN</td>\n",
       "      <td>y</td>\n",
       "      <td>30</td>\n",
       "    </tr>\n",
       "    <tr>\n",
       "      <th>915557</th>\n",
       "      <td>1199.992827</td>\n",
       "      <td>1722.974870</td>\n",
       "      <td>y15^1</td>\n",
       "      <td>P76187</td>\n",
       "      <td>ydhF</td>\n",
       "      <td>LPFTLATNQVEISPVHQPLLLDGTLDQLQQLR</td>\n",
       "      <td>LPFTLATNQVEISPVHQPLLLDGTLDQLQQLR</td>\n",
       "      <td>3</td>\n",
       "      <td>10000.000000</td>\n",
       "      <td>90.695640</td>\n",
       "      <td>NaN</td>\n",
       "      <td>y</td>\n",
       "      <td>15</td>\n",
       "    </tr>\n",
       "    <tr>\n",
       "      <th>915558</th>\n",
       "      <td>1199.992827</td>\n",
       "      <td>1851.033448</td>\n",
       "      <td>y16^1</td>\n",
       "      <td>P76187</td>\n",
       "      <td>ydhF</td>\n",
       "      <td>LPFTLATNQVEISPVHQPLLLDGTLDQLQQLR</td>\n",
       "      <td>LPFTLATNQVEISPVHQPLLLDGTLDQLQQLR</td>\n",
       "      <td>3</td>\n",
       "      <td>557.946728</td>\n",
       "      <td>90.695640</td>\n",
       "      <td>NaN</td>\n",
       "      <td>y</td>\n",
       "      <td>16</td>\n",
       "    </tr>\n",
       "    <tr>\n",
       "      <th>915559</th>\n",
       "      <td>1199.992827</td>\n",
       "      <td>1988.092360</td>\n",
       "      <td>y17^1</td>\n",
       "      <td>P76187</td>\n",
       "      <td>ydhF</td>\n",
       "      <td>LPFTLATNQVEISPVHQPLLLDGTLDQLQQLR</td>\n",
       "      <td>LPFTLATNQVEISPVHQPLLLDGTLDQLQQLR</td>\n",
       "      <td>3</td>\n",
       "      <td>750.667599</td>\n",
       "      <td>90.695640</td>\n",
       "      <td>NaN</td>\n",
       "      <td>y</td>\n",
       "      <td>17</td>\n",
       "    </tr>\n",
       "  </tbody>\n",
       "</table>\n",
       "<p>915560 rows × 13 columns</p>\n",
       "</div>"
      ],
      "text/plain": [
       "        PrecursorMz    ProductMz Annotation ProteinId GeneName  \\\n",
       "0        399.187428   234.144834       y2^1    P32471     EFB1   \n",
       "1        399.187428   302.134664       b3^1    P32471     EFB1   \n",
       "2        399.187428   381.213248       y3^1    P32471     EFB1   \n",
       "3        399.187428   496.240193       y4^1    P32471     EFB1   \n",
       "4        399.187428   597.287872       y5^1    P32471     EFB1   \n",
       "...             ...          ...        ...       ...      ...   \n",
       "915555  1199.992827  1620.882980      y29^2    P76187     ydhF   \n",
       "915556  1199.992827  1694.417187      y30^2    P76187     ydhF   \n",
       "915557  1199.992827  1722.974870      y15^1    P76187     ydhF   \n",
       "915558  1199.992827  1851.033448      y16^1    P76187     ydhF   \n",
       "915559  1199.992827  1988.092360      y17^1    P76187     ydhF   \n",
       "\n",
       "                         PeptideSequence           ModifiedPeptideSequence  \\\n",
       "0                                ASTDFSK                 (UniMod:1)ASTDFSK   \n",
       "1                                ASTDFSK                 (UniMod:1)ASTDFSK   \n",
       "2                                ASTDFSK                 (UniMod:1)ASTDFSK   \n",
       "3                                ASTDFSK                 (UniMod:1)ASTDFSK   \n",
       "4                                ASTDFSK                 (UniMod:1)ASTDFSK   \n",
       "...                                  ...                               ...   \n",
       "915555  LPFTLATNQVEISPVHQPLLLDGTLDQLQQLR  LPFTLATNQVEISPVHQPLLLDGTLDQLQQLR   \n",
       "915556  LPFTLATNQVEISPVHQPLLLDGTLDQLQQLR  LPFTLATNQVEISPVHQPLLLDGTLDQLQQLR   \n",
       "915557  LPFTLATNQVEISPVHQPLLLDGTLDQLQQLR  LPFTLATNQVEISPVHQPLLLDGTLDQLQQLR   \n",
       "915558  LPFTLATNQVEISPVHQPLLLDGTLDQLQQLR  LPFTLATNQVEISPVHQPLLLDGTLDQLQQLR   \n",
       "915559  LPFTLATNQVEISPVHQPLLLDGTLDQLQQLR  LPFTLATNQVEISPVHQPLLLDGTLDQLQQLR   \n",
       "\n",
       "        PrecursorCharge  LibraryIntensity  NormalizedRetentionTime  \\\n",
       "0                     2       3066.745572                41.499265   \n",
       "1                     2       6035.264966                41.499265   \n",
       "2                     2      10000.000000                41.499265   \n",
       "3                     2       2326.355487                41.499265   \n",
       "4                     2       3528.163944                41.499265   \n",
       "...                 ...               ...                      ...   \n",
       "915555                3        724.781725                90.695640   \n",
       "915556                3        757.354508                90.695640   \n",
       "915557                3      10000.000000                90.695640   \n",
       "915558                3        557.946728                90.695640   \n",
       "915559                3        750.667599                90.695640   \n",
       "\n",
       "        PrecursorIonMobility FragmentType  FragmentSeriesNumber  \n",
       "0                        NaN            y                     2  \n",
       "1                        NaN            b                     3  \n",
       "2                        NaN            y                     3  \n",
       "3                        NaN            y                     4  \n",
       "4                        NaN            y                     5  \n",
       "...                      ...          ...                   ...  \n",
       "915555                   NaN            y                    29  \n",
       "915556                   NaN            y                    30  \n",
       "915557                   NaN            y                    15  \n",
       "915558                   NaN            y                    16  \n",
       "915559                   NaN            y                    17  \n",
       "\n",
       "[915560 rows x 13 columns]"
      ]
     },
     "execution_count": 10,
     "metadata": {},
     "output_type": "execute_result"
    }
   ],
   "source": [
    "lib.drop([\"FragmentLossType\", 'FragmentCharge'], axis = 1)"
   ]
  },
  {
   "cell_type": "code",
   "execution_count": 13,
   "metadata": {},
   "outputs": [
    {
     "data": {
      "text/plain": [
       "array([nan])"
      ]
     },
     "execution_count": 13,
     "metadata": {},
     "output_type": "execute_result"
    }
   ],
   "source": [
    "lib[\"FragmentLossType\"].unique()"
   ]
  },
  {
   "cell_type": "code",
   "execution_count": 16,
   "metadata": {},
   "outputs": [
    {
     "data": {
      "text/plain": [
       "array([1, 2, 3, 4])"
      ]
     },
     "execution_count": 16,
     "metadata": {},
     "output_type": "execute_result"
    }
   ],
   "source": [
    "lib[\"FragmentCharge\"].unique()"
   ]
  },
  {
   "cell_type": "code",
   "execution_count": 18,
   "metadata": {},
   "outputs": [],
   "source": [
    "\n",
    "def decoy_mapper(protein):\n",
    "    if protein.split(\"_\")[0] == \"DECOY\":\n",
    "        return True\n",
    "    else:\n",
    "        return False"
   ]
  },
  {
   "cell_type": "code",
   "execution_count": 19,
   "metadata": {},
   "outputs": [],
   "source": [
    "df = pd.read_csv(\"diaNN.tsv\", sep = \"\\t\")\n"
   ]
  },
  {
   "cell_type": "code",
   "execution_count": 21,
   "metadata": {},
   "outputs": [],
   "source": [
    "df[\"decoy\"] = df[\"Protein.Ids\"].map(decoy_mapper)\n"
   ]
  },
  {
   "cell_type": "code",
   "execution_count": 22,
   "metadata": {},
   "outputs": [
    {
     "data": {
      "text/plain": [
       "7551"
      ]
     },
     "execution_count": 22,
     "metadata": {},
     "output_type": "execute_result"
    }
   ],
   "source": [
    "len(df[\"Protein.Ids\"].unique())"
   ]
  },
  {
   "cell_type": "code",
   "execution_count": 23,
   "metadata": {},
   "outputs": [
    {
     "data": {
      "text/plain": [
       "3637"
      ]
     },
     "execution_count": 23,
     "metadata": {},
     "output_type": "execute_result"
    }
   ],
   "source": [
    "len(df[df[\"decoy\"] == True][\"Protein.Ids\"].unique())"
   ]
  },
  {
   "cell_type": "code",
   "execution_count": 24,
   "metadata": {},
   "outputs": [
    {
     "data": {
      "text/plain": [
       "3914"
      ]
     },
     "execution_count": 24,
     "metadata": {},
     "output_type": "execute_result"
    }
   ],
   "source": [
    "len(df[df[\"decoy\"] == False][\"Protein.Ids\"].unique())"
   ]
  },
  {
   "cell_type": "code",
   "execution_count": null,
   "metadata": {},
   "outputs": [],
   "source": []
  },
  {
   "cell_type": "code",
   "execution_count": null,
   "metadata": {},
   "outputs": [],
   "source": []
  },
  {
   "cell_type": "code",
   "execution_count": null,
   "metadata": {},
   "outputs": [],
   "source": []
  }
 ],
 "metadata": {
  "kernelspec": {
   "display_name": "Python [conda env:py37]",
   "language": "python",
   "name": "conda-env-py37-py"
  },
  "language_info": {
   "codemirror_mode": {
    "name": "ipython",
    "version": 3
   },
   "file_extension": ".py",
   "mimetype": "text/x-python",
   "name": "python",
   "nbconvert_exporter": "python",
   "pygments_lexer": "ipython3",
   "version": "3.7.10"
  }
 },
 "nbformat": 4,
 "nbformat_minor": 4
}
