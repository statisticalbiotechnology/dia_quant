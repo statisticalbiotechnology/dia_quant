{
 "cells": [
  {
   "cell_type": "markdown",
   "metadata": {},
   "source": [
    "# About\n",
    "\n",
    "This scripts check amount of protein with shared peptides."
   ]
  },
  {
   "cell_type": "code",
   "execution_count": 133,
   "metadata": {},
   "outputs": [],
   "source": [
    "import os \n",
    "import re\n",
    "import pandas as pd\n",
    "import numpy as np\n",
    "\n",
    "# read in .fasta file and count shared peptides\n",
    "\n",
    "os.chdir(\"/home/ptruong/git/dia_sum\")\n",
    "#filename = \"database/2021-06-07/UP00000625_UP000002311_UP000005640.fasta\"\n",
    "filename = \"database/napedro_3mixed_human_yeast_ecoli_20140403_iRT_reverse.fasta\"\n",
    "\n",
    "file = open(filename, \"r\")\n",
    "\n",
    "protein_list = []\n",
    "sequence_list = []\n",
    "for line in file: \n",
    "    if line[0] == \">\":\n",
    "        protein = line \n",
    "    else:\n",
    "        sequence = line.rstrip()\n",
    "        split_sequence = re.split(r\"(?<=[KR])\", sequence)\n",
    "        split_sequence = list(dict.fromkeys(split_sequence))\n",
    "        sequence_list += split_sequence\n",
    "        protein_list += [protein for i in range(len(split_sequence))]\n",
    "        \n",
    "\n"
   ]
  },
  {
   "cell_type": "code",
   "execution_count": 134,
   "metadata": {},
   "outputs": [],
   "source": [
    "df = pd.DataFrame(np.array([protein_list, sequence_list]).T, columns = [\"protein\", \"sequence\"])\n",
    "\n"
   ]
  },
  {
   "cell_type": "code",
   "execution_count": 135,
   "metadata": {},
   "outputs": [],
   "source": [
    "def decoy_map(protein):\n",
    "    if protein.split(\"_\")[0] == \">reverse\":\n",
    "        return True\n",
    "    else:\n",
    "        return False"
   ]
  },
  {
   "cell_type": "code",
   "execution_count": 136,
   "metadata": {},
   "outputs": [],
   "source": [
    "df[\"decoy\"] = df.protein.map(decoy_map)"
   ]
  },
  {
   "cell_type": "code",
   "execution_count": 137,
   "metadata": {},
   "outputs": [],
   "source": [
    "df = df[df.decoy == False]\n",
    "df[\"seq_length\"] = df.sequence.str.len()\n",
    "df = df[df[\"seq_length\"] > 7]\n",
    "df.drop(\"seq_length\", axis = 1, inplace = True)\n",
    "df.drop_duplicates(inplace=True)\n",
    "counted_df = df.groupby(\"sequence\").count().sort_values(by = \"protein\", ascending = False)"
   ]
  },
  {
   "cell_type": "code",
   "execution_count": 138,
   "metadata": {
    "scrolled": true
   },
   "outputs": [
    {
     "data": {
      "text/html": [
       "<div>\n",
       "<style scoped>\n",
       "    .dataframe tbody tr th:only-of-type {\n",
       "        vertical-align: middle;\n",
       "    }\n",
       "\n",
       "    .dataframe tbody tr th {\n",
       "        vertical-align: top;\n",
       "    }\n",
       "\n",
       "    .dataframe thead th {\n",
       "        text-align: right;\n",
       "    }\n",
       "</style>\n",
       "<table border=\"1\" class=\"dataframe\">\n",
       "  <thead>\n",
       "    <tr style=\"text-align: right;\">\n",
       "      <th></th>\n",
       "      <th>protein</th>\n",
       "      <th>decoy</th>\n",
       "    </tr>\n",
       "    <tr>\n",
       "      <th>sequence</th>\n",
       "      <th></th>\n",
       "      <th></th>\n",
       "    </tr>\n",
       "  </thead>\n",
       "  <tbody>\n",
       "    <tr>\n",
       "      <th>DGEDQTQDTELVETR</th>\n",
       "      <td>66</td>\n",
       "      <td>66</td>\n",
       "    </tr>\n",
       "    <tr>\n",
       "      <th>PYECNECGK</th>\n",
       "      <td>61</td>\n",
       "      <td>61</td>\n",
       "    </tr>\n",
       "    <tr>\n",
       "      <th>PYECSECGK</th>\n",
       "      <td>59</td>\n",
       "      <td>59</td>\n",
       "    </tr>\n",
       "    <tr>\n",
       "      <th>CWALGFYPAEITLT</th>\n",
       "      <td>56</td>\n",
       "      <td>56</td>\n",
       "    </tr>\n",
       "    <tr>\n",
       "      <th>YTCHVQHEGLPK</th>\n",
       "      <td>54</td>\n",
       "      <td>54</td>\n",
       "    </tr>\n",
       "    <tr>\n",
       "      <th>...</th>\n",
       "      <td>...</td>\n",
       "      <td>...</td>\n",
       "    </tr>\n",
       "    <tr>\n",
       "      <th>GTSSIFSWTQVR</th>\n",
       "      <td>1</td>\n",
       "      <td>1</td>\n",
       "    </tr>\n",
       "    <tr>\n",
       "      <th>GTSSIHNDTESANDSSNGNGNLGLGTESR</th>\n",
       "      <td>1</td>\n",
       "      <td>1</td>\n",
       "    </tr>\n",
       "    <tr>\n",
       "      <th>GTSSILAGTALAALQR</th>\n",
       "      <td>1</td>\n",
       "      <td>1</td>\n",
       "    </tr>\n",
       "    <tr>\n",
       "      <th>GTSSLSQQTPR</th>\n",
       "      <td>1</td>\n",
       "      <td>1</td>\n",
       "    </tr>\n",
       "    <tr>\n",
       "      <th>ZIVLTZSPGTLSLSPGZR</th>\n",
       "      <td>1</td>\n",
       "      <td>1</td>\n",
       "    </tr>\n",
       "  </tbody>\n",
       "</table>\n",
       "<p>688074 rows × 2 columns</p>\n",
       "</div>"
      ],
      "text/plain": [
       "                               protein  decoy\n",
       "sequence                                     \n",
       "DGEDQTQDTELVETR                     66     66\n",
       "PYECNECGK                           61     61\n",
       "PYECSECGK                           59     59\n",
       "CWALGFYPAEITLT                      56     56\n",
       "YTCHVQHEGLPK                        54     54\n",
       "...                                ...    ...\n",
       "GTSSIFSWTQVR                         1      1\n",
       "GTSSIHNDTESANDSSNGNGNLGLGTESR        1      1\n",
       "GTSSILAGTALAALQR                     1      1\n",
       "GTSSLSQQTPR                          1      1\n",
       "ZIVLTZSPGTLSLSPGZR                   1      1\n",
       "\n",
       "[688074 rows x 2 columns]"
      ]
     },
     "execution_count": 138,
     "metadata": {},
     "output_type": "execute_result"
    }
   ],
   "source": [
    "counted_df"
   ]
  },
  {
   "cell_type": "code",
   "execution_count": 139,
   "metadata": {},
   "outputs": [
    {
     "data": {
      "text/html": [
       "<div>\n",
       "<style scoped>\n",
       "    .dataframe tbody tr th:only-of-type {\n",
       "        vertical-align: middle;\n",
       "    }\n",
       "\n",
       "    .dataframe tbody tr th {\n",
       "        vertical-align: top;\n",
       "    }\n",
       "\n",
       "    .dataframe thead th {\n",
       "        text-align: right;\n",
       "    }\n",
       "</style>\n",
       "<table border=\"1\" class=\"dataframe\">\n",
       "  <thead>\n",
       "    <tr style=\"text-align: right;\">\n",
       "      <th></th>\n",
       "      <th>protein</th>\n",
       "      <th>decoy</th>\n",
       "    </tr>\n",
       "    <tr>\n",
       "      <th>sequence</th>\n",
       "      <th></th>\n",
       "      <th></th>\n",
       "    </tr>\n",
       "  </thead>\n",
       "  <tbody>\n",
       "    <tr>\n",
       "      <th>DGEDQTQDTELVETR</th>\n",
       "      <td>66</td>\n",
       "      <td>66</td>\n",
       "    </tr>\n",
       "    <tr>\n",
       "      <th>PYECNECGK</th>\n",
       "      <td>61</td>\n",
       "      <td>61</td>\n",
       "    </tr>\n",
       "    <tr>\n",
       "      <th>PYECSECGK</th>\n",
       "      <td>59</td>\n",
       "      <td>59</td>\n",
       "    </tr>\n",
       "    <tr>\n",
       "      <th>CWALGFYPAEITLT</th>\n",
       "      <td>56</td>\n",
       "      <td>56</td>\n",
       "    </tr>\n",
       "    <tr>\n",
       "      <th>YTCHVQHEGLPK</th>\n",
       "      <td>54</td>\n",
       "      <td>54</td>\n",
       "    </tr>\n",
       "    <tr>\n",
       "      <th>...</th>\n",
       "      <td>...</td>\n",
       "      <td>...</td>\n",
       "    </tr>\n",
       "    <tr>\n",
       "      <th>PVAGYLSPR</th>\n",
       "      <td>2</td>\n",
       "      <td>2</td>\n",
       "    </tr>\n",
       "    <tr>\n",
       "      <th>LDEDLHVK</th>\n",
       "      <td>2</td>\n",
       "      <td>2</td>\n",
       "    </tr>\n",
       "    <tr>\n",
       "      <th>SSTAVHNSEIQETCDAHHR</th>\n",
       "      <td>2</td>\n",
       "      <td>2</td>\n",
       "    </tr>\n",
       "    <tr>\n",
       "      <th>EGDVDVSDSDDEDDNLP</th>\n",
       "      <td>2</td>\n",
       "      <td>2</td>\n",
       "    </tr>\n",
       "    <tr>\n",
       "      <th>DMGITEYEPR</th>\n",
       "      <td>2</td>\n",
       "      <td>2</td>\n",
       "    </tr>\n",
       "  </tbody>\n",
       "</table>\n",
       "<p>13366 rows × 2 columns</p>\n",
       "</div>"
      ],
      "text/plain": [
       "                     protein  decoy\n",
       "sequence                           \n",
       "DGEDQTQDTELVETR           66     66\n",
       "PYECNECGK                 61     61\n",
       "PYECSECGK                 59     59\n",
       "CWALGFYPAEITLT            56     56\n",
       "YTCHVQHEGLPK              54     54\n",
       "...                      ...    ...\n",
       "PVAGYLSPR                  2      2\n",
       "LDEDLHVK                   2      2\n",
       "SSTAVHNSEIQETCDAHHR        2      2\n",
       "EGDVDVSDSDDEDDNLP          2      2\n",
       "DMGITEYEPR                 2      2\n",
       "\n",
       "[13366 rows x 2 columns]"
      ]
     },
     "execution_count": 139,
     "metadata": {},
     "output_type": "execute_result"
    }
   ],
   "source": [
    "counted_df[counted_df.protein > 1]\n"
   ]
  },
  {
   "cell_type": "code",
   "execution_count": 140,
   "metadata": {},
   "outputs": [
    {
     "data": {
      "text/html": [
       "<div>\n",
       "<style scoped>\n",
       "    .dataframe tbody tr th:only-of-type {\n",
       "        vertical-align: middle;\n",
       "    }\n",
       "\n",
       "    .dataframe tbody tr th {\n",
       "        vertical-align: top;\n",
       "    }\n",
       "\n",
       "    .dataframe thead th {\n",
       "        text-align: right;\n",
       "    }\n",
       "</style>\n",
       "<table border=\"1\" class=\"dataframe\">\n",
       "  <thead>\n",
       "    <tr style=\"text-align: right;\">\n",
       "      <th></th>\n",
       "      <th>protein</th>\n",
       "      <th>decoy</th>\n",
       "    </tr>\n",
       "    <tr>\n",
       "      <th>sequence</th>\n",
       "      <th></th>\n",
       "      <th></th>\n",
       "    </tr>\n",
       "  </thead>\n",
       "  <tbody>\n",
       "    <tr>\n",
       "      <th>PPGGSGGGSR</th>\n",
       "      <td>1</td>\n",
       "      <td>1</td>\n",
       "    </tr>\n",
       "    <tr>\n",
       "      <th>PTGASPSITLGER</th>\n",
       "      <td>1</td>\n",
       "      <td>1</td>\n",
       "    </tr>\n",
       "    <tr>\n",
       "      <th>PPGGSGIGR</th>\n",
       "      <td>1</td>\n",
       "      <td>1</td>\n",
       "    </tr>\n",
       "    <tr>\n",
       "      <th>PPGFLPTNEDR</th>\n",
       "      <td>1</td>\n",
       "      <td>1</td>\n",
       "    </tr>\n",
       "    <tr>\n",
       "      <th>PPEGNLHCSESASK</th>\n",
       "      <td>1</td>\n",
       "      <td>1</td>\n",
       "    </tr>\n",
       "    <tr>\n",
       "      <th>...</th>\n",
       "      <td>...</td>\n",
       "      <td>...</td>\n",
       "    </tr>\n",
       "    <tr>\n",
       "      <th>GTSSIFSWTQVR</th>\n",
       "      <td>1</td>\n",
       "      <td>1</td>\n",
       "    </tr>\n",
       "    <tr>\n",
       "      <th>GTSSIHNDTESANDSSNGNGNLGLGTESR</th>\n",
       "      <td>1</td>\n",
       "      <td>1</td>\n",
       "    </tr>\n",
       "    <tr>\n",
       "      <th>GTSSILAGTALAALQR</th>\n",
       "      <td>1</td>\n",
       "      <td>1</td>\n",
       "    </tr>\n",
       "    <tr>\n",
       "      <th>GTSSLSQQTPR</th>\n",
       "      <td>1</td>\n",
       "      <td>1</td>\n",
       "    </tr>\n",
       "    <tr>\n",
       "      <th>ZIVLTZSPGTLSLSPGZR</th>\n",
       "      <td>1</td>\n",
       "      <td>1</td>\n",
       "    </tr>\n",
       "  </tbody>\n",
       "</table>\n",
       "<p>674708 rows × 2 columns</p>\n",
       "</div>"
      ],
      "text/plain": [
       "                               protein  decoy\n",
       "sequence                                     \n",
       "PPGGSGGGSR                           1      1\n",
       "PTGASPSITLGER                        1      1\n",
       "PPGGSGIGR                            1      1\n",
       "PPGFLPTNEDR                          1      1\n",
       "PPEGNLHCSESASK                       1      1\n",
       "...                                ...    ...\n",
       "GTSSIFSWTQVR                         1      1\n",
       "GTSSIHNDTESANDSSNGNGNLGLGTESR        1      1\n",
       "GTSSILAGTALAALQR                     1      1\n",
       "GTSSLSQQTPR                          1      1\n",
       "ZIVLTZSPGTLSLSPGZR                   1      1\n",
       "\n",
       "[674708 rows x 2 columns]"
      ]
     },
     "execution_count": 140,
     "metadata": {},
     "output_type": "execute_result"
    }
   ],
   "source": [
    "counted_df[counted_df.protein == 1]\n"
   ]
  },
  {
   "cell_type": "code",
   "execution_count": 141,
   "metadata": {},
   "outputs": [
    {
     "name": "stdout",
     "output_type": "stream",
     "text": [
      "15167 sequences are shared in > 1 Proteins. (0.019425 of proteins. ))\n",
      "682301 sequences has unique proteins.(0.980575 of proteins.))\n"
     ]
    }
   ],
   "source": [
    "# Conclusion\n",
    "\n",
    "print(f\"15167 sequences are shared in > 1 Proteins. ({round(len(counted_df[counted_df.protein > 1])/ len(counted_df), 6)} of proteins. ))\")\n",
    "print(f\"682301 sequences has unique proteins.({round(len(counted_df[counted_df.protein == 1])/ len(counted_df), 6)} of proteins.))\")"
   ]
  },
  {
   "cell_type": "code",
   "execution_count": 142,
   "metadata": {},
   "outputs": [
    {
     "data": {
      "text/html": [
       "<div>\n",
       "<style scoped>\n",
       "    .dataframe tbody tr th:only-of-type {\n",
       "        vertical-align: middle;\n",
       "    }\n",
       "\n",
       "    .dataframe tbody tr th {\n",
       "        vertical-align: top;\n",
       "    }\n",
       "\n",
       "    .dataframe thead th {\n",
       "        text-align: right;\n",
       "    }\n",
       "</style>\n",
       "<table border=\"1\" class=\"dataframe\">\n",
       "  <thead>\n",
       "    <tr style=\"text-align: right;\">\n",
       "      <th></th>\n",
       "      <th>protein</th>\n",
       "      <th>sequence</th>\n",
       "      <th>decoy</th>\n",
       "    </tr>\n",
       "  </thead>\n",
       "  <tbody>\n",
       "    <tr>\n",
       "      <th>4</th>\n",
       "      <td>&gt;sp|P31946|1433B_HUMAN 14-3-3 protein beta/alp...</td>\n",
       "      <td>YDDMAAAMK</td>\n",
       "      <td>False</td>\n",
       "    </tr>\n",
       "    <tr>\n",
       "      <th>5</th>\n",
       "      <td>&gt;sp|P31946|1433B_HUMAN 14-3-3 protein beta/alp...</td>\n",
       "      <td>AVTEQGHELSNEER</td>\n",
       "      <td>False</td>\n",
       "    </tr>\n",
       "    <tr>\n",
       "      <th>6</th>\n",
       "      <td>&gt;sp|P31946|1433B_HUMAN 14-3-3 protein beta/alp...</td>\n",
       "      <td>NLLSVAYK</td>\n",
       "      <td>False</td>\n",
       "    </tr>\n",
       "    <tr>\n",
       "      <th>11</th>\n",
       "      <td>&gt;sp|P31946|1433B_HUMAN 14-3-3 protein beta/alp...</td>\n",
       "      <td>VISSIEQK</td>\n",
       "      <td>False</td>\n",
       "    </tr>\n",
       "    <tr>\n",
       "      <th>18</th>\n",
       "      <td>&gt;sp|P31946|1433B_HUMAN 14-3-3 protein beta/alp...</td>\n",
       "      <td>IEAELQDICNDVLELLDK</td>\n",
       "      <td>False</td>\n",
       "    </tr>\n",
       "    <tr>\n",
       "      <th>...</th>\n",
       "      <td>...</td>\n",
       "      <td>...</td>\n",
       "      <td>...</td>\n",
       "    </tr>\n",
       "    <tr>\n",
       "      <th>3822249</th>\n",
       "      <td>&gt;iRT\\n</td>\n",
       "      <td>DGLDAASYYAPVR</td>\n",
       "      <td>False</td>\n",
       "    </tr>\n",
       "    <tr>\n",
       "      <th>3822250</th>\n",
       "      <td>&gt;iRT\\n</td>\n",
       "      <td>ADVTPADFSEWSK</td>\n",
       "      <td>False</td>\n",
       "    </tr>\n",
       "    <tr>\n",
       "      <th>3822251</th>\n",
       "      <td>&gt;iRT\\n</td>\n",
       "      <td>GTFIIDPGGVIR</td>\n",
       "      <td>False</td>\n",
       "    </tr>\n",
       "    <tr>\n",
       "      <th>3822252</th>\n",
       "      <td>&gt;iRT\\n</td>\n",
       "      <td>GTFIIDPAAVIR</td>\n",
       "      <td>False</td>\n",
       "    </tr>\n",
       "    <tr>\n",
       "      <th>3822254</th>\n",
       "      <td>&gt;iRT\\n</td>\n",
       "      <td>LFLQFGAQGSPFLK</td>\n",
       "      <td>False</td>\n",
       "    </tr>\n",
       "  </tbody>\n",
       "</table>\n",
       "<p>710782 rows × 3 columns</p>\n",
       "</div>"
      ],
      "text/plain": [
       "                                                   protein  \\\n",
       "4        >sp|P31946|1433B_HUMAN 14-3-3 protein beta/alp...   \n",
       "5        >sp|P31946|1433B_HUMAN 14-3-3 protein beta/alp...   \n",
       "6        >sp|P31946|1433B_HUMAN 14-3-3 protein beta/alp...   \n",
       "11       >sp|P31946|1433B_HUMAN 14-3-3 protein beta/alp...   \n",
       "18       >sp|P31946|1433B_HUMAN 14-3-3 protein beta/alp...   \n",
       "...                                                    ...   \n",
       "3822249                                             >iRT\\n   \n",
       "3822250                                             >iRT\\n   \n",
       "3822251                                             >iRT\\n   \n",
       "3822252                                             >iRT\\n   \n",
       "3822254                                             >iRT\\n   \n",
       "\n",
       "                   sequence  decoy  \n",
       "4                 YDDMAAAMK  False  \n",
       "5            AVTEQGHELSNEER  False  \n",
       "6                  NLLSVAYK  False  \n",
       "11                 VISSIEQK  False  \n",
       "18       IEAELQDICNDVLELLDK  False  \n",
       "...                     ...    ...  \n",
       "3822249       DGLDAASYYAPVR  False  \n",
       "3822250       ADVTPADFSEWSK  False  \n",
       "3822251        GTFIIDPGGVIR  False  \n",
       "3822252        GTFIIDPAAVIR  False  \n",
       "3822254      LFLQFGAQGSPFLK  False  \n",
       "\n",
       "[710782 rows x 3 columns]"
      ]
     },
     "execution_count": 142,
     "metadata": {},
     "output_type": "execute_result"
    }
   ],
   "source": [
    "df"
   ]
  },
  {
   "cell_type": "code",
   "execution_count": 143,
   "metadata": {},
   "outputs": [],
   "source": [
    "seqeunces_in_more_than_one_protein = counted_df[counted_df > 1].dropna().index\n",
    "df_shared_peptides_protein = df[df.sequence.isin(seqeunces_in_more_than_one_protein)]"
   ]
  },
  {
   "cell_type": "code",
   "execution_count": null,
   "metadata": {},
   "outputs": [],
   "source": []
  },
  {
   "cell_type": "code",
   "execution_count": 144,
   "metadata": {},
   "outputs": [],
   "source": [
    "seqeunces_one_protein = counted_df[counted_df.protein == 1].dropna().index\n",
    "df_non_shared_peptides_protein = df[df.sequence.isin(seqeunces_one_protein)]"
   ]
  },
  {
   "cell_type": "code",
   "execution_count": 145,
   "metadata": {},
   "outputs": [
    {
     "data": {
      "text/plain": [
       "0"
      ]
     },
     "execution_count": 145,
     "metadata": {},
     "output_type": "execute_result"
    }
   ],
   "source": [
    "seqeunces_in_more_than_one_protein.isin(seqeunces_one_protein).sum()"
   ]
  },
  {
   "cell_type": "code",
   "execution_count": 146,
   "metadata": {},
   "outputs": [
    {
     "data": {
      "text/plain": [
       "0.050752551415201845"
      ]
     },
     "execution_count": 146,
     "metadata": {},
     "output_type": "execute_result"
    }
   ],
   "source": [
    "len(df_shared_peptides_protein)/len(df)"
   ]
  },
  {
   "cell_type": "code",
   "execution_count": null,
   "metadata": {},
   "outputs": [],
   "source": []
  },
  {
   "cell_type": "code",
   "execution_count": 147,
   "metadata": {},
   "outputs": [
    {
     "name": "stdout",
     "output_type": "stream",
     "text": [
      "13366 sequences are shared in > 1 Proteins. (0.019425 of proteins. ))\n",
      "674708 sequences has unique proteins.(0.980575 of proteins.))\n"
     ]
    }
   ],
   "source": [
    "# Conclusion\n",
    "\n",
    "print(f\"{len(counted_df[counted_df.protein > 1])} sequences are shared in > 1 Proteins. ({round(len(counted_df[counted_df.protein > 1])/ len(counted_df), 6)} of proteins. ))\")\n",
    "print(f\"{len(counted_df[counted_df.protein == 1])} sequences has unique proteins.({round(len(counted_df[counted_df.protein == 1])/ len(counted_df), 6)} of proteins.))\")"
   ]
  },
  {
   "cell_type": "code",
   "execution_count": 148,
   "metadata": {},
   "outputs": [
    {
     "name": "stdout",
     "output_type": "stream",
     "text": [
      "30541 proteins in .FASTA\n",
      "7107 proteins have shared peptides. (0.232704 of proteins. ))\n"
     ]
    }
   ],
   "source": [
    "# Conclusion\n",
    "print(f\"{len(df.protein.unique())} proteins in .FASTA\")\n",
    "print(f\"{len(df_shared_peptides_protein.protein.unique())} proteins have shared peptides. ({round(len(df_shared_peptides_protein.protein.unique())/len(df.protein.unique()), 6)} of proteins. ))\")\n",
    "#print(f\"{len(df_non_shared_peptides_protein)} proteins have unique peptides.({round(len(df_non_shared_peptides_protein.protein.unique()) / len(df.protein.unique()), 6)} of proteins.))\")"
   ]
  },
  {
   "cell_type": "code",
   "execution_count": 149,
   "metadata": {},
   "outputs": [
    {
     "data": {
      "text/html": [
       "<div>\n",
       "<style scoped>\n",
       "    .dataframe tbody tr th:only-of-type {\n",
       "        vertical-align: middle;\n",
       "    }\n",
       "\n",
       "    .dataframe tbody tr th {\n",
       "        vertical-align: top;\n",
       "    }\n",
       "\n",
       "    .dataframe thead th {\n",
       "        text-align: right;\n",
       "    }\n",
       "</style>\n",
       "<table border=\"1\" class=\"dataframe\">\n",
       "  <thead>\n",
       "    <tr style=\"text-align: right;\">\n",
       "      <th></th>\n",
       "      <th>protein</th>\n",
       "      <th>sequence</th>\n",
       "      <th>decoy</th>\n",
       "    </tr>\n",
       "  </thead>\n",
       "  <tbody>\n",
       "    <tr>\n",
       "      <th>5</th>\n",
       "      <td>&gt;sp|P31946|1433B_HUMAN 14-3-3 protein beta/alp...</td>\n",
       "      <td>AVTEQGHELSNEER</td>\n",
       "      <td>False</td>\n",
       "    </tr>\n",
       "    <tr>\n",
       "      <th>18</th>\n",
       "      <td>&gt;sp|P31946|1433B_HUMAN 14-3-3 protein beta/alp...</td>\n",
       "      <td>IEAELQDICNDVLELLDK</td>\n",
       "      <td>False</td>\n",
       "    </tr>\n",
       "    <tr>\n",
       "      <th>19</th>\n",
       "      <td>&gt;sp|P31946|1433B_HUMAN 14-3-3 protein beta/alp...</td>\n",
       "      <td>YLIPNATQPESK</td>\n",
       "      <td>False</td>\n",
       "    </tr>\n",
       "    <tr>\n",
       "      <th>24</th>\n",
       "      <td>&gt;sp|P31946|1433B_HUMAN 14-3-3 protein beta/alp...</td>\n",
       "      <td>YLSEVASGDNK</td>\n",
       "      <td>False</td>\n",
       "    </tr>\n",
       "    <tr>\n",
       "      <th>25</th>\n",
       "      <td>&gt;sp|P31946|1433B_HUMAN 14-3-3 protein beta/alp...</td>\n",
       "      <td>QTTVSNSQQAYQEAFEISK</td>\n",
       "      <td>False</td>\n",
       "    </tr>\n",
       "    <tr>\n",
       "      <th>...</th>\n",
       "      <td>...</td>\n",
       "      <td>...</td>\n",
       "      <td>...</td>\n",
       "    </tr>\n",
       "    <tr>\n",
       "      <th>3813562</th>\n",
       "      <td>&gt;sp|Q2EES0|YNFO_ECOLI Uncharacterized protein ...</td>\n",
       "      <td>SDITELLR</td>\n",
       "      <td>False</td>\n",
       "    </tr>\n",
       "    <tr>\n",
       "      <th>3817155</th>\n",
       "      <td>&gt;sp|Q46953|YPJF_ECOLI Probable toxin YpjF OS=E...</td>\n",
       "      <td>MNTLPATISQAAK</td>\n",
       "      <td>False</td>\n",
       "    </tr>\n",
       "    <tr>\n",
       "      <th>3817157</th>\n",
       "      <td>&gt;sp|Q46953|YPJF_ECOLI Probable toxin YpjF OS=E...</td>\n",
       "      <td>LLEQHYGLTLNDTPFSDETVIK</td>\n",
       "      <td>False</td>\n",
       "    </tr>\n",
       "    <tr>\n",
       "      <th>3817162</th>\n",
       "      <td>&gt;sp|Q46953|YPJF_ECOLI Probable toxin YpjF OS=E...</td>\n",
       "      <td>GFSWQQQSPYISVVDILR</td>\n",
       "      <td>False</td>\n",
       "    </tr>\n",
       "    <tr>\n",
       "      <th>3817249</th>\n",
       "      <td>&gt;sp|P58033|YPJJ_ECOLI Uncharacterized protein ...</td>\n",
       "      <td>DVPDITGVLAVYAER</td>\n",
       "      <td>False</td>\n",
       "    </tr>\n",
       "  </tbody>\n",
       "</table>\n",
       "<p>170676 rows × 3 columns</p>\n",
       "</div>"
      ],
      "text/plain": [
       "                                                   protein  \\\n",
       "5        >sp|P31946|1433B_HUMAN 14-3-3 protein beta/alp...   \n",
       "18       >sp|P31946|1433B_HUMAN 14-3-3 protein beta/alp...   \n",
       "19       >sp|P31946|1433B_HUMAN 14-3-3 protein beta/alp...   \n",
       "24       >sp|P31946|1433B_HUMAN 14-3-3 protein beta/alp...   \n",
       "25       >sp|P31946|1433B_HUMAN 14-3-3 protein beta/alp...   \n",
       "...                                                    ...   \n",
       "3813562  >sp|Q2EES0|YNFO_ECOLI Uncharacterized protein ...   \n",
       "3817155  >sp|Q46953|YPJF_ECOLI Probable toxin YpjF OS=E...   \n",
       "3817157  >sp|Q46953|YPJF_ECOLI Probable toxin YpjF OS=E...   \n",
       "3817162  >sp|Q46953|YPJF_ECOLI Probable toxin YpjF OS=E...   \n",
       "3817249  >sp|P58033|YPJJ_ECOLI Uncharacterized protein ...   \n",
       "\n",
       "                       sequence  decoy  \n",
       "5                AVTEQGHELSNEER  False  \n",
       "18           IEAELQDICNDVLELLDK  False  \n",
       "19                 YLIPNATQPESK  False  \n",
       "24                  YLSEVASGDNK  False  \n",
       "25          QTTVSNSQQAYQEAFEISK  False  \n",
       "...                         ...    ...  \n",
       "3813562                SDITELLR  False  \n",
       "3817155           MNTLPATISQAAK  False  \n",
       "3817157  LLEQHYGLTLNDTPFSDETVIK  False  \n",
       "3817162      GFSWQQQSPYISVVDILR  False  \n",
       "3817249         DVPDITGVLAVYAER  False  \n",
       "\n",
       "[170676 rows x 3 columns]"
      ]
     },
     "execution_count": 149,
     "metadata": {},
     "output_type": "execute_result"
    }
   ],
   "source": [
    "df_non_shared_peptides_protein[df_non_shared_peptides_protein.protein.isin(df_shared_peptides_protein.protein)]"
   ]
  },
  {
   "cell_type": "code",
   "execution_count": 150,
   "metadata": {},
   "outputs": [
    {
     "data": {
      "text/html": [
       "<div>\n",
       "<style scoped>\n",
       "    .dataframe tbody tr th:only-of-type {\n",
       "        vertical-align: middle;\n",
       "    }\n",
       "\n",
       "    .dataframe tbody tr th {\n",
       "        vertical-align: top;\n",
       "    }\n",
       "\n",
       "    .dataframe thead th {\n",
       "        text-align: right;\n",
       "    }\n",
       "</style>\n",
       "<table border=\"1\" class=\"dataframe\">\n",
       "  <thead>\n",
       "    <tr style=\"text-align: right;\">\n",
       "      <th></th>\n",
       "      <th>protein</th>\n",
       "      <th>sequence</th>\n",
       "      <th>decoy</th>\n",
       "    </tr>\n",
       "  </thead>\n",
       "  <tbody>\n",
       "    <tr>\n",
       "      <th>4</th>\n",
       "      <td>&gt;sp|P31946|1433B_HUMAN 14-3-3 protein beta/alp...</td>\n",
       "      <td>YDDMAAAMK</td>\n",
       "      <td>False</td>\n",
       "    </tr>\n",
       "    <tr>\n",
       "      <th>6</th>\n",
       "      <td>&gt;sp|P31946|1433B_HUMAN 14-3-3 protein beta/alp...</td>\n",
       "      <td>NLLSVAYK</td>\n",
       "      <td>False</td>\n",
       "    </tr>\n",
       "    <tr>\n",
       "      <th>11</th>\n",
       "      <td>&gt;sp|P31946|1433B_HUMAN 14-3-3 protein beta/alp...</td>\n",
       "      <td>VISSIEQK</td>\n",
       "      <td>False</td>\n",
       "    </tr>\n",
       "    <tr>\n",
       "      <th>27</th>\n",
       "      <td>&gt;sp|P31946|1433B_HUMAN 14-3-3 protein beta/alp...</td>\n",
       "      <td>EMQPTHPIR</td>\n",
       "      <td>False</td>\n",
       "    </tr>\n",
       "    <tr>\n",
       "      <th>32</th>\n",
       "      <td>&gt;sp|P31946|1433B_HUMAN 14-3-3 protein beta/alp...</td>\n",
       "      <td>DSTLIMQLLR</td>\n",
       "      <td>False</td>\n",
       "    </tr>\n",
       "    <tr>\n",
       "      <th>...</th>\n",
       "      <td>...</td>\n",
       "      <td>...</td>\n",
       "      <td>...</td>\n",
       "    </tr>\n",
       "    <tr>\n",
       "      <th>3813557</th>\n",
       "      <td>&gt;sp|Q2EES0|YNFO_ECOLI Uncharacterized protein ...</td>\n",
       "      <td>GSGNFSAWVIEACR</td>\n",
       "      <td>False</td>\n",
       "    </tr>\n",
       "    <tr>\n",
       "      <th>3817156</th>\n",
       "      <td>&gt;sp|Q46953|YPJF_ECOLI Probable toxin YpjF OS=E...</td>\n",
       "      <td>PCLSPVAVWQMLLTR</td>\n",
       "      <td>False</td>\n",
       "    </tr>\n",
       "    <tr>\n",
       "      <th>3817158</th>\n",
       "      <td>&gt;sp|Q46953|YPJF_ECOLI Probable toxin YpjF OS=E...</td>\n",
       "      <td>EHIDAGITLA</td>\n",
       "      <td>False</td>\n",
       "    </tr>\n",
       "    <tr>\n",
       "      <th>3817159</th>\n",
       "      <td>&gt;sp|Q46953|YPJF_ECOLI Probable toxin YpjF OS=E...</td>\n",
       "      <td>DAVNFLVEK</td>\n",
       "      <td>False</td>\n",
       "    </tr>\n",
       "    <tr>\n",
       "      <th>3817248</th>\n",
       "      <td>&gt;sp|P58033|YPJJ_ECOLI Uncharacterized protein ...</td>\n",
       "      <td>YQWHGSVCHYTGR</td>\n",
       "      <td>False</td>\n",
       "    </tr>\n",
       "  </tbody>\n",
       "</table>\n",
       "<p>36074 rows × 3 columns</p>\n",
       "</div>"
      ],
      "text/plain": [
       "                                                   protein         sequence  \\\n",
       "4        >sp|P31946|1433B_HUMAN 14-3-3 protein beta/alp...        YDDMAAAMK   \n",
       "6        >sp|P31946|1433B_HUMAN 14-3-3 protein beta/alp...         NLLSVAYK   \n",
       "11       >sp|P31946|1433B_HUMAN 14-3-3 protein beta/alp...         VISSIEQK   \n",
       "27       >sp|P31946|1433B_HUMAN 14-3-3 protein beta/alp...        EMQPTHPIR   \n",
       "32       >sp|P31946|1433B_HUMAN 14-3-3 protein beta/alp...       DSTLIMQLLR   \n",
       "...                                                    ...              ...   \n",
       "3813557  >sp|Q2EES0|YNFO_ECOLI Uncharacterized protein ...   GSGNFSAWVIEACR   \n",
       "3817156  >sp|Q46953|YPJF_ECOLI Probable toxin YpjF OS=E...  PCLSPVAVWQMLLTR   \n",
       "3817158  >sp|Q46953|YPJF_ECOLI Probable toxin YpjF OS=E...       EHIDAGITLA   \n",
       "3817159  >sp|Q46953|YPJF_ECOLI Probable toxin YpjF OS=E...        DAVNFLVEK   \n",
       "3817248  >sp|P58033|YPJJ_ECOLI Uncharacterized protein ...    YQWHGSVCHYTGR   \n",
       "\n",
       "         decoy  \n",
       "4        False  \n",
       "6        False  \n",
       "11       False  \n",
       "27       False  \n",
       "32       False  \n",
       "...        ...  \n",
       "3813557  False  \n",
       "3817156  False  \n",
       "3817158  False  \n",
       "3817159  False  \n",
       "3817248  False  \n",
       "\n",
       "[36074 rows x 3 columns]"
      ]
     },
     "execution_count": 150,
     "metadata": {},
     "output_type": "execute_result"
    }
   ],
   "source": [
    "df_shared_peptides_protein"
   ]
  },
  {
   "cell_type": "code",
   "execution_count": null,
   "metadata": {},
   "outputs": [],
   "source": []
  },
  {
   "cell_type": "code",
   "execution_count": null,
   "metadata": {},
   "outputs": [],
   "source": []
  },
  {
   "cell_type": "code",
   "execution_count": null,
   "metadata": {},
   "outputs": [],
   "source": []
  },
  {
   "cell_type": "code",
   "execution_count": null,
   "metadata": {},
   "outputs": [],
   "source": []
  },
  {
   "cell_type": "code",
   "execution_count": 151,
   "metadata": {},
   "outputs": [
    {
     "data": {
      "text/plain": [
       "674708"
      ]
     },
     "execution_count": 151,
     "metadata": {},
     "output_type": "execute_result"
    }
   ],
   "source": [
    "len(df_non_shared_peptides_protein)"
   ]
  },
  {
   "cell_type": "code",
   "execution_count": 152,
   "metadata": {},
   "outputs": [
    {
     "data": {
      "text/plain": [
       "0.23270357879571724"
      ]
     },
     "execution_count": 152,
     "metadata": {},
     "output_type": "execute_result"
    }
   ],
   "source": [
    "len(df_shared_peptides_protein.protein.unique()) / len(df.protein.unique())"
   ]
  },
  {
   "cell_type": "code",
   "execution_count": 153,
   "metadata": {},
   "outputs": [
    {
     "data": {
      "text/plain": [
       "7107"
      ]
     },
     "execution_count": 153,
     "metadata": {},
     "output_type": "execute_result"
    }
   ],
   "source": [
    "len(df_shared_peptides_protein.protein.unique())"
   ]
  },
  {
   "cell_type": "code",
   "execution_count": 154,
   "metadata": {},
   "outputs": [
    {
     "data": {
      "text/plain": [
       "30227"
      ]
     },
     "execution_count": 154,
     "metadata": {},
     "output_type": "execute_result"
    }
   ],
   "source": [
    "len(df_non_shared_peptides_protein.protein.unique())"
   ]
  },
  {
   "cell_type": "code",
   "execution_count": 155,
   "metadata": {},
   "outputs": [
    {
     "data": {
      "text/plain": [
       "30541"
      ]
     },
     "execution_count": 155,
     "metadata": {},
     "output_type": "execute_result"
    }
   ],
   "source": [
    "len(df.protein.unique())"
   ]
  },
  {
   "cell_type": "code",
   "execution_count": 156,
   "metadata": {},
   "outputs": [
    {
     "data": {
      "text/plain": [
       "5           True\n",
       "18          True\n",
       "19          True\n",
       "24          True\n",
       "25          True\n",
       "           ...  \n",
       "3822249    False\n",
       "3822250    False\n",
       "3822251    False\n",
       "3822252    False\n",
       "3822254    False\n",
       "Name: protein, Length: 674708, dtype: bool"
      ]
     },
     "execution_count": 156,
     "metadata": {},
     "output_type": "execute_result"
    }
   ],
   "source": [
    "df_non_shared_peptides_protein.protein.isin(df_shared_peptides_protein.protein.unique())"
   ]
  },
  {
   "cell_type": "code",
   "execution_count": null,
   "metadata": {},
   "outputs": [],
   "source": []
  },
  {
   "cell_type": "code",
   "execution_count": null,
   "metadata": {},
   "outputs": [],
   "source": []
  },
  {
   "cell_type": "code",
   "execution_count": null,
   "metadata": {},
   "outputs": [],
   "source": []
  },
  {
   "cell_type": "code",
   "execution_count": null,
   "metadata": {},
   "outputs": [],
   "source": []
  }
 ],
 "metadata": {
  "kernelspec": {
   "display_name": "Python [conda env:py37]",
   "language": "python",
   "name": "conda-env-py37-py"
  },
  "language_info": {
   "codemirror_mode": {
    "name": "ipython",
    "version": 3
   },
   "file_extension": ".py",
   "mimetype": "text/x-python",
   "name": "python",
   "nbconvert_exporter": "python",
   "pygments_lexer": "ipython3",
   "version": "3.7.10"
  }
 },
 "nbformat": 4,
 "nbformat_minor": 5
}
