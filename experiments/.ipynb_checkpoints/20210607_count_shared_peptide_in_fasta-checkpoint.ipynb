{
 "cells": [
  {
   "cell_type": "markdown",
   "metadata": {},
   "source": [
    "# About\n",
    "\n",
    "This scripts check amount of protein with shared peptides."
   ]
  },
  {
   "cell_type": "code",
   "execution_count": 2,
   "metadata": {},
   "outputs": [],
   "source": [
    "import os \n",
    "import re\n",
    "import pandas as pd\n",
    "import numpy as np\n",
    "\n",
    "# read in .fasta file and count shared peptides\n",
    "\n",
    "os.chdir(\"/home/ptruong/git/dia_sum\")\n",
    "#filename = \"database/2021-06-07/UP00000625_UP000002311_UP000005640.fasta\"\n",
    "filename = \"database/napedro_3mixed_human_yeast_ecoli_20140403_iRT_reverse.fasta\"\n",
    "\n",
    "file = open(filename, \"r\")\n",
    "\n",
    "protein_list = []\n",
    "sequence_list = []\n",
    "for line in file: \n",
    "    if line[0] == \">\":\n",
    "        protein = line \n",
    "    else:\n",
    "        sequence = line.rstrip()\n",
    "        split_sequence = re.split(r\"(?<=[KR])\", sequence)\n",
    "        split_sequence = list(dict.fromkeys(split_sequence))\n",
    "        sequence_list += split_sequence\n",
    "        protein_list += [protein for i in range(len(split_sequence))]\n",
    "        \n",
    "\n"
   ]
  },
  {
   "cell_type": "code",
   "execution_count": 3,
   "metadata": {},
   "outputs": [],
   "source": [
    "df = pd.DataFrame(np.array([protein_list, sequence_list]).T, columns = [\"protein\", \"sequence\"])\n",
    "df[\"seq_length\"] = df.sequence.str.len()\n",
    "df = df[df[\"seq_length\"] > 7]\n",
    "df.drop(\"seq_length\", axis = 1, inplace = True)\n",
    "df.drop_duplicates(inplace=True)\n",
    "counted_df = df.groupby(\"sequence\").count().sort_values(by = \"protein\", ascending = False)\n"
   ]
  },
  {
   "cell_type": "code",
   "execution_count": 4,
   "metadata": {
    "scrolled": true
   },
   "outputs": [
    {
     "data": {
      "text/html": [
       "<div>\n",
       "<style scoped>\n",
       "    .dataframe tbody tr th:only-of-type {\n",
       "        vertical-align: middle;\n",
       "    }\n",
       "\n",
       "    .dataframe tbody tr th {\n",
       "        vertical-align: top;\n",
       "    }\n",
       "\n",
       "    .dataframe thead th {\n",
       "        text-align: right;\n",
       "    }\n",
       "</style>\n",
       "<table border=\"1\" class=\"dataframe\">\n",
       "  <thead>\n",
       "    <tr style=\"text-align: right;\">\n",
       "      <th></th>\n",
       "      <th>protein</th>\n",
       "    </tr>\n",
       "    <tr>\n",
       "      <th>sequence</th>\n",
       "      <th></th>\n",
       "    </tr>\n",
       "  </thead>\n",
       "  <tbody>\n",
       "    <tr>\n",
       "      <th>DGEDQTQDTELVETR</th>\n",
       "      <td>66</td>\n",
       "    </tr>\n",
       "    <tr>\n",
       "      <th>PYECNECGK</th>\n",
       "      <td>61</td>\n",
       "    </tr>\n",
       "    <tr>\n",
       "      <th>PYECSECGK</th>\n",
       "      <td>59</td>\n",
       "    </tr>\n",
       "    <tr>\n",
       "      <th>SAADSDFR</th>\n",
       "      <td>57</td>\n",
       "    </tr>\n",
       "    <tr>\n",
       "      <th>CWALGFYPAEITLT</th>\n",
       "      <td>56</td>\n",
       "    </tr>\n",
       "    <tr>\n",
       "      <th>...</th>\n",
       "      <td>...</td>\n",
       "    </tr>\n",
       "    <tr>\n",
       "      <th>GTGSEPLPELLFPWTCR</th>\n",
       "      <td>1</td>\n",
       "    </tr>\n",
       "    <tr>\n",
       "      <th>GTGSENLHHGILWLFLDPFQIHHADVNGLPPPS</th>\n",
       "      <td>1</td>\n",
       "    </tr>\n",
       "    <tr>\n",
       "      <th>GTGSEGVVMVSS</th>\n",
       "      <td>1</td>\n",
       "    </tr>\n",
       "    <tr>\n",
       "      <th>GTGSEGSILVSAQSLAIK</th>\n",
       "      <td>1</td>\n",
       "    </tr>\n",
       "    <tr>\n",
       "      <th>ZZYWBLYSSITZSAK</th>\n",
       "      <td>1</td>\n",
       "    </tr>\n",
       "  </tbody>\n",
       "</table>\n",
       "<p>1376105 rows × 1 columns</p>\n",
       "</div>"
      ],
      "text/plain": [
       "                                   protein\n",
       "sequence                                  \n",
       "DGEDQTQDTELVETR                         66\n",
       "PYECNECGK                               61\n",
       "PYECSECGK                               59\n",
       "SAADSDFR                                57\n",
       "CWALGFYPAEITLT                          56\n",
       "...                                    ...\n",
       "GTGSEPLPELLFPWTCR                        1\n",
       "GTGSENLHHGILWLFLDPFQIHHADVNGLPPPS        1\n",
       "GTGSEGVVMVSS                             1\n",
       "GTGSEGSILVSAQSLAIK                       1\n",
       "ZZYWBLYSSITZSAK                          1\n",
       "\n",
       "[1376105 rows x 1 columns]"
      ]
     },
     "execution_count": 4,
     "metadata": {},
     "output_type": "execute_result"
    }
   ],
   "source": [
    "counted_df"
   ]
  },
  {
   "cell_type": "code",
   "execution_count": 5,
   "metadata": {},
   "outputs": [
    {
     "data": {
      "text/html": [
       "<div>\n",
       "<style scoped>\n",
       "    .dataframe tbody tr th:only-of-type {\n",
       "        vertical-align: middle;\n",
       "    }\n",
       "\n",
       "    .dataframe tbody tr th {\n",
       "        vertical-align: top;\n",
       "    }\n",
       "\n",
       "    .dataframe thead th {\n",
       "        text-align: right;\n",
       "    }\n",
       "</style>\n",
       "<table border=\"1\" class=\"dataframe\">\n",
       "  <thead>\n",
       "    <tr style=\"text-align: right;\">\n",
       "      <th></th>\n",
       "      <th>protein</th>\n",
       "    </tr>\n",
       "    <tr>\n",
       "      <th>sequence</th>\n",
       "      <th></th>\n",
       "    </tr>\n",
       "  </thead>\n",
       "  <tbody>\n",
       "    <tr>\n",
       "      <th>DGEDQTQDTELVETR</th>\n",
       "      <td>66</td>\n",
       "    </tr>\n",
       "    <tr>\n",
       "      <th>PYECNECGK</th>\n",
       "      <td>61</td>\n",
       "    </tr>\n",
       "    <tr>\n",
       "      <th>PYECSECGK</th>\n",
       "      <td>59</td>\n",
       "    </tr>\n",
       "    <tr>\n",
       "      <th>SAADSDFR</th>\n",
       "      <td>57</td>\n",
       "    </tr>\n",
       "    <tr>\n",
       "      <th>CWALGFYPAEITLT</th>\n",
       "      <td>56</td>\n",
       "    </tr>\n",
       "    <tr>\n",
       "      <th>...</th>\n",
       "      <td>...</td>\n",
       "    </tr>\n",
       "    <tr>\n",
       "      <th>FTNGCENC</th>\n",
       "      <td>2</td>\n",
       "    </tr>\n",
       "    <tr>\n",
       "      <th>FQQFLDFMFR</th>\n",
       "      <td>2</td>\n",
       "    </tr>\n",
       "    <tr>\n",
       "      <th>YMDIEFDFK</th>\n",
       "      <td>2</td>\n",
       "    </tr>\n",
       "    <tr>\n",
       "      <th>FIDNDQSGYLD</th>\n",
       "      <td>2</td>\n",
       "    </tr>\n",
       "    <tr>\n",
       "      <th>SGGSCPAAGHSQQ</th>\n",
       "      <td>2</td>\n",
       "    </tr>\n",
       "  </tbody>\n",
       "</table>\n",
       "<p>26714 rows × 1 columns</p>\n",
       "</div>"
      ],
      "text/plain": [
       "                 protein\n",
       "sequence                \n",
       "DGEDQTQDTELVETR       66\n",
       "PYECNECGK             61\n",
       "PYECSECGK             59\n",
       "SAADSDFR              57\n",
       "CWALGFYPAEITLT        56\n",
       "...                  ...\n",
       "FTNGCENC               2\n",
       "FQQFLDFMFR             2\n",
       "YMDIEFDFK              2\n",
       "FIDNDQSGYLD            2\n",
       "SGGSCPAAGHSQQ          2\n",
       "\n",
       "[26714 rows x 1 columns]"
      ]
     },
     "execution_count": 5,
     "metadata": {},
     "output_type": "execute_result"
    }
   ],
   "source": [
    "counted_df[counted_df.protein > 1]\n"
   ]
  },
  {
   "cell_type": "code",
   "execution_count": 6,
   "metadata": {},
   "outputs": [
    {
     "data": {
      "text/html": [
       "<div>\n",
       "<style scoped>\n",
       "    .dataframe tbody tr th:only-of-type {\n",
       "        vertical-align: middle;\n",
       "    }\n",
       "\n",
       "    .dataframe tbody tr th {\n",
       "        vertical-align: top;\n",
       "    }\n",
       "\n",
       "    .dataframe thead th {\n",
       "        text-align: right;\n",
       "    }\n",
       "</style>\n",
       "<table border=\"1\" class=\"dataframe\">\n",
       "  <thead>\n",
       "    <tr style=\"text-align: right;\">\n",
       "      <th></th>\n",
       "      <th>protein</th>\n",
       "    </tr>\n",
       "    <tr>\n",
       "      <th>sequence</th>\n",
       "      <th></th>\n",
       "    </tr>\n",
       "  </thead>\n",
       "  <tbody>\n",
       "    <tr>\n",
       "      <th>PQSWEEVTVQFK</th>\n",
       "      <td>1</td>\n",
       "    </tr>\n",
       "    <tr>\n",
       "      <th>PPSHSFSAVFDEDK</th>\n",
       "      <td>1</td>\n",
       "    </tr>\n",
       "    <tr>\n",
       "      <th>PPSGLEHQQTGLSESHQ</th>\n",
       "      <td>1</td>\n",
       "    </tr>\n",
       "    <tr>\n",
       "      <th>PPSHSSEPD</th>\n",
       "      <td>1</td>\n",
       "    </tr>\n",
       "    <tr>\n",
       "      <th>PPSHSFCHAASVV</th>\n",
       "      <td>1</td>\n",
       "    </tr>\n",
       "    <tr>\n",
       "      <th>...</th>\n",
       "      <td>...</td>\n",
       "    </tr>\n",
       "    <tr>\n",
       "      <th>GTGSEPLPELLFPWTCR</th>\n",
       "      <td>1</td>\n",
       "    </tr>\n",
       "    <tr>\n",
       "      <th>GTGSENLHHGILWLFLDPFQIHHADVNGLPPPS</th>\n",
       "      <td>1</td>\n",
       "    </tr>\n",
       "    <tr>\n",
       "      <th>GTGSEGVVMVSS</th>\n",
       "      <td>1</td>\n",
       "    </tr>\n",
       "    <tr>\n",
       "      <th>GTGSEGSILVSAQSLAIK</th>\n",
       "      <td>1</td>\n",
       "    </tr>\n",
       "    <tr>\n",
       "      <th>ZZYWBLYSSITZSAK</th>\n",
       "      <td>1</td>\n",
       "    </tr>\n",
       "  </tbody>\n",
       "</table>\n",
       "<p>1349391 rows × 1 columns</p>\n",
       "</div>"
      ],
      "text/plain": [
       "                                   protein\n",
       "sequence                                  \n",
       "PQSWEEVTVQFK                             1\n",
       "PPSHSFSAVFDEDK                           1\n",
       "PPSGLEHQQTGLSESHQ                        1\n",
       "PPSHSSEPD                                1\n",
       "PPSHSFCHAASVV                            1\n",
       "...                                    ...\n",
       "GTGSEPLPELLFPWTCR                        1\n",
       "GTGSENLHHGILWLFLDPFQIHHADVNGLPPPS        1\n",
       "GTGSEGVVMVSS                             1\n",
       "GTGSEGSILVSAQSLAIK                       1\n",
       "ZZYWBLYSSITZSAK                          1\n",
       "\n",
       "[1349391 rows x 1 columns]"
      ]
     },
     "execution_count": 6,
     "metadata": {},
     "output_type": "execute_result"
    }
   ],
   "source": [
    "counted_df[counted_df.protein == 1]\n"
   ]
  },
  {
   "cell_type": "code",
   "execution_count": 7,
   "metadata": {},
   "outputs": [
    {
     "name": "stdout",
     "output_type": "stream",
     "text": [
      "15167 sequences are shared in > 1 Proteins. (0.019413 of proteins. ))\n",
      "682301 sequences has unique proteins.(0.980587 of proteins.))\n"
     ]
    }
   ],
   "source": [
    "# Conclusion\n",
    "\n",
    "print(f\"15167 sequences are shared in > 1 Proteins. ({round(len(counted_df[counted_df.protein > 1])/ len(counted_df), 6)} of proteins. ))\")\n",
    "print(f\"682301 sequences has unique proteins.({round(len(counted_df[counted_df.protein == 1])/ len(counted_df), 6)} of proteins.))\")"
   ]
  },
  {
   "cell_type": "code",
   "execution_count": 8,
   "metadata": {},
   "outputs": [
    {
     "data": {
      "text/html": [
       "<div>\n",
       "<style scoped>\n",
       "    .dataframe tbody tr th:only-of-type {\n",
       "        vertical-align: middle;\n",
       "    }\n",
       "\n",
       "    .dataframe tbody tr th {\n",
       "        vertical-align: top;\n",
       "    }\n",
       "\n",
       "    .dataframe thead th {\n",
       "        text-align: right;\n",
       "    }\n",
       "</style>\n",
       "<table border=\"1\" class=\"dataframe\">\n",
       "  <thead>\n",
       "    <tr style=\"text-align: right;\">\n",
       "      <th></th>\n",
       "      <th>protein</th>\n",
       "      <th>sequence</th>\n",
       "    </tr>\n",
       "  </thead>\n",
       "  <tbody>\n",
       "    <tr>\n",
       "      <th>4</th>\n",
       "      <td>&gt;sp|P31946|1433B_HUMAN 14-3-3 protein beta/alp...</td>\n",
       "      <td>YDDMAAAMK</td>\n",
       "    </tr>\n",
       "    <tr>\n",
       "      <th>5</th>\n",
       "      <td>&gt;sp|P31946|1433B_HUMAN 14-3-3 protein beta/alp...</td>\n",
       "      <td>AVTEQGHELSNEER</td>\n",
       "    </tr>\n",
       "    <tr>\n",
       "      <th>6</th>\n",
       "      <td>&gt;sp|P31946|1433B_HUMAN 14-3-3 protein beta/alp...</td>\n",
       "      <td>NLLSVAYK</td>\n",
       "    </tr>\n",
       "    <tr>\n",
       "      <th>11</th>\n",
       "      <td>&gt;sp|P31946|1433B_HUMAN 14-3-3 protein beta/alp...</td>\n",
       "      <td>VISSIEQK</td>\n",
       "    </tr>\n",
       "    <tr>\n",
       "      <th>18</th>\n",
       "      <td>&gt;sp|P31946|1433B_HUMAN 14-3-3 protein beta/alp...</td>\n",
       "      <td>IEAELQDICNDVLELLDK</td>\n",
       "    </tr>\n",
       "    <tr>\n",
       "      <th>...</th>\n",
       "      <td>...</td>\n",
       "      <td>...</td>\n",
       "    </tr>\n",
       "    <tr>\n",
       "      <th>3822263</th>\n",
       "      <td>&gt;reverse_iRT reverse of \\n</td>\n",
       "      <td>VPAYYSAADLGDR</td>\n",
       "    </tr>\n",
       "    <tr>\n",
       "      <th>3822264</th>\n",
       "      <td>&gt;reverse_iRT reverse of \\n</td>\n",
       "      <td>SWESFDAPTVDAK</td>\n",
       "    </tr>\n",
       "    <tr>\n",
       "      <th>3822265</th>\n",
       "      <td>&gt;reverse_iRT reverse of \\n</td>\n",
       "      <td>IVGGPDIIFTGR</td>\n",
       "    </tr>\n",
       "    <tr>\n",
       "      <th>3822266</th>\n",
       "      <td>&gt;reverse_iRT reverse of \\n</td>\n",
       "      <td>IVAAPDIIFTGR</td>\n",
       "    </tr>\n",
       "    <tr>\n",
       "      <th>3822268</th>\n",
       "      <td>&gt;reverse_iRT reverse of \\n</td>\n",
       "      <td>LFPSGQAGFQLFLK</td>\n",
       "    </tr>\n",
       "  </tbody>\n",
       "</table>\n",
       "<p>1421359 rows × 2 columns</p>\n",
       "</div>"
      ],
      "text/plain": [
       "                                                   protein            sequence\n",
       "4        >sp|P31946|1433B_HUMAN 14-3-3 protein beta/alp...           YDDMAAAMK\n",
       "5        >sp|P31946|1433B_HUMAN 14-3-3 protein beta/alp...      AVTEQGHELSNEER\n",
       "6        >sp|P31946|1433B_HUMAN 14-3-3 protein beta/alp...            NLLSVAYK\n",
       "11       >sp|P31946|1433B_HUMAN 14-3-3 protein beta/alp...            VISSIEQK\n",
       "18       >sp|P31946|1433B_HUMAN 14-3-3 protein beta/alp...  IEAELQDICNDVLELLDK\n",
       "...                                                    ...                 ...\n",
       "3822263                         >reverse_iRT reverse of \\n       VPAYYSAADLGDR\n",
       "3822264                         >reverse_iRT reverse of \\n       SWESFDAPTVDAK\n",
       "3822265                         >reverse_iRT reverse of \\n        IVGGPDIIFTGR\n",
       "3822266                         >reverse_iRT reverse of \\n        IVAAPDIIFTGR\n",
       "3822268                         >reverse_iRT reverse of \\n      LFPSGQAGFQLFLK\n",
       "\n",
       "[1421359 rows x 2 columns]"
      ]
     },
     "execution_count": 8,
     "metadata": {},
     "output_type": "execute_result"
    }
   ],
   "source": [
    "df"
   ]
  },
  {
   "cell_type": "code",
   "execution_count": 63,
   "metadata": {},
   "outputs": [],
   "source": [
    "seqeunces_in_more_than_one_protein = counted_df[counted_df > 1].dropna().index\n",
    "df_shared_peptides_protein = df[df.sequence.isin(seqeunces_in_more_than_one_protein)]"
   ]
  },
  {
   "cell_type": "code",
   "execution_count": null,
   "metadata": {},
   "outputs": [],
   "source": []
  },
  {
   "cell_type": "code",
   "execution_count": 64,
   "metadata": {},
   "outputs": [],
   "source": [
    "seqeunces_one_protein = counted_df[counted_df.protein == 1].dropna().index\n",
    "df_non_shared_peptides_protein = df[df.sequence.isin(seqeunces_one_protein)]"
   ]
  },
  {
   "cell_type": "code",
   "execution_count": 62,
   "metadata": {},
   "outputs": [
    {
     "data": {
      "text/plain": [
       "0"
      ]
     },
     "execution_count": 62,
     "metadata": {},
     "output_type": "execute_result"
    }
   ],
   "source": [
    "seqeunces_in_more_than_one_protein.isin(seqeunces_one_protein).sum()"
   ]
  },
  {
   "cell_type": "code",
   "execution_count": 56,
   "metadata": {},
   "outputs": [
    {
     "data": {
      "text/plain": [
       "0.050633231998390274"
      ]
     },
     "execution_count": 56,
     "metadata": {},
     "output_type": "execute_result"
    }
   ],
   "source": [
    "len(df_shared_peptides_protein)/len(df)"
   ]
  },
  {
   "cell_type": "code",
   "execution_count": null,
   "metadata": {},
   "outputs": [],
   "source": []
  },
  {
   "cell_type": "code",
   "execution_count": 57,
   "metadata": {},
   "outputs": [
    {
     "name": "stdout",
     "output_type": "stream",
     "text": [
      "26714 sequences are shared in > 1 Proteins. (0.019413 of proteins. ))\n",
      "1349391 sequences has unique proteins.(0.980587 of proteins.))\n"
     ]
    }
   ],
   "source": [
    "# Conclusion\n",
    "\n",
    "print(f\"{len(counted_df[counted_df.protein > 1])} sequences are shared in > 1 Proteins. ({round(len(counted_df[counted_df.protein > 1])/ len(counted_df), 6)} of proteins. ))\")\n",
    "print(f\"{len(counted_df[counted_df.protein == 1])} sequences has unique proteins.({round(len(counted_df[counted_df.protein == 1])/ len(counted_df), 6)} of proteins.))\")"
   ]
  },
  {
   "cell_type": "code",
   "execution_count": 58,
   "metadata": {},
   "outputs": [
    {
     "name": "stdout",
     "output_type": "stream",
     "text": [
      "71968 proteins have shared peptides. (0.050633 of proteins. ))\n",
      "1349391 proteins have unique peptides.(0.98985 of proteins.))\n"
     ]
    }
   ],
   "source": [
    "# Conclusion\n",
    "\n",
    "print(f\"{len(df_shared_peptides_protein)} proteins have shared peptides. ({round(len(df_shared_peptides_protein)/len(df), 6)} of proteins. ))\")\n",
    "print(f\"{len(df_non_shared_peptides_protein)} proteins have unique peptides.({round(len(df_non_shared_peptides_protein.protein.unique()) / len(df.protein.unique()), 6)} of proteins.))\")"
   ]
  },
  {
   "cell_type": "code",
   "execution_count": 68,
   "metadata": {},
   "outputs": [
    {
     "data": {
      "text/html": [
       "<div>\n",
       "<style scoped>\n",
       "    .dataframe tbody tr th:only-of-type {\n",
       "        vertical-align: middle;\n",
       "    }\n",
       "\n",
       "    .dataframe tbody tr th {\n",
       "        vertical-align: top;\n",
       "    }\n",
       "\n",
       "    .dataframe thead th {\n",
       "        text-align: right;\n",
       "    }\n",
       "</style>\n",
       "<table border=\"1\" class=\"dataframe\">\n",
       "  <thead>\n",
       "    <tr style=\"text-align: right;\">\n",
       "      <th></th>\n",
       "      <th>protein</th>\n",
       "      <th>sequence</th>\n",
       "    </tr>\n",
       "  </thead>\n",
       "  <tbody>\n",
       "    <tr>\n",
       "      <th>5</th>\n",
       "      <td>&gt;sp|P31946|1433B_HUMAN 14-3-3 protein beta/alp...</td>\n",
       "      <td>AVTEQGHELSNEER</td>\n",
       "    </tr>\n",
       "    <tr>\n",
       "      <th>18</th>\n",
       "      <td>&gt;sp|P31946|1433B_HUMAN 14-3-3 protein beta/alp...</td>\n",
       "      <td>IEAELQDICNDVLELLDK</td>\n",
       "    </tr>\n",
       "    <tr>\n",
       "      <th>19</th>\n",
       "      <td>&gt;sp|P31946|1433B_HUMAN 14-3-3 protein beta/alp...</td>\n",
       "      <td>YLIPNATQPESK</td>\n",
       "    </tr>\n",
       "    <tr>\n",
       "      <th>24</th>\n",
       "      <td>&gt;sp|P31946|1433B_HUMAN 14-3-3 protein beta/alp...</td>\n",
       "      <td>YLSEVASGDNK</td>\n",
       "    </tr>\n",
       "    <tr>\n",
       "      <th>25</th>\n",
       "      <td>&gt;sp|P31946|1433B_HUMAN 14-3-3 protein beta/alp...</td>\n",
       "      <td>QTTVSNSQQAYQEAFEISK</td>\n",
       "    </tr>\n",
       "    <tr>\n",
       "      <th>...</th>\n",
       "      <td>...</td>\n",
       "      <td>...</td>\n",
       "    </tr>\n",
       "    <tr>\n",
       "      <th>3817169</th>\n",
       "      <td>&gt;reverse_sp|Q46953|YPJF_ECOLI reverse of Proba...</td>\n",
       "      <td>AAQSITAPLTNMR</td>\n",
       "    </tr>\n",
       "    <tr>\n",
       "      <th>3817170</th>\n",
       "      <td>&gt;reverse_sp|Q46953|YPJF_ECOLI reverse of Proba...</td>\n",
       "      <td>IVTEDSFPTDNLTLGYHQELLK</td>\n",
       "    </tr>\n",
       "    <tr>\n",
       "      <th>3817175</th>\n",
       "      <td>&gt;reverse_sp|Q46953|YPJF_ECOLI reverse of Proba...</td>\n",
       "      <td>LIDVVSIYPSQQQWSFGR</td>\n",
       "    </tr>\n",
       "    <tr>\n",
       "      <th>3817249</th>\n",
       "      <td>&gt;sp|P58033|YPJJ_ECOLI Uncharacterized protein ...</td>\n",
       "      <td>DVPDITGVLAVYAER</td>\n",
       "    </tr>\n",
       "    <tr>\n",
       "      <th>3817261</th>\n",
       "      <td>&gt;reverse_sp|P58033|YPJJ_ECOLI reverse of Uncha...</td>\n",
       "      <td>EAYVALVGTIDPVDR</td>\n",
       "    </tr>\n",
       "  </tbody>\n",
       "</table>\n",
       "<p>346032 rows × 2 columns</p>\n",
       "</div>"
      ],
      "text/plain": [
       "                                                   protein  \\\n",
       "5        >sp|P31946|1433B_HUMAN 14-3-3 protein beta/alp...   \n",
       "18       >sp|P31946|1433B_HUMAN 14-3-3 protein beta/alp...   \n",
       "19       >sp|P31946|1433B_HUMAN 14-3-3 protein beta/alp...   \n",
       "24       >sp|P31946|1433B_HUMAN 14-3-3 protein beta/alp...   \n",
       "25       >sp|P31946|1433B_HUMAN 14-3-3 protein beta/alp...   \n",
       "...                                                    ...   \n",
       "3817169  >reverse_sp|Q46953|YPJF_ECOLI reverse of Proba...   \n",
       "3817170  >reverse_sp|Q46953|YPJF_ECOLI reverse of Proba...   \n",
       "3817175  >reverse_sp|Q46953|YPJF_ECOLI reverse of Proba...   \n",
       "3817249  >sp|P58033|YPJJ_ECOLI Uncharacterized protein ...   \n",
       "3817261  >reverse_sp|P58033|YPJJ_ECOLI reverse of Uncha...   \n",
       "\n",
       "                       sequence  \n",
       "5                AVTEQGHELSNEER  \n",
       "18           IEAELQDICNDVLELLDK  \n",
       "19                 YLIPNATQPESK  \n",
       "24                  YLSEVASGDNK  \n",
       "25          QTTVSNSQQAYQEAFEISK  \n",
       "...                         ...  \n",
       "3817169           AAQSITAPLTNMR  \n",
       "3817170  IVTEDSFPTDNLTLGYHQELLK  \n",
       "3817175      LIDVVSIYPSQQQWSFGR  \n",
       "3817249         DVPDITGVLAVYAER  \n",
       "3817261         EAYVALVGTIDPVDR  \n",
       "\n",
       "[346032 rows x 2 columns]"
      ]
     },
     "execution_count": 68,
     "metadata": {},
     "output_type": "execute_result"
    }
   ],
   "source": [
    "df_non_shared_peptides_protein[df_non_shared_peptides_protein.protein.isin(df_shared_peptides_protein.protein)]"
   ]
  },
  {
   "cell_type": "code",
   "execution_count": 69,
   "metadata": {},
   "outputs": [
    {
     "data": {
      "text/html": [
       "<div>\n",
       "<style scoped>\n",
       "    .dataframe tbody tr th:only-of-type {\n",
       "        vertical-align: middle;\n",
       "    }\n",
       "\n",
       "    .dataframe tbody tr th {\n",
       "        vertical-align: top;\n",
       "    }\n",
       "\n",
       "    .dataframe thead th {\n",
       "        text-align: right;\n",
       "    }\n",
       "</style>\n",
       "<table border=\"1\" class=\"dataframe\">\n",
       "  <thead>\n",
       "    <tr style=\"text-align: right;\">\n",
       "      <th></th>\n",
       "      <th>protein</th>\n",
       "      <th>sequence</th>\n",
       "    </tr>\n",
       "  </thead>\n",
       "  <tbody>\n",
       "    <tr>\n",
       "      <th>4</th>\n",
       "      <td>&gt;sp|P31946|1433B_HUMAN 14-3-3 protein beta/alp...</td>\n",
       "      <td>YDDMAAAMK</td>\n",
       "    </tr>\n",
       "    <tr>\n",
       "      <th>6</th>\n",
       "      <td>&gt;sp|P31946|1433B_HUMAN 14-3-3 protein beta/alp...</td>\n",
       "      <td>NLLSVAYK</td>\n",
       "    </tr>\n",
       "    <tr>\n",
       "      <th>11</th>\n",
       "      <td>&gt;sp|P31946|1433B_HUMAN 14-3-3 protein beta/alp...</td>\n",
       "      <td>VISSIEQK</td>\n",
       "    </tr>\n",
       "    <tr>\n",
       "      <th>27</th>\n",
       "      <td>&gt;sp|P31946|1433B_HUMAN 14-3-3 protein beta/alp...</td>\n",
       "      <td>EMQPTHPIR</td>\n",
       "    </tr>\n",
       "    <tr>\n",
       "      <th>32</th>\n",
       "      <td>&gt;sp|P31946|1433B_HUMAN 14-3-3 protein beta/alp...</td>\n",
       "      <td>DSTLIMQLLR</td>\n",
       "    </tr>\n",
       "    <tr>\n",
       "      <th>...</th>\n",
       "      <td>...</td>\n",
       "      <td>...</td>\n",
       "    </tr>\n",
       "    <tr>\n",
       "      <th>3817168</th>\n",
       "      <td>&gt;reverse_sp|Q46953|YPJF_ECOLI reverse of Proba...</td>\n",
       "      <td>TLLMQWVAVPSLCPK</td>\n",
       "    </tr>\n",
       "    <tr>\n",
       "      <th>3817171</th>\n",
       "      <td>&gt;reverse_sp|Q46953|YPJF_ECOLI reverse of Proba...</td>\n",
       "      <td>EVLFNVADAL</td>\n",
       "    </tr>\n",
       "    <tr>\n",
       "      <th>3817172</th>\n",
       "      <td>&gt;reverse_sp|Q46953|YPJF_ECOLI reverse of Proba...</td>\n",
       "      <td>TIGADIHEK</td>\n",
       "    </tr>\n",
       "    <tr>\n",
       "      <th>3817248</th>\n",
       "      <td>&gt;sp|P58033|YPJJ_ECOLI Uncharacterized protein ...</td>\n",
       "      <td>YQWHGSVCHYTGR</td>\n",
       "    </tr>\n",
       "    <tr>\n",
       "      <th>3817260</th>\n",
       "      <td>&gt;reverse_sp|P58033|YPJJ_ECOLI reverse of Uncha...</td>\n",
       "      <td>GTYHCVSGHWQYR</td>\n",
       "    </tr>\n",
       "  </tbody>\n",
       "</table>\n",
       "<p>71968 rows × 2 columns</p>\n",
       "</div>"
      ],
      "text/plain": [
       "                                                   protein         sequence\n",
       "4        >sp|P31946|1433B_HUMAN 14-3-3 protein beta/alp...        YDDMAAAMK\n",
       "6        >sp|P31946|1433B_HUMAN 14-3-3 protein beta/alp...         NLLSVAYK\n",
       "11       >sp|P31946|1433B_HUMAN 14-3-3 protein beta/alp...         VISSIEQK\n",
       "27       >sp|P31946|1433B_HUMAN 14-3-3 protein beta/alp...        EMQPTHPIR\n",
       "32       >sp|P31946|1433B_HUMAN 14-3-3 protein beta/alp...       DSTLIMQLLR\n",
       "...                                                    ...              ...\n",
       "3817168  >reverse_sp|Q46953|YPJF_ECOLI reverse of Proba...  TLLMQWVAVPSLCPK\n",
       "3817171  >reverse_sp|Q46953|YPJF_ECOLI reverse of Proba...       EVLFNVADAL\n",
       "3817172  >reverse_sp|Q46953|YPJF_ECOLI reverse of Proba...        TIGADIHEK\n",
       "3817248  >sp|P58033|YPJJ_ECOLI Uncharacterized protein ...    YQWHGSVCHYTGR\n",
       "3817260  >reverse_sp|P58033|YPJJ_ECOLI reverse of Uncha...    GTYHCVSGHWQYR\n",
       "\n",
       "[71968 rows x 2 columns]"
      ]
     },
     "execution_count": 69,
     "metadata": {},
     "output_type": "execute_result"
    }
   ],
   "source": [
    "df_shared_peptides_protein"
   ]
  },
  {
   "cell_type": "code",
   "execution_count": null,
   "metadata": {},
   "outputs": [],
   "source": []
  },
  {
   "cell_type": "code",
   "execution_count": null,
   "metadata": {},
   "outputs": [],
   "source": []
  },
  {
   "cell_type": "code",
   "execution_count": null,
   "metadata": {},
   "outputs": [],
   "source": []
  },
  {
   "cell_type": "code",
   "execution_count": null,
   "metadata": {},
   "outputs": [],
   "source": []
  },
  {
   "cell_type": "code",
   "execution_count": 45,
   "metadata": {},
   "outputs": [
    {
     "data": {
      "text/plain": [
       "1349391"
      ]
     },
     "execution_count": 45,
     "metadata": {},
     "output_type": "execute_result"
    }
   ],
   "source": [
    "len(df_non_shared_peptides_protein)"
   ]
  },
  {
   "cell_type": "code",
   "execution_count": 46,
   "metadata": {},
   "outputs": [
    {
     "data": {
      "text/plain": [
       "0.23475000818571756"
      ]
     },
     "execution_count": 46,
     "metadata": {},
     "output_type": "execute_result"
    }
   ],
   "source": [
    "len(df_shared_peptides_protein.protein.unique()) / len(df.protein.unique())"
   ]
  },
  {
   "cell_type": "code",
   "execution_count": 28,
   "metadata": {},
   "outputs": [
    {
     "data": {
      "text/plain": [
       "14339"
      ]
     },
     "execution_count": 28,
     "metadata": {},
     "output_type": "execute_result"
    }
   ],
   "source": [
    "len(df_shared_peptides_protein.protein.unique())"
   ]
  },
  {
   "cell_type": "code",
   "execution_count": 29,
   "metadata": {},
   "outputs": [
    {
     "data": {
      "text/plain": [
       "60462"
      ]
     },
     "execution_count": 29,
     "metadata": {},
     "output_type": "execute_result"
    }
   ],
   "source": [
    "len(df_non_shared_peptides_protein.protein.unique())"
   ]
  },
  {
   "cell_type": "code",
   "execution_count": 31,
   "metadata": {},
   "outputs": [
    {
     "data": {
      "text/plain": [
       "61082"
      ]
     },
     "execution_count": 31,
     "metadata": {},
     "output_type": "execute_result"
    }
   ],
   "source": [
    "len(df.protein.unique())"
   ]
  },
  {
   "cell_type": "code",
   "execution_count": 32,
   "metadata": {},
   "outputs": [
    {
     "data": {
      "text/plain": [
       "5           True\n",
       "18          True\n",
       "19          True\n",
       "24          True\n",
       "25          True\n",
       "           ...  \n",
       "3822263    False\n",
       "3822264    False\n",
       "3822265    False\n",
       "3822266    False\n",
       "3822268    False\n",
       "Name: protein, Length: 1349391, dtype: bool"
      ]
     },
     "execution_count": 32,
     "metadata": {},
     "output_type": "execute_result"
    }
   ],
   "source": [
    "df_non_shared_peptides_protein.protein.isin(df_shared_peptides_protein.protein.unique())"
   ]
  },
  {
   "cell_type": "code",
   "execution_count": null,
   "metadata": {},
   "outputs": [],
   "source": []
  },
  {
   "cell_type": "code",
   "execution_count": null,
   "metadata": {},
   "outputs": [],
   "source": []
  },
  {
   "cell_type": "code",
   "execution_count": null,
   "metadata": {},
   "outputs": [],
   "source": []
  },
  {
   "cell_type": "code",
   "execution_count": null,
   "metadata": {},
   "outputs": [],
   "source": []
  }
 ],
 "metadata": {
  "kernelspec": {
   "display_name": "Python [conda env:py37]",
   "language": "python",
   "name": "conda-env-py37-py"
  },
  "language_info": {
   "codemirror_mode": {
    "name": "ipython",
    "version": 3
   },
   "file_extension": ".py",
   "mimetype": "text/x-python",
   "name": "python",
   "nbconvert_exporter": "python",
   "pygments_lexer": "ipython3",
   "version": "3.7.10"
  }
 },
 "nbformat": 4,
 "nbformat_minor": 5
}
