{
 "cells": [
  {
   "cell_type": "code",
   "execution_count": 1,
   "metadata": {},
   "outputs": [],
   "source": [
    "import os \n",
    "from script_for_getting_summary_for_jupyter import *"
   ]
  },
  {
   "cell_type": "code",
   "execution_count": 25,
   "metadata": {},
   "outputs": [
    {
     "name": "stdout",
     "output_type": "stream",
     "text": [
      "time: 21.900899410247803 s\n",
      "time: 24.1329505443573 s\n",
      "time: 21.486400604248047 s\n",
      "time: 20.607905626296997 s\n"
     ]
    }
   ],
   "source": [
    "os.chdir(\"/hdd_14T/data/PXD002952/osw_res_20210303/hye124/ttof5600/32fix\")\n",
    "hye124_ttof5600_32fix = get_summary_hye124()"
   ]
  },
  {
   "cell_type": "code",
   "execution_count": 26,
   "metadata": {},
   "outputs": [
    {
     "data": {
      "text/html": [
       "<div>\n",
       "<style scoped>\n",
       "    .dataframe tbody tr th:only-of-type {\n",
       "        vertical-align: middle;\n",
       "    }\n",
       "\n",
       "    .dataframe tbody tr th {\n",
       "        vertical-align: top;\n",
       "    }\n",
       "\n",
       "    .dataframe thead th {\n",
       "        text-align: right;\n",
       "    }\n",
       "</style>\n",
       "<table border=\"1\" class=\"dataframe\">\n",
       "  <thead>\n",
       "    <tr style=\"text-align: right;\">\n",
       "      <th></th>\n",
       "      <th>experiment_id</th>\n",
       "      <th>sample_id</th>\n",
       "      <th>proteins</th>\n",
       "      <th>peptides</th>\n",
       "    </tr>\n",
       "  </thead>\n",
       "  <tbody>\n",
       "    <tr>\n",
       "      <th>0</th>\n",
       "      <td>001-Pedro</td>\n",
       "      <td>[1]</td>\n",
       "      <td>1600</td>\n",
       "      <td>11992</td>\n",
       "    </tr>\n",
       "    <tr>\n",
       "      <th>1</th>\n",
       "      <td>002-Pedro</td>\n",
       "      <td>[2]</td>\n",
       "      <td>1690</td>\n",
       "      <td>12932</td>\n",
       "    </tr>\n",
       "    <tr>\n",
       "      <th>2</th>\n",
       "      <td>003-Pedro</td>\n",
       "      <td>[1]</td>\n",
       "      <td>1594</td>\n",
       "      <td>11877</td>\n",
       "    </tr>\n",
       "    <tr>\n",
       "      <th>3</th>\n",
       "      <td>005-Pedro</td>\n",
       "      <td>[1]</td>\n",
       "      <td>1555</td>\n",
       "      <td>11426</td>\n",
       "    </tr>\n",
       "  </tbody>\n",
       "</table>\n",
       "</div>"
      ],
      "text/plain": [
       "  experiment_id sample_id proteins peptides\n",
       "0     001-Pedro       [1]     1600    11992\n",
       "1     002-Pedro       [2]     1690    12932\n",
       "2     003-Pedro       [1]     1594    11877\n",
       "3     005-Pedro       [1]     1555    11426"
      ]
     },
     "execution_count": 26,
     "metadata": {},
     "output_type": "execute_result"
    }
   ],
   "source": [
    "hye124_ttof5600_32fix"
   ]
  },
  {
   "cell_type": "markdown",
   "metadata": {},
   "source": [
    "I suspect the 005 should be iteration 2 sample. \n",
    "\n",
    "tenzer reported : reported\n",
    "\n",
    "peptides\n",
    "\n",
    "iteration 1: 26,225 : 24,924\n",
    "\n",
    "iteration 2: 26,767 : 23,303\n",
    "\n",
    "proteins:\n",
    "\n",
    "iteration 1: 3,296 : 3,290\n",
    "\n",
    "iteration 2: 3,339 : 3,149\n"
   ]
  },
  {
   "cell_type": "code",
   "execution_count": 21,
   "metadata": {},
   "outputs": [
    {
     "name": "stdout",
     "output_type": "stream",
     "text": [
      "time: 20.332343816757202 s\n",
      "time: 22.5717351436615 s\n",
      "time: 20.524690866470337 s\n",
      "time: 19.11354374885559 s\n"
     ]
    }
   ],
   "source": [
    "os.chdir(\"/hdd_14T/data/PXD002952/osw_res_20210303/hye124/ttof5600/32fix_w_64v_library_test\")\n",
    "hye124_ttof5600_32fix_w_64var_specLib = get_summary_hye124()"
   ]
  },
  {
   "cell_type": "code",
   "execution_count": 22,
   "metadata": {},
   "outputs": [
    {
     "data": {
      "text/html": [
       "<div>\n",
       "<style scoped>\n",
       "    .dataframe tbody tr th:only-of-type {\n",
       "        vertical-align: middle;\n",
       "    }\n",
       "\n",
       "    .dataframe tbody tr th {\n",
       "        vertical-align: top;\n",
       "    }\n",
       "\n",
       "    .dataframe thead th {\n",
       "        text-align: right;\n",
       "    }\n",
       "</style>\n",
       "<table border=\"1\" class=\"dataframe\">\n",
       "  <thead>\n",
       "    <tr style=\"text-align: right;\">\n",
       "      <th></th>\n",
       "      <th>experiment_id</th>\n",
       "      <th>sample_id</th>\n",
       "      <th>proteins</th>\n",
       "      <th>peptides</th>\n",
       "    </tr>\n",
       "  </thead>\n",
       "  <tbody>\n",
       "    <tr>\n",
       "      <th>0</th>\n",
       "      <td>001-Pedro</td>\n",
       "      <td>[1]</td>\n",
       "      <td>1855</td>\n",
       "      <td>10653</td>\n",
       "    </tr>\n",
       "    <tr>\n",
       "      <th>1</th>\n",
       "      <td>002-Pedro</td>\n",
       "      <td>[2]</td>\n",
       "      <td>2013</td>\n",
       "      <td>11719</td>\n",
       "    </tr>\n",
       "    <tr>\n",
       "      <th>2</th>\n",
       "      <td>003-Pedro</td>\n",
       "      <td>[1]</td>\n",
       "      <td>1871</td>\n",
       "      <td>10591</td>\n",
       "    </tr>\n",
       "    <tr>\n",
       "      <th>3</th>\n",
       "      <td>005-Pedro</td>\n",
       "      <td>[1]</td>\n",
       "      <td>1797</td>\n",
       "      <td>10073</td>\n",
       "    </tr>\n",
       "  </tbody>\n",
       "</table>\n",
       "</div>"
      ],
      "text/plain": [
       "  experiment_id sample_id proteins peptides\n",
       "0     001-Pedro       [1]     1855    10653\n",
       "1     002-Pedro       [2]     2013    11719\n",
       "2     003-Pedro       [1]     1871    10591\n",
       "3     005-Pedro       [1]     1797    10073"
      ]
     },
     "execution_count": 22,
     "metadata": {},
     "output_type": "execute_result"
    }
   ],
   "source": [
    "hye124_ttof5600_32fix_w_64var_specLib"
   ]
  },
  {
   "cell_type": "markdown",
   "metadata": {},
   "source": [
    "peptides\n",
    "\n",
    "iteration 1: 26,225 : 22,379\n",
    "\n",
    "iteration 2: 26,767 : 20,664\n",
    "\n",
    "proteins:\n",
    "\n",
    "iteration 1: 3,296 : 3,868\n",
    "\n",
    "iteration 2: 3,339 : 3,810"
   ]
  },
  {
   "cell_type": "code",
   "execution_count": 28,
   "metadata": {},
   "outputs": [
    {
     "name": "stdout",
     "output_type": "stream",
     "text": [
      "time: 43.028743505477905 s\n",
      "time: 36.65978002548218 s\n",
      "time: 40.41819429397583 s\n",
      "time: 40.48192238807678 s\n"
     ]
    }
   ],
   "source": [
    "os.chdir(\"/hdd_14T/data/PXD002952/osw_res_20210303/hye124/ttof5600/64var\")\n",
    "hye124_ttof5600_64var = get_summary_hye124()"
   ]
  },
  {
   "cell_type": "code",
   "execution_count": 38,
   "metadata": {},
   "outputs": [
    {
     "data": {
      "text/html": [
       "<div>\n",
       "<style scoped>\n",
       "    .dataframe tbody tr th:only-of-type {\n",
       "        vertical-align: middle;\n",
       "    }\n",
       "\n",
       "    .dataframe tbody tr th {\n",
       "        vertical-align: top;\n",
       "    }\n",
       "\n",
       "    .dataframe thead th {\n",
       "        text-align: right;\n",
       "    }\n",
       "</style>\n",
       "<table border=\"1\" class=\"dataframe\">\n",
       "  <thead>\n",
       "    <tr style=\"text-align: right;\">\n",
       "      <th></th>\n",
       "      <th>experiment_id</th>\n",
       "      <th>sample_id</th>\n",
       "      <th>proteins</th>\n",
       "      <th>peptides</th>\n",
       "    </tr>\n",
       "  </thead>\n",
       "  <tbody>\n",
       "    <tr>\n",
       "      <th>0</th>\n",
       "      <td>007-Pedro</td>\n",
       "      <td>[1]</td>\n",
       "      <td>2411</td>\n",
       "      <td>20071</td>\n",
       "    </tr>\n",
       "    <tr>\n",
       "      <th>1</th>\n",
       "      <td>008-Pedro</td>\n",
       "      <td>[2]</td>\n",
       "      <td>2207</td>\n",
       "      <td>17671</td>\n",
       "    </tr>\n",
       "    <tr>\n",
       "      <th>2</th>\n",
       "      <td>009-Pedro</td>\n",
       "      <td>[1]</td>\n",
       "      <td>2331</td>\n",
       "      <td>19232</td>\n",
       "    </tr>\n",
       "    <tr>\n",
       "      <th>3</th>\n",
       "      <td>010-Pedro</td>\n",
       "      <td>[2]</td>\n",
       "      <td>2374</td>\n",
       "      <td>19232</td>\n",
       "    </tr>\n",
       "  </tbody>\n",
       "</table>\n",
       "</div>"
      ],
      "text/plain": [
       "  experiment_id sample_id proteins peptides\n",
       "0     007-Pedro       [1]     2411    20071\n",
       "1     008-Pedro       [2]     2207    17671\n",
       "2     009-Pedro       [1]     2331    19232\n",
       "3     010-Pedro       [2]     2374    19232"
      ]
     },
     "execution_count": 38,
     "metadata": {},
     "output_type": "execute_result"
    }
   ],
   "source": [
    "hye124_ttof5600_64var"
   ]
  },
  {
   "cell_type": "markdown",
   "metadata": {},
   "source": [
    "tenzer reported : reported\n",
    "\n",
    "peptide:\n",
    "\n",
    "iteration 1: 34,154 : 39,303\n",
    "\n",
    "iteration 2: 34,476 : 36,903\n",
    "\n",
    "protein:\n",
    "\n",
    "iteration 1: 4,056 : 4,742 \n",
    "\n",
    "iteration 2: 4,086 : 4,581"
   ]
  },
  {
   "cell_type": "code",
   "execution_count": null,
   "metadata": {},
   "outputs": [],
   "source": [
    "os.chdir(\"/hdd_14T/data/PXD002952/osw_res_20210303/hye124/ttof6600/32fix\")\n",
    "hye124_ttof660_32fix = get_summary_hye124()"
   ]
  },
  {
   "cell_type": "code",
   "execution_count": null,
   "metadata": {},
   "outputs": [],
   "source": [
    "hye124_ttof660_32fix"
   ]
  },
  {
   "cell_type": "code",
   "execution_count": 2,
   "metadata": {},
   "outputs": [
    {
     "name": "stderr",
     "output_type": "stream",
     "text": [
      "/home/ptruong/git/dia_sum/scripts/PXD002952/script_for_getting_summary_for_jupyter.py:197: SettingWithCopyWarning: \n",
      "A value is trying to be set on a copy of a slice from a DataFrame.\n",
      "Try using .loc[row_indexer,col_indexer] = value instead\n",
      "\n",
      "See the caveats in the documentation: http://pandas.pydata.org/pandas-docs/stable/indexing.html#indexing-view-versus-copy\n",
      "  df_sample[\"proteinQuantity\"] = df_sample[\"ProteinName\"].map(get_protein_quantity)\n"
     ]
    },
    {
     "name": "stdout",
     "output_type": "stream",
     "text": [
      "time: 77.48334550857544 s\n",
      "time: 84.37948298454285 s\n"
     ]
    }
   ],
   "source": [
    "os.chdir(\"/hdd_14T/data/PXD002952/osw_res_20210303/hye124/ttof6600/64var\")\n",
    "hye124_ttof6600_64var = get_summary_hye124_ttof6600_64var() #redo this "
   ]
  },
  {
   "cell_type": "code",
   "execution_count": 3,
   "metadata": {},
   "outputs": [
    {
     "data": {
      "text/html": [
       "<div>\n",
       "<style scoped>\n",
       "    .dataframe tbody tr th:only-of-type {\n",
       "        vertical-align: middle;\n",
       "    }\n",
       "\n",
       "    .dataframe tbody tr th {\n",
       "        vertical-align: top;\n",
       "    }\n",
       "\n",
       "    .dataframe thead th {\n",
       "        text-align: right;\n",
       "    }\n",
       "</style>\n",
       "<table border=\"1\" class=\"dataframe\">\n",
       "  <thead>\n",
       "    <tr style=\"text-align: right;\">\n",
       "      <th></th>\n",
       "      <th>experiment_id</th>\n",
       "      <th>sample_id</th>\n",
       "      <th>proteins</th>\n",
       "      <th>peptides</th>\n",
       "    </tr>\n",
       "  </thead>\n",
       "  <tbody>\n",
       "    <tr>\n",
       "      <th>0</th>\n",
       "      <td>008-Pedro</td>\n",
       "      <td>[1]</td>\n",
       "      <td>3323</td>\n",
       "      <td>31030</td>\n",
       "    </tr>\n",
       "    <tr>\n",
       "      <th>1</th>\n",
       "      <td>009-Pedro</td>\n",
       "      <td>[2]</td>\n",
       "      <td>3472</td>\n",
       "      <td>33060</td>\n",
       "    </tr>\n",
       "  </tbody>\n",
       "</table>\n",
       "</div>"
      ],
      "text/plain": [
       "  experiment_id sample_id proteins peptides\n",
       "0     008-Pedro       [1]     3323    31030\n",
       "1     009-Pedro       [2]     3472    33060"
      ]
     },
     "execution_count": 3,
     "metadata": {},
     "output_type": "execute_result"
    }
   ],
   "source": [
    "hye124_ttof6600_64var "
   ]
  },
  {
   "cell_type": "markdown",
   "metadata": {},
   "source": [
    "tenzer reported : reported"
   ]
  },
  {
   "cell_type": "code",
   "execution_count": null,
   "metadata": {},
   "outputs": [],
   "source": []
  },
  {
   "cell_type": "code",
   "execution_count": 13,
   "metadata": {},
   "outputs": [
    {
     "name": "stdout",
     "output_type": "stream",
     "text": [
      "time: 27.972650051116943 s\n",
      "time: 31.01091170310974 s\n",
      "time: 27.206010103225708 s\n",
      "time: 30.332141160964966 s\n",
      "time: 25.4646999835968 s\n"
     ]
    }
   ],
   "source": [
    "os.chdir(\"/hdd_14T/data/PXD002952/osw_res_20210303/hye110/ttof6600/32fix\")\n",
    "hye110_ttof6600_32fix = get_summary_hye110()"
   ]
  },
  {
   "cell_type": "code",
   "execution_count": 14,
   "metadata": {},
   "outputs": [
    {
     "data": {
      "text/html": [
       "<div>\n",
       "<style scoped>\n",
       "    .dataframe tbody tr th:only-of-type {\n",
       "        vertical-align: middle;\n",
       "    }\n",
       "\n",
       "    .dataframe tbody tr th {\n",
       "        vertical-align: top;\n",
       "    }\n",
       "\n",
       "    .dataframe thead th {\n",
       "        text-align: right;\n",
       "    }\n",
       "</style>\n",
       "<table border=\"1\" class=\"dataframe\">\n",
       "  <thead>\n",
       "    <tr style=\"text-align: right;\">\n",
       "      <th></th>\n",
       "      <th>experiment_id</th>\n",
       "      <th>sample_id</th>\n",
       "      <th>proteins</th>\n",
       "      <th>peptides</th>\n",
       "    </tr>\n",
       "  </thead>\n",
       "  <tbody>\n",
       "    <tr>\n",
       "      <th>0</th>\n",
       "      <td>001-Pedro</td>\n",
       "      <td>[A]</td>\n",
       "      <td>1844</td>\n",
       "      <td>14612</td>\n",
       "    </tr>\n",
       "    <tr>\n",
       "      <th>1</th>\n",
       "      <td>002-Pedro</td>\n",
       "      <td>[B]</td>\n",
       "      <td>1857</td>\n",
       "      <td>15650</td>\n",
       "    </tr>\n",
       "    <tr>\n",
       "      <th>2</th>\n",
       "      <td>003-Pedro</td>\n",
       "      <td>[A]</td>\n",
       "      <td>1804</td>\n",
       "      <td>14310</td>\n",
       "    </tr>\n",
       "    <tr>\n",
       "      <th>3</th>\n",
       "      <td>004-Pedro</td>\n",
       "      <td>[B]</td>\n",
       "      <td>1850</td>\n",
       "      <td>15495</td>\n",
       "    </tr>\n",
       "    <tr>\n",
       "      <th>4</th>\n",
       "      <td>010-Pedro</td>\n",
       "      <td>[A]</td>\n",
       "      <td>1756</td>\n",
       "      <td>13650</td>\n",
       "    </tr>\n",
       "  </tbody>\n",
       "</table>\n",
       "</div>"
      ],
      "text/plain": [
       "  experiment_id sample_id proteins peptides\n",
       "0     001-Pedro       [A]     1844    14612\n",
       "1     002-Pedro       [B]     1857    15650\n",
       "2     003-Pedro       [A]     1804    14310\n",
       "3     004-Pedro       [B]     1850    15495\n",
       "4     010-Pedro       [A]     1756    13650"
      ]
     },
     "execution_count": 14,
     "metadata": {},
     "output_type": "execute_result"
    }
   ],
   "source": [
    "hye110_ttof6600_32fix"
   ]
  },
  {
   "cell_type": "markdown",
   "metadata": {},
   "source": [
    "tenzer reported : reported\n",
    "\n",
    "peptides\n",
    "\n",
    "30,848 : (27,960 - 30,262) (minimal of combined A:B set)\n",
    "\n",
    "proteins\n",
    "\n",
    "3,700 : (3,606 - 3701)"
   ]
  },
  {
   "cell_type": "code",
   "execution_count": 15,
   "metadata": {
    "scrolled": true
   },
   "outputs": [
    {
     "name": "stdout",
     "output_type": "stream",
     "text": [
      "time: 34.89126920700073 s\n",
      "time: 37.840336322784424 s\n",
      "time: 34.54505491256714 s\n",
      "time: 35.213249921798706 s\n",
      "time: 34.49706268310547 s\n",
      "time: 36.00996375083923 s\n"
     ]
    }
   ],
   "source": [
    "os.chdir(\"/hdd_14T/data/PXD002952/osw_res_20210303/hye110/ttof6600/32var\")\n",
    "hye110_ttof6600_32var = get_summary_hye110()"
   ]
  },
  {
   "cell_type": "code",
   "execution_count": 24,
   "metadata": {},
   "outputs": [
    {
     "data": {
      "text/html": [
       "<div>\n",
       "<style scoped>\n",
       "    .dataframe tbody tr th:only-of-type {\n",
       "        vertical-align: middle;\n",
       "    }\n",
       "\n",
       "    .dataframe tbody tr th {\n",
       "        vertical-align: top;\n",
       "    }\n",
       "\n",
       "    .dataframe thead th {\n",
       "        text-align: right;\n",
       "    }\n",
       "</style>\n",
       "<table border=\"1\" class=\"dataframe\">\n",
       "  <thead>\n",
       "    <tr style=\"text-align: right;\">\n",
       "      <th></th>\n",
       "      <th>experiment_id</th>\n",
       "      <th>sample_id</th>\n",
       "      <th>proteins</th>\n",
       "      <th>peptides</th>\n",
       "    </tr>\n",
       "  </thead>\n",
       "  <tbody>\n",
       "    <tr>\n",
       "      <th>0</th>\n",
       "      <td>001-Pedro</td>\n",
       "      <td>[A.mzML]</td>\n",
       "      <td>2167</td>\n",
       "      <td>17297</td>\n",
       "    </tr>\n",
       "    <tr>\n",
       "      <th>1</th>\n",
       "      <td>002-Pedro</td>\n",
       "      <td>[B.mzML]</td>\n",
       "      <td>2176</td>\n",
       "      <td>18273</td>\n",
       "    </tr>\n",
       "    <tr>\n",
       "      <th>2</th>\n",
       "      <td>003-Pedro</td>\n",
       "      <td>[A.mzML]</td>\n",
       "      <td>2124</td>\n",
       "      <td>17033</td>\n",
       "    </tr>\n",
       "    <tr>\n",
       "      <th>3</th>\n",
       "      <td>004-Pedro</td>\n",
       "      <td>[B.mzML]</td>\n",
       "      <td>2091</td>\n",
       "      <td>17222</td>\n",
       "    </tr>\n",
       "    <tr>\n",
       "      <th>4</th>\n",
       "      <td>005-Pedro</td>\n",
       "      <td>[A.mzML]</td>\n",
       "      <td>2132</td>\n",
       "      <td>16955</td>\n",
       "    </tr>\n",
       "    <tr>\n",
       "      <th>5</th>\n",
       "      <td>006-Pedro</td>\n",
       "      <td>[B.mzML]</td>\n",
       "      <td>2094</td>\n",
       "      <td>17582</td>\n",
       "    </tr>\n",
       "  </tbody>\n",
       "</table>\n",
       "</div>"
      ],
      "text/plain": [
       "  experiment_id sample_id proteins peptides\n",
       "0     001-Pedro  [A.mzML]     2167    17297\n",
       "1     002-Pedro  [B.mzML]     2176    18273\n",
       "2     003-Pedro  [A.mzML]     2124    17033\n",
       "3     004-Pedro  [B.mzML]     2091    17222\n",
       "4     005-Pedro  [A.mzML]     2132    16955\n",
       "5     006-Pedro  [B.mzML]     2094    17582"
      ]
     },
     "execution_count": 24,
     "metadata": {},
     "output_type": "execute_result"
    }
   ],
   "source": [
    "hye110_ttof6600_32var"
   ]
  },
  {
   "cell_type": "markdown",
   "metadata": {},
   "source": [
    "tenzer reported : reported\n",
    "\n",
    "peptide\n",
    "\n",
    "33,462 : (34,177 - 35,570)\n",
    "\n",
    "protein\n",
    "\n",
    "3,988 : (4,226 - 4,343)"
   ]
  },
  {
   "cell_type": "code",
   "execution_count": 17,
   "metadata": {},
   "outputs": [
    {
     "name": "stdout",
     "output_type": "stream",
     "text": [
      "time: 32.01488637924194 s\n",
      "time: 33.67243146896362 s\n",
      "time: 29.736671209335327 s\n",
      "time: 33.022281646728516 s\n",
      "time: 31.649268865585327 s\n",
      "time: 32.505454540252686 s\n"
     ]
    }
   ],
   "source": [
    "os.chdir(\"/hdd_14T/data/PXD002952/osw_res_20210303/hye110/ttof6600/64fix\")\n",
    "hye110_ttof6600_64fix = get_summary_hye110()"
   ]
  },
  {
   "cell_type": "code",
   "execution_count": 18,
   "metadata": {},
   "outputs": [
    {
     "data": {
      "text/html": [
       "<div>\n",
       "<style scoped>\n",
       "    .dataframe tbody tr th:only-of-type {\n",
       "        vertical-align: middle;\n",
       "    }\n",
       "\n",
       "    .dataframe tbody tr th {\n",
       "        vertical-align: top;\n",
       "    }\n",
       "\n",
       "    .dataframe thead th {\n",
       "        text-align: right;\n",
       "    }\n",
       "</style>\n",
       "<table border=\"1\" class=\"dataframe\">\n",
       "  <thead>\n",
       "    <tr style=\"text-align: right;\">\n",
       "      <th></th>\n",
       "      <th>experiment_id</th>\n",
       "      <th>sample_id</th>\n",
       "      <th>proteins</th>\n",
       "      <th>peptides</th>\n",
       "    </tr>\n",
       "  </thead>\n",
       "  <tbody>\n",
       "    <tr>\n",
       "      <th>0</th>\n",
       "      <td>001-Pedro</td>\n",
       "      <td>[A.mzML]</td>\n",
       "      <td>2018</td>\n",
       "      <td>15947</td>\n",
       "    </tr>\n",
       "    <tr>\n",
       "      <th>1</th>\n",
       "      <td>002-Pedro</td>\n",
       "      <td>[B.mzML]</td>\n",
       "      <td>1997</td>\n",
       "      <td>16709</td>\n",
       "    </tr>\n",
       "    <tr>\n",
       "      <th>2</th>\n",
       "      <td>003-Pedro</td>\n",
       "      <td>[A.mzML]</td>\n",
       "      <td>1954</td>\n",
       "      <td>15267</td>\n",
       "    </tr>\n",
       "    <tr>\n",
       "      <th>3</th>\n",
       "      <td>004-Pedro</td>\n",
       "      <td>[B.mzML]</td>\n",
       "      <td>1956</td>\n",
       "      <td>16395</td>\n",
       "    </tr>\n",
       "    <tr>\n",
       "      <th>4</th>\n",
       "      <td>005-Pedro</td>\n",
       "      <td>[A.mzML]</td>\n",
       "      <td>2008</td>\n",
       "      <td>15839</td>\n",
       "    </tr>\n",
       "    <tr>\n",
       "      <th>5</th>\n",
       "      <td>006-Pedro</td>\n",
       "      <td>[B.mzML]</td>\n",
       "      <td>1955</td>\n",
       "      <td>16163</td>\n",
       "    </tr>\n",
       "  </tbody>\n",
       "</table>\n",
       "</div>"
      ],
      "text/plain": [
       "  experiment_id sample_id proteins peptides\n",
       "0     001-Pedro  [A.mzML]     2018    15947\n",
       "1     002-Pedro  [B.mzML]     1997    16709\n",
       "2     003-Pedro  [A.mzML]     1954    15267\n",
       "3     004-Pedro  [B.mzML]     1956    16395\n",
       "4     005-Pedro  [A.mzML]     2008    15839\n",
       "5     006-Pedro  [B.mzML]     1955    16163"
      ]
     },
     "execution_count": 18,
     "metadata": {},
     "output_type": "execute_result"
    }
   ],
   "source": [
    "hye110_ttof6600_64fix"
   ]
  },
  {
   "cell_type": "markdown",
   "metadata": {},
   "source": [
    "tenzer reported: reported\n",
    "\n",
    "peptide\n",
    "32,479 : (31,430 - 32,656)\n",
    "\n",
    "protein\n",
    "3,844 : (3,909 - 4,015)"
   ]
  },
  {
   "cell_type": "code",
   "execution_count": 19,
   "metadata": {},
   "outputs": [
    {
     "name": "stdout",
     "output_type": "stream",
     "text": [
      "time: 47.661564111709595 s\n",
      "time: 45.57010841369629 s\n",
      "time: 47.294400215148926 s\n",
      "time: 46.03310441970825 s\n",
      "time: 44.336047649383545 s\n",
      "time: 41.34174633026123 s\n"
     ]
    }
   ],
   "source": [
    "os.chdir(\"/hdd_14T/data/PXD002952/osw_res_20210303/hye110/ttof6600/64var\")\n",
    "hye110_ttof6600_64var = get_summary_hye110()"
   ]
  },
  {
   "cell_type": "code",
   "execution_count": 20,
   "metadata": {},
   "outputs": [
    {
     "data": {
      "text/html": [
       "<div>\n",
       "<style scoped>\n",
       "    .dataframe tbody tr th:only-of-type {\n",
       "        vertical-align: middle;\n",
       "    }\n",
       "\n",
       "    .dataframe tbody tr th {\n",
       "        vertical-align: top;\n",
       "    }\n",
       "\n",
       "    .dataframe thead th {\n",
       "        text-align: right;\n",
       "    }\n",
       "</style>\n",
       "<table border=\"1\" class=\"dataframe\">\n",
       "  <thead>\n",
       "    <tr style=\"text-align: right;\">\n",
       "      <th></th>\n",
       "      <th>experiment_id</th>\n",
       "      <th>sample_id</th>\n",
       "      <th>proteins</th>\n",
       "      <th>peptides</th>\n",
       "    </tr>\n",
       "  </thead>\n",
       "  <tbody>\n",
       "    <tr>\n",
       "      <th>0</th>\n",
       "      <td>001-Pedro</td>\n",
       "      <td>[A]</td>\n",
       "      <td>2531</td>\n",
       "      <td>21548</td>\n",
       "    </tr>\n",
       "    <tr>\n",
       "      <th>1</th>\n",
       "      <td>002-Pedro</td>\n",
       "      <td>[B]</td>\n",
       "      <td>2385</td>\n",
       "      <td>20925</td>\n",
       "    </tr>\n",
       "    <tr>\n",
       "      <th>2</th>\n",
       "      <td>003-Pedro</td>\n",
       "      <td>[A]</td>\n",
       "      <td>2550</td>\n",
       "      <td>21542</td>\n",
       "    </tr>\n",
       "    <tr>\n",
       "      <th>3</th>\n",
       "      <td>004-Pedro</td>\n",
       "      <td>[B]</td>\n",
       "      <td>2431</td>\n",
       "      <td>21528</td>\n",
       "    </tr>\n",
       "    <tr>\n",
       "      <th>4</th>\n",
       "      <td>005-Pedro</td>\n",
       "      <td>[A]</td>\n",
       "      <td>2465</td>\n",
       "      <td>20839</td>\n",
       "    </tr>\n",
       "    <tr>\n",
       "      <th>5</th>\n",
       "      <td>006-Pedro</td>\n",
       "      <td>[B]</td>\n",
       "      <td>2294</td>\n",
       "      <td>19629</td>\n",
       "    </tr>\n",
       "  </tbody>\n",
       "</table>\n",
       "</div>"
      ],
      "text/plain": [
       "  experiment_id sample_id proteins peptides\n",
       "0     001-Pedro       [A]     2531    21548\n",
       "1     002-Pedro       [B]     2385    20925\n",
       "2     003-Pedro       [A]     2550    21542\n",
       "3     004-Pedro       [B]     2431    21528\n",
       "4     005-Pedro       [A]     2465    20839\n",
       "5     006-Pedro       [B]     2294    19629"
      ]
     },
     "execution_count": 20,
     "metadata": {},
     "output_type": "execute_result"
    }
   ],
   "source": [
    "hye110_ttof6600_64var"
   ]
  },
  {
   "cell_type": "markdown",
   "metadata": {},
   "source": [
    "tenzer reported : reported\n",
    "\n",
    "peptide\n",
    "\n",
    "37,133 : (40,468 - 43,076)\n",
    "\n",
    "protein\n",
    "\n",
    "4,307 : (4,759 - 4,981)"
   ]
  }
 ],
 "metadata": {
  "kernelspec": {
   "display_name": "Python 3",
   "language": "python",
   "name": "python3"
  },
  "language_info": {
   "codemirror_mode": {
    "name": "ipython",
    "version": 3
   },
   "file_extension": ".py",
   "mimetype": "text/x-python",
   "name": "python",
   "nbconvert_exporter": "python",
   "pygments_lexer": "ipython3",
   "version": "3.6.11"
  }
 },
 "nbformat": 4,
 "nbformat_minor": 4
}
