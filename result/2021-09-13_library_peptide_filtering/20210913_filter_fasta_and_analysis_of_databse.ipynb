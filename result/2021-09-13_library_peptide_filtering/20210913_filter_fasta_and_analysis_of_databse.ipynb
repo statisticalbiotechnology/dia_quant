{
 "cells": [
  {
   "cell_type": "markdown",
   "metadata": {},
   "source": [
    "# About \n",
    "This scripts removes as much shared peptides as possible with trivial methods.\n",
    "\n",
    "Algorithm:\n",
    "1. Read in the database\n",
    "2. Loop through lines of database\n",
    "3. Protein <- line starting with \">\"\n",
    "4. sequence <- other lines.\n",
    "5. Split sequence at \"K\" and \"R\".\n",
    "6. Create a list with the split sequences.\n",
    "7. Create an equally sized list with the protein name for each split sequence. \n",
    "8. Create a DataFrame with all the proteins and splitted sequences.\n",
    "9. If we want to replace I/L with L then set \"modify_IL\" to True.\n",
    "10. Create a column with mapped decoys.\n",
    "11. Create a column with mapped species.\n",
    "12. Create a column with mapped \"sequence length\".\n",
    "13. Keep only rows with \"sequence length\" > 7.\n",
    "14. Drop duplicates.\n",
    "15. Create a dataframe for number of protein per sequence by using - Groupby sequence (These are the splitted sequences still).\n",
    "16. Count proteins for each sequence. \n",
    "17. Filter count dataframe to contain only sequences with count == 1.\n",
    "18. Take only unique protein.\n",
    "19. Make a list of the unique proteins. \n",
    "20. This protein contains the final result that we keep.\n",
    "21. Read in the orignal db again and keep only proteins that exist in list created in 19).\n"
   ]
  },
  {
   "cell_type": "code",
   "execution_count": 20,
   "metadata": {},
   "outputs": [],
   "source": [
    "\n",
    "import os \n",
    "import re\n",
    "import pandas as pd\n",
    "import numpy as np"
   ]
  },
  {
   "cell_type": "code",
   "execution_count": 21,
   "metadata": {},
   "outputs": [],
   "source": [
    "# read in .fasta file and count shared peptides\n",
    "\n",
    "os.chdir(\"/home/ptruong/git/dia_sum\")\n",
    "\n",
    "#human_fasta = \"2021-06-15-decoys-reviewed-contam-UP000000625.fas\"\n",
    "#yeast_fasta = \"2021-06-15-decoys-reviewed-contam-UP000002311\"\n",
    "#ecoli_fasta = \"2021-06-15-decoys-reviewed-contam-UP000005640\"\n",
    "\n",
    "#filename = \"database/2021-06-15/\" + human_fasta\n",
    "#filename = \"database/napedro_3mixed_human_yeast_ecoli_20140403_iRT_reverse.fasta\"\n",
    "#filename = \"database/2021-06-07/UP00000625_UP000002311_UP000005640.fasta\"\n",
    "#filename = \"database/2021-09-15_malaria_yeast_PXD017705/UP000002311_UP000001450.fasta\"\n",
    "filename = \"database/2022-05-25_pxd028185/SupplementaryFiles files/libraries and fastas/uniprot_human_25apr2019_yeastENO1.fasta\"\n",
    "# filename = \"/home/ptruong/git/dia_sum/database/2021-11-02_PXD026600_ecoli/UP000000625_reviewed_ups1-ups2-sequences_2021-11-02.fasta\"\n",
    "\n",
    "file = open(filename, \"r\")\n",
    "\n",
    "\n",
    "protein_list = []\n",
    "sequence_list = []\n",
    "for line in file: \n",
    "    if line[0] == \">\":\n",
    "        protein = line \n",
    "    else:\n",
    "        sequence = line.rstrip()\n",
    "        split_sequence = re.split(r\"(?<=[KR])\", sequence)\n",
    "        split_sequence = list(dict.fromkeys(split_sequence))\n",
    "        sequence_list += split_sequence\n",
    "        protein_list += [protein for i in range(len(split_sequence))]\n",
    "        \n",
    "\n",
    "df_ = pd.DataFrame(np.array([protein_list, sequence_list]).T, columns = [\"protein\", \"sequence\"])\n",
    "df = pd.DataFrame(np.array([protein_list, sequence_list]).T, columns = [\"protein\", \"sequence\"])\n"
   ]
  },
  {
   "cell_type": "markdown",
   "metadata": {},
   "source": [
    "# If True replace I and L with common symbol\n",
    "\n",
    "Amino acis I (Iso-leucine) and L (leucine) have the same weight and therefore the same peak in a mass-spec. We want to make them interchangable to see if it affects the final database."
   ]
  },
  {
   "cell_type": "code",
   "execution_count": 3,
   "metadata": {},
   "outputs": [
    {
     "name": "stdout",
     "output_type": "stream",
     "text": [
      "All I and L are now L\n"
     ]
    }
   ],
   "source": [
    "\n",
    "mofidy_IL = True #Set the variable\n",
    "if mofidy_IL == True:\n",
    "    modify_IL_function = lambda x: x.replace(\"I\", \"L\")\n",
    "    df[\"sequence\"] = df.sequence.map(modify_IL_function)\n",
    "    print(\"All I and L are now L\")\n",
    "else:\n",
    "    print(\"No I/L modification\")"
   ]
  },
  {
   "cell_type": "code",
   "execution_count": 3,
   "metadata": {},
   "outputs": [],
   "source": [
    "def decoy_map(protein):\n",
    "    if protein.split(\"_\")[0] == \">reverse\":\n",
    "        return True\n",
    "    else:\n",
    "        return False\n",
    "    \n",
    "    \n",
    "df[\"decoy\"] = df.protein.map(decoy_map)\n",
    "\n",
    "df = df[df.decoy == False]\n"
   ]
  },
  {
   "cell_type": "code",
   "execution_count": 25,
   "metadata": {},
   "outputs": [
    {
     "data": {
      "text/html": [
       "<div>\n",
       "<style scoped>\n",
       "    .dataframe tbody tr th:only-of-type {\n",
       "        vertical-align: middle;\n",
       "    }\n",
       "\n",
       "    .dataframe tbody tr th {\n",
       "        vertical-align: top;\n",
       "    }\n",
       "\n",
       "    .dataframe thead th {\n",
       "        text-align: right;\n",
       "    }\n",
       "</style>\n",
       "<table border=\"1\" class=\"dataframe\">\n",
       "  <thead>\n",
       "    <tr style=\"text-align: right;\">\n",
       "      <th></th>\n",
       "      <th>protein</th>\n",
       "      <th>sequence</th>\n",
       "      <th>decoy</th>\n",
       "    </tr>\n",
       "  </thead>\n",
       "  <tbody>\n",
       "    <tr>\n",
       "      <th>0</th>\n",
       "      <td>&gt;sp|A0A385XJ53|INSA9_ECOLI Insertion element I...</td>\n",
       "      <td>MASVSLSCPSCSATDGVVR</td>\n",
       "      <td>False</td>\n",
       "    </tr>\n",
       "    <tr>\n",
       "      <th>1</th>\n",
       "      <td>&gt;sp|A0A385XJ53|INSA9_ECOLI Insertion element I...</td>\n",
       "      <td>NGK</td>\n",
       "      <td>False</td>\n",
       "    </tr>\n",
       "    <tr>\n",
       "      <th>2</th>\n",
       "      <td>&gt;sp|A0A385XJ53|INSA9_ECOLI Insertion element I...</td>\n",
       "      <td>STAGHQR</td>\n",
       "      <td>False</td>\n",
       "    </tr>\n",
       "    <tr>\n",
       "      <th>3</th>\n",
       "      <td>&gt;sp|A0A385XJ53|INSA9_ECOLI Insertion element I...</td>\n",
       "      <td>YLCSHCR</td>\n",
       "      <td>False</td>\n",
       "    </tr>\n",
       "    <tr>\n",
       "      <th>4</th>\n",
       "      <td>&gt;sp|A0A385XJ53|INSA9_ECOLI Insertion element I...</td>\n",
       "      <td>K</td>\n",
       "      <td>False</td>\n",
       "    </tr>\n",
       "    <tr>\n",
       "      <th>...</th>\n",
       "      <td>...</td>\n",
       "      <td>...</td>\n",
       "      <td>...</td>\n",
       "    </tr>\n",
       "    <tr>\n",
       "      <th>130356</th>\n",
       "      <td>&gt;P01579ups|IFNG_HUMAN_UPS Interferon Gamma (Ch...</td>\n",
       "      <td>ALHELLQVMAELSPAAK</td>\n",
       "      <td>False</td>\n",
       "    </tr>\n",
       "    <tr>\n",
       "      <th>130357</th>\n",
       "      <td>&gt;P01579ups|IFNG_HUMAN_UPS Interferon Gamma (Ch...</td>\n",
       "      <td>TGK</td>\n",
       "      <td>False</td>\n",
       "    </tr>\n",
       "    <tr>\n",
       "      <th>130358</th>\n",
       "      <td>&gt;P01579ups|IFNG_HUMAN_UPS Interferon Gamma (Ch...</td>\n",
       "      <td>SQMLFR</td>\n",
       "      <td>False</td>\n",
       "    </tr>\n",
       "    <tr>\n",
       "      <th>130359</th>\n",
       "      <td>&gt;P01579ups|IFNG_HUMAN_UPS Interferon Gamma (Ch...</td>\n",
       "      <td>GR</td>\n",
       "      <td>False</td>\n",
       "    </tr>\n",
       "    <tr>\n",
       "      <th>130360</th>\n",
       "      <td>&gt;P01579ups|IFNG_HUMAN_UPS Interferon Gamma (Ch...</td>\n",
       "      <td>ASQ</td>\n",
       "      <td>False</td>\n",
       "    </tr>\n",
       "  </tbody>\n",
       "</table>\n",
       "<p>130361 rows × 3 columns</p>\n",
       "</div>"
      ],
      "text/plain": [
       "                                                  protein  \\\n",
       "0       >sp|A0A385XJ53|INSA9_ECOLI Insertion element I...   \n",
       "1       >sp|A0A385XJ53|INSA9_ECOLI Insertion element I...   \n",
       "2       >sp|A0A385XJ53|INSA9_ECOLI Insertion element I...   \n",
       "3       >sp|A0A385XJ53|INSA9_ECOLI Insertion element I...   \n",
       "4       >sp|A0A385XJ53|INSA9_ECOLI Insertion element I...   \n",
       "...                                                   ...   \n",
       "130356  >P01579ups|IFNG_HUMAN_UPS Interferon Gamma (Ch...   \n",
       "130357  >P01579ups|IFNG_HUMAN_UPS Interferon Gamma (Ch...   \n",
       "130358  >P01579ups|IFNG_HUMAN_UPS Interferon Gamma (Ch...   \n",
       "130359  >P01579ups|IFNG_HUMAN_UPS Interferon Gamma (Ch...   \n",
       "130360  >P01579ups|IFNG_HUMAN_UPS Interferon Gamma (Ch...   \n",
       "\n",
       "                   sequence  decoy  \n",
       "0       MASVSLSCPSCSATDGVVR  False  \n",
       "1                       NGK  False  \n",
       "2                   STAGHQR  False  \n",
       "3                   YLCSHCR  False  \n",
       "4                         K  False  \n",
       "...                     ...    ...  \n",
       "130356    ALHELLQVMAELSPAAK  False  \n",
       "130357                  TGK  False  \n",
       "130358               SQMLFR  False  \n",
       "130359                   GR  False  \n",
       "130360                  ASQ  False  \n",
       "\n",
       "[130361 rows x 3 columns]"
      ]
     },
     "execution_count": 25,
     "metadata": {},
     "output_type": "execute_result"
    }
   ],
   "source": [
    "df"
   ]
  },
  {
   "cell_type": "code",
   "execution_count": 4,
   "metadata": {},
   "outputs": [],
   "source": [
    "specie_map = lambda x: x.split(\"_\")[1].split(\" \")[0]\n",
    "df[\"specie\"] = df.protein.map(specie_map)"
   ]
  },
  {
   "cell_type": "code",
   "execution_count": 27,
   "metadata": {},
   "outputs": [],
   "source": [
    "n_protein = len(df.protein.unique())\n",
    "n_protein_ecoli  = len(df[df[\"specie\"] == \"ECOLI\"].protein.unique())\n",
    "n_protein_human = len(df[df[\"specie\"] == \"HUMAN\"].protein.unique())\n",
    "n_protein_yeast = len(df[df[\"specie\"] == \"YEAST\"].protein.unique())"
   ]
  },
  {
   "cell_type": "code",
   "execution_count": 28,
   "metadata": {},
   "outputs": [
    {
     "data": {
      "text/plain": [
       "array(['ECOLI', 'HUMAN'], dtype=object)"
      ]
     },
     "execution_count": 28,
     "metadata": {},
     "output_type": "execute_result"
    }
   ],
   "source": [
    "df.specie.unique()"
   ]
  },
  {
   "cell_type": "code",
   "execution_count": 29,
   "metadata": {},
   "outputs": [
    {
     "name": "stdout",
     "output_type": "stream",
     "text": [
      "Unfiltered protein statistics:\n",
      "All proteins: 4438\n",
      "ECOLI proteins: 4390\n",
      "HUMAN proteins: 48\n",
      "YEAST protein: 0\n"
     ]
    }
   ],
   "source": [
    "print(\"Unfiltered protein statistics:\")\n",
    "print(f\"All proteins: {n_protein}\")\n",
    "print(f\"ECOLI proteins: {n_protein_ecoli}\")\n",
    "print(f\"HUMAN proteins: {n_protein_human}\")\n",
    "print(f\"YEAST protein: {n_protein_yeast}\")"
   ]
  },
  {
   "cell_type": "code",
   "execution_count": 30,
   "metadata": {},
   "outputs": [
    {
     "name": "stderr",
     "output_type": "stream",
     "text": [
      "/home/ptruong/anaconda3/envs/py37/lib/python3.7/site-packages/pandas/core/frame.py:4913: SettingWithCopyWarning: \n",
      "A value is trying to be set on a copy of a slice from a DataFrame\n",
      "\n",
      "See the caveats in the documentation: https://pandas.pydata.org/pandas-docs/stable/user_guide/indexing.html#returning-a-view-versus-a-copy\n",
      "  errors=errors,\n",
      "/home/ptruong/anaconda3/envs/py37/lib/python3.7/site-packages/pandas/util/_decorators.py:311: SettingWithCopyWarning: \n",
      "A value is trying to be set on a copy of a slice from a DataFrame\n",
      "\n",
      "See the caveats in the documentation: https://pandas.pydata.org/pandas-docs/stable/user_guide/indexing.html#returning-a-view-versus-a-copy\n",
      "  return func(*args, **kwargs)\n"
     ]
    }
   ],
   "source": [
    "df[\"seq_length\"] = df.sequence.str.len()\n",
    "df = df[df[\"seq_length\"] > 7]\n",
    "df.drop(\"seq_length\", axis = 1, inplace = True)\n",
    "df.drop_duplicates(inplace=True)\n"
   ]
  },
  {
   "cell_type": "markdown",
   "metadata": {},
   "source": [
    "# Find protein with only one sequence"
   ]
  },
  {
   "cell_type": "code",
   "execution_count": 31,
   "metadata": {},
   "outputs": [
    {
     "data": {
      "text/html": [
       "<div>\n",
       "<style scoped>\n",
       "    .dataframe tbody tr th:only-of-type {\n",
       "        vertical-align: middle;\n",
       "    }\n",
       "\n",
       "    .dataframe tbody tr th {\n",
       "        vertical-align: top;\n",
       "    }\n",
       "\n",
       "    .dataframe thead th {\n",
       "        text-align: right;\n",
       "    }\n",
       "</style>\n",
       "<table border=\"1\" class=\"dataframe\">\n",
       "  <thead>\n",
       "    <tr style=\"text-align: right;\">\n",
       "      <th></th>\n",
       "      <th>protein</th>\n",
       "      <th>decoy</th>\n",
       "      <th>specie</th>\n",
       "    </tr>\n",
       "    <tr>\n",
       "      <th>sequence</th>\n",
       "      <th></th>\n",
       "      <th></th>\n",
       "      <th></th>\n",
       "    </tr>\n",
       "  </thead>\n",
       "  <tbody>\n",
       "    <tr>\n",
       "      <th>PYPLETMLR</th>\n",
       "      <td>12</td>\n",
       "      <td>12</td>\n",
       "      <td>12</td>\n",
       "    </tr>\n",
       "    <tr>\n",
       "      <th>LSLDSALPDR</th>\n",
       "      <td>12</td>\n",
       "      <td>12</td>\n",
       "      <td>12</td>\n",
       "    </tr>\n",
       "    <tr>\n",
       "      <th>LHCMQHWYNLSDGAMEDALYELASMR</th>\n",
       "      <td>12</td>\n",
       "      <td>12</td>\n",
       "      <td>12</td>\n",
       "    </tr>\n",
       "    <tr>\n",
       "      <th>TALNLEYMK</th>\n",
       "      <td>12</td>\n",
       "      <td>12</td>\n",
       "      <td>12</td>\n",
       "    </tr>\n",
       "    <tr>\n",
       "      <th>NDNQLAMLFTLANLFR</th>\n",
       "      <td>12</td>\n",
       "      <td>12</td>\n",
       "      <td>12</td>\n",
       "    </tr>\n",
       "    <tr>\n",
       "      <th>...</th>\n",
       "      <td>...</td>\n",
       "      <td>...</td>\n",
       "      <td>...</td>\n",
       "    </tr>\n",
       "    <tr>\n",
       "      <th>GVPGALSSATEALK</th>\n",
       "      <td>1</td>\n",
       "      <td>1</td>\n",
       "      <td>1</td>\n",
       "    </tr>\n",
       "    <tr>\n",
       "      <th>GVPLLTVLFMSSVMLPLFMAEGTSLDK</th>\n",
       "      <td>1</td>\n",
       "      <td>1</td>\n",
       "      <td>1</td>\n",
       "    </tr>\n",
       "    <tr>\n",
       "      <th>GVPLNSLMLSGALTSLVVLLNYLLPQK</th>\n",
       "      <td>1</td>\n",
       "      <td>1</td>\n",
       "      <td>1</td>\n",
       "    </tr>\n",
       "    <tr>\n",
       "      <th>GVPNYFGAQR</th>\n",
       "      <td>1</td>\n",
       "      <td>1</td>\n",
       "      <td>1</td>\n",
       "    </tr>\n",
       "    <tr>\n",
       "      <th>YYYTFDNSLLFTESLQNTTQLFPR</th>\n",
       "      <td>1</td>\n",
       "      <td>1</td>\n",
       "      <td>1</td>\n",
       "    </tr>\n",
       "  </tbody>\n",
       "</table>\n",
       "<p>61287 rows × 3 columns</p>\n",
       "</div>"
      ],
      "text/plain": [
       "                             protein  decoy  specie\n",
       "sequence                                           \n",
       "PYPLETMLR                         12     12      12\n",
       "LSLDSALPDR                        12     12      12\n",
       "LHCMQHWYNLSDGAMEDALYELASMR        12     12      12\n",
       "TALNLEYMK                         12     12      12\n",
       "NDNQLAMLFTLANLFR                  12     12      12\n",
       "...                              ...    ...     ...\n",
       "GVPGALSSATEALK                     1      1       1\n",
       "GVPLLTVLFMSSVMLPLFMAEGTSLDK        1      1       1\n",
       "GVPLNSLMLSGALTSLVVLLNYLLPQK        1      1       1\n",
       "GVPNYFGAQR                         1      1       1\n",
       "YYYTFDNSLLFTESLQNTTQLFPR           1      1       1\n",
       "\n",
       "[61287 rows x 3 columns]"
      ]
     },
     "execution_count": 31,
     "metadata": {},
     "output_type": "execute_result"
    }
   ],
   "source": [
    "counted_df = df.groupby(\"sequence\").count().sort_values(by = \"protein\", ascending = False)\n",
    "counted_df"
   ]
  },
  {
   "cell_type": "code",
   "execution_count": 32,
   "metadata": {},
   "outputs": [],
   "source": [
    "single_protein_seq = counted_df[counted_df.protein == 1]"
   ]
  },
  {
   "cell_type": "markdown",
   "metadata": {},
   "source": [
    "# investigate if a single protein sequence has proteins containing single sequences."
   ]
  },
  {
   "cell_type": "code",
   "execution_count": 33,
   "metadata": {},
   "outputs": [],
   "source": [
    "df_single_seq = df[df.sequence.isin(single_protein_seq.index)]"
   ]
  },
  {
   "cell_type": "code",
   "execution_count": 34,
   "metadata": {},
   "outputs": [
    {
     "data": {
      "text/plain": [
       "protein    1\n",
       "decoy      1\n",
       "specie     1\n",
       "dtype: int64"
      ]
     },
     "execution_count": 34,
     "metadata": {},
     "output_type": "execute_result"
    }
   ],
   "source": [
    "df_single_seq.groupby(\"sequence\").count().max()"
   ]
  },
  {
   "cell_type": "code",
   "execution_count": 35,
   "metadata": {},
   "outputs": [
    {
     "data": {
      "text/plain": [
       "4350"
      ]
     },
     "execution_count": 35,
     "metadata": {},
     "output_type": "execute_result"
    }
   ],
   "source": [
    "# seems fine, keep these proteins \n",
    "len(df_single_seq.protein.unique())"
   ]
  },
  {
   "cell_type": "code",
   "execution_count": 36,
   "metadata": {},
   "outputs": [
    {
     "data": {
      "text/plain": [
       "4421"
      ]
     },
     "execution_count": 36,
     "metadata": {},
     "output_type": "execute_result"
    }
   ],
   "source": [
    "len(df.protein.unique())"
   ]
  },
  {
   "cell_type": "code",
   "execution_count": 37,
   "metadata": {},
   "outputs": [],
   "source": [
    "keep_list = df_single_seq.protein.unique()"
   ]
  },
  {
   "cell_type": "code",
   "execution_count": 38,
   "metadata": {},
   "outputs": [
    {
     "data": {
      "text/plain": [
       "array(['>sp|A0A385XJK5|YPAB_ECOLI Protein YpaB OS=Escherichia coli (strain K12) OX=83333 GN=ypaB PE=4 SV=1\\n',\n",
       "       '>sp|A0A385XJL2|YGDT_ECOLI Protein YgdT OS=Escherichia coli (strain K12) OX=83333 GN=ygdT PE=4 SV=1\\n',\n",
       "       '>sp|A5A605|YKFM_ECOLI Uncharacterized protein YkfM OS=Escherichia coli (strain K12) OX=83333 GN=ykfM PE=4 SV=1\\n',\n",
       "       ...,\n",
       "       '>P63279ups|UBC9_HUMAN_UPS SUMO-conjugating enzyme UBC9 (Chain 1-158) - Homo sapiens (Human)\\n',\n",
       "       '>O76070ups|SYUG_HUMAN_UPS Gamma-synuclein (Chain 1-127) - Homo sapiens (Human)\\n',\n",
       "       '>P01579ups|IFNG_HUMAN_UPS Interferon Gamma (Chain 23-166) - Homo sapiens (Human)\\n'],\n",
       "      dtype=object)"
      ]
     },
     "execution_count": 38,
     "metadata": {},
     "output_type": "execute_result"
    }
   ],
   "source": [
    "keep_list"
   ]
  },
  {
   "cell_type": "markdown",
   "metadata": {},
   "source": [
    "# Read in both fasta files and compare results.\n",
    "\n",
    "This is the function to check if the protein is in \"keep_list\", if it is in keep it from the original."
   ]
  },
  {
   "cell_type": "code",
   "execution_count": 39,
   "metadata": {},
   "outputs": [],
   "source": [
    "\n",
    "os.chdir(\"/home/ptruong/git/dia_sum\")\n",
    "#filename = \"database/2021-06-07/UP00000625_UP000002311_UP000005640.fasta\"\n",
    "#filename = \"database/2022-05-25_pxd028185/SupplementaryFiles files/libraries and fastas/uniprot_human_25apr2019_yeastENO1.fasta\"\n",
    "#filename = \"database/napedro_3mixed_human_yeast_ecoli_20140403_iRT_reverse.fasta\"\n",
    "\n",
    "filename = \"/home/ptruong/git/dia_sum/database/2021-11-02_PXD026600_ecoli/UP000000625_reviewed_ups1-ups2-sequences_2021-11-02.fasta\"\n",
    "\n",
    "file = open(filename, \"r\")\n",
    "\n",
    "#file_w = open(\"database/2021-09-13_IL_aminoacids/UP00000625_UP000002311_UP000005640_no_shared_peptides_IL_modified.fasta\", \"w\")\n",
    "\n",
    "file_w = open(\"/home/ptruong/git/dia_sum/database/2021-11-02_PXD026600_ecoli/UP000000625_reviewed_ups1-ups2-sequences_2021-11-02_noShared_mod_IL.fasta\", \"w\")\n",
    "\n",
    "\n",
    "\n",
    "for line in file:\n",
    "    if line[0] == \">\":\n",
    "        protein = line \n",
    "        file_w.write(protein)\n",
    "    else:\n",
    "        if protein in keep_list:\n",
    "            sequence = line\n",
    "            file_w.write(sequence)\n",
    "        "
   ]
  },
  {
   "cell_type": "markdown",
   "metadata": {},
   "source": [
    "# Protein database analysis\n",
    "\n",
    "Here we analyse the amount of proteins in each library"
   ]
  },
  {
   "cell_type": "code",
   "execution_count": 5,
   "metadata": {},
   "outputs": [],
   "source": [
    "\n",
    "def read_in_fasta(filename):\n",
    "    file = open(filename, \"r\")\n",
    "\n",
    "    protein_list = []\n",
    "    sequence_list = []\n",
    "    for line in file: \n",
    "        if line[0] == \">\":\n",
    "            protein = line \n",
    "        else:\n",
    "            sequence = line.rstrip()\n",
    "            #sequence_list += split_sequence\n",
    "\n",
    "            #protein_list += [protein for i in range(len(sequence))]\n",
    "            sequence_list.append(sequence)\n",
    "            protein_list.append(protein)\n",
    "\n",
    "    df = pd.DataFrame(np.array([protein_list, sequence_list]).T, columns = [\"protein\", \"sequence\"])\n",
    "    df[\"decoy\"] = df.protein.map(decoy_map)\n",
    "    df[\"specie\"] = df.protein.map(specie_map)\n",
    "    return df\n"
   ]
  },
  {
   "cell_type": "code",
   "execution_count": 10,
   "metadata": {},
   "outputs": [],
   "source": [
    "# filename = \"database/2021-06-07/UP00000625_UP000002311_UP000005640.fasta\"\n",
    "# filename_no_shared = \"database/2021-09-13_IL_aminoacids/UP00000625_UP000002311_UP000005640_no_shared_peptides.fasta\"\n",
    "# filename_no_shared_IL_mod = \"database/2021-09-13_IL_aminoacids/UP00000625_UP000002311_UP000005640_no_shared_peptides_IL_modified.fasta\"\n",
    "\n",
    "filename = \"/home/ptruong/git/dia_sum/database/2022-05-27-decoys-reviewed-contam-UP000005640.fas\"\n",
    "\n",
    "#filename = \"database/2022-05-25_pxd028185/SupplementaryFiles files/libraries and fastas/uniprot_human_25apr2019_yeastENO1.fasta\"\n",
    "filename_no_shared = \"database/2022-05-25_pxd028185/SupplementaryFiles files/libraries and fastas/uniprot_human_25apr2019_yeastENO1_noShared.fasta\"\n",
    "filename_no_shared_IL_mod = \"database/2022-05-25_pxd028185/SupplementaryFiles files/libraries and fastas/uniprot_human_25apr2019_yeastENO1_noShared_IL_modified.fasta\"\n",
    "\n",
    "\n",
    "#filename = \"/home/ptruong/git/dia_sum/database/2021-11-02_PXD026600_ecoli/UP000000625_reviewed_ups1-ups2-sequences_2021-11-02.fasta\"\n",
    "#filename_no_shared = \"/home/ptruong/git/dia_sum/database/2021-11-02_PXD026600_ecoli/UP000000625_reviewed_ups1-ups2-sequences_2021-11-02_noShared.fasta\"\n",
    "#filename_no_shared_IL_mod = \"/home/ptruong/git/dia_sum/database/2021-11-02_PXD026600_ecoli/UP000000625_reviewed_ups1-ups2-sequences_2021-11-02_noShared_mod_IL.fasta\""
   ]
  },
  {
   "cell_type": "code",
   "execution_count": 11,
   "metadata": {},
   "outputs": [],
   "source": [
    "db = read_in_fasta(filename)\n",
    "db_no_shared = read_in_fasta(filename_no_shared)\n",
    "db_no_shared_IL_mod = read_in_fasta(filename_no_shared_IL_mod)"
   ]
  },
  {
   "cell_type": "code",
   "execution_count": 12,
   "metadata": {},
   "outputs": [
    {
     "data": {
      "text/html": [
       "<div>\n",
       "<style scoped>\n",
       "    .dataframe tbody tr th:only-of-type {\n",
       "        vertical-align: middle;\n",
       "    }\n",
       "\n",
       "    .dataframe tbody tr th {\n",
       "        vertical-align: top;\n",
       "    }\n",
       "\n",
       "    .dataframe thead th {\n",
       "        text-align: right;\n",
       "    }\n",
       "</style>\n",
       "<table border=\"1\" class=\"dataframe\">\n",
       "  <thead>\n",
       "    <tr style=\"text-align: right;\">\n",
       "      <th></th>\n",
       "      <th>protein</th>\n",
       "      <th>sequence</th>\n",
       "      <th>decoy</th>\n",
       "      <th>specie</th>\n",
       "    </tr>\n",
       "  </thead>\n",
       "  <tbody>\n",
       "    <tr>\n",
       "      <th>0</th>\n",
       "      <td>&gt;contam_sp|O00762|UBE2C_HUMAN Ubiquitin-conjug...</td>\n",
       "      <td>MASQNRDPAATSVAAARKGAEPSGGAARGPVGKRLQQELMTLMMSG...</td>\n",
       "      <td>False</td>\n",
       "      <td>sp|O00762|UBE2C</td>\n",
       "    </tr>\n",
       "    <tr>\n",
       "      <th>1</th>\n",
       "      <td>&gt;contam_sp|O43790|KRT86_HUMAN Keratin, type II...</td>\n",
       "      <td>MTCGSYCGGRAFSCISACGPRPGRCCITAAPYRGISCYRGLTGGFG...</td>\n",
       "      <td>False</td>\n",
       "      <td>sp|O43790|KRT86</td>\n",
       "    </tr>\n",
       "    <tr>\n",
       "      <th>2</th>\n",
       "      <td>&gt;contam_sp|O76009|KT33A_HUMAN Keratin, type I ...</td>\n",
       "      <td>MSYSCGLPSLSCRTSCSSRPCVPPSCHGCTLPGACNIPANVSNCNW...</td>\n",
       "      <td>False</td>\n",
       "      <td>sp|O76009|KT33A</td>\n",
       "    </tr>\n",
       "    <tr>\n",
       "      <th>3</th>\n",
       "      <td>&gt;contam_sp|O76011|KRT34_HUMAN Keratin, type I ...</td>\n",
       "      <td>MLYAKPPPTINGIKGLQRKERLKPAHIHLQQLTCFSITCSSTMSYS...</td>\n",
       "      <td>False</td>\n",
       "      <td>sp|O76011|KRT34</td>\n",
       "    </tr>\n",
       "    <tr>\n",
       "      <th>4</th>\n",
       "      <td>&gt;contam_sp|O76013|KRT36_HUMAN Keratin, type I ...</td>\n",
       "      <td>MATQTCTPTFSTGSIKGLCGTAGGISRVSSIRSVGSCRVPSLAGAA...</td>\n",
       "      <td>False</td>\n",
       "      <td>sp|O76013|KRT36</td>\n",
       "    </tr>\n",
       "    <tr>\n",
       "      <th>...</th>\n",
       "      <td>...</td>\n",
       "      <td>...</td>\n",
       "      <td>...</td>\n",
       "      <td>...</td>\n",
       "    </tr>\n",
       "    <tr>\n",
       "      <th>40835</th>\n",
       "      <td>&gt;sp|U3KPV4|A3LT2_HUMAN Alpha-1,3-galactosyltra...</td>\n",
       "      <td>MALKEGLRAWKRIFWRQILLTLGLLGLFLYGLPKFRHLEALIPMGV...</td>\n",
       "      <td>False</td>\n",
       "      <td>HUMAN</td>\n",
       "    </tr>\n",
       "    <tr>\n",
       "      <th>40836</th>\n",
       "      <td>&gt;sp|W5XKT8|SACA6_HUMAN Sperm acrosome membrane...</td>\n",
       "      <td>MALLALASAVPSALLALAVFRVPAWACLLCFTTYSERLRICQMFVG...</td>\n",
       "      <td>False</td>\n",
       "      <td>HUMAN</td>\n",
       "    </tr>\n",
       "    <tr>\n",
       "      <th>40837</th>\n",
       "      <td>&gt;sp|W6CW81|PYDC5_HUMAN Pyrin domain-containing...</td>\n",
       "      <td>MESKYKEILLLTSLDNITDEELDRFKCFLPDEFNIATGKLHTLNST...</td>\n",
       "      <td>False</td>\n",
       "      <td>HUMAN</td>\n",
       "    </tr>\n",
       "    <tr>\n",
       "      <th>40838</th>\n",
       "      <td>&gt;sp|X6R8D5|GUCNB_HUMAN Putative uncharacterize...</td>\n",
       "      <td>MGRKEHESPSQPHMCGWEDSQKPSVPSHGPKTPSCKGVKAPHSSRP...</td>\n",
       "      <td>False</td>\n",
       "      <td>HUMAN</td>\n",
       "    </tr>\n",
       "    <tr>\n",
       "      <th>40839</th>\n",
       "      <td>&gt;sp|X6R8R1|ST15B_HUMAN Synaptotagmin-15B OS=Ho...</td>\n",
       "      <td>MGVVLSPHPAPSRREPLAPLAPGTRPGWSPAVSGSSRSALRPSTAG...</td>\n",
       "      <td>False</td>\n",
       "      <td>HUMAN</td>\n",
       "    </tr>\n",
       "  </tbody>\n",
       "</table>\n",
       "<p>40840 rows × 4 columns</p>\n",
       "</div>"
      ],
      "text/plain": [
       "                                                 protein  \\\n",
       "0      >contam_sp|O00762|UBE2C_HUMAN Ubiquitin-conjug...   \n",
       "1      >contam_sp|O43790|KRT86_HUMAN Keratin, type II...   \n",
       "2      >contam_sp|O76009|KT33A_HUMAN Keratin, type I ...   \n",
       "3      >contam_sp|O76011|KRT34_HUMAN Keratin, type I ...   \n",
       "4      >contam_sp|O76013|KRT36_HUMAN Keratin, type I ...   \n",
       "...                                                  ...   \n",
       "40835  >sp|U3KPV4|A3LT2_HUMAN Alpha-1,3-galactosyltra...   \n",
       "40836  >sp|W5XKT8|SACA6_HUMAN Sperm acrosome membrane...   \n",
       "40837  >sp|W6CW81|PYDC5_HUMAN Pyrin domain-containing...   \n",
       "40838  >sp|X6R8D5|GUCNB_HUMAN Putative uncharacterize...   \n",
       "40839  >sp|X6R8R1|ST15B_HUMAN Synaptotagmin-15B OS=Ho...   \n",
       "\n",
       "                                                sequence  decoy  \\\n",
       "0      MASQNRDPAATSVAAARKGAEPSGGAARGPVGKRLQQELMTLMMSG...  False   \n",
       "1      MTCGSYCGGRAFSCISACGPRPGRCCITAAPYRGISCYRGLTGGFG...  False   \n",
       "2      MSYSCGLPSLSCRTSCSSRPCVPPSCHGCTLPGACNIPANVSNCNW...  False   \n",
       "3      MLYAKPPPTINGIKGLQRKERLKPAHIHLQQLTCFSITCSSTMSYS...  False   \n",
       "4      MATQTCTPTFSTGSIKGLCGTAGGISRVSSIRSVGSCRVPSLAGAA...  False   \n",
       "...                                                  ...    ...   \n",
       "40835  MALKEGLRAWKRIFWRQILLTLGLLGLFLYGLPKFRHLEALIPMGV...  False   \n",
       "40836  MALLALASAVPSALLALAVFRVPAWACLLCFTTYSERLRICQMFVG...  False   \n",
       "40837  MESKYKEILLLTSLDNITDEELDRFKCFLPDEFNIATGKLHTLNST...  False   \n",
       "40838  MGRKEHESPSQPHMCGWEDSQKPSVPSHGPKTPSCKGVKAPHSSRP...  False   \n",
       "40839  MGVVLSPHPAPSRREPLAPLAPGTRPGWSPAVSGSSRSALRPSTAG...  False   \n",
       "\n",
       "                specie  \n",
       "0      sp|O00762|UBE2C  \n",
       "1      sp|O43790|KRT86  \n",
       "2      sp|O76009|KT33A  \n",
       "3      sp|O76011|KRT34  \n",
       "4      sp|O76013|KRT36  \n",
       "...                ...  \n",
       "40835            HUMAN  \n",
       "40836            HUMAN  \n",
       "40837            HUMAN  \n",
       "40838            HUMAN  \n",
       "40839            HUMAN  \n",
       "\n",
       "[40840 rows x 4 columns]"
      ]
     },
     "execution_count": 12,
     "metadata": {},
     "output_type": "execute_result"
    }
   ],
   "source": [
    "db"
   ]
  },
  {
   "cell_type": "code",
   "execution_count": 44,
   "metadata": {},
   "outputs": [
    {
     "data": {
      "text/html": [
       "<div>\n",
       "<style scoped>\n",
       "    .dataframe tbody tr th:only-of-type {\n",
       "        vertical-align: middle;\n",
       "    }\n",
       "\n",
       "    .dataframe tbody tr th {\n",
       "        vertical-align: top;\n",
       "    }\n",
       "\n",
       "    .dataframe thead th {\n",
       "        text-align: right;\n",
       "    }\n",
       "</style>\n",
       "<table border=\"1\" class=\"dataframe\">\n",
       "  <thead>\n",
       "    <tr style=\"text-align: right;\">\n",
       "      <th></th>\n",
       "      <th>protein</th>\n",
       "      <th>sequence</th>\n",
       "      <th>decoy</th>\n",
       "      <th>specie</th>\n",
       "    </tr>\n",
       "  </thead>\n",
       "  <tbody>\n",
       "    <tr>\n",
       "      <th>0</th>\n",
       "      <td>&gt;sp|A0A385XJK5|YPAB_ECOLI Protein YpaB OS=Esch...</td>\n",
       "      <td>MTLLQVHNFVDNSGRKKWLSRTLGQTRCPGKSMGREKFVKNNCSAIS</td>\n",
       "      <td>False</td>\n",
       "      <td>ECOLI</td>\n",
       "    </tr>\n",
       "    <tr>\n",
       "      <th>1</th>\n",
       "      <td>&gt;sp|A0A385XJL2|YGDT_ECOLI Protein YgdT OS=Esch...</td>\n",
       "      <td>MLSTESWDNCEKPPLLFPFTALTCDETPVFSGSVLNLVAHSVDKYGIG</td>\n",
       "      <td>False</td>\n",
       "      <td>ECOLI</td>\n",
       "    </tr>\n",
       "    <tr>\n",
       "      <th>2</th>\n",
       "      <td>&gt;sp|A5A605|YKFM_ECOLI Uncharacterized protein ...</td>\n",
       "      <td>MRLHVKLKEFLSMFFMAILFFPAFNASLFFTGVKPLYSIIKCSTEI...</td>\n",
       "      <td>False</td>\n",
       "      <td>ECOLI</td>\n",
       "    </tr>\n",
       "    <tr>\n",
       "      <th>3</th>\n",
       "      <td>&gt;sp|A5A611|YMGI_ECOLI Uncharacterized protein ...</td>\n",
       "      <td>MSYSSFKIILIHVKNIIPIITATLILNYLNNSERSLVKQILIEDEI...</td>\n",
       "      <td>False</td>\n",
       "      <td>ECOLI</td>\n",
       "    </tr>\n",
       "    <tr>\n",
       "      <th>4</th>\n",
       "      <td>&gt;sp|A5A612|YMGJ_ECOLI Uncharacterized protein ...</td>\n",
       "      <td>MSRRYSSATITLVILFCRRPHCRKISVRQYYQKRVIFYPTTLQRTA...</td>\n",
       "      <td>False</td>\n",
       "      <td>ECOLI</td>\n",
       "    </tr>\n",
       "    <tr>\n",
       "      <th>...</th>\n",
       "      <td>...</td>\n",
       "      <td>...</td>\n",
       "      <td>...</td>\n",
       "      <td>...</td>\n",
       "    </tr>\n",
       "    <tr>\n",
       "      <th>4345</th>\n",
       "      <td>&gt;P01127ups|PDGFB_HUMAN_UPS Platelet-derived gr...</td>\n",
       "      <td>SLGSLTIAEPAMIAECKTRTEVFEISRRLIDRTNANFLVWPPCVEV...</td>\n",
       "      <td>False</td>\n",
       "      <td>HUMAN</td>\n",
       "    </tr>\n",
       "    <tr>\n",
       "      <th>4346</th>\n",
       "      <td>&gt;P68871ups|HBB_HUMAN_UPS Hemoglobin subunit be...</td>\n",
       "      <td>VHLTPEEKSAVTALWGKVNVDEVGGEALGRLLVVYPWTQRFFESFG...</td>\n",
       "      <td>False</td>\n",
       "      <td>HUMAN</td>\n",
       "    </tr>\n",
       "    <tr>\n",
       "      <th>4347</th>\n",
       "      <td>&gt;P63279ups|UBC9_HUMAN_UPS SUMO-conjugating enz...</td>\n",
       "      <td>MSGIALSRLAQERKAWRKDHPFGFVAVPTKNPDGTMNLMNWECAIP...</td>\n",
       "      <td>False</td>\n",
       "      <td>HUMAN</td>\n",
       "    </tr>\n",
       "    <tr>\n",
       "      <th>4348</th>\n",
       "      <td>&gt;O76070ups|SYUG_HUMAN_UPS Gamma-synuclein (Cha...</td>\n",
       "      <td>MGSSHHHHHHSSGLVPRGSHMDVFKKGFSIAKEGVVGAVEKTKQGV...</td>\n",
       "      <td>False</td>\n",
       "      <td>HUMAN</td>\n",
       "    </tr>\n",
       "    <tr>\n",
       "      <th>4349</th>\n",
       "      <td>&gt;P01579ups|IFNG_HUMAN_UPS Interferon Gamma (Ch...</td>\n",
       "      <td>QDPYVKEAENLKKYFNAGHSDVADNGTLFLGILKNWKEESDRKIMQ...</td>\n",
       "      <td>False</td>\n",
       "      <td>HUMAN</td>\n",
       "    </tr>\n",
       "  </tbody>\n",
       "</table>\n",
       "<p>4350 rows × 4 columns</p>\n",
       "</div>"
      ],
      "text/plain": [
       "                                                protein  \\\n",
       "0     >sp|A0A385XJK5|YPAB_ECOLI Protein YpaB OS=Esch...   \n",
       "1     >sp|A0A385XJL2|YGDT_ECOLI Protein YgdT OS=Esch...   \n",
       "2     >sp|A5A605|YKFM_ECOLI Uncharacterized protein ...   \n",
       "3     >sp|A5A611|YMGI_ECOLI Uncharacterized protein ...   \n",
       "4     >sp|A5A612|YMGJ_ECOLI Uncharacterized protein ...   \n",
       "...                                                 ...   \n",
       "4345  >P01127ups|PDGFB_HUMAN_UPS Platelet-derived gr...   \n",
       "4346  >P68871ups|HBB_HUMAN_UPS Hemoglobin subunit be...   \n",
       "4347  >P63279ups|UBC9_HUMAN_UPS SUMO-conjugating enz...   \n",
       "4348  >O76070ups|SYUG_HUMAN_UPS Gamma-synuclein (Cha...   \n",
       "4349  >P01579ups|IFNG_HUMAN_UPS Interferon Gamma (Ch...   \n",
       "\n",
       "                                               sequence  decoy specie  \n",
       "0       MTLLQVHNFVDNSGRKKWLSRTLGQTRCPGKSMGREKFVKNNCSAIS  False  ECOLI  \n",
       "1      MLSTESWDNCEKPPLLFPFTALTCDETPVFSGSVLNLVAHSVDKYGIG  False  ECOLI  \n",
       "2     MRLHVKLKEFLSMFFMAILFFPAFNASLFFTGVKPLYSIIKCSTEI...  False  ECOLI  \n",
       "3     MSYSSFKIILIHVKNIIPIITATLILNYLNNSERSLVKQILIEDEI...  False  ECOLI  \n",
       "4     MSRRYSSATITLVILFCRRPHCRKISVRQYYQKRVIFYPTTLQRTA...  False  ECOLI  \n",
       "...                                                 ...    ...    ...  \n",
       "4345  SLGSLTIAEPAMIAECKTRTEVFEISRRLIDRTNANFLVWPPCVEV...  False  HUMAN  \n",
       "4346  VHLTPEEKSAVTALWGKVNVDEVGGEALGRLLVVYPWTQRFFESFG...  False  HUMAN  \n",
       "4347  MSGIALSRLAQERKAWRKDHPFGFVAVPTKNPDGTMNLMNWECAIP...  False  HUMAN  \n",
       "4348  MGSSHHHHHHSSGLVPRGSHMDVFKKGFSIAKEGVVGAVEKTKQGV...  False  HUMAN  \n",
       "4349  QDPYVKEAENLKKYFNAGHSDVADNGTLFLGILKNWKEESDRKIMQ...  False  HUMAN  \n",
       "\n",
       "[4350 rows x 4 columns]"
      ]
     },
     "execution_count": 44,
     "metadata": {},
     "output_type": "execute_result"
    }
   ],
   "source": [
    "db_no_shared"
   ]
  },
  {
   "cell_type": "code",
   "execution_count": 45,
   "metadata": {},
   "outputs": [
    {
     "data": {
      "text/html": [
       "<div>\n",
       "<style scoped>\n",
       "    .dataframe tbody tr th:only-of-type {\n",
       "        vertical-align: middle;\n",
       "    }\n",
       "\n",
       "    .dataframe tbody tr th {\n",
       "        vertical-align: top;\n",
       "    }\n",
       "\n",
       "    .dataframe thead th {\n",
       "        text-align: right;\n",
       "    }\n",
       "</style>\n",
       "<table border=\"1\" class=\"dataframe\">\n",
       "  <thead>\n",
       "    <tr style=\"text-align: right;\">\n",
       "      <th></th>\n",
       "      <th>protein</th>\n",
       "      <th>sequence</th>\n",
       "      <th>decoy</th>\n",
       "      <th>specie</th>\n",
       "    </tr>\n",
       "  </thead>\n",
       "  <tbody>\n",
       "    <tr>\n",
       "      <th>0</th>\n",
       "      <td>&gt;sp|A0A385XJK5|YPAB_ECOLI Protein YpaB OS=Esch...</td>\n",
       "      <td>MTLLQVHNFVDNSGRKKWLSRTLGQTRCPGKSMGREKFVKNNCSAIS</td>\n",
       "      <td>False</td>\n",
       "      <td>ECOLI</td>\n",
       "    </tr>\n",
       "    <tr>\n",
       "      <th>1</th>\n",
       "      <td>&gt;sp|A0A385XJL2|YGDT_ECOLI Protein YgdT OS=Esch...</td>\n",
       "      <td>MLSTESWDNCEKPPLLFPFTALTCDETPVFSGSVLNLVAHSVDKYGIG</td>\n",
       "      <td>False</td>\n",
       "      <td>ECOLI</td>\n",
       "    </tr>\n",
       "    <tr>\n",
       "      <th>2</th>\n",
       "      <td>&gt;sp|A5A605|YKFM_ECOLI Uncharacterized protein ...</td>\n",
       "      <td>MRLHVKLKEFLSMFFMAILFFPAFNASLFFTGVKPLYSIIKCSTEI...</td>\n",
       "      <td>False</td>\n",
       "      <td>ECOLI</td>\n",
       "    </tr>\n",
       "    <tr>\n",
       "      <th>3</th>\n",
       "      <td>&gt;sp|A5A611|YMGI_ECOLI Uncharacterized protein ...</td>\n",
       "      <td>MSYSSFKIILIHVKNIIPIITATLILNYLNNSERSLVKQILIEDEI...</td>\n",
       "      <td>False</td>\n",
       "      <td>ECOLI</td>\n",
       "    </tr>\n",
       "    <tr>\n",
       "      <th>4</th>\n",
       "      <td>&gt;sp|A5A612|YMGJ_ECOLI Uncharacterized protein ...</td>\n",
       "      <td>MSRRYSSATITLVILFCRRPHCRKISVRQYYQKRVIFYPTTLQRTA...</td>\n",
       "      <td>False</td>\n",
       "      <td>ECOLI</td>\n",
       "    </tr>\n",
       "    <tr>\n",
       "      <th>...</th>\n",
       "      <td>...</td>\n",
       "      <td>...</td>\n",
       "      <td>...</td>\n",
       "      <td>...</td>\n",
       "    </tr>\n",
       "    <tr>\n",
       "      <th>4337</th>\n",
       "      <td>&gt;P63165ups|SUMO1_HUMAN_UPS Small ubiquitin-rel...</td>\n",
       "      <td>MSPILGYWKIKGLVQPTRLLLEYLEEKYEEHLYERDEGDKWRNKKF...</td>\n",
       "      <td>False</td>\n",
       "      <td>HUMAN</td>\n",
       "    </tr>\n",
       "    <tr>\n",
       "      <th>4338</th>\n",
       "      <td>&gt;P51965ups|UB2E1_HUMAN_UPS Ubiquitin-conjugati...</td>\n",
       "      <td>HHHHHHMSDDDSRASTSSSSSSSSNQQTEKETNTPKKKESKVSMSK...</td>\n",
       "      <td>False</td>\n",
       "      <td>HUMAN</td>\n",
       "    </tr>\n",
       "    <tr>\n",
       "      <th>4339</th>\n",
       "      <td>&gt;P12081ups|SYHC_HUMAN_UPS Histidyl-tRNA synthe...</td>\n",
       "      <td>MAERAALEELVKLQGERVRGLKQQKASAELIEEEVAKLLKLKAQLG...</td>\n",
       "      <td>False</td>\n",
       "      <td>HUMAN</td>\n",
       "    </tr>\n",
       "    <tr>\n",
       "      <th>4340</th>\n",
       "      <td>&gt;P99999ups|CYC_HUMAN_UPS Cytochrome c (Chain 2...</td>\n",
       "      <td>GDVEKGKKIFIMKCSQCHTVEKGGKHKTGPNLHGLFGRKTGQAPGY...</td>\n",
       "      <td>False</td>\n",
       "      <td>HUMAN</td>\n",
       "    </tr>\n",
       "    <tr>\n",
       "      <th>4341</th>\n",
       "      <td>&gt;P02787ups|TRFE_HUMAN_UPS Serotransferrin (Cha...</td>\n",
       "      <td>VPDKTVRWCAVSEHEATKCQSFRDHMKSVIPSDGPSVACVKKASYL...</td>\n",
       "      <td>False</td>\n",
       "      <td>HUMAN</td>\n",
       "    </tr>\n",
       "  </tbody>\n",
       "</table>\n",
       "<p>4342 rows × 4 columns</p>\n",
       "</div>"
      ],
      "text/plain": [
       "                                                protein  \\\n",
       "0     >sp|A0A385XJK5|YPAB_ECOLI Protein YpaB OS=Esch...   \n",
       "1     >sp|A0A385XJL2|YGDT_ECOLI Protein YgdT OS=Esch...   \n",
       "2     >sp|A5A605|YKFM_ECOLI Uncharacterized protein ...   \n",
       "3     >sp|A5A611|YMGI_ECOLI Uncharacterized protein ...   \n",
       "4     >sp|A5A612|YMGJ_ECOLI Uncharacterized protein ...   \n",
       "...                                                 ...   \n",
       "4337  >P63165ups|SUMO1_HUMAN_UPS Small ubiquitin-rel...   \n",
       "4338  >P51965ups|UB2E1_HUMAN_UPS Ubiquitin-conjugati...   \n",
       "4339  >P12081ups|SYHC_HUMAN_UPS Histidyl-tRNA synthe...   \n",
       "4340  >P99999ups|CYC_HUMAN_UPS Cytochrome c (Chain 2...   \n",
       "4341  >P02787ups|TRFE_HUMAN_UPS Serotransferrin (Cha...   \n",
       "\n",
       "                                               sequence  decoy specie  \n",
       "0       MTLLQVHNFVDNSGRKKWLSRTLGQTRCPGKSMGREKFVKNNCSAIS  False  ECOLI  \n",
       "1      MLSTESWDNCEKPPLLFPFTALTCDETPVFSGSVLNLVAHSVDKYGIG  False  ECOLI  \n",
       "2     MRLHVKLKEFLSMFFMAILFFPAFNASLFFTGVKPLYSIIKCSTEI...  False  ECOLI  \n",
       "3     MSYSSFKIILIHVKNIIPIITATLILNYLNNSERSLVKQILIEDEI...  False  ECOLI  \n",
       "4     MSRRYSSATITLVILFCRRPHCRKISVRQYYQKRVIFYPTTLQRTA...  False  ECOLI  \n",
       "...                                                 ...    ...    ...  \n",
       "4337  MSPILGYWKIKGLVQPTRLLLEYLEEKYEEHLYERDEGDKWRNKKF...  False  HUMAN  \n",
       "4338  HHHHHHMSDDDSRASTSSSSSSSSNQQTEKETNTPKKKESKVSMSK...  False  HUMAN  \n",
       "4339  MAERAALEELVKLQGERVRGLKQQKASAELIEEEVAKLLKLKAQLG...  False  HUMAN  \n",
       "4340  GDVEKGKKIFIMKCSQCHTVEKGGKHKTGPNLHGLFGRKTGQAPGY...  False  HUMAN  \n",
       "4341  VPDKTVRWCAVSEHEATKCQSFRDHMKSVIPSDGPSVACVKKASYL...  False  HUMAN  \n",
       "\n",
       "[4342 rows x 4 columns]"
      ]
     },
     "execution_count": 45,
     "metadata": {},
     "output_type": "execute_result"
    }
   ],
   "source": [
    "db_no_shared_IL_mod"
   ]
  },
  {
   "cell_type": "code",
   "execution_count": 11,
   "metadata": {},
   "outputs": [],
   "source": [
    "\n",
    "def print_db_proteins(db):\n",
    "    n_protein = len(db.protein.unique())\n",
    "    n_protein_ecoli = len(db[db[\"specie\"] == \"ECOLI\"].protein.unique())\n",
    "    n_protein_human = len(db[db[\"specie\"] == \"HUMAN\"].protein.unique())\n",
    "    n_protein_yeast = len(db[db[\"specie\"] == \"YEAST\"].protein.unique())\n",
    "\n",
    "    print(f\"All proteins: {n_protein}\")\n",
    "    print(f\"ECOLI proteins: {n_protein_ecoli}\")\n",
    "    print(f\"HUMAN proteins: {n_protein_human}\")\n",
    "    print(f\"YEAST protein: {n_protein_yeast}\")\n",
    "\n"
   ]
  },
  {
   "cell_type": "code",
   "execution_count": 12,
   "metadata": {},
   "outputs": [
    {
     "name": "stdout",
     "output_type": "stream",
     "text": [
      "Unfiltered db:\n",
      "All proteins: 20416\n",
      "ECOLI proteins: 0\n",
      "HUMAN proteins: 20415\n",
      "YEAST protein: 1\n"
     ]
    }
   ],
   "source": [
    "print(\"Unfiltered db:\")\n",
    "print_db_proteins(db)"
   ]
  },
  {
   "cell_type": "code",
   "execution_count": 48,
   "metadata": {},
   "outputs": [
    {
     "name": "stdout",
     "output_type": "stream",
     "text": [
      "No shared:\n",
      "All proteins: 4350\n",
      "ECOLI proteins: 4302\n",
      "HUMAN proteins: 48\n",
      "YEAST protein: 0\n"
     ]
    }
   ],
   "source": [
    "print(\"No shared:\")\n",
    "print_db_proteins(db_no_shared)"
   ]
  },
  {
   "cell_type": "code",
   "execution_count": 49,
   "metadata": {},
   "outputs": [
    {
     "name": "stdout",
     "output_type": "stream",
     "text": [
      "No shared IL modified:\n",
      "All proteins: 4342\n",
      "ECOLI proteins: 4302\n",
      "HUMAN proteins: 40\n",
      "YEAST protein: 0\n"
     ]
    }
   ],
   "source": [
    "print(\"No shared IL modified:\")\n",
    "print_db_proteins(db_no_shared_IL_mod)"
   ]
  },
  {
   "cell_type": "code",
   "execution_count": 13,
   "metadata": {},
   "outputs": [],
   "source": [
    "def get_db_proteins(db):\n",
    "    n_protein = len(db.protein.unique())\n",
    "    n_protein_ecoli = len(db[db[\"specie\"] == \"ECOLI\"].protein.unique())\n",
    "    n_protein_human = len(db[db[\"specie\"] == \"HUMAN\"].protein.unique())\n",
    "    n_protein_yeast = len(db[db[\"specie\"] == \"YEAST\"].protein.unique())\n",
    "    return n_protein, n_protein_ecoli, n_protein_human, n_protein_yeast\n"
   ]
  },
  {
   "cell_type": "code",
   "execution_count": 14,
   "metadata": {},
   "outputs": [],
   "source": [
    "db_stats = pd.DataFrame([list(get_db_proteins(db)), list(get_db_proteins(db_no_shared)), list(get_db_proteins(db_no_shared_IL_mod))],\n",
    "            index = [\"Unfiltered\", \"No_shared\", \"No_shared_IL_mod\"],\n",
    "            columns = [\"all\", \"ecoli\", \"human\", \"yeast\"]).T"
   ]
  },
  {
   "cell_type": "code",
   "execution_count": 15,
   "metadata": {},
   "outputs": [
    {
     "data": {
      "text/html": [
       "<div>\n",
       "<style scoped>\n",
       "    .dataframe tbody tr th:only-of-type {\n",
       "        vertical-align: middle;\n",
       "    }\n",
       "\n",
       "    .dataframe tbody tr th {\n",
       "        vertical-align: top;\n",
       "    }\n",
       "\n",
       "    .dataframe thead th {\n",
       "        text-align: right;\n",
       "    }\n",
       "</style>\n",
       "<table border=\"1\" class=\"dataframe\">\n",
       "  <thead>\n",
       "    <tr style=\"text-align: right;\">\n",
       "      <th></th>\n",
       "      <th>Unfiltered</th>\n",
       "      <th>No_shared</th>\n",
       "      <th>No_shared_IL_mod</th>\n",
       "    </tr>\n",
       "  </thead>\n",
       "  <tbody>\n",
       "    <tr>\n",
       "      <th>all</th>\n",
       "      <td>40840</td>\n",
       "      <td>20113</td>\n",
       "      <td>20111</td>\n",
       "    </tr>\n",
       "    <tr>\n",
       "      <th>ecoli</th>\n",
       "      <td>0</td>\n",
       "      <td>0</td>\n",
       "      <td>0</td>\n",
       "    </tr>\n",
       "    <tr>\n",
       "      <th>human</th>\n",
       "      <td>20304</td>\n",
       "      <td>20112</td>\n",
       "      <td>20110</td>\n",
       "    </tr>\n",
       "    <tr>\n",
       "      <th>yeast</th>\n",
       "      <td>0</td>\n",
       "      <td>1</td>\n",
       "      <td>1</td>\n",
       "    </tr>\n",
       "  </tbody>\n",
       "</table>\n",
       "</div>"
      ],
      "text/plain": [
       "       Unfiltered  No_shared  No_shared_IL_mod\n",
       "all         40840      20113             20111\n",
       "ecoli           0          0                 0\n",
       "human       20304      20112             20110\n",
       "yeast           0          1                 1"
      ]
     },
     "execution_count": 15,
     "metadata": {},
     "output_type": "execute_result"
    }
   ],
   "source": [
    "db_stats"
   ]
  },
  {
   "cell_type": "code",
   "execution_count": 19,
   "metadata": {},
   "outputs": [
    {
     "data": {
      "text/plain": [
       "array(['>sp|P00924|ENO1_YEAST Enolase 1 OS=Saccharomyces cerevisiae (strain ATCC 204508 / S288c) OX=559292 GN=ENO1 PE=1 SV=3\\n'],\n",
       "      dtype=object)"
      ]
     },
     "execution_count": 19,
     "metadata": {},
     "output_type": "execute_result"
    }
   ],
   "source": [
    "db_no_shared[db_no_shared.specie == \"YEAST\"].protein.unique()"
   ]
  }
 ],
 "metadata": {
  "kernelspec": {
   "display_name": "Python [conda env:py37]",
   "language": "python",
   "name": "conda-env-py37-py"
  },
  "language_info": {
   "codemirror_mode": {
    "name": "ipython",
    "version": 3
   },
   "file_extension": ".py",
   "mimetype": "text/x-python",
   "name": "python",
   "nbconvert_exporter": "python",
   "pygments_lexer": "ipython3",
   "version": "3.7.13"
  }
 },
 "nbformat": 4,
 "nbformat_minor": 4
}
