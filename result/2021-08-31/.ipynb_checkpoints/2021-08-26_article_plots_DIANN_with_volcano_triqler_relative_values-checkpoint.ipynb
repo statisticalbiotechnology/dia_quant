{
 "cells": [
  {
   "cell_type": "code",
   "execution_count": 1,
   "metadata": {},
   "outputs": [],
   "source": [
    "import warnings\n",
    "warnings.simplefilter(action='ignore', category=FutureWarning)"
   ]
  },
  {
   "cell_type": "code",
   "execution_count": 2,
   "metadata": {},
   "outputs": [],
   "source": [
    "fcs =  [round(i*0.04,2) for i in range(20)]\n"
   ]
  },
  {
   "cell_type": "code",
   "execution_count": 3,
   "metadata": {},
   "outputs": [],
   "source": [
    "\n",
    "import os \n",
    "import pandas as pd\n",
    "import numpy as np\n",
    "# git \n",
    "os.chdir(\"/home/ptruong/git/dia_sum/scripts/PXD002952\")\n",
    "from triqler_output_to_df import parse_triqler\n",
    "from q_value import qvalues\n",
    "\n",
    "\n",
    "# db\n",
    "#from get_protein_specie_map_from_fasta import fasta_to_protein_specie_map\n",
    "os.chdir(\"/home/ptruong/git/dia_sum/database\")\n",
    "#protein_specie_map = fasta_to_protein_specie_map(\"2021-04-27-decoys-reviewed-contam-UP000005640-UP000002311-UP000000625.fas\")\n",
    "#protein_specie_map = protein_specie_map.set_index(\"protein\").T.to_dict()\n",
    "# MSFragger \n",
    "#os.chdir(\"/hdd_14T/data/PXD002952/res_20210530_DIAUmpire/MSFragger\")\n",
    "os.chdir(\"/hdd_14T/data/PXD002952/20210614_dataset/diaumpire_spectral_lib_20210706/MSFragger_20210707/diann_20210811\")\n"
   ]
  },
  {
   "cell_type": "code",
   "execution_count": 4,
   "metadata": {},
   "outputs": [],
   "source": [
    "# filename has different formatting, we need to change number or implement regex.\n",
    "experiment_id_mapper = lambda x: x.split(\"_\")[5]\n",
    "sample_id_mapper = lambda x: x.split(\"_\")[8] #hye124 \n",
    "specie_mapper = lambda x: x.split(\"_\")[-1]\n",
    "def decoy_mapper(x):\n",
    "    if x.split(\"_\")[0] == \"DECOY\":\n",
    "        return True\n",
    "    else:\n",
    "        return False"
   ]
  },
  {
   "cell_type": "code",
   "execution_count": 5,
   "metadata": {},
   "outputs": [],
   "source": [
    "df = pd.read_csv(\"report.tsv\", sep = \"\\t\")\n",
    "triq = pd.read_csv(\"triqler_input_diann_searchScore_Qvalue.csv\", sep = \"\\t\")                      \n",
    "\n"
   ]
  },
  {
   "cell_type": "code",
   "execution_count": 6,
   "metadata": {},
   "outputs": [
    {
     "name": "stderr",
     "output_type": "stream",
     "text": [
      "/home/ptruong/anaconda3/envs/py37/lib/python3.7/site-packages/pandas/core/generic.py:5491: SettingWithCopyWarning: \n",
      "A value is trying to be set on a copy of a slice from a DataFrame.\n",
      "Try using .loc[row_indexer,col_indexer] = value instead\n",
      "\n",
      "See the caveats in the documentation: https://pandas.pydata.org/pandas-docs/stable/user_guide/indexing.html#returning-a-view-versus-a-copy\n",
      "  self[name] = value\n"
     ]
    },
    {
     "name": "stdout",
     "output_type": "stream",
     "text": [
      "run : 002-Pedro - condition : [1]\n",
      "Unique peptides detected: 21036\n",
      "Unique proteins detected: 3377\n",
      "\n"
     ]
    },
    {
     "name": "stderr",
     "output_type": "stream",
     "text": [
      "/home/ptruong/anaconda3/envs/py37/lib/python3.7/site-packages/pandas/core/generic.py:5491: SettingWithCopyWarning: \n",
      "A value is trying to be set on a copy of a slice from a DataFrame.\n",
      "Try using .loc[row_indexer,col_indexer] = value instead\n",
      "\n",
      "See the caveats in the documentation: https://pandas.pydata.org/pandas-docs/stable/user_guide/indexing.html#returning-a-view-versus-a-copy\n",
      "  self[name] = value\n"
     ]
    },
    {
     "name": "stdout",
     "output_type": "stream",
     "text": [
      "run : 003-Pedro - condition : [2]\n",
      "Unique peptides detected: 21243\n",
      "Unique proteins detected: 3358\n",
      "\n"
     ]
    },
    {
     "name": "stderr",
     "output_type": "stream",
     "text": [
      "/home/ptruong/anaconda3/envs/py37/lib/python3.7/site-packages/pandas/core/generic.py:5491: SettingWithCopyWarning: \n",
      "A value is trying to be set on a copy of a slice from a DataFrame.\n",
      "Try using .loc[row_indexer,col_indexer] = value instead\n",
      "\n",
      "See the caveats in the documentation: https://pandas.pydata.org/pandas-docs/stable/user_guide/indexing.html#returning-a-view-versus-a-copy\n",
      "  self[name] = value\n"
     ]
    },
    {
     "name": "stdout",
     "output_type": "stream",
     "text": [
      "run : 004-Pedro - condition : [1]\n",
      "Unique peptides detected: 20783\n",
      "Unique proteins detected: 3350\n",
      "\n"
     ]
    },
    {
     "name": "stderr",
     "output_type": "stream",
     "text": [
      "/home/ptruong/anaconda3/envs/py37/lib/python3.7/site-packages/pandas/core/generic.py:5491: SettingWithCopyWarning: \n",
      "A value is trying to be set on a copy of a slice from a DataFrame.\n",
      "Try using .loc[row_indexer,col_indexer] = value instead\n",
      "\n",
      "See the caveats in the documentation: https://pandas.pydata.org/pandas-docs/stable/user_guide/indexing.html#returning-a-view-versus-a-copy\n",
      "  self[name] = value\n"
     ]
    },
    {
     "name": "stdout",
     "output_type": "stream",
     "text": [
      "run : 005-Pedro - condition : [2]\n",
      "Unique peptides detected: 21325\n",
      "Unique proteins detected: 3381\n",
      "\n"
     ]
    },
    {
     "name": "stderr",
     "output_type": "stream",
     "text": [
      "/home/ptruong/anaconda3/envs/py37/lib/python3.7/site-packages/pandas/core/generic.py:5491: SettingWithCopyWarning: \n",
      "A value is trying to be set on a copy of a slice from a DataFrame.\n",
      "Try using .loc[row_indexer,col_indexer] = value instead\n",
      "\n",
      "See the caveats in the documentation: https://pandas.pydata.org/pandas-docs/stable/user_guide/indexing.html#returning-a-view-versus-a-copy\n",
      "  self[name] = value\n"
     ]
    },
    {
     "name": "stdout",
     "output_type": "stream",
     "text": [
      "run : 006-Pedro - condition : [1]\n",
      "Unique peptides detected: 21040\n",
      "Unique proteins detected: 3368\n",
      "\n"
     ]
    },
    {
     "name": "stderr",
     "output_type": "stream",
     "text": [
      "/home/ptruong/anaconda3/envs/py37/lib/python3.7/site-packages/pandas/core/generic.py:5491: SettingWithCopyWarning: \n",
      "A value is trying to be set on a copy of a slice from a DataFrame.\n",
      "Try using .loc[row_indexer,col_indexer] = value instead\n",
      "\n",
      "See the caveats in the documentation: https://pandas.pydata.org/pandas-docs/stable/user_guide/indexing.html#returning-a-view-versus-a-copy\n",
      "  self[name] = value\n"
     ]
    },
    {
     "name": "stdout",
     "output_type": "stream",
     "text": [
      "run : 007-Pedro - condition : [2]\n",
      "Unique peptides detected: 21248\n",
      "Unique proteins detected: 3356\n",
      "\n"
     ]
    }
   ],
   "source": [
    "\n",
    "def compute_triqler_top3_submodule(run):\n",
    "    triq_run = triq[triq.run == run]   \n",
    "    triq_run.searchScore = np.e**(-1 * triq_run.searchScore) #re-convert searchScore, because our triqler_input has -np.log(-Q.Value) from diann result.tsv as searchScore\n",
    "    triq_run = triq_run[triq_run[\"searchScore\"] < 0.01]\n",
    "    \n",
    "    def triqler_top3(triq_run):\n",
    "        res = triq_run.groupby(\"proteins\")[\"intensity\"].apply(lambda x: x.nlargest(3).mean() if len(x.nlargest(3)) >= 2 else np.nan).reset_index()\n",
    "        return res\n",
    "    \n",
    "    def triqler_printout_unique_peptides_proteins(run):\n",
    "        #triq_run = triq[triq.run == run]\n",
    "        #print(len(triq_run[triq_run[\"searchScore\"] < 0.01].peptide.unique()))\n",
    "        condition = triq_run.condition.unique()\n",
    "        print(f\"run : {run} - condition : {condition}\")\n",
    "        print(f\"Unique peptides detected: {len(triq_run.peptide.unique())}\")\n",
    "        print(f\"Unique proteins detected: {len(triq_run.proteins.unique())}\")\n",
    "        print()\n",
    "    \n",
    "    triqler_printout_unique_peptides_proteins((run))\n",
    "    \n",
    "    res = triqler_top3(triq_run)\n",
    "    #def remove_decoy_tag_protein(protein):\n",
    "    #    if protein.split(\"_\")[0] == \"DECOY\":\n",
    "    #        return protein.split(\"_\")[1]\n",
    "    #    else: return protein.split(\"_\")[0]\n",
    "    \n",
    "    #res[\"proteins_nonTagged\"] = res.proteins.map(remove_decoy_tag_protein)\n",
    "    #res[\"specie\"] = res.proteins_nonTagged.map(protein_specie_map)\n",
    "    experiment_id = triq_run.run.unique()[0]\n",
    "    sample_id = triq_run.condition.unique()[0]\n",
    "    #res[\"ProteinName\"] = res[\"proteins\"]\n",
    "    midx = pd.MultiIndex(levels = [[sample_id],[experiment_id]], codes = [[0],[0]], names = [\"sample_id\", \"experiment_id\"])\n",
    "    #res = res.set_index([\"specie\", \"ProteinName\"])\n",
    "    #res = res.drop([\"proteins\", \"proteins_nonTagged\"], axis = 1)\n",
    "    df = pd.DataFrame(res.values)\n",
    "    \n",
    "    specie_map = lambda x: x.split(\"_\")[-1]\n",
    "    protein_map = lambda x: x.split(\"_\")[-2]\n",
    "    res[\"specie\"] = res.proteins.map(specie_map)\n",
    "    res[\"ProteinName\"] = res.proteins\n",
    "    res = res.drop([\"proteins\"], axis = 1)\n",
    "    res = res.set_index([\"specie\", \"ProteinName\"])\n",
    "    df = pd.DataFrame(res.values, columns = midx, index = res.index)\n",
    "    return df\n",
    "#df = compute_triqler_top3_submodule(run)\n",
    "\n",
    "dfs = []\n",
    "for run in triq.run.unique():\n",
    "    dfs.append(compute_triqler_top3_submodule(run))\n",
    "     \n",
    "df = pd.concat(dfs, axis = 1)\n",
    "df # Check why we have more species than in the fasta??? Is this because of how we build the spectral library?\n",
    "df = df[df.index.get_level_values(\"specie\").isin([\"HUMAN\", \"ECOLI\", \"YEAST\"])]\n",
    "\n",
    "#df[df.index.get_level_values(\"specie\").isin([\"HUMAN\"])]\n",
    "#df[df.index.get_level_values(\"specie\").isin([\"ECOLI\"])]\n",
    "#df[df.index.get_level_values(\"specie\").isin([\"YEAST\"])]\n",
    "\n",
    "df = pd.concat(dfs, axis = 1)\n",
    "\n",
    "\n",
    "\n",
    "A = df[df.iloc[:, df.columns.get_level_values(\"sample_id\") == 1].isna().sum(axis=1)<2]\n",
    "A = A.iloc[:,A.columns.get_level_values(\"sample_id\") == 1]\n",
    "#A = np.log2(A)\n",
    "B = df[df.iloc[:, df.columns.get_level_values(\"sample_id\") == 2].isna().sum(axis=1)<2]\n",
    "B = B.iloc[:,B.columns.get_level_values(\"sample_id\") == 2]\n",
    "#B = np.log2(B)\n",
    "\n",
    "# Find overlapping proteins\n",
    "overlapping_proteins = list(set(A.index) & set(B.index))\n",
    "A = A[A.index.isin(overlapping_proteins)]\n",
    "B = B[B.index.isin(overlapping_proteins)]\n",
    "\n",
    "import scipy.stats as stats\n",
    "\n",
    "p_vals = stats.ttest_ind(A, B, axis = 1)[1]\n",
    "p_vals = pd.DataFrame(p_vals, columns = [\"p\"])\n",
    "p_vals[\"q\"] = qvalues(p_vals)\n",
    "p_vals = pd.DataFrame(p_vals.values, index = A.index, columns = [\"p\", \"q\"])\n",
    "p_vals.sort_values(\"q\",inplace =True)\n",
    "p_vals = p_vals.astype(float)\n",
    "\n",
    "A = np.log2(A.sum(axis=1))\n",
    "B = np.log2(B.sum(axis=1))\n",
    "\n",
    "A.name = \"1\"\n",
    "B.name = \"2\"\n",
    "\n",
    "df_final = pd.concat([A, B, p_vals], axis = 1)\n",
    "df_final[\"log2(A,B)\"] = df_final[\"1\"] - df_final[\"2\"]\n",
    "\n",
    "def pq_data(df_final, fc_treshold):\n",
    "    # two-side treshold because triqler uses two side treshold.\n",
    "    df_final_fc_gt = (df_final[df_final[\"log2(A,B)\"] > fc_treshold])\n",
    "    df_final_fc_lt = (df_final[df_final[\"log2(A,B)\"] < -fc_treshold])\n",
    "    df_final_fc = pd.concat([df_final_fc_gt, df_final_fc_lt])\n",
    "    n_array = []\n",
    "    for q in np.arange(0,0.101, 0.001):\n",
    "        n = (df_final_fc[\"q\"] <= q).sum()\n",
    "        n_array.append(n)\n",
    "    res = pd.DataFrame(n_array, index = np.arange(0,0.101, 0.001), columns = [\"DE\"])\n",
    "    return res\n",
    "\n",
    "\n",
    "\n",
    "import matplotlib.pyplot as plt\n",
    "\n",
    "specie = \"HUMAN\"\n",
    "\n",
    "def plot_pq(df_final, specie):\n",
    "    fig, axs = plt.subplots(2, 5)\n",
    "    row = 0\n",
    "    col = 0\n",
    "    for i in range(10):\n",
    "        fc =i*0.2\n",
    "        df = pq_data(df_final[df_final.index.get_level_values(\"specie\") == specie], fc_treshold = fc)\n",
    "        if i == 0:\n",
    "            y_lim = df.max()[0]\n",
    "        axs[row, col].plot(df.index, df.DE)\n",
    "        axs[row, col].set_ylim([0, y_lim])\n",
    "        axs[row, col].set_title(f\"fc = {fc}\")\n",
    "        axs[row, col].set_xlabel(\"q-value\")\n",
    "        axs[row, col].set_ylabel(\"n - Differentially expressed.\")\n",
    "        col += 1\n",
    "        if col == 5:\n",
    "            row +=1\n",
    "            col = 0\n",
    "    plt.suptitle(\"OSW top3 \" + specie)\n",
    "    plt.show()\n"
   ]
  },
  {
   "cell_type": "code",
   "execution_count": 7,
   "metadata": {},
   "outputs": [
    {
     "ename": "IndexError",
     "evalue": "list index out of range",
     "output_type": "error",
     "traceback": [
      "\u001b[0;31m---------------------------------------------------------------------------\u001b[0m",
      "\u001b[0;31mIndexError\u001b[0m                                Traceback (most recent call last)",
      "\u001b[0;32m<ipython-input-7-e580d543d70b>\u001b[0m in \u001b[0;36m<module>\u001b[0;34m\u001b[0m\n\u001b[1;32m     58\u001b[0m \u001b[0mfcs\u001b[0m \u001b[0;34m=\u001b[0m  \u001b[0;34m[\u001b[0m\u001b[0mround\u001b[0m\u001b[0;34m(\u001b[0m\u001b[0mi\u001b[0m\u001b[0;34m*\u001b[0m\u001b[0;36m0.04\u001b[0m\u001b[0;34m,\u001b[0m\u001b[0;36m2\u001b[0m\u001b[0;34m)\u001b[0m \u001b[0;32mfor\u001b[0m \u001b[0mi\u001b[0m \u001b[0;32min\u001b[0m \u001b[0mrange\u001b[0m\u001b[0;34m(\u001b[0m\u001b[0;36m20\u001b[0m\u001b[0;34m)\u001b[0m\u001b[0;34m]\u001b[0m\u001b[0;34m\u001b[0m\u001b[0;34m\u001b[0m\u001b[0m\n\u001b[1;32m     59\u001b[0m \u001b[0;34m\u001b[0m\u001b[0m\n\u001b[0;32m---> 60\u001b[0;31m \u001b[0mres\u001b[0m \u001b[0;34m=\u001b[0m \u001b[0mget_DE_for_fcs\u001b[0m\u001b[0;34m(\u001b[0m \u001b[0mfcs\u001b[0m \u001b[0;34m=\u001b[0m \u001b[0mfcs\u001b[0m\u001b[0;34m)\u001b[0m\u001b[0;34m\u001b[0m\u001b[0;34m\u001b[0m\u001b[0m\n\u001b[0m",
      "\u001b[0;32m<ipython-input-7-e580d543d70b>\u001b[0m in \u001b[0;36mget_DE_for_fcs\u001b[0;34m(fcs)\u001b[0m\n\u001b[1;32m     40\u001b[0m     \u001b[0;32mfor\u001b[0m \u001b[0mq\u001b[0m \u001b[0;32min\u001b[0m \u001b[0mnp\u001b[0m\u001b[0;34m.\u001b[0m\u001b[0marange\u001b[0m\u001b[0;34m(\u001b[0m\u001b[0;36m0\u001b[0m\u001b[0;34m,\u001b[0m\u001b[0;36m0.101\u001b[0m\u001b[0;34m,\u001b[0m \u001b[0;36m0.001\u001b[0m\u001b[0;34m)\u001b[0m\u001b[0;34m:\u001b[0m\u001b[0;34m\u001b[0m\u001b[0;34m\u001b[0m\u001b[0m\n\u001b[1;32m     41\u001b[0m         \u001b[0mqs\u001b[0m\u001b[0;34m.\u001b[0m\u001b[0mappend\u001b[0m\u001b[0;34m(\u001b[0m\u001b[0mq\u001b[0m\u001b[0;34m)\u001b[0m\u001b[0;34m\u001b[0m\u001b[0;34m\u001b[0m\u001b[0m\n\u001b[0;32m---> 42\u001b[0;31m         \u001b[0mdfs\u001b[0m\u001b[0;34m.\u001b[0m\u001b[0mappend\u001b[0m\u001b[0;34m(\u001b[0m\u001b[0mget_pq_data_triqler\u001b[0m\u001b[0;34m(\u001b[0m\u001b[0mq\u001b[0m\u001b[0;34m)\u001b[0m\u001b[0;34m)\u001b[0m\u001b[0;34m\u001b[0m\u001b[0;34m\u001b[0m\u001b[0m\n\u001b[0m\u001b[1;32m     43\u001b[0m         \u001b[0;31m#print(time.time()-start)\u001b[0m\u001b[0;34m\u001b[0m\u001b[0;34m\u001b[0m\u001b[0;34m\u001b[0m\u001b[0m\n\u001b[1;32m     44\u001b[0m     \u001b[0mend\u001b[0m \u001b[0;34m=\u001b[0m \u001b[0mtime\u001b[0m\u001b[0;34m.\u001b[0m\u001b[0mtime\u001b[0m\u001b[0;34m(\u001b[0m\u001b[0;34m)\u001b[0m\u001b[0;34m\u001b[0m\u001b[0;34m\u001b[0m\u001b[0m\n",
      "\u001b[0;32m<ipython-input-7-e580d543d70b>\u001b[0m in \u001b[0;36mget_pq_data_triqler\u001b[0;34m(q_val)\u001b[0m\n\u001b[1;32m     16\u001b[0m \u001b[0;34m\u001b[0m\u001b[0m\n\u001b[1;32m     17\u001b[0m     \u001b[0;32mfor\u001b[0m \u001b[0mfile\u001b[0m \u001b[0;32min\u001b[0m \u001b[0msorted\u001b[0m\u001b[0;34m(\u001b[0m\u001b[0mos\u001b[0m\u001b[0;34m.\u001b[0m\u001b[0mlistdir\u001b[0m\u001b[0;34m(\u001b[0m\u001b[0;34m)\u001b[0m\u001b[0;34m)\u001b[0m\u001b[0;34m:\u001b[0m\u001b[0;34m\u001b[0m\u001b[0;34m\u001b[0m\u001b[0m\n\u001b[0;32m---> 18\u001b[0;31m         \u001b[0mfc\u001b[0m \u001b[0;34m=\u001b[0m \u001b[0mfloat\u001b[0m\u001b[0;34m(\u001b[0m\u001b[0mfile\u001b[0m\u001b[0;34m.\u001b[0m\u001b[0msplit\u001b[0m\u001b[0;34m(\u001b[0m\u001b[0;34m\"_\"\u001b[0m\u001b[0;34m)\u001b[0m\u001b[0;34m[\u001b[0m\u001b[0;36m1\u001b[0m\u001b[0;34m]\u001b[0m\u001b[0;34m)\u001b[0m\u001b[0;34m\u001b[0m\u001b[0;34m\u001b[0m\u001b[0m\n\u001b[0m\u001b[1;32m     19\u001b[0m         \u001b[0mdf_triq\u001b[0m \u001b[0;34m=\u001b[0m \u001b[0mparse_triqler\u001b[0m\u001b[0;34m(\u001b[0m\u001b[0mfile\u001b[0m\u001b[0;34m)\u001b[0m\u001b[0;34m\u001b[0m\u001b[0;34m\u001b[0m\u001b[0m\n\u001b[1;32m     20\u001b[0m         \u001b[0;31m# Added specie mapping... need to check the problem with BOVIN, SCVLA proteins???\u001b[0m\u001b[0;34m\u001b[0m\u001b[0;34m\u001b[0m\u001b[0;34m\u001b[0m\u001b[0m\n",
      "\u001b[0;31mIndexError\u001b[0m: list index out of range"
     ]
    }
   ],
   "source": [
    "\n",
    "import time\n",
    "from triqler_output_to_df import  parse_triqler\n",
    "\n",
    "os.chdir(\"/hdd_14T/data/PXD002952/20210614_dataset/diaumpire_spectral_lib_20210706/MSFragger_20210707/diann_20210811/triqler_results\")\n",
    "\n",
    "# filename has different formatting, we need to change number or implement regex.\n",
    "experiment_id_mapper = lambda x: x.split(\"_\")[5]\n",
    "sample_id_mapper = lambda x: x.split(\"_\")[8] #hye124 \n",
    "specie_mapper = lambda x: x.split(\"_\")[-1]\n",
    "\n",
    "def get_pq_data_triqler(q_val):\n",
    "    fc_tresh = []\n",
    "    n_hs = []\n",
    "    n_ye = []\n",
    "    n_ec = []\n",
    "    \n",
    "    for file in sorted(os.listdir()):       \n",
    "        fc = float(file.split(\"_\")[1])\n",
    "        df_triq = parse_triqler(file)\n",
    "        # Added specie mapping... need to check the problem with BOVIN, SCVLA proteins???\n",
    "        #print(df_triq)\n",
    "        df_triq[\"specie\"] = df_triq.protein.map(specie_mapper)\n",
    "        df_triq[\"protein\"] = df_triq[\"protein\"] + \"_\" + df_triq[\"specie\"]\n",
    "        df_triq = df_triq[df_triq[\"specie\"].isin([\"HUMAN\", \"ECOLI\", \"YEAST\"])]\n",
    "        df_triq = df_triq[df_triq.q_value < q_val]\n",
    "        #df_triq[\"specie\"] = df_triq.protein.map(specie_mapper)\n",
    "        n_hs.append((df_triq[\"specie\"] == \"HUMAN\").sum())\n",
    "        n_ye.append((df_triq[\"specie\"] == \"YEAST\").sum())\n",
    "        n_ec.append((df_triq[\"specie\"] == \"ECOLI\").sum())\n",
    "        fc_tresh.append(fc)\n",
    "    \n",
    "    df =pd.DataFrame(np.array([n_hs, n_ye, n_ec]).T, index = fc_tresh, columns = [\"HUMAN\", \"YEAST\", \"ECOLI\"])\n",
    "    return df\n",
    "\n",
    "\n",
    "#start = time.time()\n",
    "def get_DE_for_fcs(fcs =  [round(i*0.2,2) for i in range(9)] + [0.68]):\n",
    "    qs = []\n",
    "    dfs = []\n",
    "    for q in np.arange(0,0.101, 0.001):\n",
    "        qs.append(q)\n",
    "        dfs.append(get_pq_data_triqler(q))\n",
    "        #print(time.time()-start)\n",
    "    end = time.time()\n",
    "    #print(end-start)\n",
    "    \n",
    "    fcs = fcs\n",
    "    fcs.sort()\n",
    "    res = []\n",
    "    for fc in fcs:\n",
    "        vals = []\n",
    "        for df in dfs:\n",
    "            val = list(df[df.index == fc].values[0])\n",
    "            vals.append(val)    \n",
    "        df_res = pd.DataFrame(vals, index = np.arange(0,0.101, 0.001), columns = [\"HUMAN\", \"YEAST\", \"ECOLI\"])\n",
    "        res.append(df_res)\n",
    "    return res\n",
    "fcs =  [round(i*0.04,2) for i in range(20)]\n",
    "\n",
    "res = get_DE_for_fcs( fcs = fcs)\n"
   ]
  },
  {
   "cell_type": "code",
   "execution_count": null,
   "metadata": {
    "collapsed": true
   },
   "outputs": [],
   "source": []
  },
  {
   "cell_type": "code",
   "execution_count": null,
   "metadata": {},
   "outputs": [],
   "source": [
    "\n",
    "os.chdir(\"/hdd_14T/data/PXD002952/20210614_dataset/diaumpire_spectral_lib_20210706/MSFragger_20210707/diann_20210811\")\n",
    "\n",
    "msqrob = pd.read_csv(\"msqrobsum_result.csv\", sep = \"\\t\")\n",
    "msqrob[\"specie\"] = msqrob.proteins.map(specie_mapper)\n",
    "\n",
    "msqrob\n",
    "\n",
    "def msqrob_pq_data(msqrob, fc):\n",
    "    msqrob_gt = msqrob[msqrob.logFC > fc]\n",
    "    msqrob_lt = msqrob[msqrob.logFC < -fc]\n",
    "    msqrob_fc = pd.concat([msqrob_gt, msqrob_lt])\n",
    "    n_array = []\n",
    "    for q in np.arange(0,0.101, 0.001):\n",
    "        n = (msqrob_fc[\"qvalue\"] <= q).sum()\n",
    "        n_array.append(n)\n",
    "    res = pd.DataFrame(n_array, index = np.arange(0,0.101, 0.001), columns = [\"DE\"])\n",
    "    return res\n"
   ]
  },
  {
   "cell_type": "code",
   "execution_count": null,
   "metadata": {},
   "outputs": [],
   "source": [
    "def msstats_pq_data(ms, fc):\n",
    "    # ms = pd.read_csv(\"msstats.csv\")\n",
    "    ms_gt = ms[ms.log2FC > fc]\n",
    "    ms_lt = ms[ms.log2FC < -fc]\n",
    "    ms_fc = pd.concat([ms_gt, ms_lt])\n",
    "    n_array = []\n",
    "    for q in np.arange(0,0.101, 0.001):\n",
    "        n = (ms_fc[\"adj.pvalue\"] <= q).sum()\n",
    "        n_array.append(n)\n",
    "    res = pd.DataFrame(n_array, index = np.arange(0,0.101, 0.001), columns = [\"DE\"])\n",
    "    return res\n",
    "\n",
    "# MSSTATS\n",
    "#os.chdir(\"/hdd_14T/data/PXD002952/20210805_osw_run/msstats_results\")\n",
    "\n",
    "ms = pd.read_csv(\"msstat_output_filtered.csv\")\n",
    "ms[\"specie\"] = ms.Protein.map(specie_mapper)"
   ]
  },
  {
   "cell_type": "code",
   "execution_count": null,
   "metadata": {},
   "outputs": [],
   "source": [
    "len(ms)"
   ]
  },
  {
   "cell_type": "code",
   "execution_count": null,
   "metadata": {},
   "outputs": [],
   "source": [
    "ms.replace([np.inf, -np.inf], np.nan, inplace=True)"
   ]
  },
  {
   "cell_type": "code",
   "execution_count": null,
   "metadata": {},
   "outputs": [],
   "source": [
    "ms.dropna(subset=[\"log2FC\"], inplace = True)"
   ]
  },
  {
   "cell_type": "code",
   "execution_count": null,
   "metadata": {},
   "outputs": [],
   "source": [
    "\n",
    "#Rewrite this to function subplot\n",
    "def plot_pq_specie(specie, fcs =  [round(i*0.2,2) for i in range(9)] + [0.68]):\n",
    "    fig, axs = plt.subplots(4, 5, figsize=(20,15))\n",
    "    row = 0\n",
    "    col = 0\n",
    "    #specie = \"ECOLI\"\n",
    "    fcs = fcs\n",
    "    fcs.sort()\n",
    "    for i in range(20):\n",
    "        fc = fcs[i]\n",
    "        if specie == \"all\":\n",
    "            res[i].sum(axis=1).plot(ax = axs[row,col]) #triqler data plot\n",
    "            df = pq_data(df_final, fc_treshold = fc)\n",
    "            df_ms = msstats_pq_data(ms, fc = fc)\n",
    "            df_msqrob = msqrob_pq_data(msqrob, fc = fc)\n",
    "        else:\n",
    "            res[i][specie].plot(ax = axs[row,col]) #triqler data plot\n",
    "            df = pq_data(df_final[df_final.index.get_level_values(\"specie\") == specie], fc_treshold = fc)\n",
    "            df_ms = msstats_pq_data(ms[ms.specie == specie], fc = fc)\n",
    "            df_msqrob = msqrob_pq_data(msqrob[msqrob.specie == specie], fc = fc)\n",
    "        axs[row, col].plot(df.index, df.DE) # plot osw top3\n",
    "        axs[row, col].plot(df_ms.index, df_ms.DE) # plot MSSTATS\n",
    "        axs[row, col].plot(df_msqrob.index, df_msqrob.DE) # plot msqrob\n",
    "        axs[row, col].legend(labels=[\"Triqler\", \"OSW Top3\", \"msStats\", \"mSqRob\"])\n",
    "        axs[row, col].set_title(f\"fc = {fc}\")\n",
    "        axs[row, col].set_xlabel(\"q-value\")\n",
    "        axs[row, col].set_ylabel(\"n - Differentially expressed.\")\n",
    "        col+=1\n",
    "        if col == 5:\n",
    "            row+=1\n",
    "            col=0\n",
    "    plt.suptitle(f\"Differentially expressed proteins {specie} ( True ratios 1:1 for human, 2:1 for yeast, and 1:4 for E.coli )\")# + specie)\n",
    "    plt.show()\n",
    "\n",
    "\n",
    "\n",
    "#Rewrite this to function subplot\n",
    "def plot_pq_specie_FP(specie, fcs):\n",
    "    fig, axs = plt.subplots(4, 5, figsize=(20,15))\n",
    "    row = 0\n",
    "    col = 0\n",
    "    #specie = \"ECOLI\"\n",
    "    fcs = fcs\n",
    "    fcs.sort()\n",
    "    for i in range(20):\n",
    "        fc = fcs[i]\n",
    "        \n",
    "        if specie == \"all\":\n",
    "            df = pq_data(df_final, fc_treshold = fc)\n",
    "            df_triq = res[i].sum(axis=1)\n",
    "            df_ms = msstats_pq_data(ms, fc = fc)\n",
    "            df_msqrob = msqrob_pq_data(msqrob, fc = fc)\n",
    "        else:\n",
    "            df = pq_data(df_final[df_final.index.get_level_values(\"specie\") == specie], fc_treshold = fc)\n",
    "            df_triq = res[i][specie]\n",
    "            df_ms = msstats_pq_data(ms[ms.specie == specie], fc = fc)\n",
    "            df_msqrob = msqrob_pq_data(msqrob[msqrob.specie == specie], fc = fc)\n",
    "\n",
    "        # False positives\n",
    "        df_FP = pq_data(df_final[df_final.index.get_level_values(\"specie\") == \"HUMAN\"], fc_treshold = fc)\n",
    "        df_triq_FP = res[i][\"HUMAN\"]\n",
    "        df_ms_FP = msstats_pq_data(ms[ms.specie == \"HUMAN\"], fc = fc)\n",
    "        df_msqrob_FP = msqrob_pq_data(msqrob[msqrob.specie == \"HUMAN\"], fc = fc)\n",
    "        \"\"\"\n",
    "        if fc >= 1.0:\n",
    "            df_FP_yeast = pq_data(df_final[df_final.index.get_level_values(\"specie\") == \"YEAST\"], fc_treshold = fc)\n",
    "            df_triq_FP_yeast = res[i][\"YEAST\"]\n",
    "            df_ms_FP_yeast = msstats_pq_data(ms[ms.specie == \"YEAST\"], fc = fc)\n",
    "            df_msqrob_FP_yeast = msqrob_pq_data(msqrob[msqrob.specie == \"YEAST\"], fc = fc)\n",
    "            \n",
    "            df_FP += df_FP_yeast\n",
    "            df_triq_FP += df_triq_FP_yeast\n",
    "            df_ms_FP += df_ms_FP_yeast\n",
    "            df_msqrob_FP += df_msqrob_FP_yeast\n",
    "        \"\"\" \n",
    "        df_triq.plot(ax = axs[row,col], style = \"b\") #triqler data plot\n",
    "        axs[row, col].plot(df.index, df.DE, \"k\") # plot osw top3\n",
    "        axs[row, col].plot(df_ms.index, df_ms.DE, \"g\") # plot MSSTATS\n",
    "        axs[row, col].plot(df_msqrob.index, df_msqrob.DE, \"r\") # plot msqrob\n",
    "        \n",
    "        # Plot False positives\n",
    "        #res[i][\"HUMAN\"].plot(ax = axs[row,col], style=\"b--\") #triqler data plot\n",
    "        df_triq_FP.plot(ax = axs[row, col], style=\"b--\")\n",
    "        axs[row, col].plot(df.index, df_FP.DE, \"k--\") # plot osw top3\n",
    "        #axs[row, col].plot(df_ms.index, df_ms_FP.DE, \"g--\") # plot MSSTATS\n",
    "        axs[row, col].plot(df_msqrob.index, df_msqrob_FP.DE, \"r--\") # plot msqrob\n",
    "        \n",
    "\n",
    "        #axs[row, col].legend(labels=[\"Triqler\", \"OSW Top3\", \"msStats\", \"mSqRob\",\n",
    "        #                              \"Triqler FP\", \"OSW Top3 FP\", \"msStats FP\", \"mSqRob FP\" ])\n",
    "        \n",
    "        \n",
    "        axs[row, col].legend(labels=[\"Triqler\", \"OSW Top3\", \"msStat\", \"mSqRob\",\n",
    "                                      \"Triqler FP\", \"OSW Top3 FP\", \"msStats FP\", \"mSqRob FP\" ])\n",
    "        \n",
    "        axs[row, col].set_title(f\"fc = {fc}\")\n",
    "        axs[row, col].set_xlabel(\"q-value\")\n",
    "        axs[row, col].set_ylabel(\"n - Differentially expressed.\")\n",
    "        col+=1\n",
    "        if col == 5:\n",
    "            row+=1\n",
    "            col=0\n",
    "    plt.suptitle(f\"Differentially expressed proteins {specie} ( True ratios 1:1 for human, 2:1 for yeast, and 1:4 for E.coli )\")# + specie)\n",
    "    plt.show()\n",
    "\n",
    "\n",
    "#FP ratio\n",
    "def plot_ratio_FP_DE(specie, fcs):\n",
    "    fig, axs = plt.subplots(4, 5,figsize=(20,15))\n",
    "    row = 0\n",
    "    col = 0\n",
    "    #specie = \"ECOLI\"\n",
    "    fcs = fcs\n",
    "    fcs.sort()\n",
    "    for i in range(20):\n",
    "        fc = fcs[i]\n",
    "        if specie == \"all\":\n",
    "            df = (pq_data(df_final[df_final.index.get_level_values(\"specie\") == \"HUMAN\"], fc_treshold = fc) / \n",
    "                  pq_data(df_final, fc_treshold = fc))\n",
    "            df_triq = (res[i][\"HUMAN\"] / \n",
    "                       res[i].sum(axis=1))\n",
    "            df_ms = (msstats_pq_data(ms[ms.specie == \"HUMAN\"], fc = fc) / \n",
    "                     msstats_pq_data(ms, fc = fc))\n",
    "            df_msqrob = (msqrob_pq_data(msqrob[msqrob.specie == \"HUMAN\"], fc = fc) / \n",
    "                         msqrob_pq_data(msqrob, fc = fc))        \n",
    "        else:\n",
    "            df = (pq_data(df_final[df_final.index.get_level_values(\"specie\") == \"HUMAN\"], fc_treshold = fc) / \n",
    "                  pq_data(df_final[df_final.index.get_level_values(\"specie\") == specie], fc_treshold = fc))\n",
    "            df_triq = (res[i][\"HUMAN\"] / \n",
    "                       res[i][specie])\n",
    "            df_ms = (msstats_pq_data(ms[ms.specie == \"HUMAN\"], fc = fc) / \n",
    "                     msstats_pq_data(ms[ms.specie == specie], fc = fc))\n",
    "            df_msqrob = (msqrob_pq_data(msqrob[msqrob.specie == \"HUMAN\"], fc = fc) / \n",
    "                         msqrob_pq_data(msqrob[msqrob.specie == specie], fc = fc))        \n",
    "\n",
    "        df_triq.plot(ax = axs[row, col], style = \"b\") # triqler data plot\n",
    "        axs[row, col].plot(df.index, df.DE, \"m\") # plot osw top3\n",
    "        axs[row, col].plot(df_ms.index, df_ms.DE, \"g\") # plot MSSTATS\n",
    "        axs[row, col].plot(df_msqrob.index, df_msqrob.DE, \"r\") # plot msqrob\n",
    "\n",
    "        axs[row, col].legend(labels=[\"Triqler\", \"OSW Top3\", \"msStats\", \"mSqRob\", ])\n",
    "        #axs[row, col].legend(labels=[\"Triqler\", \"OSW Top3\", \"mSqRob\", ])\n",
    "        axs[row, col].set_title(f\"fc = {fc}\")\n",
    "        axs[row, col].set_xlabel(\"q-value\")\n",
    "        axs[row, col].set_ylabel(\"ratio FP/DE - Differentially expressed.\")\n",
    "        \n",
    "        def abline(slope, intercept, row, col):\n",
    "            \"\"\"Plot a line from slope and intercept\"\"\"\n",
    "            axes = plt.gca()\n",
    "            x_vals = np.array(axs[row,col].get_xlim())\n",
    "            y_vals = intercept + slope * x_vals\n",
    "            axs[row,col].plot(x_vals, y_vals, 'k--', alpha = 0.7)\n",
    "        abline(1,0,row,col)\n",
    "        col+=1\n",
    "        if col == 5:\n",
    "            row+=1\n",
    "            col=0\n",
    "    plt.suptitle(f\"Ratio FP / Differentially expressed proteins ( True ratios 1:1 for human, 2:1 for yeast, and 1:4 for E.coli )\")# + specie)\n",
    "    plt.show()\n",
    "\n",
    "\n",
    "\n",
    "\n",
    "#Rewrite this to function subplot\n",
    "def plot_de_specie_xy(specie_x, specie_y, fcs):\n",
    "    fig, axs = plt.subplots(4, 5, figsize=(20,15))\n",
    "    row = 0\n",
    "    col = 0\n",
    "    #specie = \"ECOLI\"\n",
    "    fcs = fcs\n",
    "    fcs.sort()\n",
    "    for i in range(20):\n",
    "        fc = fcs[i]\n",
    "        \n",
    "        df_triq_x = res[i][specie_x]\n",
    "        df_x = pq_data(df_final[df_final.index.get_level_values(\"specie\") == specie_x], fc_treshold = fc)\n",
    "        df_ms_x = msstats_pq_data(ms[ms.specie == specie_x], fc = fc)\n",
    "        df_msqrob_x = msqrob_pq_data(msqrob[msqrob.specie == specie_x], fc = fc)\n",
    "        \n",
    "        df_triq_y = res[i][specie_y]\n",
    "        df_y = pq_data(df_final[df_final.index.get_level_values(\"specie\") == specie_y], fc_treshold = fc)\n",
    "        df_ms_y = msstats_pq_data(ms[ms.specie == specie_y], fc = fc)\n",
    "        df_msqrob_y = msqrob_pq_data(msqrob[msqrob.specie == specie_y], fc = fc)\n",
    "        \n",
    "        #df_triq_x.plot(ax = axs[row,col]) #triqler data plot        \n",
    "        #axs[row, col].plot(df.index, df.DE) # plot osw top3\n",
    "        #axs[row, col].plot(df_ms.index, df_ms.DE) # plot MSSTATS\n",
    "        #axs[row, col].plot(df_msqrob.index, df_msqrob.DE) # plot msqrob\n",
    "        \n",
    "        axs[row, col].plot(df_triq_x.values, df_triq_y.values)\n",
    "        axs[row, col].plot(df_x.values, df_y.values)\n",
    "        axs[row, col].plot(df_ms_x.values, df_ms_y.values)\n",
    "        axs[row, col].plot(df_msqrob_x.values, df_msqrob_y.values)\n",
    "        \n",
    "        axs[row, col].legend(labels=[\"Triqler\", \"OSW Top3\", \"msStats\", \"mSqRob\"])\n",
    "        #axs[row, col].legend(labels=[\"Triqler\", \"OSW Top3\", \"mSqRob\"])\n",
    "        axs[row, col].set_title(f\"fc = {fc}\")\n",
    "        axs[row, col].set_xlabel(f\"n - Differentially expressed {specie_x}\")\n",
    "        axs[row, col].set_ylabel(f\"n - Differentially expressed {specie_y}\")\n",
    "        col+=1\n",
    "        if col == 5:\n",
    "            row+=1\n",
    "            col=0\n",
    "    plt.suptitle(f\"Differentially expressed proteins specie ratio ( True ratios 1:1 for human, 2:1 for yeast, and 1:4 for E.coli )\")# + specie)\n",
    "    plt.show()"
   ]
  },
  {
   "cell_type": "markdown",
   "metadata": {},
   "source": [
    "## N-differentially expressed proteins\n",
    "This is used to show number of differentially expresed proteins"
   ]
  },
  {
   "cell_type": "code",
   "execution_count": null,
   "metadata": {},
   "outputs": [],
   "source": [
    "row = 0\n",
    "col = 0\n",
    "\n",
    "fig, axs = plt.subplots(2,2, figsize = (20,15))\n",
    "fc = 0.4\n",
    "\n",
    "def plot_pq(specie, row, col):\n",
    "    triq = res[10] # fcs[10] is 0.4 in this case\n",
    "    \n",
    "    if specie == \"all\":\n",
    "        df = pq_data(df_final, fc_treshold = 0.4)\n",
    "        #df_triq = res[i].sum(axis=1)\n",
    "        df_ms = msstats_pq_data(ms, fc = 0.4)\n",
    "        df_msqrob = msqrob_pq_data(msqrob, fc = 0.4)\n",
    "        triq.sum(axis=1).plot(ax = axs[row,col])\n",
    "\n",
    "    else:\n",
    "        df = pq_data(df_final[df_final.index.get_level_values(\"specie\") == specie], fc_treshold = 0.4)\n",
    "        df_ms = msstats_pq_data(ms[ms.specie == specie], fc = 0.4)\n",
    "        df_msqrob = msqrob_pq_data(msqrob[msqrob.specie == specie], fc = 0.4)\n",
    "        triq[specie].plot(ax = axs[row,col])\n",
    "    \n",
    "    axs[row, col].plot(df.index, df.DE) # plot osw top3\n",
    "    axs[row, col].plot(df_ms.index, df_ms.DE) # plot MSSTATS\n",
    "    axs[row, col].plot(df_msqrob.index, df_msqrob.DE) # plot msqrob\n",
    "    axs[row, col].legend(labels=[\"Triqler\", \"OSW Top3\", \"msStats\", \"mSqRob\"])\n",
    "    axs[row, col].set_title(f\"{specie} (fc = {0.4})\")\n",
    "    axs[row, col].set_xlabel(\"q-value\")\n",
    "    axs[row, col].set_ylabel(\"n - Differentially expressed.\")\n",
    "    \n",
    "plot_pq(\"HUMAN\", row = 0, col = 0)\n",
    "plot_pq(\"YEAST\", row = 0, col = 1)\n",
    "plot_pq(\"ECOLI\", row = 1, col = 0)\n",
    "plot_pq(\"all\", row = 1, col = 1)\n",
    "\n",
    "plt.suptitle(\"Differentially expressed protein (DIAUmpire(SE) -> MSFragger -> EasyPQP -> DIA-NN)\")\n"
   ]
  },
  {
   "cell_type": "code",
   "execution_count": null,
   "metadata": {},
   "outputs": [],
   "source": [
    "fig, axs = plt.subplots(1, 3, figsize=(20,6))\n",
    "fc = 0.4\n",
    "#Rewrite this to function subplot\n",
    "\n",
    "def plot_ratio_FP_DE(specie,col):\n",
    "\n",
    "\n",
    "    if specie == \"all\":\n",
    "        df = (pq_data(df_final[df_final.index.get_level_values(\"specie\") == \"HUMAN\"], fc_treshold = fc) / \n",
    "              pq_data(df_final, fc_treshold = fc))\n",
    "        df_triq = (res[10][\"HUMAN\"] / \n",
    "                   res[10].sum(axis=1))\n",
    "        df_ms = (msstats_pq_data(ms[ms.specie == \"HUMAN\"], fc = fc) / \n",
    "                 msstats_pq_data(ms, fc = fc))\n",
    "        df_msqrob = (msqrob_pq_data(msqrob[msqrob.specie == \"HUMAN\"], fc = fc) / \n",
    "                     msqrob_pq_data(msqrob, fc = fc))        \n",
    "    else:\n",
    "        df = (pq_data(df_final[df_final.index.get_level_values(\"specie\") == \"HUMAN\"], fc_treshold = fc) / \n",
    "              pq_data(df_final[df_final.index.get_level_values(\"specie\") == specie], fc_treshold = fc))\n",
    "        df_triq = (res[10][\"HUMAN\"] / \n",
    "                   res[10][specie])\n",
    "        df_ms = (msstats_pq_data(ms[ms.specie == \"HUMAN\"], fc = fc) / \n",
    "                 msstats_pq_data(ms[ms.specie == specie], fc = fc))\n",
    "        df_msqrob = (msqrob_pq_data(msqrob[msqrob.specie == \"HUMAN\"], fc = fc) / \n",
    "                     msqrob_pq_data(msqrob[msqrob.specie == specie], fc = fc))        \n",
    "\n",
    "    df_triq.plot(ax = axs[col], style = \"b\") # triqler data plot\n",
    "    axs[col].plot(df.index, df.DE, \"m\") # plot osw top3\n",
    "    axs[col].plot(df_ms.index, df_ms.DE, \"g\") # plot MSSTATS\n",
    "    axs[col].plot(df_msqrob.index, df_msqrob.DE, \"r\") # plot msqrob\n",
    "\n",
    "    axs[col].legend(labels=[\"Triqler\", \"OSW Top3\", \"msStats\", \"mSqRob\", ])\n",
    "    axs[col].set_title(f\"{specie} (fc = {fc})\")\n",
    "    axs[col].set_xlabel(\"q-value\")\n",
    "    axs[col].set_ylabel(\"ratio FP/DE - Differentially expressed.\")\n",
    "\n",
    "    def abline(slope, intercept, col):\n",
    "        \"\"\"Plot a line from slope and intercept\"\"\"\n",
    "        axes = plt.gca()\n",
    "        x_vals = np.array(axs[col].get_xlim())\n",
    "        y_vals = intercept + slope * x_vals\n",
    "        axs[col].plot(x_vals, y_vals, 'k--', alpha = 0.7)\n",
    "    abline(1,0,col)\n",
    "\n",
    "plot_ratio_FP_DE(\"YEAST\", 0,)\n",
    "plot_ratio_FP_DE(\"ECOLI\", 1)\n",
    "plot_ratio_FP_DE(\"all\", 2)\n",
    "    \n",
    "plt.suptitle(f\"Ratio FP / Differentially expressed proteins ( True ratios 1:1 for human, 2:1 for yeast, and 1:4 for E.coli )\")# + specie)\n",
    "plt.show()\n"
   ]
  },
  {
   "cell_type": "markdown",
   "metadata": {},
   "source": [
    "# Protein quantity distributions\n",
    "This is used to show how the data looks"
   ]
  },
  {
   "cell_type": "code",
   "execution_count": null,
   "metadata": {},
   "outputs": [],
   "source": [
    "import seaborn as sns"
   ]
  },
  {
   "cell_type": "code",
   "execution_count": null,
   "metadata": {},
   "outputs": [],
   "source": [
    "os.chdir(\"/hdd_14T/data/PXD002952/20210614_dataset/diaumpire_spectral_lib_20210706/MSFragger_20210707/diann_20210811/triqler_results\")\n"
   ]
  },
  {
   "cell_type": "code",
   "execution_count": null,
   "metadata": {},
   "outputs": [],
   "source": [
    "os.chdir(\"/hdd_14T/data/PXD002952/20210805_osw_run/triqler_results\")\n",
    "q_val = 1\n",
    "file = \"fc_0.40\"\n",
    "df_triq = parse_triqler(file)\n",
    "df_triq[\"decoy\"] = df_triq.protein.map(decoy_mapper)\n",
    "df_triq = df_triq[df_triq.decoy == False] # remove decoy proteins.\n",
    "df_triq = df_triq[df_triq.q_value < q_val]\n",
    "df_triq[\"specie\"] = df_triq.protein.map(specie_mapper)\n",
    "df_triq.sort_values(by = \"specie\", inplace = True)\n",
    "df_triq.log2_fold_change = -df_triq.log2_fold_change\n",
    "\n",
    "fig, axs = plt.subplots(2, 2, figsize=(20,15))\n",
    "\n",
    "sns.histplot(df_triq[\"log2_fold_change\"], kde = False, ax = axs[0,0])\n",
    "sns.histplot(data=df_triq, x=\"log2_fold_change\", hue=\"specie\", multiple=\"stack\", kde = True, ax = axs[0,0])\n",
    "axs[0,0].set_xlim([-2, 3])\n",
    "axs[0,0].set_title(\"Triqler\")\n",
    "\n",
    "axs[0,0].axvline(x = 0, color = \"orange\", linestyle = \"--\")\n",
    "axs[0,0].axvline(x = -1, color = \"green\", linestyle = \"--\")\n",
    "axs[0,0].axvline(x = 2, color = \"blue\", linestyle = \"--\")\n",
    "\n",
    "msqrob.sort_values(by = \"specie\", inplace = True )\n",
    "msqrob[\"specie\"] = msqrob.proteins.map(specie_mapper)\n",
    "sns.histplot(msqrob, x = \"logFC\", hue = \"specie\",kde = True, ax = axs[0,1])\n",
    "sns.histplot(msqrob, x = \"logFC\", hue = \"specie\",kde = False, ax = axs[0,1])\n",
    "axs[0,1].set_title(\"MSqRobSum\")\n",
    "axs[0,1].set_xlim([-2, 3])\n",
    "\n",
    "axs[0,1].axvline(x = 0, color = \"orange\", linestyle = \"--\")\n",
    "axs[0,1].axvline(x = -1, color = \"green\", linestyle = \"--\")\n",
    "axs[0,1].axvline(x = 2, color = \"blue\", linestyle = \"--\")\n",
    "\n",
    "\n",
    "ms.sort_values(by = \"specie\", inplace = True )\n",
    "sns.histplot(ms.log2FC, kde = False, ax = axs[1,0], bins = 70)\n",
    "sns.histplot(data=ms, x=\"log2FC\", hue=\"specie\", multiple=\"stack\", bins = 70, kde = True, ax = axs[1,0])\n",
    "axs[1,0].set_title(\"MsStats\")\n",
    "axs[1,0].set_xlim([-2, 3])\n",
    "\n",
    "\n",
    "axs[1,0].axvline(x = 0, color = \"orange\", linestyle = \"--\")\n",
    "axs[1,0].axvline(x = -1, color = \"green\", linestyle = \"--\")\n",
    "axs[1,0].axvline(x = 2, color = \"blue\", linestyle = \"--\")\n",
    "\n",
    "# add -1* to reverse histograms\n",
    "sns.histplot(-1*df_final[\"log2(A,B)\"], kde = False, ax = axs[1,1])\n",
    "axs[1,1].set_title(\"Top3\")\n",
    "sns.histplot(data=-1*df_final, x=\"log2(A,B)\", hue=\"specie\", multiple=\"stack\", kde = True)\n",
    "\n",
    "axs[1,1].axvline(x = 0, color = \"orange\", linestyle = \"--\")\n",
    "axs[1,1].axvline(x = -1, color = \"green\", linestyle = \"--\")\n",
    "axs[1,1].axvline(x = 2, color = \"blue\", linestyle = \"--\")\n",
    "\n",
    "\n",
    "fig.suptitle('Triqler log2FC empirical density (True ratios 1:1 for human, 2:1 for yeast, and 1:4 for E.coli )')"
   ]
  },
  {
   "cell_type": "markdown",
   "metadata": {},
   "source": [
    "# DE specie vs DE human\n",
    "\n",
    "This plot shows how many true positives we get compares to false positives."
   ]
  },
  {
   "cell_type": "code",
   "execution_count": null,
   "metadata": {},
   "outputs": [],
   "source": [
    "fig, axs = plt.subplots(1, 2, figsize=(20,8))\n",
    "fc = 0.4 \n",
    "#Rewrite this to function subplot\n",
    "\n",
    "def plot_de_specie_xy(specie_x, specie_y, ax_n):\n",
    "    df_triq_x = res[10][specie_x]\n",
    "    df_x = pq_data(df_final[df_final.index.get_level_values(\"specie\") == specie_x], fc_treshold = fc)\n",
    "    df_ms_x = msstats_pq_data(ms[ms.specie == specie_x], fc = fc)\n",
    "    df_msqrob_x = msqrob_pq_data(msqrob[msqrob.specie == specie_x], fc = fc)\n",
    "\n",
    "    df_triq_y = res[10][specie_y]\n",
    "    df_y = pq_data(df_final[df_final.index.get_level_values(\"specie\") == specie_y], fc_treshold = fc)\n",
    "    df_ms_y = msstats_pq_data(ms[ms.specie == specie_y], fc = fc)\n",
    "    df_msqrob_y = msqrob_pq_data(msqrob[msqrob.specie == specie_y], fc = fc)\n",
    "\n",
    "    #df_triq_x.plot(ax = axs[row,col]) #triqler data plot        \n",
    "    #axs[row, col].plot(df.index, df.DE) # plot osw top3\n",
    "    #axs[row, col].plot(df_ms.index, df_ms.DE) # plot MSSTATS\n",
    "    #axs[row, col].plot(df_msqrob.index, df_msqrob.DE) # plot msqrob\n",
    "\n",
    "    axs[ax_n].plot(df_triq_x.values, df_triq_y.values)\n",
    "    axs[ax_n].plot(df_x.values, df_y.values)\n",
    "    axs[ax_n].plot(df_ms_x.values, df_ms_y.values)\n",
    "    axs[ax_n].plot(df_msqrob_x.values, df_msqrob_y.values)\n",
    "\n",
    "    axs[ax_n].legend(labels=[\"Triqler\", \"OSW Top3\", \"msStats\", \"mSqRob\"])\n",
    "    axs[ax_n].set_title(f\"fc = {fc}\")\n",
    "    axs[ax_n].set_xlabel(f\"n - Differentially expressed {specie_x}\")\n",
    "    axs[ax_n].set_ylabel(f\"n - Differentially expressed {specie_y}\")\n",
    "\n",
    "\n",
    "plot_de_specie_xy(specie_x = \"HUMAN\", specie_y = \"ECOLI\", ax_n = 0)\n",
    "plot_de_specie_xy(specie_x = \"HUMAN\", specie_y = \"YEAST\", ax_n = 1)\n",
    "\n",
    "plt.suptitle(f\"Differentially expressed proteins specie to human ratio\")# + specie)\n",
    "#plt.show()\n"
   ]
  },
  {
   "cell_type": "markdown",
   "metadata": {},
   "source": [
    "# LFQ Scatter plot\n",
    "\n"
   ]
  },
  {
   "cell_type": "code",
   "execution_count": null,
   "metadata": {},
   "outputs": [],
   "source": [
    "df_final[\"log2(A)\"] = df_final[\"1\"] #log(A)\n",
    "df_final[\"log2(B)\"] = df_final[\"2\"] #log(A)"
   ]
  },
  {
   "cell_type": "code",
   "execution_count": null,
   "metadata": {},
   "outputs": [],
   "source": [
    "\n",
    "f, ax = plt.subplots(1, 1, figsize = (15,8))\n",
    "#sns.scatterplot(ax = ax, data = df_final, x = \"log2(B)\", y = \"log2(A,B)\", alpha = 0.7, hue = \"specie\")\n",
    "df_final[\"specie\"] = df_final.index.get_level_values(\"specie\")\n",
    "sns.regplot(data = df_final[df_final.specie == \"ECOLI\"], x = \"log2(A)\", y = \"log2(A,B)\", ax = ax, line_kws = {\"ls\":\"--\"}, label =\"ECOLI\")\n",
    "sns.regplot(data = df_final[df_final.specie == \"HUMAN\"], x = \"log2(A)\", y = \"log2(A,B)\", ax = ax, line_kws = {\"ls\":\"--\"}, label = \"HUMAN\")\n",
    "sns.regplot(data = df_final[df_final.specie == \"YEAST\"], x = \"log2(A)\", y = \"log2(A,B)\", ax = ax, line_kws = {\"ls\":\"--\"}, label = \"YEAST\")\n",
    "ax.legend()\n",
    "ax.axhline(1, linestyle = \"--\", color=\"tab:green\", alpha = 0.5)\n",
    "ax.axhline(0, linestyle = \"--\", color=\"tab:orange\", alpha = 0.5)\n",
    "ax.axhline(-2, linestyle = \"--\", color=\"tab:blue\", alpha = 0.5)\n",
    "#ax.grid()\n",
    "#plt.legend(labels=['HUMAN (sample 1)', 'YEAST (sample 1)', \"ECOLI (sample 1)\", \"HUMAN (sample 2)\", \"YEAST (sample 2)\", \"ECOLI (sample 2)\"])\n",
    "plt.title(\"std/mu ratio for log-transformed peptide values\")"
   ]
  },
  {
   "cell_type": "code",
   "execution_count": null,
   "metadata": {},
   "outputs": [],
   "source": [
    "df_triq[\"log2(mu_sample1)\"] = np.log2(df_triq[[\"1:002-Pedro\", \"1:004-Pedro\", \"1:006-Pedro\"]].mean(axis = 1))\n",
    "df_triq[\"log2(mu_sample2)\"] = np.log2(df_triq[[\"2:003-Pedro\", \"2:005-Pedro\", \"2:007-Pedro\"]].mean(axis = 1))\n",
    "df_triq[\"log2(median_sample1)\"] = np.log2(df_triq[[\"1:002-Pedro\", \"1:004-Pedro\", \"1:006-Pedro\"]].median(axis = 1))\n",
    "df_triq[\"log2(median_sample2)\"] = np.log2(df_triq[[\"2:003-Pedro\", \"2:005-Pedro\", \"2:007-Pedro\"]].median(axis = 1))\n",
    "df_triq[\"log2(mu_sample1-mu_sample2)\"] = (df_triq[\"log2(mu_sample1)\"] - df_triq[\"log2(mu_sample2)\"])\n"
   ]
  },
  {
   "cell_type": "code",
   "execution_count": null,
   "metadata": {},
   "outputs": [],
   "source": [
    "df_triq[\"mu_sample1\"] = np.exp(np.log(df_triq[[\"1:002-Pedro\", \"1:004-Pedro\", \"1:006-Pedro\"]]).mean(axis = 1))\n",
    "df_triq[\"mu_sample2\"] = np.exp(np.log(df_triq[[\"2:003-Pedro\", \"2:005-Pedro\", \"2:007-Pedro\"]]).mean(axis = 1))\n",
    "df_triq[\"log2FC\"] = (df_triq[\"mu_sample1\"] - df_triq[\"mu_sample2\"])\n",
    "df_triq[\"-log2_fold_change\"] = -1* df_triq[\"log2_fold_change\"]"
   ]
  },
  {
   "cell_type": "code",
   "execution_count": null,
   "metadata": {},
   "outputs": [],
   "source": [
    "### muProtein experiment\n",
    "\n",
    "df_triq[\"mu_sample1\"] = df_triq[[\"1:002-Pedro\", \"1:004-Pedro\", \"1:006-Pedro\"]]\n"
   ]
  },
  {
   "cell_type": "code",
   "execution_count": null,
   "metadata": {},
   "outputs": [],
   "source": [
    "muProtein = -0.003126\n",
    "df_triq[[\"1:002-Pedro\", \"1:004-Pedro\", \"1:006-Pedro\"]]"
   ]
  },
  {
   "cell_type": "code",
   "execution_count": null,
   "metadata": {},
   "outputs": [],
   "source": [
    "\n",
    "f, ax = plt.subplots(1, 1, figsize = (15,8))\n",
    "#sns.scatterplot(ax = ax, data = df_triq, x = \"log2(mu_sample2)\", y = \"log2_fold_change\", alpha = 0.7, hue = \"specie\")\n",
    "sns.regplot(data = 1*df_triq[df_triq.specie == \"ECOLI\"], x = \"mu_sample1\", y = \"log2_fold_change\", ax = ax, line_kws = {\"ls\":\"--\"}, label =\"ECOLI\", ci = 0)\n",
    "sns.regplot(data = 1*df_triq[df_triq.specie == \"HUMAN\"], x = \"mu_sample1\", y = \"log2_fold_change\", ax = ax, line_kws = {\"ls\":\"--\"}, label =\"HUMAN\", ci = 0)\n",
    "sns.regplot(data = 1*df_triq[df_triq.specie == \"YEAST\"], x = \"mu_sample1\", y = \"log2_fold_change\", ax = ax, line_kws = {\"ls\":\"--\"}, label =\"YEAST\", ci = 0)\n",
    "ax.legend()\n",
    "ax.axhline(2, linestyle = \"--\", color=\"tab:blue\", alpha = 0.5)\n",
    "ax.axhline(0, linestyle = \"--\", color=\"tab:orange\", alpha = 0.5)\n",
    "ax.axhline(-1, linestyle = \"--\", color=\"tab:green\", alpha = 0.5)\n",
    "ax.set_ylim([-4, 4])\n",
    "ax.set_xlim([0, 5])"
   ]
  },
  {
   "cell_type": "code",
   "execution_count": null,
   "metadata": {},
   "outputs": [],
   "source": [
    "os.chdir(\"/hdd_14T/data/PXD002952/20210614_dataset/diaumpire_spectral_lib_20210706/MSFragger_20210707/diann_20210811\")\n",
    "msrob_protein = pd.read_csv(\"msqrobsum_protein_sum_20210817.csv\", sep = \"\\t\")\n",
    "msstat_protein = pd.read_csv(\"msstat_output_runleveldata.csv\", sep = \",\")\n",
    "msstat_run = pd.read_csv(\"msstats_run.csv\", sep = \",\")"
   ]
  },
  {
   "cell_type": "code",
   "execution_count": null,
   "metadata": {},
   "outputs": [],
   "source": [
    "msrob_protein[\"sample\"].unique()"
   ]
  },
  {
   "cell_type": "code",
   "execution_count": null,
   "metadata": {},
   "outputs": [],
   "source": [
    "msstat_protein.RUN.unique()"
   ]
  },
  {
   "cell_type": "code",
   "execution_count": null,
   "metadata": {},
   "outputs": [],
   "source": [
    "run_to_replicate_mapper = dict(msstat_run[[\"Run\",\"BioReplicate\"]].values)\n",
    "run_to_condition_mapper = dict(msstat_run[[\"Run\", \"Condition\"]].values)\n",
    "msstat_protein[\"replicate\"] = msstat_protein.RUN.map(run_to_replicate_mapper)\n",
    "msstat_protein[\"condition\"] = msstat_protein.RUN.map(run_to_condition_mapper)\n",
    "msrob_protein_sum = msrob_protein.groupby([\"proteins\", \"condition\"]).mean()\n",
    "msrob_sample1 = msrob_protein_sum[msrob_protein_sum.index.get_level_values(\"condition\") == 1].expression.droplevel(\"condition\")\n",
    "msrob_sample2 = msrob_protein_sum[msrob_protein_sum.index.get_level_values(\"condition\") == 2].expression.droplevel(\"condition\")\n",
    "\n",
    "#msrob_log2 = np.log2(msrob_sample1) - np.log2(msrob_sample2)\n",
    "#msrob_log2 = np.log2(msrob_sample2) - np.log2(msrob_sample1)\n",
    "msrob_log2 = msrob_sample2 - msrob_sample1"
   ]
  },
  {
   "cell_type": "code",
   "execution_count": null,
   "metadata": {},
   "outputs": [],
   "source": [
    "msrob_sample1.name = \"sample1\"\n",
    "msrob_sample2.name = \"sample2\"\n",
    "msrob_log2.name = \"log2FC\"\n",
    "msrob_df = pd.concat([msrob_sample1, msrob_sample2, msrob_log2], axis = 1)\n",
    "species_mapper = lambda x: x.split(\"_\")[-1]\n",
    "msrob_df[\"specie\"] = msrob_df.index.map(species_mapper)\n"
   ]
  },
  {
   "cell_type": "code",
   "execution_count": null,
   "metadata": {},
   "outputs": [],
   "source": [
    "\n",
    "f, ax = plt.subplots(1, 1, figsize = (15,8))\n",
    "#sns.scatterplot(ax = ax, data = df_triq, x = \"log2(mu_sample2)\", y = \"log2_fold_change\", alpha = 0.7, hue = \"specie\")\n",
    "sns.regplot(data = 1*msrob_df[msrob_df.specie == \"ECOLI\"], x = \"sample1\", y = \"log2FC\", ax = ax, line_kws = {\"ls\":\"--\"}, label =\"ECOLI\", ci = 0)\n",
    "sns.regplot(data = 1*msrob_df[msrob_df.specie == \"HUMAN\"], x = \"sample1\", y = \"log2FC\", ax = ax, line_kws = {\"ls\":\"--\"}, label =\"HUMAN\", ci = 0)\n",
    "sns.regplot(data = 1*msrob_df[msrob_df.specie == \"YEAST\"], x = \"sample1\", y = \"log2FC\", ax = ax, line_kws = {\"ls\":\"--\"}, label =\"YEAST\", ci = 0)\n",
    "ax.legend()\n",
    "ax.axhline(2, linestyle = \"--\", color=\"tab:blue\", alpha = 0.5)\n",
    "ax.axhline(0, linestyle = \"--\", color=\"tab:orange\", alpha = 0.5)\n",
    "ax.axhline(-1, linestyle = \"--\", color=\"tab:green\", alpha = 0.5)\n",
    "#ax.set_ylim([-5, 3])\n",
    "#ax.set_xlim([-2, 1])"
   ]
  },
  {
   "cell_type": "code",
   "execution_count": null,
   "metadata": {},
   "outputs": [],
   "source": [
    "msstat_sum = msstat_protein.groupby([\"Protein\", \"GROUP_ORIGINAL\"]).LogIntensities.mean()\n"
   ]
  },
  {
   "cell_type": "code",
   "execution_count": null,
   "metadata": {},
   "outputs": [],
   "source": [
    "msstat_sum_sample1 = msstat_sum[msstat_sum.index.get_level_values(\"GROUP_ORIGINAL\") == 1].droplevel(\"GROUP_ORIGINAL\")\n",
    "msstat_sum_sample2 = msstat_sum[msstat_sum.index.get_level_values(\"GROUP_ORIGINAL\") == 2].droplevel(\"GROUP_ORIGINAL\")\n",
    "msstat_log2 = msstat_sum_sample2 - msstat_sum_sample1\n",
    "\n",
    "msstat_sum_sample1.name = \"sample1\"\n",
    "msstat_sum_sample2.name = \"sample2\"\n",
    "msstat_log2.name = \"log2FC\""
   ]
  },
  {
   "cell_type": "code",
   "execution_count": null,
   "metadata": {},
   "outputs": [],
   "source": [
    "msstat_df = pd.concat([msstat_sum_sample1, msstat_sum_sample2, msstat_log2], axis = 1)\n",
    "msstat_df[\"specie\"] = msstat_df.index.map(specie_mapper)"
   ]
  },
  {
   "cell_type": "code",
   "execution_count": null,
   "metadata": {},
   "outputs": [],
   "source": [
    "\n",
    "f, ax = plt.subplots(1, 1, figsize = (15,8))\n",
    "#sns.scatterplot(ax = ax, data = df_triq, x = \"log2(mu_sample2)\", y = \"log2_fold_change\", alpha = 0.7, hue = \"specie\")\n",
    "sns.regplot(data = 1*msstat_df[msstat_df.specie == \"ECOLI\"], x = \"sample1\", y = \"log2FC\", ax = ax, line_kws = {\"ls\":\"--\"}, label =\"ECOLI\", ci = 0)\n",
    "sns.regplot(data = 1*msstat_df[msstat_df.specie == \"HUMAN\"], x = \"sample1\", y = \"log2FC\", ax = ax, line_kws = {\"ls\":\"--\"}, label =\"HUMAN\", ci = 0)\n",
    "sns.regplot(data = 1*msstat_df[msstat_df.specie == \"YEAST\"], x = \"sample1\", y = \"log2FC\", ax = ax, line_kws = {\"ls\":\"--\"}, label =\"YEAST\", ci = 0)\n",
    "ax.legend()\n",
    "ax.axhline(2, linestyle = \"--\", color=\"tab:blue\", alpha = 0.5)\n",
    "ax.axhline(0, linestyle = \"--\", color=\"tab:orange\", alpha = 0.5)\n",
    "ax.axhline(-1, linestyle = \"--\", color=\"tab:green\", alpha = 0.5)\n",
    "#ax.set_ylim([-5, 3])\n",
    "#ax.set_xlim([-2, 1])"
   ]
  },
  {
   "cell_type": "code",
   "execution_count": null,
   "metadata": {},
   "outputs": [],
   "source": [
    "df_triq[\"mu_sample1\"]"
   ]
  },
  {
   "cell_type": "code",
   "execution_count": null,
   "metadata": {},
   "outputs": [],
   "source": []
  },
  {
   "cell_type": "code",
   "execution_count": null,
   "metadata": {},
   "outputs": [],
   "source": []
  },
  {
   "cell_type": "code",
   "execution_count": null,
   "metadata": {},
   "outputs": [],
   "source": [
    "df_triq[\"-mu_sample1\"] = np.log(df_triq[\"mu_sample1\"]).abs()\n",
    "df_triq[\"-mu_sample1\"]\n",
    "\n",
    "df_triq[\"-mu_sample2\"] = np.log(df_triq[\"mu_sample2\"]).abs()\n",
    "df_triq[\"-mu_sample2\"]"
   ]
  },
  {
   "cell_type": "code",
   "execution_count": null,
   "metadata": {},
   "outputs": [],
   "source": [
    "\n",
    "f, ax = plt.subplots(2, 2, figsize = (15,8))\n",
    "\n",
    "df_final[\"specie\"] = df_final.index.get_level_values(\"specie\")\n",
    "sns.regplot(data = df_final[df_final.specie == \"ECOLI\"], x = \"log2(A)\", y = \"log2(A,B)\", ax = ax[0,0], line_kws = {\"ls\":\"--\"}, label =\"ECOLI\")\n",
    "sns.regplot(data = df_final[df_final.specie == \"HUMAN\"], x = \"log2(A)\", y = \"log2(A,B)\", ax = ax[0,0], line_kws = {\"ls\":\"--\"}, label = \"HUMAN\")\n",
    "sns.regplot(data = df_final[df_final.specie == \"YEAST\"], x = \"log2(A)\", y = \"log2(A,B)\", ax = ax[0,0], line_kws = {\"ls\":\"--\"}, label = \"YEAST\")\n",
    "ax[0,0].legend()\n",
    "ax[0,0].axhline(1, linestyle = \"--\", color=\"tab:green\", alpha = 0.5)\n",
    "ax[0,0].axhline(0, linestyle = \"--\", color=\"tab:orange\", alpha = 0.5)\n",
    "ax[0,0].axhline(-2, linestyle = \"--\", color=\"tab:blue\", alpha = 0.5)\n",
    "ax[0,0].set_title(\"Top3\")\n",
    "\n",
    "sns.regplot(data = 1*df_triq[df_triq.specie == \"ECOLI\"], x = \"-mu_sample2\", y = \"-log2_fold_change\", ax = ax[0,1], line_kws = {\"ls\":\"--\"}, label =\"ECOLI\", ci = 0)\n",
    "sns.regplot(data = 1*df_triq[df_triq.specie == \"HUMAN\"], x = \"-mu_sample2\", y = \"-log2_fold_change\", ax = ax[0,1], line_kws = {\"ls\":\"--\"}, label =\"HUMAN\", ci = 0)\n",
    "sns.regplot(data = 1*df_triq[df_triq.specie == \"YEAST\"], x = \"-mu_sample2\", y = \"-log2_fold_change\", ax = ax[0,1], line_kws = {\"ls\":\"--\"}, label =\"YEAST\", ci = 0)\n",
    "ax[0,1].legend()\n",
    "ax[0,1].axhline(1, linestyle = \"--\", color=\"tab:green\", alpha = 0.5)\n",
    "ax[0,1].axhline(0, linestyle = \"--\", color=\"tab:orange\", alpha = 0.5)\n",
    "ax[0,1].axhline(-2, linestyle = \"--\", color=\"tab:blue\", alpha = 0.5)\n",
    "ax[0,1].set_ylim([-4, 4])\n",
    "ax[0,1].set_xlim([0, 3.5])\n",
    "ax[0,1].set_title(\"triqler\")\n",
    "\n",
    "sns.regplot(data = 1*msrob_df[msrob_df.specie == \"ECOLI\"], x = \"sample1\", y = \"log2FC\", ax = ax[1,0], line_kws = {\"ls\":\"--\"}, label =\"ECOLI\", ci = 0)\n",
    "sns.regplot(data = 1*msrob_df[msrob_df.specie == \"HUMAN\"], x = \"sample1\", y = \"log2FC\", ax = ax[1,0], line_kws = {\"ls\":\"--\"}, label =\"HUMAN\", ci = 0)\n",
    "sns.regplot(data = 1*msrob_df[msrob_df.specie == \"YEAST\"], x = \"sample1\", y = \"log2FC\", ax = ax[1,0], line_kws = {\"ls\":\"--\"}, label =\"YEAST\", ci = 0)\n",
    "ax[1,0].legend()\n",
    "ax[1,0].axhline(2, linestyle = \"--\", color=\"tab:green\", alpha = 0.5)\n",
    "ax[1,0].axhline(0, linestyle = \"--\", color=\"tab:orange\", alpha = 0.5)\n",
    "ax[1,0].axhline(-1, linestyle = \"--\", color=\"tab:blue\", alpha = 0.5)\n",
    "ax[1,0].set_title(\"msqrobsum\")\n",
    "\n",
    "sns.regplot(data = 1*msstat_df[msstat_df.specie == \"ECOLI\"], x = \"sample1\", y = \"log2FC\", ax = ax[1,1], line_kws = {\"ls\":\"--\"}, label =\"ECOLI\", ci = 0)\n",
    "sns.regplot(data = 1*msstat_df[msstat_df.specie == \"HUMAN\"], x = \"sample1\", y = \"log2FC\", ax = ax[1,1], line_kws = {\"ls\":\"--\"}, label =\"HUMAN\", ci = 0)\n",
    "sns.regplot(data = 1*msstat_df[msstat_df.specie == \"YEAST\"], x = \"sample1\", y = \"log2FC\", ax = ax[1,1], line_kws = {\"ls\":\"--\"}, label =\"YEAST\", ci = 0)\n",
    "ax[1,1].legend()\n",
    "ax[1,1].axhline(2, linestyle = \"--\", color=\"tab:blue\", alpha = 0.5)\n",
    "ax[1,1].axhline(0, linestyle = \"--\", color=\"tab:orange\", alpha = 0.5)\n",
    "ax[1,1].axhline(-1, linestyle = \"--\", color=\"tab:green\", alpha = 0.5)\n",
    "ax[1,1].set_title(\"MSstats\")\n",
    "\n",
    "plt.suptitle(\"DIANN protein level results\")"
   ]
  },
  {
   "cell_type": "code",
   "execution_count": null,
   "metadata": {},
   "outputs": [],
   "source": [
    "from sc"
   ]
  },
  {
   "cell_type": "code",
   "execution_count": null,
   "metadata": {},
   "outputs": [],
   "source": []
  },
  {
   "cell_type": "markdown",
   "metadata": {},
   "source": [
    "## Scaled  calibration plots "
   ]
  },
  {
   "cell_type": "code",
   "execution_count": null,
   "metadata": {},
   "outputs": [],
   "source": [
    "os.chdir(\"/hdd_14T/data/PXD002952/20210614_dataset/diaumpire_spectral_lib_20210706/MSFragger_20210707/diann_20210811/triqler_results\")\n",
    "\n",
    "def get_pq_data_triqler(q_val):\n",
    "    fc_tresh = []\n",
    "    n_hs = []\n",
    "    n_ye = []\n",
    "    n_ec = []\n",
    "    ecoli_scaling_factor = []\n",
    "    yeast_scaling_factor = []\n",
    "    human_scaling_factor = []\n",
    "    for file in sorted(os.listdir()):       \n",
    "        fc = float(file.split(\"_\")[1])\n",
    "        df_triq = parse_triqler(file)\n",
    "        df_triq[\"specie\"] = df_triq.protein.map(specie_mapper)\n",
    "        ecoli_factor = (df_triq[\"specie\"] == \"ECOLI\").sum()/(df_triq[\"specie\"] == \"HUMAN\").sum()\n",
    "        yeast_factor = (df_triq[\"specie\"] == \"YEAST\").sum()/(df_triq[\"specie\"] == \"HUMAN\").sum()\n",
    "        human_factor = (df_triq[\"specie\"] == \"HUMAN\").sum()/(df_triq[\"specie\"] == \"HUMAN\").sum()\n",
    "        df_triq = df_triq[df_triq.q_value < q_val]\n",
    "        n_hs.append((df_triq[\"specie\"] == \"HUMAN\").sum())\n",
    "        n_ye.append((df_triq[\"specie\"] == \"YEAST\").sum())\n",
    "        n_ec.append((df_triq[\"specie\"] == \"ECOLI\").sum())\n",
    "        ecoli_scaling_factor.append(ecoli_factor) #Should be same for all values because we want the full length of protein list\n",
    "        yeast_scaling_factor.append(yeast_factor) #Should be same for all values because we want the full length of protein list\n",
    "        human_scaling_factor.append(human_factor)\n",
    "        fc_tresh.append(fc)\n",
    "    \n",
    "    df =pd.DataFrame(np.array([n_hs, n_ye, n_ec,\n",
    "                               human_scaling_factor, yeast_scaling_factor, ecoli_scaling_factor]).T, index = fc_tresh, columns = [\"HUMAN\", \"YEAS8\", \"ECOLI\", \"HUMAN_factor\", \"YEAS8_factor\", \"ECOLI_factor\"])\n",
    "    return df\n",
    "\n",
    "def map_decoy(x):\n",
    "    if x.split(\"_\")[0] == \"DECOY\":\n",
    "        return True\n",
    "    else:\n",
    "        return False\n",
    "\n",
    "#start = time.time()\n",
    "def get_DE_for_fcs(fcs =  [round(i*0.2,2) for i in range(9)] + [0.68]):\n",
    "    qs = []\n",
    "    dfs = []\n",
    "    for q in np.arange(0,0.101, 0.001):\n",
    "        qs.append(q)\n",
    "        dfs.append(get_pq_data_triqler(q))\n",
    "        #print(time.time()-start)\n",
    "    end = time.time()\n",
    "    #print(end-start)\n",
    "    \n",
    "    fcs = fcs\n",
    "    fcs.sort()\n",
    "    res = []\n",
    "    for fc in fcs:\n",
    "        vals = []\n",
    "        for df in dfs:\n",
    "            #print(df)\n",
    "            try:\n",
    "                val = list(df[df.index == fc].values[0])\n",
    "            except:\n",
    "                print(df)\n",
    "                break\n",
    "            vals.append(val)    \n",
    "        df_res = pd.DataFrame(vals, index = np.arange(0,0.101, 0.001), columns = [\"HUMAN\", \"YEAST\", \"ECOLI\", \"HUMAN_factor\", \"YEAST_factor\", \"ECOLI_factor\"])\n",
    "        res.append(df_res)\n",
    "    return res\n",
    "\n",
    "res = get_DE_for_fcs( fcs = fcs)\n"
   ]
  },
  {
   "cell_type": "code",
   "execution_count": null,
   "metadata": {},
   "outputs": [],
   "source": [
    "def get_top3_factor(specie):\n",
    "    return len(df_final[df_final.index.get_level_values(\"specie\") == specie])/len(df_final[df_final.index.get_level_values(\"specie\") == \"HUMAN\"])\n",
    "\n",
    "#triqler_factor() # contained in res from get_DE_for_fcs - triqler read-in funciton\n",
    "\n",
    "def get_msstat_factor(specie):\n",
    "    return len(ms[ms[\"specie\"] == specie]) / len(ms[ms[\"specie\"] == \"HUMAN\"])  \n",
    "\n",
    "def get_msqrob_factor(specie):\n",
    "    return len(msqrob[msqrob[\"specie\"] == specie]) / len(msqrob[msqrob[\"specie\"] == \"HUMAN\"])"
   ]
  },
  {
   "cell_type": "code",
   "execution_count": null,
   "metadata": {},
   "outputs": [],
   "source": [
    "res = get_DE_for_fcs( fcs = [fc])"
   ]
  },
  {
   "cell_type": "code",
   "execution_count": null,
   "metadata": {},
   "outputs": [],
   "source": [
    "#row = 0\n",
    "#col = 0\n",
    "#specie = \"ECOLI\"\n",
    "#fcs = fcs\n",
    "#fcs.sort()\n",
    "#for i in range(20):\n",
    "#    fc = fcs[i]\n",
    "\n",
    "def scaled_FP_DE_plot(axs, col, fc, specie):\n",
    "    top3_factor = get_top3_factor(specie)\n",
    "    msstat_factor = get_msstat_factor(specie)\n",
    "    msqrob_factor = get_msqrob_factor(specie)\n",
    "\n",
    "    \n",
    "    if specie == \"all\":\n",
    "        top3_factor =  get_top3_factor(\"HUMAN\") + get_top3_factor(\"ECOLI\") + get_top3_factor(\"YEAST\")\n",
    "        msstat_factor = get_msstat_factor(\"HUMAN\") + get_msstat_factor(\"ECOLI\") + get_msstat_factor(\"YEAST\")\n",
    "        msqrob_factor = get_msqrob_factor(\"HUMAN\") + get_msqrob_factor(\"ECOLI\") + get_msqrob_factor(\"YEAST\")\n",
    "\n",
    "\n",
    "        df = ((pq_data(df_final[df_final.index.get_level_values(\"specie\") == \"HUMAN\"], fc_treshold = fc) / \n",
    "              pq_data(df_final, fc_treshold = fc))) * (top3_factor)\n",
    "        df_triq = ((res[0][\"HUMAN\"] / \n",
    "                   res[0].sum(axis=1))) * (res[0][\"HUMAN_factor\"]+res[0][\"ECOLI_factor\"] +res[0][\"YEAST_factor\"] )\n",
    "        df_ms = ((msstats_pq_data(ms[ms.specie == \"HUMAN\"], fc = fc) / \n",
    "                 msstats_pq_data(ms, fc = fc))) * msstat_factor\n",
    "        df_msqrob = ((msqrob_pq_data(msqrob[msqrob.specie == \"HUMAN\"], fc = fc) / \n",
    "                     msqrob_pq_data(msqrob, fc = fc))) * msqrob_factor        \n",
    "    else:\n",
    "        df = ((pq_data(df_final[df_final.index.get_level_values(\"specie\") == \"HUMAN\"], fc_treshold = fc) / \n",
    "              pq_data(df_final[df_final.index.get_level_values(\"specie\") == specie], fc_treshold = fc))) * top3_factor\n",
    "        df_triq = ((res[0][\"HUMAN\"] / \n",
    "                   res[0][specie])) * res[0][specie + \"_factor\"]\n",
    "        df_ms = ((msstats_pq_data(ms[ms.specie == \"HUMAN\"], fc = fc) / \n",
    "                 msstats_pq_data(ms[ms.specie == specie], fc = fc))) * msstat_factor\n",
    "        df_msqrob = ((msqrob_pq_data(msqrob[msqrob.specie == \"HUMAN\"], fc = fc) / \n",
    "                     msqrob_pq_data(msqrob[msqrob.specie == specie], fc = fc))) * msqrob_factor   \n",
    "\n",
    "    df_triq.plot(ax = axs[col], style = \"b\") # triqler data plot\n",
    "    axs[col].plot(df.index, df.DE, \"m\") # plot osw top3\n",
    "    axs[col].plot(df_ms.index, df_ms.DE, \"g\") # plot MSSTATS\n",
    "    axs[col].plot(df_msqrob.index, df_msqrob.DE, \"r\") # plot msqrob\n",
    "\n",
    "    axs[col].legend(labels=[\"Triqler\", \"OSW Top3\", \"msStats\", \"mSqRob\", ])\n",
    "    #axs[row, col].set_title(f\"fc = {fc}\")\n",
    "    #axs[row, col].set_xlabel(\"q-value\")\n",
    "    #axs[row, col].set_ylabel(\"ratio FP/DE - Differentially expressed.\")\n",
    "\n",
    "    def abline(slope, intercept, col):\n",
    "        \"\"\"Plot a line from slope and intercept\"\"\"\n",
    "        axes = plt.gca()\n",
    "        x_vals = np.array(axs[col].get_xlim())\n",
    "        y_vals = intercept + slope * x_vals\n",
    "        axs[col].plot(x_vals, y_vals, 'k--', alpha = 0.7)\n",
    "    abline(1,0,col)\n",
    "    #col+=1\n",
    "    #if col == 5:\n",
    "    #    row+=1\n",
    "    #    col=0\n",
    "    #plt.suptitle(f\"Ratio FP / Differentially expressed proteins ( True ratios 1:1 for human, 2:1 for yeast, and 1:4 for E.coli )\")# + specie)\n",
    "    #plt.show()"
   ]
  },
  {
   "cell_type": "code",
   "execution_count": null,
   "metadata": {},
   "outputs": [],
   "source": [
    "fig, axs = plt.subplots(1, 3, figsize=(20,6))\n",
    "#scaled_FP_DE_plot(axs, col = 0, fc = 0.4, specie = \"HUMAN\")\n",
    "#axs[0,0].set_title(\"HUMAN\")\n",
    "scaled_FP_DE_plot(axs, col = 0, fc = 0.4, specie = \"YEAST\")\n",
    "axs[0].set_title(\"YEAST\")\n",
    "scaled_FP_DE_plot(axs, col = 1, fc = 0.4, specie = \"ECOLI\")\n",
    "axs[1].set_title(\"ECOLI\")\n",
    "scaled_FP_DE_plot(axs, col = 2, fc = 0.4, specie = \"all\")\n",
    "axs[2].set_title(\"all\")\n",
    "plt.suptitle(f\"Ratio FP / Differentially expressed proteins ( True ratios 1:1 for human, 2:1 for yeast, and 1:4 for E.coli )\")# + specie)\n"
   ]
  },
  {
   "cell_type": "code",
   "execution_count": null,
   "metadata": {},
   "outputs": [],
   "source": [
    "res_ = get_DE_for_fcs( fcs = [0.4])"
   ]
  },
  {
   "cell_type": "code",
   "execution_count": null,
   "metadata": {},
   "outputs": [],
   "source": [
    "specie"
   ]
  },
  {
   "cell_type": "markdown",
   "metadata": {},
   "source": [
    "# Volcano"
   ]
  },
  {
   "cell_type": "code",
   "execution_count": null,
   "metadata": {},
   "outputs": [],
   "source": [
    "\n",
    "df_final"
   ]
  },
  {
   "cell_type": "code",
   "execution_count": null,
   "metadata": {},
   "outputs": [],
   "source": [
    "from bioinfokit import analys, visuz"
   ]
  },
  {
   "cell_type": "markdown",
   "metadata": {},
   "source": [
    "# Top3 "
   ]
  },
  {
   "cell_type": "code",
   "execution_count": null,
   "metadata": {},
   "outputs": [],
   "source": [
    "#fig, axs = plt.subplots(2, 2, figsize=(20,6))\n",
    "#df_final[\"-log10(q)\"] = -np.log10(df_final.q)\n",
    "#sns.scatterplot(data = df_final, x = \"log2(A,B)\", y = \"-log10(q)\", ax = axs[0,0])\n",
    "visuz.gene_exp.volcano(df= df_final, lfc = \"log2(A,B)\", pv=\"q\", show = True, dim = (10, 10), lfc_thr=(0.5, 1) )"
   ]
  },
  {
   "cell_type": "markdown",
   "metadata": {},
   "source": [
    "# Triqler"
   ]
  },
  {
   "cell_type": "code",
   "execution_count": null,
   "metadata": {},
   "outputs": [],
   "source": [
    "visuz.gene_exp.volcano(df= df_triq, lfc = \"log2FC\", pv=\"q_value\", show = True, dim = (10, 10), lfc_thr=(0.5, 1))\n"
   ]
  },
  {
   "cell_type": "code",
   "execution_count": null,
   "metadata": {},
   "outputs": [],
   "source": [
    "visuz.gene_exp.volcano(df= df_triq, lfc = \"log2FC\", pv=\"q_value\", show = True, dim = (10, 10), xlm=[-5, 5, 1], lfc_thr=(0.5, 1))\n"
   ]
  },
  {
   "cell_type": "markdown",
   "metadata": {},
   "source": [
    "# MSqRobSum"
   ]
  },
  {
   "cell_type": "code",
   "execution_count": null,
   "metadata": {},
   "outputs": [],
   "source": [
    "visuz.gene_exp.volcano(df= msqrob, lfc = \"logFC\", pv=\"qvalue\", show = True, dim = (10, 10), lfc_thr=(1, 0.5))"
   ]
  },
  {
   "cell_type": "markdown",
   "metadata": {},
   "source": [
    "# MsStat"
   ]
  },
  {
   "cell_type": "code",
   "execution_count": null,
   "metadata": {},
   "outputs": [],
   "source": [
    "visuz.gene_exp.volcano(df= ms[~ms[\"adj.pvalue\"].isna()], lfc = \"log2FC\", pv=\"adj.pvalue\", show = True, dim = (10, 10), lfc_thr=(1, 0.5))"
   ]
  },
  {
   "cell_type": "code",
   "execution_count": null,
   "metadata": {},
   "outputs": [],
   "source": [
    "help(visuz.gene_exp.volcano)"
   ]
  },
  {
   "cell_type": "code",
   "execution_count": null,
   "metadata": {},
   "outputs": [],
   "source": []
  }
 ],
 "metadata": {
  "kernelspec": {
   "display_name": "Python 3",
   "language": "python",
   "name": "python3"
  },
  "language_info": {
   "codemirror_mode": {
    "name": "ipython",
    "version": 3
   },
   "file_extension": ".py",
   "mimetype": "text/x-python",
   "name": "python",
   "nbconvert_exporter": "python",
   "pygments_lexer": "ipython3",
   "version": "3.7.10"
  }
 },
 "nbformat": 4,
 "nbformat_minor": 4
}
