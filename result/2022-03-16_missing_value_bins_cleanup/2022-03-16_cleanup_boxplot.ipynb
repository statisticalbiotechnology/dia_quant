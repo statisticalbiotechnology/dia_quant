{
 "cells": [
  {
   "cell_type": "code",
   "execution_count": 1,
   "id": "787ef688",
   "metadata": {},
   "outputs": [],
   "source": [
    "import os\n",
    "\n",
    "# scripts \n",
    "os.chdir(\"/home/ptruong/git/dia_sum/scripts/clean\")"
   ]
  },
  {
   "cell_type": "code",
   "execution_count": 2,
   "id": "1f7dbeb5",
   "metadata": {},
   "outputs": [],
   "source": [
    "# DID\n",
    "os.chdir(\"/hdd_14T/data/PXD002952/20210614_dataset/result_files_20220214/DID/osw_results\")"
   ]
  },
  {
   "cell_type": "code",
   "execution_count": 3,
   "id": "dcf31140",
   "metadata": {},
   "outputs": [],
   "source": [
    "# PS\n",
    "os.chdir(\"/hdd_14T/data/PXD002952/20210614_dataset/result_files_20220214/PS\")"
   ]
  },
  {
   "cell_type": "code",
   "execution_count": 4,
   "id": "e3615849",
   "metadata": {},
   "outputs": [
    {
     "data": {
      "text/plain": [
       "['triqler_results',\n",
       " 'report_for_top3.tsv',\n",
       " 'msstat_output.csv',\n",
       " 'top3_output_diann.csv',\n",
       " 'msstats_input',\n",
       " 'msqrob2_input',\n",
       " 'msqrob2_results.tsv',\n",
       " 'diann_top3_formatted.csv']"
      ]
     },
     "execution_count": 4,
     "metadata": {},
     "output_type": "execute_result"
    }
   ],
   "source": [
    "os.listdir()"
   ]
  },
  {
   "cell_type": "code",
   "execution_count": 6,
   "id": "603f15be",
   "metadata": {},
   "outputs": [],
   "source": [
    "os.chdir(\"/home/ptruong/git/dia_sum/scripts/clean\")"
   ]
  },
  {
   "cell_type": "code",
   "execution_count": 7,
   "id": "eb58eb92",
   "metadata": {},
   "outputs": [],
   "source": [
    "\n",
    "import pandas as pd\n",
    "import numpy as np\n",
    "import matplotlib.pyplot as plt\n",
    "import seaborn as sns \n",
    "from scipy import stats\n",
    "\n",
    "import os \n",
    "\n",
    "from q_value import qvalues\n",
    "from parsers.parse_triqler import  parse_triqler\n",
    "\n",
    "def read_in_diann(file = \"report_for_top3.tsv\", q_value_threshold = 0.01, log = True):\n",
    "    df = pd.read_csv(file, sep = \"\\t\")                      \n",
    "    df = df.rename({\"Stripped.Sequence\":\"peptide\", \"Precursor.Quantity\":\"intensity\"}, axis = 1)\n",
    "    if log == True:\n",
    "        df.intensity = np.log(df.intensity)\n",
    "    df = df[df[\"Q.Value\"] < q_value_threshold]\n",
    "    peptides_included_in_all_samples = (df.groupby(\"peptide\").count() >= 6).index\n",
    "    df = df[df[\"peptide\"].isin(peptides_included_in_all_samples)]\n",
    "    df = df[df[\"Protein.Ids\"].notna()] # drop proteins not identified\n",
    "    df = df[~df[\"Protein.Ids\"].str.contains(\"DECOY\")] # drop decoy\n",
    "    return df\n",
    "\n",
    "def get_peptide_mu_sigma(df, quantiles = 8):\n",
    "    df_means = df.groupby(\"peptide\").mean()\n",
    "    df_stat = pd.DataFrame(df_means.intensity.values, index = df_means.index, columns = [\"mu\"])\n",
    "    df_stat[\"std\"] = df.groupby(\"peptide\").std().intensity\n",
    "    df_stat[\"cv\"] = df_stat[\"std\"] / df_stat[\"mu\"]\n",
    "    df_stat[\"quantile_bin_mu\"] = pd.qcut(df_stat[\"mu\"], q=quantiles)\n",
    "\n",
    "    bin_median_function = lambda x: round((x.left + x.right)/2, 2)\n",
    "    df_stat[\"quantile_bin_mu_median_of_bin_range\"] = df_stat[\"quantile_bin_mu\"].apply(bin_median_function)\n",
    "    return df_stat\n",
    "\n",
    "def plot_boxplot(df, log_labels = True, ylim = False, hline = \"median\"):\n",
    "    f, ax = plt.subplots(1, 1, figsize = (12,12))\n",
    "    #sns.violinplot(x='quantile_bin_mu', y='std', data=df_stats, ax=ax)\n",
    "    sns.boxplot(x='quantile_bin_mu_median_of_bin_range', y='std', data=df, ax=ax, color = \"lightblue\")\n",
    "\n",
    "    if log_labels == True:\n",
    "        ax.set_ylabel(\"Standard Deviation of log of Peptide intensity\")\n",
    "        ax.set_xlabel(\"Log of Peptide\")\n",
    "    else:\n",
    "        ax.set_ylabel(\"Standard Deviation of Peptide intensity\")\n",
    "        ax.set_xlabel(\"Peptide\")\n",
    "    ax.tick_params(axis='x', which='major',labelrotation=90)\n",
    "    if ylim != False:\n",
    "        ax.set_ylim(ylim)\n",
    "    if hline == \"mean\":\n",
    "        ax.axhline(df[\"std\"].mean(), ls='--', color = \"red\")\n",
    "    elif hline == \"median\":\n",
    "        ax.axhline(df[\"std\"].median(), ls='--', color = \"red\")\n",
    "\n",
    "def read_in_osw(file_directory, m_score_threshold, log = True):\n",
    "    dfs = []\n",
    "    for i in os.listdir(file_directory):\n",
    "        df = pd.read_csv(file_directory + i, sep = \"\\t\")\n",
    "        df = df[df.m_score < m_score_threshold]\n",
    "        df = df[df[\"ProteinName\"].notna()] # drop proteins not identified\n",
    "        df = df[df[\"ProteinName\"].str.contains(\"DECOY\")]\n",
    "        df = df.rename({\"Sequence\":\"peptide\", \"Intensity\":\"intensity\"}, axis = 1)\n",
    "        if log == True:\n",
    "            df.intensity = np.log(df.intensity)\n",
    "        dfs.append(df)\n",
    "    df = pd.concat(dfs)\n",
    "    return df\n"
   ]
  },
  {
   "cell_type": "markdown",
   "id": "57a56f0a",
   "metadata": {},
   "source": [
    "# OSW"
   ]
  },
  {
   "cell_type": "code",
   "execution_count": 15,
   "id": "47ddf55a",
   "metadata": {},
   "outputs": [
    {
     "name": "stderr",
     "output_type": "stream",
     "text": [
      "/home/ptruong/anaconda3/lib/python3.9/site-packages/pandas/io/formats/format.py:1429: FutureWarning: Index.ravel returning ndarray is deprecated; in a future version this will return a view on self.\n",
      "  for val, m in zip(values.ravel(), mask.ravel())\n"
     ]
    },
    {
     "data": {
      "image/png": "[encoded data removed]",
      "text/plain": [
       "<Figure size 864x864 with 1 Axes>"
      ]
     },
     "metadata": {
      "needs_background": "light"
     },
     "output_type": "display_data"
    }
   ],
   "source": [
    "#df = read_in_osw(file_directory, m_score_threshold = 0.01, log = True)\n",
    "file_directory = '/hdd_14T/data/PXD002952/20210614_dataset/result_files_20220214/DID/osw_results/'\n",
    "m_score_threshold = 0.01\n",
    "log = True\n",
    "quantiles = 8\n",
    "ylim = [0,5]\n",
    "hline_type = \"mean\"\n",
    "\n",
    "df = read_in_osw(file_directory, m_score_threshold = m_score_threshold, log = log)\n",
    "df_stats = get_peptide_mu_sigma(df, quantiles = quantiles).dropna()\n",
    "plot_boxplot(df_stats, log_labels = log, ylim = ylim, hline = hline_type)"
   ]
  },
  {
   "cell_type": "markdown",
   "id": "d389ea45",
   "metadata": {},
   "source": [
    "# DIANN"
   ]
  },
  {
   "cell_type": "code",
   "execution_count": 10,
   "id": "33df6a9f",
   "metadata": {},
   "outputs": [],
   "source": [
    "os.chdir(\"/hdd_14T/data/PXD002952/20210614_dataset/result_files_20220214/PS\")"
   ]
  },
  {
   "cell_type": "code",
   "execution_count": 11,
   "id": "fcd85e7f",
   "metadata": {},
   "outputs": [
    {
     "name": "stderr",
     "output_type": "stream",
     "text": [
      "/home/ptruong/anaconda3/lib/python3.9/site-packages/pandas/core/arraylike.py:364: RuntimeWarning: divide by zero encountered in log\n",
      "  result = getattr(ufunc, method)(*inputs, **kwargs)\n",
      "/home/ptruong/anaconda3/lib/python3.9/site-packages/pandas/io/formats/format.py:1429: FutureWarning: Index.ravel returning ndarray is deprecated; in a future version this will return a view on self.\n",
      "  for val, m in zip(values.ravel(), mask.ravel())\n"
     ]
    },
    {
     "data": {
      "image/png": "[encoded data removed]",
      "text/plain": [
       "<Figure size 864x864 with 1 Axes>"
      ]
     },
     "metadata": {
      "needs_background": "light"
     },
     "output_type": "display_data"
    }
   ],
   "source": [
    "file_name = \"report_for_top3.tsv\"\n",
    "q_value_threshold = 0.01\n",
    "log = True\n",
    "quantiles = 8\n",
    "\n",
    "df  = read_in_diann(file = file_name, q_value_threshold = 0.01, log = log)\n",
    "df_stats = get_peptide_mu_sigma(df, quantiles = quantiles).dropna()\n",
    "plot_boxplot(df_stats, log_labels = log, ylim = ylim, hline = hline_type)"
   ]
  },
  {
   "cell_type": "code",
   "execution_count": null,
   "id": "c60f51a0",
   "metadata": {},
   "outputs": [],
   "source": [
    "\n"
   ]
  },
  {
   "cell_type": "code",
   "execution_count": null,
   "id": "a4422102",
   "metadata": {},
   "outputs": [],
   "source": []
  },
  {
   "cell_type": "code",
   "execution_count": null,
   "id": "4f06cd97",
   "metadata": {},
   "outputs": [],
   "source": []
  },
  {
   "cell_type": "code",
   "execution_count": null,
   "id": "9708f280",
   "metadata": {},
   "outputs": [],
   "source": []
  }
 ],
 "metadata": {
  "kernelspec": {
   "display_name": "Python 3 (ipykernel)",
   "language": "python",
   "name": "python3"
  },
  "language_info": {
   "codemirror_mode": {
    "name": "ipython",
    "version": 3
   },
   "file_extension": ".py",
   "mimetype": "text/x-python",
   "name": "python",
   "nbconvert_exporter": "python",
   "pygments_lexer": "ipython3",
   "version": "3.9.7"
  }
 },
 "nbformat": 4,
 "nbformat_minor": 5
}
