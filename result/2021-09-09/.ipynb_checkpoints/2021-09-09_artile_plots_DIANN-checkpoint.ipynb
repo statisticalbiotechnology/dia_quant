{
 "cells": [
  {
   "cell_type": "code",
   "execution_count": 991,
   "metadata": {},
   "outputs": [],
   "source": [
    "import warnings\n",
    "warnings.simplefilter(action='ignore', category=FutureWarning)"
   ]
  },
  {
   "cell_type": "code",
   "execution_count": 992,
   "metadata": {},
   "outputs": [],
   "source": [
    "fcs =  [round(i*0.04,2) for i in range(20)]\n"
   ]
  },
  {
   "cell_type": "code",
   "execution_count": 993,
   "metadata": {},
   "outputs": [],
   "source": [
    "\n",
    "import os \n",
    "import pandas as pd\n",
    "import numpy as np\n",
    "# git \n",
    "os.chdir(\"/home/ptruong/git/dia_sum/scripts/PXD002952\")\n",
    "from triqler_output_to_df import parse_triqler\n",
    "from q_value import qvalues\n",
    "\n",
    "\n",
    "# db\n",
    "#from get_protein_specie_map_from_fasta import fasta_to_protein_specie_map\n",
    "os.chdir(\"/home/ptruong/git/dia_sum/database\")\n",
    "#protein_specie_map = fasta_to_protein_specie_map(\"2021-04-27-decoys-reviewed-contam-UP000005640-UP000002311-UP000000625.fas\")\n",
    "#protein_specie_map = protein_specie_map.set_index(\"protein\").T.to_dict()\n",
    "# MSFragger \n",
    "#os.chdir(\"/hdd_14T/data/PXD002952/res_20210530_DIAUmpire/MSFragger\")\n",
    "os.chdir(\"/hdd_14T/data/PXD002952/20210614_dataset/diaumpire_spectral_lib_20210706/MSFragger_20210707/diann_20210811\")\n"
   ]
  },
  {
   "cell_type": "code",
   "execution_count": 994,
   "metadata": {},
   "outputs": [],
   "source": [
    "# filename has different formatting, we need to change number or implement regex.\n",
    "experiment_id_mapper = lambda x: x.split(\"_\")[5]\n",
    "sample_id_mapper = lambda x: x.split(\"_\")[8] #hye124 \n",
    "specie_mapper = lambda x: x.split(\"_\")[-1]\n",
    "def decoy_mapper(x):\n",
    "    if x.split(\"_\")[0] == \"DECOY\":\n",
    "        return True\n",
    "    else:\n",
    "        return False"
   ]
  },
  {
   "cell_type": "code",
   "execution_count": 995,
   "metadata": {},
   "outputs": [],
   "source": [
    "df = pd.read_csv(\"report.tsv\", sep = \"\\t\")\n",
    "triq = pd.read_csv(\"triqler_input_diann_searchScore_Qvalue.csv\", sep = \"\\t\")                      \n",
    "\n"
   ]
  },
  {
   "cell_type": "code",
   "execution_count": 996,
   "metadata": {},
   "outputs": [
    {
     "name": "stderr",
     "output_type": "stream",
     "text": [
      "/home/ptruong/anaconda3/envs/py37/lib/python3.7/site-packages/pandas/core/generic.py:5491: SettingWithCopyWarning: \n",
      "A value is trying to be set on a copy of a slice from a DataFrame.\n",
      "Try using .loc[row_indexer,col_indexer] = value instead\n",
      "\n",
      "See the caveats in the documentation: https://pandas.pydata.org/pandas-docs/stable/user_guide/indexing.html#returning-a-view-versus-a-copy\n",
      "  self[name] = value\n"
     ]
    },
    {
     "name": "stdout",
     "output_type": "stream",
     "text": [
      "run : 002-Pedro - condition : [1]\n",
      "Unique peptides detected: 21036\n",
      "Unique proteins detected: 3377\n",
      "\n"
     ]
    },
    {
     "name": "stderr",
     "output_type": "stream",
     "text": [
      "/home/ptruong/anaconda3/envs/py37/lib/python3.7/site-packages/pandas/core/generic.py:5491: SettingWithCopyWarning: \n",
      "A value is trying to be set on a copy of a slice from a DataFrame.\n",
      "Try using .loc[row_indexer,col_indexer] = value instead\n",
      "\n",
      "See the caveats in the documentation: https://pandas.pydata.org/pandas-docs/stable/user_guide/indexing.html#returning-a-view-versus-a-copy\n",
      "  self[name] = value\n"
     ]
    },
    {
     "name": "stdout",
     "output_type": "stream",
     "text": [
      "run : 003-Pedro - condition : [2]\n",
      "Unique peptides detected: 21243\n",
      "Unique proteins detected: 3358\n",
      "\n"
     ]
    },
    {
     "name": "stderr",
     "output_type": "stream",
     "text": [
      "/home/ptruong/anaconda3/envs/py37/lib/python3.7/site-packages/pandas/core/generic.py:5491: SettingWithCopyWarning: \n",
      "A value is trying to be set on a copy of a slice from a DataFrame.\n",
      "Try using .loc[row_indexer,col_indexer] = value instead\n",
      "\n",
      "See the caveats in the documentation: https://pandas.pydata.org/pandas-docs/stable/user_guide/indexing.html#returning-a-view-versus-a-copy\n",
      "  self[name] = value\n"
     ]
    },
    {
     "name": "stdout",
     "output_type": "stream",
     "text": [
      "run : 004-Pedro - condition : [1]\n",
      "Unique peptides detected: 20783\n",
      "Unique proteins detected: 3350\n",
      "\n"
     ]
    },
    {
     "name": "stderr",
     "output_type": "stream",
     "text": [
      "/home/ptruong/anaconda3/envs/py37/lib/python3.7/site-packages/pandas/core/generic.py:5491: SettingWithCopyWarning: \n",
      "A value is trying to be set on a copy of a slice from a DataFrame.\n",
      "Try using .loc[row_indexer,col_indexer] = value instead\n",
      "\n",
      "See the caveats in the documentation: https://pandas.pydata.org/pandas-docs/stable/user_guide/indexing.html#returning-a-view-versus-a-copy\n",
      "  self[name] = value\n"
     ]
    },
    {
     "name": "stdout",
     "output_type": "stream",
     "text": [
      "run : 005-Pedro - condition : [2]\n",
      "Unique peptides detected: 21325\n",
      "Unique proteins detected: 3381\n",
      "\n"
     ]
    },
    {
     "name": "stderr",
     "output_type": "stream",
     "text": [
      "/home/ptruong/anaconda3/envs/py37/lib/python3.7/site-packages/pandas/core/generic.py:5491: SettingWithCopyWarning: \n",
      "A value is trying to be set on a copy of a slice from a DataFrame.\n",
      "Try using .loc[row_indexer,col_indexer] = value instead\n",
      "\n",
      "See the caveats in the documentation: https://pandas.pydata.org/pandas-docs/stable/user_guide/indexing.html#returning-a-view-versus-a-copy\n",
      "  self[name] = value\n"
     ]
    },
    {
     "name": "stdout",
     "output_type": "stream",
     "text": [
      "run : 006-Pedro - condition : [1]\n",
      "Unique peptides detected: 21040\n",
      "Unique proteins detected: 3368\n",
      "\n"
     ]
    },
    {
     "name": "stderr",
     "output_type": "stream",
     "text": [
      "/home/ptruong/anaconda3/envs/py37/lib/python3.7/site-packages/pandas/core/generic.py:5491: SettingWithCopyWarning: \n",
      "A value is trying to be set on a copy of a slice from a DataFrame.\n",
      "Try using .loc[row_indexer,col_indexer] = value instead\n",
      "\n",
      "See the caveats in the documentation: https://pandas.pydata.org/pandas-docs/stable/user_guide/indexing.html#returning-a-view-versus-a-copy\n",
      "  self[name] = value\n"
     ]
    },
    {
     "name": "stdout",
     "output_type": "stream",
     "text": [
      "run : 007-Pedro - condition : [2]\n",
      "Unique peptides detected: 21248\n",
      "Unique proteins detected: 3356\n",
      "\n"
     ]
    }
   ],
   "source": [
    "\n",
    "def compute_triqler_top3_submodule(run):\n",
    "    triq_run = triq[triq.run == run]   \n",
    "    triq_run.searchScore = np.e**(-1 * triq_run.searchScore) #re-convert searchScore, because our triqler_input has -np.log(-Q.Value) from diann result.tsv as searchScore\n",
    "    triq_run = triq_run[triq_run[\"searchScore\"] < 0.01]\n",
    "    \n",
    "    def triqler_top3(triq_run):\n",
    "        res = triq_run.groupby(\"proteins\")[\"intensity\"].apply(lambda x: x.nlargest(3).mean() if len(x.nlargest(3)) >= 2 else np.nan).reset_index()\n",
    "        return res\n",
    "    \n",
    "    def triqler_printout_unique_peptides_proteins(run):\n",
    "        #triq_run = triq[triq.run == run]\n",
    "        #print(len(triq_run[triq_run[\"searchScore\"] < 0.01].peptide.unique()))\n",
    "        condition = triq_run.condition.unique()\n",
    "        print(f\"run : {run} - condition : {condition}\")\n",
    "        print(f\"Unique peptides detected: {len(triq_run.peptide.unique())}\")\n",
    "        print(f\"Unique proteins detected: {len(triq_run.proteins.unique())}\")\n",
    "        print()\n",
    "    \n",
    "    triqler_printout_unique_peptides_proteins((run))\n",
    "    \n",
    "    res = triqler_top3(triq_run)\n",
    "    #def remove_decoy_tag_protein(protein):\n",
    "    #    if protein.split(\"_\")[0] == \"DECOY\":\n",
    "    #        return protein.split(\"_\")[1]\n",
    "    #    else: return protein.split(\"_\")[0]\n",
    "    \n",
    "    #res[\"proteins_nonTagged\"] = res.proteins.map(remove_decoy_tag_protein)\n",
    "    #res[\"specie\"] = res.proteins_nonTagged.map(protein_specie_map)\n",
    "    experiment_id = triq_run.run.unique()[0]\n",
    "    sample_id = triq_run.condition.unique()[0]\n",
    "    #res[\"ProteinName\"] = res[\"proteins\"]\n",
    "    midx = pd.MultiIndex(levels = [[sample_id],[experiment_id]], codes = [[0],[0]], names = [\"sample_id\", \"experiment_id\"])\n",
    "    #res = res.set_index([\"specie\", \"ProteinName\"])\n",
    "    #res = res.drop([\"proteins\", \"proteins_nonTagged\"], axis = 1)\n",
    "    df = pd.DataFrame(res.values)\n",
    "    \n",
    "    specie_map = lambda x: x.split(\"_\")[-1]\n",
    "    protein_map = lambda x: x.split(\"_\")[-2]\n",
    "    res[\"specie\"] = res.proteins.map(specie_map)\n",
    "    res[\"ProteinName\"] = res.proteins\n",
    "    res = res.drop([\"proteins\"], axis = 1)\n",
    "    res = res.set_index([\"specie\", \"ProteinName\"])\n",
    "    df = pd.DataFrame(res.values, columns = midx, index = res.index)\n",
    "    return df\n",
    "#df = compute_triqler_top3_submodule(run)\n",
    "\n",
    "dfs = []\n",
    "for run in triq.run.unique():\n",
    "    dfs.append(compute_triqler_top3_submodule(run))\n",
    "     \n",
    "df = pd.concat(dfs, axis = 1)\n",
    "df # Check why we have more species than in the fasta??? Is this because of how we build the spectral library?\n",
    "df = df[df.index.get_level_values(\"specie\").isin([\"HUMAN\", \"ECOLI\", \"YEAST\"])]\n",
    "\n",
    "#df[df.index.get_level_values(\"specie\").isin([\"HUMAN\"])]\n",
    "#df[df.index.get_level_values(\"specie\").isin([\"ECOLI\"])]\n",
    "#df[df.index.get_level_values(\"specie\").isin([\"YEAST\"])]\n",
    "\n",
    "df = pd.concat(dfs, axis = 1)\n",
    "\n",
    "\n",
    "\n",
    "A = df[df.iloc[:, df.columns.get_level_values(\"sample_id\") == 1].isna().sum(axis=1)<2]\n",
    "A = A.iloc[:,A.columns.get_level_values(\"sample_id\") == 1]\n",
    "#A = np.log2(A)\n",
    "B = df[df.iloc[:, df.columns.get_level_values(\"sample_id\") == 2].isna().sum(axis=1)<2]\n",
    "B = B.iloc[:,B.columns.get_level_values(\"sample_id\") == 2]\n",
    "#B = np.log2(B)\n",
    "\n",
    "# Find overlapping proteins\n",
    "overlapping_proteins = list(set(A.index) & set(B.index))\n",
    "A = A[A.index.isin(overlapping_proteins)]\n",
    "B = B[B.index.isin(overlapping_proteins)]\n",
    "\n",
    "import scipy.stats as stats\n",
    "\n",
    "p_vals = stats.ttest_ind(A, B, axis = 1)[1]\n",
    "p_vals = pd.DataFrame(p_vals, columns = [\"p\"])\n",
    "p_vals[\"q\"] = qvalues(p_vals)\n",
    "p_vals = pd.DataFrame(p_vals.values, index = A.index, columns = [\"p\", \"q\"])\n",
    "p_vals.sort_values(\"q\",inplace =True)\n",
    "p_vals = p_vals.astype(float)\n",
    "\n",
    "A = np.log2(A.sum(axis=1))\n",
    "B = np.log2(B.sum(axis=1))\n",
    "\n",
    "A.name = \"1\"\n",
    "B.name = \"2\"\n",
    "\n",
    "df_final = pd.concat([A, B, p_vals], axis = 1)\n",
    "df_final[\"log2(A,B)\"] = df_final[\"1\"] - df_final[\"2\"]\n",
    "\n",
    "def pq_data(df_final, fc_treshold):\n",
    "    # two-side treshold because triqler uses two side treshold.\n",
    "    df_final_fc_gt = (df_final[df_final[\"log2(A,B)\"] > fc_treshold])\n",
    "    df_final_fc_lt = (df_final[df_final[\"log2(A,B)\"] < -fc_treshold])\n",
    "    df_final_fc = pd.concat([df_final_fc_gt, df_final_fc_lt])\n",
    "    n_array = []\n",
    "    for q in np.arange(0,0.101, 0.001):\n",
    "        n = (df_final_fc[\"q\"] <= q).sum()\n",
    "        n_array.append(n)\n",
    "    res = pd.DataFrame(n_array, index = np.arange(0,0.101, 0.001), columns = [\"DE\"])\n",
    "    return res\n",
    "\n",
    "\n",
    "\n",
    "import matplotlib.pyplot as plt\n",
    "\n",
    "specie = \"HUMAN\"\n",
    "\n",
    "def plot_pq(df_final, specie):\n",
    "    fig, axs = plt.subplots(2, 5)\n",
    "    row = 0\n",
    "    col = 0\n",
    "    for i in range(10):\n",
    "        fc =i*0.2\n",
    "        df = pq_data(df_final[df_final.index.get_level_values(\"specie\") == specie], fc_treshold = fc)\n",
    "        if i == 0:\n",
    "            y_lim = df.max()[0]\n",
    "        axs[row, col].plot(df.index, df.DE)\n",
    "        axs[row, col].set_ylim([0, y_lim])\n",
    "        axs[row, col].set_title(f\"fc = {fc}\")\n",
    "        axs[row, col].set_xlabel(\"q-value\")\n",
    "        axs[row, col].set_ylabel(\"n - Differentially expressed.\")\n",
    "        col += 1\n",
    "        if col == 5:\n",
    "            row +=1\n",
    "            col = 0\n",
    "    plt.suptitle(\"OSW top3 \" + specie)\n",
    "    plt.show()\n"
   ]
  },
  {
   "cell_type": "code",
   "execution_count": null,
   "metadata": {},
   "outputs": [],
   "source": [
    "\n",
    "import time\n",
    "from triqler_output_to_df import  parse_triqler\n",
    "\n",
    "os.chdir(\"/hdd_14T/data/PXD002952/20210614_dataset/diaumpire_spectral_lib_20210706/MSFragger_20210707/diann_20210811/triqler_results\")\n",
    "\n",
    "# filename has different formatting, we need to change number or implement regex.\n",
    "experiment_id_mapper = lambda x: x.split(\"_\")[5]\n",
    "sample_id_mapper = lambda x: x.split(\"_\")[8] #hye124 \n",
    "specie_mapper = lambda x: x.split(\"_\")[-1]\n",
    "\n",
    "def get_pq_data_triqler(q_val):\n",
    "    fc_tresh = []\n",
    "    n_hs = []\n",
    "    n_ye = []\n",
    "    n_ec = []\n",
    "    \n",
    "    for file in sorted(os.listdir()):       \n",
    "        fc = float(file.split(\"_\")[1])\n",
    "        df_triq = parse_triqler(file)\n",
    "        # Added specie mapping... need to check the problem with BOVIN, SCVLA proteins???\n",
    "        #print(df_triq)\n",
    "        df_triq[\"specie\"] = df_triq.protein.map(specie_mapper)\n",
    "        df_triq[\"protein\"] = df_triq[\"protein\"] + \"_\" + df_triq[\"specie\"]\n",
    "        df_triq = df_triq[df_triq[\"specie\"].isin([\"HUMAN\", \"ECOLI\", \"YEAST\"])]\n",
    "        df_triq = df_triq[df_triq.q_value < q_val]\n",
    "        #df_triq[\"specie\"] = df_triq.protein.map(specie_mapper)\n",
    "        n_hs.append((df_triq[\"specie\"] == \"HUMAN\").sum())\n",
    "        n_ye.append((df_triq[\"specie\"] == \"YEAST\").sum())\n",
    "        n_ec.append((df_triq[\"specie\"] == \"ECOLI\").sum())\n",
    "        fc_tresh.append(fc)\n",
    "    \n",
    "    df =pd.DataFrame(np.array([n_hs, n_ye, n_ec]).T, index = fc_tresh, columns = [\"HUMAN\", \"YEAST\", \"ECOLI\"])\n",
    "    return df\n",
    "\n",
    "\n",
    "#start = time.time()\n",
    "def get_DE_for_fcs(fcs =  [round(i*0.2,2) for i in range(9)] + [0.68]):\n",
    "    qs = []\n",
    "    dfs = []\n",
    "    for q in np.arange(0,0.101, 0.001):\n",
    "        qs.append(q)\n",
    "        dfs.append(get_pq_data_triqler(q))\n",
    "        #print(time.time()-start)\n",
    "    end = time.time()\n",
    "    #print(end-start)\n",
    "    \n",
    "    fcs = fcs\n",
    "    fcs.sort()\n",
    "    res = []\n",
    "    for fc in fcs:\n",
    "        vals = []\n",
    "        for df in dfs:\n",
    "            val = list(df[df.index == fc].values[0])\n",
    "            vals.append(val)    \n",
    "        df_res = pd.DataFrame(vals, index = np.arange(0,0.101, 0.001), columns = [\"HUMAN\", \"YEAST\", \"ECOLI\"])\n",
    "        res.append(df_res)\n",
    "    return res\n",
    "fcs =  [round(i*0.04,2) for i in range(20)]\n",
    "\n",
    "res = get_DE_for_fcs( fcs = fcs)\n"
   ]
  },
  {
   "cell_type": "code",
   "execution_count": null,
   "metadata": {},
   "outputs": [],
   "source": [
    "\n",
    "os.chdir(\"/hdd_14T/data/PXD002952/20210614_dataset/diaumpire_spectral_lib_20210706/MSFragger_20210707/diann_20210811\")\n",
    "\n",
    "msqrob = pd.read_csv(\"msqrobsum_result.csv\", sep = \"\\t\")\n",
    "msqrob[\"specie\"] = msqrob.proteins.map(specie_mapper)\n",
    "\n",
    "msqrob\n",
    "\n",
    "def msqrob_pq_data(msqrob, fc):\n",
    "    msqrob_gt = msqrob[msqrob.logFC > fc]\n",
    "    msqrob_lt = msqrob[msqrob.logFC < -fc]\n",
    "    msqrob_fc = pd.concat([msqrob_gt, msqrob_lt])\n",
    "    n_array = []\n",
    "    for q in np.arange(0,0.101, 0.001):\n",
    "        n = (msqrob_fc[\"qvalue\"] <= q).sum()\n",
    "        n_array.append(n)\n",
    "    res = pd.DataFrame(n_array, index = np.arange(0,0.101, 0.001), columns = [\"DE\"])\n",
    "    return res\n"
   ]
  },
  {
   "cell_type": "code",
   "execution_count": null,
   "metadata": {},
   "outputs": [],
   "source": [
    "def msstats_pq_data(ms, fc):\n",
    "    # ms = pd.read_csv(\"msstats.csv\")\n",
    "    ms_gt = ms[ms.log2FC > fc]\n",
    "    ms_lt = ms[ms.log2FC < -fc]\n",
    "    ms_fc = pd.concat([ms_gt, ms_lt])\n",
    "    n_array = []\n",
    "    for q in np.arange(0,0.101, 0.001):\n",
    "        n = (ms_fc[\"adj.pvalue\"] <= q).sum()\n",
    "        n_array.append(n)\n",
    "    res = pd.DataFrame(n_array, index = np.arange(0,0.101, 0.001), columns = [\"DE\"])\n",
    "    return res\n",
    "\n",
    "# MSSTATS\n",
    "#os.chdir(\"/hdd_14T/data/PXD002952/20210805_osw_run/msstats_results\")\n",
    "\n",
    "ms = pd.read_csv(\"msstat_output_filtered.csv\")\n",
    "ms[\"specie\"] = ms.Protein.map(specie_mapper)"
   ]
  },
  {
   "cell_type": "markdown",
   "metadata": {},
   "source": [
    "# Same code but for osw"
   ]
  },
  {
   "cell_type": "code",
   "execution_count": null,
   "metadata": {},
   "outputs": [],
   "source": [
    "\n",
    "import pandas as pd\n",
    "import numpy as np\n",
    "\n",
    "from scipy import stats\n",
    "\n",
    "import os \n",
    "\n",
    "os.chdir(\"/home/ptruong/git/dia_sum/scripts/PXD002952\")\n",
    "\n",
    "from q_value import qvalues\n",
    "from triqler_output_to_df import  parse_triqler\n",
    "os.chdir(\"/hdd_14T/data/PXD002952/20210805_osw_run\")\n",
    "\n",
    "\n",
    "\n",
    "# filename has different formatting, we need to change number or implement regex.\n",
    "experiment_id_mapper = lambda x: x.split(\"_\")[5]\n",
    "sample_id_mapper = lambda x: x.split(\"_\")[8] #hye124 \n",
    "specie_mapper = lambda x: x.split(\"_\")[-1]\n",
    "def decoy_mapper(x):\n",
    "    if x.split(\"_\")[0] == \"DECOY\":\n",
    "        return True\n",
    "    else:\n",
    "        return False\n",
    "    \n",
    "def read_in_and_filter(filename, m_score_treshold = 0.01):  \n",
    "    print(filename)\n",
    "    df = pd.read_csv(filename, sep = \"\\t\")\n",
    "    df = df[df.decoy != 1]\n",
    "    df = df[df.m_score < m_score_treshold] # filter away crap, so all values should be good... we take average of top3 here\n",
    "    print(str(len(df)) + \" significantly identified peptides at \" + str(m_score_treshold) + \" FDR-treshold.\")\n",
    "    df[\"experiment_id\"] = df[\"filename\"].map(experiment_id_mapper)\n",
    "    df[\"sample_id\"] = df[\"filename\"].map(sample_id_mapper)\n",
    "    sample_id = df.sample_id.unique()[0]\n",
    "    experiment_id = df.experiment_id.unique()[0]     \n",
    "    def top3(df):\n",
    "        df = (df.groupby('ProteinName')['Intensity'].apply(lambda x: x.nlargest(3).mean() if len(x.nlargest(3)) >= 2 else np.nan)\n",
    "                  .reset_index())\n",
    "        #print(df.isna().sum())\n",
    "        return df\n",
    "    df_reduced = df[[\"ProteinName\", \"Intensity\"]]\n",
    "    df_protein = top3(df_reduced)\n",
    "    df = df_protein\n",
    "    df[\"specie\"] = df.ProteinName.map(specie_mapper)\n",
    "    print(f\"Proteins {len(df.ProteinName.unique())}\")\n",
    "    print(\"\")\n",
    "    midx = pd.MultiIndex(levels = [[sample_id],[experiment_id]], codes = [[0],[0]], names = [\"sample_id\", \"experiment_id\"])\n",
    "    df = df.set_index([\"specie\", \"ProteinName\"])\n",
    "    df = pd.DataFrame(df.values, columns = midx, index = df.index)\n",
    "    \n",
    "    return df\n",
    "\n",
    "\n",
    "\n",
    "# highest scoring vs top highest intenstiy peptide?\n",
    "# We take top3 intensity because we filter away so much with m_score < 0.01, all values should be good.\n",
    "\n",
    "dfs = []\n",
    "for file in os.listdir():\n",
    "    if file[-10:] == \"dscore.csv\":\n",
    "        dfs.append(read_in_and_filter(file, m_score_treshold=0.01))\n",
    "        #print(len(df_part))\n",
    "        #df = pd.concat([df, df_part],axis = 1)        \n",
    "df = pd.concat(dfs, axis = 1)\n",
    "\n",
    "df[\"decoy\"] = df.index.get_level_values(\"ProteinName\").map(decoy_mapper) \n",
    "df.decoy.sum()\n",
    "\n",
    "A = df[df.iloc[:, df.columns.get_level_values(\"sample_id\") == \"1\"].isna().sum(axis=1)<2]\n",
    "A = A.iloc[:,A.columns.get_level_values(\"sample_id\") == \"1\"]\n",
    "#A = np.log2(A)\n",
    "B = df[df.iloc[:, df.columns.get_level_values(\"sample_id\") == \"2\"].isna().sum(axis=1)<2]\n",
    "B = B.iloc[:,B.columns.get_level_values(\"sample_id\") == \"2\"]\n",
    "#B = np.log2(B)\n",
    "\n",
    "# Find overlapping proteins\n",
    "overlapping_proteins = list(set(A.index) & set(B.index))\n",
    "A = A[A.index.isin(overlapping_proteins)]\n",
    "B = B[B.index.isin(overlapping_proteins)]\n",
    "\n",
    "\n",
    "\n",
    "\n",
    "\n",
    "import scipy.stats as stats\n",
    "\n",
    "p_vals = stats.ttest_ind(A, B, axis = 1)[1]\n",
    "p_vals = pd.DataFrame(p_vals, columns = [\"p\"])\n",
    "p_vals[\"q\"] = qvalues(p_vals)\n",
    "p_vals = pd.DataFrame(p_vals.values, index = A.index, columns = [\"p\", \"q\"])\n",
    "p_vals.sort_values(\"q\",inplace =True)\n",
    "p_vals = p_vals.astype(float)\n",
    "\n",
    "A = np.log2(A.sum(axis=1))\n",
    "B = np.log2(B.sum(axis=1))\n",
    "\n",
    "A.name = \"1\"\n",
    "B.name = \"2\"\n",
    "\n",
    "df_final_osw = pd.concat([A, B, p_vals], axis = 1)\n",
    "df_final_osw[\"log2(A,B)\"] = df_final_osw[\"1\"] - df_final_osw[\"2\"]\n",
    "\n",
    "def pq_data(df_final, fc_treshold):\n",
    "    # two-side treshold because triqler uses two side treshold.\n",
    "    df_final_fc_gt = (df_final[df_final[\"log2(A,B)\"] > fc_treshold])\n",
    "    df_final_fc_lt = (df_final[df_final[\"log2(A,B)\"] < -fc_treshold])\n",
    "    df_final_fc = pd.concat([df_final_fc_gt, df_final_fc_lt])\n",
    "    n_array = []\n",
    "    for q in np.arange(0,0.101, 0.001):\n",
    "        n = (df_final_fc[\"q\"] <= q).sum()\n",
    "        n_array.append(n)\n",
    "    res = pd.DataFrame(n_array, index = np.arange(0,0.101, 0.001), columns = [\"DE\"])\n",
    "    return res"
   ]
  },
  {
   "cell_type": "code",
   "execution_count": null,
   "metadata": {},
   "outputs": [],
   "source": [
    "\n",
    "import time\n",
    "from triqler_output_to_df import  parse_triqler\n",
    "os.chdir(\"/hdd_14T/data/PXD002952/20210805_osw_run/triqler_results\")\n",
    "\n",
    "def get_pq_data_triqler(q_val):\n",
    "    fc_tresh = []\n",
    "    n_hs = []\n",
    "    n_ye = []\n",
    "    n_ec = []\n",
    "    \n",
    "    for file in sorted(os.listdir()):       \n",
    "        fc = float(file.split(\"_\")[1])\n",
    "        df_triq = parse_triqler(file)\n",
    "        df_triq = df_triq[df_triq.q_value < q_val]\n",
    "        df_triq[\"specie\"] = df_triq.protein.map(specie_mapper)\n",
    "        n_hs.append((df_triq[\"specie\"] == \"HUMAN\").sum())\n",
    "        n_ye.append((df_triq[\"specie\"] == \"YEAST\").sum())\n",
    "        n_ec.append((df_triq[\"specie\"] == \"ECOLI\").sum())\n",
    "        fc_tresh.append(fc)\n",
    "    \n",
    "    df =pd.DataFrame(np.array([n_hs, n_ye, n_ec]).T, index = fc_tresh, columns = [\"HUMAN\", \"YEAST\", \"ECOLI\"])\n",
    "    return df\n",
    "\n",
    "def map_decoy(x):\n",
    "    if x.split(\"_\")[0] == \"DECOY\":\n",
    "        return True\n",
    "    else:\n",
    "        return False\n",
    "\n",
    "#start = time.time()\n",
    "def get_DE_for_fcs(fcs =  [round(i*0.2,2) for i in range(9)] + [0.68]):\n",
    "    qs = []\n",
    "    dfs = []\n",
    "    for q in np.arange(0,0.101, 0.001):\n",
    "        qs.append(q)\n",
    "        dfs.append(get_pq_data_triqler(q))\n",
    "        #print(time.time()-start)\n",
    "    end = time.time()\n",
    "    #print(end-start)\n",
    "    \n",
    "    fcs = fcs\n",
    "    fcs.sort()\n",
    "    res = []\n",
    "    for fc in fcs:\n",
    "        vals = []\n",
    "        for df in dfs:\n",
    "            val = list(df[df.index == fc].values[0])\n",
    "            vals.append(val)    \n",
    "        df_res = pd.DataFrame(vals, index = np.arange(0,0.101, 0.001), columns = [\"HUMAN\", \"YEAST\", \"ECOLI\"])\n",
    "        res.append(df_res)\n",
    "    return res\n",
    "\n",
    "res_osw = get_DE_for_fcs( fcs = fcs)\n"
   ]
  },
  {
   "cell_type": "code",
   "execution_count": null,
   "metadata": {},
   "outputs": [],
   "source": [
    "def msstats_pq_data(ms, fc):\n",
    "    # ms = pd.read_csv(\"msstats.csv\")\n",
    "    ms_gt = ms[ms.log2FC > fc]\n",
    "    ms_lt = ms[ms.log2FC < -fc]\n",
    "    ms_fc = pd.concat([ms_gt, ms_lt])\n",
    "    n_array = []\n",
    "    for q in np.arange(0,0.101, 0.001):\n",
    "        n = (ms_fc[\"adj.pvalue\"] <= q).sum()\n",
    "        n_array.append(n)\n",
    "    res = pd.DataFrame(n_array, index = np.arange(0,0.101, 0.001), columns = [\"DE\"])\n",
    "    return res\n",
    "\n",
    "# MSSTATS\n",
    "os.chdir(\"/hdd_14T/data/PXD002952/20210805_osw_run/msstats_results\")\n",
    "\n",
    "ms_osw = pd.read_csv(\"msstats_output_filtered.csv\")\n",
    "ms_osw[\"specie\"] = ms_osw.Protein.map(specie_mapper)\n",
    "\n",
    "ms_osw[ms_osw.specie == \"YEAS8\"]\n",
    "\n"
   ]
  },
  {
   "cell_type": "code",
   "execution_count": null,
   "metadata": {},
   "outputs": [],
   "source": [
    "#os.chdir(\"/home/ptruong/git/MSqRobSum/inst/extdata\")\n",
    "os.chdir(\"/hdd_14T/data/PXD002952/20210805_osw_run/msrobsum_results\")\n",
    "\n",
    "msqrob_osw = pd.read_csv(\"msqrobsum_result.csv\", sep = \"\\t\")\n",
    "msqrob_osw[\"specie\"] = msqrob_osw.proteins.map(specie_mapper)\n",
    "\n",
    "\n",
    "def msqrob_pq_data(msqrob, fc):\n",
    "    msqrob_gt = msqrob[msqrob.logFC > fc]\n",
    "    msqrob_lt = msqrob[msqrob.logFC < -fc]\n",
    "    msqrob_fc = pd.concat([msqrob_gt, msqrob_lt])\n",
    "    n_array = []\n",
    "    for q in np.arange(0,0.101, 0.001):\n",
    "        n = (msqrob_fc[\"qvalue\"] <= q).sum()\n",
    "        n_array.append(n)\n",
    "    res = pd.DataFrame(n_array, index = np.arange(0,0.101, 0.001), columns = [\"DE\"])\n",
    "    return res\n",
    "\n",
    "#msqrob_pq_data(msqrob, fc = 0.2)"
   ]
  },
  {
   "cell_type": "code",
   "execution_count": null,
   "metadata": {},
   "outputs": [],
   "source": [
    "len(ms)"
   ]
  },
  {
   "cell_type": "code",
   "execution_count": null,
   "metadata": {},
   "outputs": [],
   "source": [
    "ms.replace([np.inf, -np.inf], np.nan, inplace=True)"
   ]
  },
  {
   "cell_type": "code",
   "execution_count": null,
   "metadata": {},
   "outputs": [],
   "source": [
    "ms.dropna(subset=[\"log2FC\"], inplace = True)"
   ]
  },
  {
   "cell_type": "code",
   "execution_count": null,
   "metadata": {},
   "outputs": [],
   "source": [
    "\n",
    "#Rewrite this to function subplot\n",
    "def plot_pq_specie(specie, fcs =  [round(i*0.2,2) for i in range(9)] + [0.68]):\n",
    "    fig, axs = plt.subplots(4, 5, figsize=(20,15))\n",
    "    row = 0\n",
    "    col = 0\n",
    "    #specie = \"ECOLI\"\n",
    "    fcs = fcs\n",
    "    fcs.sort()\n",
    "    for i in range(20):\n",
    "        fc = fcs[i]\n",
    "        if specie == \"all\":\n",
    "            res[i].sum(axis=1).plot(ax = axs[row,col]) #triqler data plot\n",
    "            df = pq_data(df_final, fc_treshold = fc)\n",
    "            df_ms = msstats_pq_data(ms, fc = fc)\n",
    "            df_msqrob = msqrob_pq_data(msqrob, fc = fc)\n",
    "        else:\n",
    "            res[i][specie].plot(ax = axs[row,col]) #triqler data plot\n",
    "            df = pq_data(df_final[df_final.index.get_level_values(\"specie\") == specie], fc_treshold = fc)\n",
    "            df_ms = msstats_pq_data(ms[ms.specie == specie], fc = fc)\n",
    "            df_msqrob = msqrob_pq_data(msqrob[msqrob.specie == specie], fc = fc)\n",
    "        axs[row, col].plot(df.index, df.DE) # plot osw top3\n",
    "        axs[row, col].plot(df_ms.index, df_ms.DE) # plot MSSTATS\n",
    "        axs[row, col].plot(df_msqrob.index, df_msqrob.DE) # plot msqrob\n",
    "        axs[row, col].legend(labels=[\"Triqler\", \"OSW Top3\", \"msStats\", \"mSqRob\"])\n",
    "        axs[row, col].set_title(f\"fc = {fc}\")\n",
    "        axs[row, col].set_xlabel(\"q-value\")\n",
    "        axs[row, col].set_ylabel(\"n - Differentially expressed.\")\n",
    "        col+=1\n",
    "        if col == 5:\n",
    "            row+=1\n",
    "            col=0\n",
    "    plt.suptitle(f\"Differentially expressed proteins {specie} ( True ratios 1:1 for human, 2:1 for yeast, and 1:4 for E.coli )\")# + specie)\n",
    "    plt.show()\n",
    "\n",
    "\n",
    "\n",
    "#Rewrite this to function subplot\n",
    "def plot_pq_specie_FP(specie, fcs):\n",
    "    fig, axs = plt.subplots(4, 5, figsize=(20,15))\n",
    "    row = 0\n",
    "    col = 0\n",
    "    #specie = \"ECOLI\"\n",
    "    fcs = fcs\n",
    "    fcs.sort()\n",
    "    for i in range(20):\n",
    "        fc = fcs[i]\n",
    "        \n",
    "        if specie == \"all\":\n",
    "            df = pq_data(df_final, fc_treshold = fc)\n",
    "            df_triq = res[i].sum(axis=1)\n",
    "            df_ms = msstats_pq_data(ms, fc = fc)\n",
    "            df_msqrob = msqrob_pq_data(msqrob, fc = fc)\n",
    "        else:\n",
    "            df = pq_data(df_final[df_final.index.get_level_values(\"specie\") == specie], fc_treshold = fc)\n",
    "            df_triq = res[i][specie]\n",
    "            df_ms = msstats_pq_data(ms[ms.specie == specie], fc = fc)\n",
    "            df_msqrob = msqrob_pq_data(msqrob[msqrob.specie == specie], fc = fc)\n",
    "\n",
    "        # False positives\n",
    "        df_FP = pq_data(df_final[df_final.index.get_level_values(\"specie\") == \"HUMAN\"], fc_treshold = fc)\n",
    "        df_triq_FP = res[i][\"HUMAN\"]\n",
    "        df_ms_FP = msstats_pq_data(ms[ms.specie == \"HUMAN\"], fc = fc)\n",
    "        df_msqrob_FP = msqrob_pq_data(msqrob[msqrob.specie == \"HUMAN\"], fc = fc)\n",
    "        \"\"\"\n",
    "        if fc >= 1.0:\n",
    "            df_FP_yeast = pq_data(df_final[df_final.index.get_level_values(\"specie\") == \"YEAST\"], fc_treshold = fc)\n",
    "            df_triq_FP_yeast = res[i][\"YEAST\"]\n",
    "            df_ms_FP_yeast = msstats_pq_data(ms[ms.specie == \"YEAST\"], fc = fc)\n",
    "            df_msqrob_FP_yeast = msqrob_pq_data(msqrob[msqrob.specie == \"YEAST\"], fc = fc)\n",
    "            \n",
    "            df_FP += df_FP_yeast\n",
    "            df_triq_FP += df_triq_FP_yeast\n",
    "            df_ms_FP += df_ms_FP_yeast\n",
    "            df_msqrob_FP += df_msqrob_FP_yeast\n",
    "        \"\"\" \n",
    "        df_triq.plot(ax = axs[row,col], style = \"b\") #triqler data plot\n",
    "        axs[row, col].plot(df.index, df.DE, \"k\") # plot osw top3\n",
    "        axs[row, col].plot(df_ms.index, df_ms.DE, \"g\") # plot MSSTATS\n",
    "        axs[row, col].plot(df_msqrob.index, df_msqrob.DE, \"r\") # plot msqrob\n",
    "        \n",
    "        # Plot False positives\n",
    "        #res[i][\"HUMAN\"].plot(ax = axs[row,col], style=\"b--\") #triqler data plot\n",
    "        df_triq_FP.plot(ax = axs[row, col], style=\"b--\")\n",
    "        axs[row, col].plot(df.index, df_FP.DE, \"k--\") # plot osw top3\n",
    "        #axs[row, col].plot(df_ms.index, df_ms_FP.DE, \"g--\") # plot MSSTATS\n",
    "        axs[row, col].plot(df_msqrob.index, df_msqrob_FP.DE, \"r--\") # plot msqrob\n",
    "        \n",
    "\n",
    "        #axs[row, col].legend(labels=[\"Triqler\", \"OSW Top3\", \"msStats\", \"mSqRob\",\n",
    "        #                              \"Triqler FP\", \"OSW Top3 FP\", \"msStats FP\", \"mSqRob FP\" ])\n",
    "        \n",
    "        \n",
    "        axs[row, col].legend(labels=[\"Triqler\", \"OSW Top3\", \"msStat\", \"mSqRob\",\n",
    "                                      \"Triqler FP\", \"OSW Top3 FP\", \"msStats FP\", \"mSqRob FP\" ])\n",
    "        \n",
    "        axs[row, col].set_title(f\"fc = {fc}\")\n",
    "        axs[row, col].set_xlabel(\"q-value\")\n",
    "        axs[row, col].set_ylabel(\"n - Differentially expressed.\")\n",
    "        col+=1\n",
    "        if col == 5:\n",
    "            row+=1\n",
    "            col=0\n",
    "    plt.suptitle(f\"Differentially expressed proteins {specie} ( True ratios 1:1 for human, 2:1 for yeast, and 1:4 for E.coli )\")# + specie)\n",
    "    plt.show()\n",
    "\n",
    "\n",
    "#FP ratio\n",
    "def plot_ratio_FP_DE(specie, fcs):\n",
    "    fig, axs = plt.subplots(4, 5,figsize=(20,15))\n",
    "    row = 0\n",
    "    col = 0\n",
    "    #specie = \"ECOLI\"\n",
    "    fcs = fcs\n",
    "    fcs.sort()\n",
    "    for i in range(20):\n",
    "        fc = fcs[i]\n",
    "        if specie == \"all\":\n",
    "            df = (pq_data(df_final[df_final.index.get_level_values(\"specie\") == \"HUMAN\"], fc_treshold = fc) / \n",
    "                  pq_data(df_final, fc_treshold = fc))\n",
    "            df_triq = (res[i][\"HUMAN\"] / \n",
    "                       res[i].sum(axis=1))\n",
    "            df_ms = (msstats_pq_data(ms[ms.specie == \"HUMAN\"], fc = fc) / \n",
    "                     msstats_pq_data(ms, fc = fc))\n",
    "            df_msqrob = (msqrob_pq_data(msqrob[msqrob.specie == \"HUMAN\"], fc = fc) / \n",
    "                         msqrob_pq_data(msqrob, fc = fc))        \n",
    "        else:\n",
    "            df = (pq_data(df_final[df_final.index.get_level_values(\"specie\") == \"HUMAN\"], fc_treshold = fc) / \n",
    "                  pq_data(df_final[df_final.index.get_level_values(\"specie\") == specie], fc_treshold = fc))\n",
    "            df_triq = (res[i][\"HUMAN\"] / \n",
    "                       res[i][specie])\n",
    "            df_ms = (msstats_pq_data(ms[ms.specie == \"HUMAN\"], fc = fc) / \n",
    "                     msstats_pq_data(ms[ms.specie == specie], fc = fc))\n",
    "            df_msqrob = (msqrob_pq_data(msqrob[msqrob.specie == \"HUMAN\"], fc = fc) / \n",
    "                         msqrob_pq_data(msqrob[msqrob.specie == specie], fc = fc))        \n",
    "\n",
    "        df_triq.plot(ax = axs[row, col], style = \"b\") # triqler data plot\n",
    "        axs[row, col].plot(df.index, df.DE, \"m\") # plot osw top3\n",
    "        axs[row, col].plot(df_ms.index, df_ms.DE, \"g\") # plot MSSTATS\n",
    "        axs[row, col].plot(df_msqrob.index, df_msqrob.DE, \"r\") # plot msqrob\n",
    "\n",
    "        axs[row, col].legend(labels=[\"Triqler\", \"OSW Top3\", \"msStats\", \"mSqRob\", ])\n",
    "        #axs[row, col].legend(labels=[\"Triqler\", \"OSW Top3\", \"mSqRob\", ])\n",
    "        axs[row, col].set_title(f\"fc = {fc}\")\n",
    "        axs[row, col].set_xlabel(\"q-value\")\n",
    "        axs[row, col].set_ylabel(\"ratio FP/DE - Differentially expressed.\")\n",
    "        \n",
    "        def abline(slope, intercept, row, col):\n",
    "            \"\"\"Plot a line from slope and intercept\"\"\"\n",
    "            axes = plt.gca()\n",
    "            x_vals = np.array(axs[row,col].get_xlim())\n",
    "            y_vals = intercept + slope * x_vals\n",
    "            axs[row,col].plot(x_vals, y_vals, 'k--', alpha = 0.7)\n",
    "        abline(1,0,row,col)\n",
    "        col+=1\n",
    "        if col == 5:\n",
    "            row+=1\n",
    "            col=0\n",
    "    plt.suptitle(f\"Ratio FP / Differentially expressed proteins ( True ratios 1:1 for human, 2:1 for yeast, and 1:4 for E.coli )\")# + specie)\n",
    "    plt.show()\n",
    "\n",
    "\n",
    "\n",
    "\n",
    "#Rewrite this to function subplot\n",
    "def plot_de_specie_xy(specie_x, specie_y, fcs):\n",
    "    fig, axs = plt.subplots(4, 5, figsize=(20,15))\n",
    "    row = 0\n",
    "    col = 0\n",
    "    #specie = \"ECOLI\"\n",
    "    fcs = fcs\n",
    "    fcs.sort()\n",
    "    for i in range(20):\n",
    "        fc = fcs[i]\n",
    "        \n",
    "        df_triq_x = res[i][specie_x]\n",
    "        df_x = pq_data(df_final[df_final.index.get_level_values(\"specie\") == specie_x], fc_treshold = fc)\n",
    "        df_ms_x = msstats_pq_data(ms[ms.specie == specie_x], fc = fc)\n",
    "        df_msqrob_x = msqrob_pq_data(msqrob[msqrob.specie == specie_x], fc = fc)\n",
    "        \n",
    "        df_triq_y = res[i][specie_y]\n",
    "        df_y = pq_data(df_final[df_final.index.get_level_values(\"specie\") == specie_y], fc_treshold = fc)\n",
    "        df_ms_y = msstats_pq_data(ms[ms.specie == specie_y], fc = fc)\n",
    "        df_msqrob_y = msqrob_pq_data(msqrob[msqrob.specie == specie_y], fc = fc)\n",
    "        \n",
    "        #df_triq_x.plot(ax = axs[row,col]) #triqler data plot        \n",
    "        #axs[row, col].plot(df.index, df.DE) # plot osw top3\n",
    "        #axs[row, col].plot(df_ms.index, df_ms.DE) # plot MSSTATS\n",
    "        #axs[row, col].plot(df_msqrob.index, df_msqrob.DE) # plot msqrob\n",
    "        \n",
    "        axs[row, col].plot(df_triq_x.values, df_triq_y.values)\n",
    "        axs[row, col].plot(df_x.values, df_y.values)\n",
    "        axs[row, col].plot(df_ms_x.values, df_ms_y.values)\n",
    "        axs[row, col].plot(df_msqrob_x.values, df_msqrob_y.values)\n",
    "        \n",
    "        axs[row, col].legend(labels=[\"Triqler\", \"OSW Top3\", \"msStats\", \"mSqRob\"])\n",
    "        #axs[row, col].legend(labels=[\"Triqler\", \"OSW Top3\", \"mSqRob\"])\n",
    "        axs[row, col].set_title(f\"fc = {fc}\")\n",
    "        axs[row, col].set_xlabel(f\"n - Differentially expressed {specie_x}\")\n",
    "        axs[row, col].set_ylabel(f\"n - Differentially expressed {specie_y}\")\n",
    "        col+=1\n",
    "        if col == 5:\n",
    "            row+=1\n",
    "            col=0\n",
    "    plt.suptitle(f\"Differentially expressed proteins specie ratio ( True ratios 1:1 for human, 2:1 for yeast, and 1:4 for E.coli )\")# + specie)\n",
    "    plt.show()"
   ]
  },
  {
   "cell_type": "code",
   "execution_count": null,
   "metadata": {},
   "outputs": [],
   "source": [
    "\n",
    "# diann\n",
    "print(\"DIANN\")\n",
    "print(f\"df_final: {len(df_final)}\")\n",
    "print(f\"ms: {len(ms)}\")\n",
    "print(f\"msqrob: {len(msqrob)}\")\n",
    "print(f\"res: {len(res)}\")\n",
    "print()\n",
    "\n",
    "\n",
    "#osw\n",
    "print(\"OSW\")\n",
    "print(f\"df_final_osw: {len(df_final_osw)}\")\n",
    "print(f\"ms_osw: {len(ms_osw)}\")\n",
    "print(f\"msqrob_osw: {len(msqrob_osw)}\")\n",
    "print(f\"res_osw: {len(res_osw)}\")"
   ]
  },
  {
   "cell_type": "markdown",
   "metadata": {},
   "source": [
    "## N-differentially expressed proteins\n",
    "This is used to show number of differentially expresed proteins"
   ]
  },
  {
   "cell_type": "code",
   "execution_count": null,
   "metadata": {},
   "outputs": [],
   "source": [
    "row = 0\n",
    "col = 0\n",
    "\n",
    "def plot_pq(specie, linewidth, legend = True):\n",
    "    triq = res[10] # fcs[10] is 0.4 in this case\n",
    "    \n",
    "    if specie == \"all\":\n",
    "        df = pq_data(df_final, fc_treshold = 0.4)\n",
    "        #df_triq = res[i].sum(axis=1)\n",
    "        df_ms = msstats_pq_data(ms, fc = 0.4)\n",
    "        df_msqrob = msqrob_pq_data(msqrob, fc = 0.4)\n",
    "        triq.sum(axis=1).plot(ax = axs, linewidth=linewidth)\n",
    "\n",
    "    else:\n",
    "        df = pq_data(df_final[df_final.index.get_level_values(\"specie\") == specie], fc_treshold = 0.4)\n",
    "        df_ms = msstats_pq_data(ms[ms.specie == specie], fc = 0.4)\n",
    "        df_msqrob = msqrob_pq_data(msqrob[msqrob.specie == specie], fc = 0.4)\n",
    "        triq[specie].plot(ax = axs, linewidth=linewidth)\n",
    "    \n",
    "    axs.plot(df.index, df.DE, linewidth=linewidth) # plot osw top3\n",
    "    axs.plot(df_ms.index, df_ms.DE, linewidth=linewidth) # plot MSSTATS\n",
    "    axs.plot(df_msqrob.index, df_msqrob.DE, linewidth=linewidth) # plot msqrob\n",
    "    if legend == True:\n",
    "        axs.legend(labels=[\"Triqler\", \"Top3\", \"msStats\", \"mSqRob\"], fontsize = 16)\n",
    "    axs.set_title(f\"DIANN, {specie} (fc = {0.4})\",  fontsize=18, fontweight='bold')\n",
    "    axs.set_xlabel(\"q-value\", fontsize=18, fontweight='bold')\n",
    "    axs.set_ylabel(\"n - Differentially expressed.\", fontsize=18, fontweight='bold')\n",
    "    \n"
   ]
  },
  {
   "cell_type": "code",
   "execution_count": null,
   "metadata": {},
   "outputs": [],
   "source": [
    "\n",
    "fig, axs = plt.subplots(1,1, figsize = (20,15))\n",
    "fc = 0.4\n",
    "plot_pq(\"HUMAN\", linewidth = 4, legend = True)\n"
   ]
  },
  {
   "cell_type": "code",
   "execution_count": null,
   "metadata": {},
   "outputs": [],
   "source": [
    "fig, axs = plt.subplots(1,1, figsize = (20,15))\n",
    "fc = 0.4\n",
    "plot_pq(\"YEAST\", linewidth = 4, legend = False)\n"
   ]
  },
  {
   "cell_type": "code",
   "execution_count": null,
   "metadata": {},
   "outputs": [],
   "source": [
    "fig, axs = plt.subplots(1,1, figsize = (20,15))\n",
    "fc = 0.4\n",
    "plot_pq(\"ECOLI\", linewidth = 4, legend = False)\n"
   ]
  },
  {
   "cell_type": "code",
   "execution_count": null,
   "metadata": {},
   "outputs": [],
   "source": [
    "fig, axs = plt.subplots(1,1, figsize = (20,15))\n",
    "fc = 0.4\n",
    "plot_pq(\"all\", linewidth = 4, legend = False)\n"
   ]
  },
  {
   "cell_type": "code",
   "execution_count": null,
   "metadata": {},
   "outputs": [],
   "source": [
    "def plot_pq_osw(specie, linewidth, legend):\n",
    "    triq = res_osw[10] # fcs[10] is 0.4 in this case\n",
    "    \n",
    "    if specie == \"all\":\n",
    "        df = pq_data(df_final_osw, fc_treshold = 0.4)\n",
    "        #df_triq = res[i].sum(axis=1)\n",
    "        df_ms = msstats_pq_data(ms_osw, fc = 0.4)\n",
    "        df_msqrob = msqrob_pq_data(msqrob_osw, fc = 0.4)\n",
    "        triq.sum(axis=1).plot(ax = axs, linewidth=linewidth)\n",
    "\n",
    "    else:\n",
    "        df = pq_data(df_final_osw[df_final_osw.index.get_level_values(\"specie\") == specie], fc_treshold = 0.4)\n",
    "        df_ms = msstats_pq_data(ms_osw[ms_osw.specie == specie], fc = 0.4)\n",
    "        df_msqrob = msqrob_pq_data(msqrob_osw[msqrob_osw.specie == specie], fc = 0.4)\n",
    "        triq[specie].plot(ax = axs, linewidth=linewidth)\n",
    "    \n",
    "    axs.plot(df.index, df.DE, linewidth=linewidth) # plot osw top3\n",
    "    axs.plot(df_ms.index, df_ms.DE, linewidth=linewidth) # plot MSSTATS\n",
    "    axs.plot(df_msqrob.index, df_msqrob.DE, linewidth=linewidth) # plot msqrob\n",
    "    if legend == True:\n",
    "        axs.legend(labels=[\"Triqler\", \"Top3\", \"msStats\", \"mSqRob\"], fontsize = 16)\n",
    "    axs.set_title(f\"OSW, {specie} (fc = {0.4})\",  fontsize=18, fontweight='bold')\n",
    "    axs.set_xlabel(\"q-value\", fontsize=18, fontweight='bold')\n",
    "    axs.set_ylabel(\"n - Differentially expressed.\", fontsize=18, fontweight='bold')\n",
    "    "
   ]
  },
  {
   "cell_type": "code",
   "execution_count": null,
   "metadata": {},
   "outputs": [],
   "source": [
    "fig, axs = plt.subplots(1,1, figsize = (20,15))\n",
    "fc = 0.4\n",
    "plot_pq_osw(\"HUMAN\", linewidth = 4, legend = False)"
   ]
  },
  {
   "cell_type": "code",
   "execution_count": null,
   "metadata": {},
   "outputs": [],
   "source": [
    "fig, axs = plt.subplots(1,1, figsize = (20,15))\n",
    "fc = 0.4\n",
    "plot_pq_osw(\"YEAST\", linewidth = 4, legend = False)\n"
   ]
  },
  {
   "cell_type": "code",
   "execution_count": null,
   "metadata": {},
   "outputs": [],
   "source": [
    "fig, axs = plt.subplots(1,1, figsize = (20,15))\n",
    "fc = 0.4\n",
    "plot_pq_osw(\"ECOLI\", linewidth = 4, legend = False)\n"
   ]
  },
  {
   "cell_type": "code",
   "execution_count": null,
   "metadata": {},
   "outputs": [],
   "source": [
    "fig, axs = plt.subplots(1,1, figsize = (20,15))\n",
    "fc = 0.4\n",
    "plot_pq_osw(\"all\", linewidth = 4, legend = False)\n"
   ]
  },
  {
   "cell_type": "markdown",
   "metadata": {},
   "source": [
    "# DIANN FP_DE "
   ]
  },
  {
   "cell_type": "code",
   "execution_count": null,
   "metadata": {},
   "outputs": [],
   "source": [
    "#fig, axs = plt.subplots(1, 1, figsize=(20,6))\n",
    "#fc = 0.4\n",
    "#Rewrite this to function subplot\n",
    "\n",
    "def plot_ratio_FP_DE(specie,linewidth):\n",
    "\n",
    "\n",
    "    if specie == \"all\":\n",
    "        df = (pq_data(df_final[df_final.index.get_level_values(\"specie\") == \"HUMAN\"], fc_treshold = fc) / \n",
    "              pq_data(df_final, fc_treshold = fc))\n",
    "        df_triq = (res[10][\"HUMAN\"] / \n",
    "                   res[10].sum(axis=1))\n",
    "        df_ms = (msstats_pq_data(ms[ms.specie == \"HUMAN\"], fc = fc) / \n",
    "                 msstats_pq_data(ms, fc = fc))\n",
    "        df_msqrob = (msqrob_pq_data(msqrob[msqrob.specie == \"HUMAN\"], fc = fc) / \n",
    "                     msqrob_pq_data(msqrob, fc = fc))        \n",
    "    else:\n",
    "        df = (pq_data(df_final[df_final.index.get_level_values(\"specie\") == \"HUMAN\"], fc_treshold = fc) / \n",
    "              pq_data(df_final[df_final.index.get_level_values(\"specie\") == specie], fc_treshold = fc))\n",
    "        df_triq = (res[10][\"HUMAN\"] / \n",
    "                   res[10][specie])\n",
    "        df_ms = (msstats_pq_data(ms[ms.specie == \"HUMAN\"], fc = fc) / \n",
    "                 msstats_pq_data(ms[ms.specie == specie], fc = fc))\n",
    "        df_msqrob = (msqrob_pq_data(msqrob[msqrob.specie == \"HUMAN\"], fc = fc) / \n",
    "                     msqrob_pq_data(msqrob[msqrob.specie == specie], fc = fc))        \n",
    "\n",
    "    df_triq.plot(ax = axs, style = \"b\", linewidth=linewidth) # triqler data plot\n",
    "    axs.plot(df.index, df.DE, \"m\", linewidth=linewidth) # plot osw top3\n",
    "    axs.plot(df_ms.index, df_ms.DE, \"g\", linewidth=linewidth) # plot MSSTATS\n",
    "    axs.plot(df_msqrob.index, df_msqrob.DE, \"r\", linewidth=linewidth) # plot msqrob\n",
    "\n",
    "    axs.legend(labels=[\"Triqler\", \"OSW Top3\", \"msStats\", \"mSqRob\", ])\n",
    "    axs.set_title(f\"DIANN, {specie} (fc = {fc})\",  fontsize=18, fontweight='bold')\n",
    "    axs.set_xlabel(\"q-value\", fontsize=18, fontweight='bold')\n",
    "    axs.set_ylabel(\"ratio FP/DE - Differentially expressed.\", fontsize=18, fontweight='bold')\n",
    "    axs.set_xlim([0,0.10])\n",
    "\n",
    "    def abline(slope, intercept):\n",
    "        \"\"\"Plot a line from slope and intercept\"\"\"\n",
    "        axes = plt.gca()\n",
    "        x_vals = np.array(axs.get_xlim())\n",
    "        y_vals = intercept + slope * x_vals\n",
    "        axs.plot(x_vals, y_vals, 'k--', alpha = 0.7)\n",
    "    abline(1,0)\n",
    "\n",
    "\n",
    "    \n",
    "#plt.suptitle(f\"Ratio FP / Differentially expressed proteins ( True ratios 1:1 for human, 2:1 for yeast, and 1:4 for E.coli )\")# + specie)\n",
    "#plt.show()\n"
   ]
  },
  {
   "cell_type": "code",
   "execution_count": null,
   "metadata": {},
   "outputs": [],
   "source": [
    "fig, axs = plt.subplots(1, 1, figsize=(16,10))\n",
    "fc = 0.4\n",
    "plot_ratio_FP_DE(\"YEAST\", linewidth=4)\n"
   ]
  },
  {
   "cell_type": "code",
   "execution_count": null,
   "metadata": {},
   "outputs": [],
   "source": [
    "fig, axs = plt.subplots(1, 1, figsize=(16,10))\n",
    "fc = 0.4\n",
    "plot_ratio_FP_DE(\"ECOLI\", linewidth=4)\n"
   ]
  },
  {
   "cell_type": "code",
   "execution_count": null,
   "metadata": {},
   "outputs": [],
   "source": [
    "fig, axs = plt.subplots(1, 1, figsize=(16,10))\n",
    "fc = 0.4\n",
    "plot_ratio_FP_DE(\"all\", linewidth=4)"
   ]
  },
  {
   "cell_type": "markdown",
   "metadata": {},
   "source": [
    "# OSW FP_DE"
   ]
  },
  {
   "cell_type": "code",
   "execution_count": null,
   "metadata": {},
   "outputs": [],
   "source": [
    "def plot_ratio_FP_DE_osw(specie,linewidth):\n",
    "\n",
    "\n",
    "    if specie == \"all\":\n",
    "        df = (pq_data(df_final_osw[df_final_osw.index.get_level_values(\"specie\") == \"HUMAN\"], fc_treshold = fc) / \n",
    "              pq_data(df_final_osw, fc_treshold = fc))\n",
    "        df_triq = (res_osw[10][\"HUMAN\"] / \n",
    "                   res_osw[10].sum(axis=1))\n",
    "        df_ms = (msstats_pq_data(ms_osw[ms_osw.specie == \"HUMAN\"], fc = fc) / \n",
    "                 msstats_pq_data(ms_osw, fc = fc))\n",
    "        df_msqrob = (msqrob_pq_data(msqrob_osw[msqrob_osw.specie == \"HUMAN\"], fc = fc) / \n",
    "                     msqrob_pq_data(msqrob_osw, fc = fc))        \n",
    "    else:\n",
    "        df = (pq_data(df_final_osw[df_final_osw.index.get_level_values(\"specie\") == \"HUMAN\"], fc_treshold = fc) / \n",
    "              pq_data(df_final_osw[df_final_osw.index.get_level_values(\"specie\") == specie], fc_treshold = fc))\n",
    "        df_triq = (res_osw[10][\"HUMAN\"] / \n",
    "                   res_osw[10][specie])\n",
    "        df_ms = (msstats_pq_data(ms_osw[ms_osw.specie == \"HUMAN\"], fc = fc) / \n",
    "                 msstats_pq_data(ms_osw[ms_osw.specie == specie], fc = fc))\n",
    "        df_msqrob = (msqrob_pq_data(msqrob_osw[msqrob_osw.specie == \"HUMAN\"], fc = fc) / \n",
    "                     msqrob_pq_data(msqrob_osw[msqrob_osw.specie == specie], fc = fc))        \n",
    "\n",
    "    df_triq.plot(ax = axs, style = \"b\", linewidth=linewidth) # triqler data plot\n",
    "    axs.plot(df.index, df.DE, \"m\", linewidth=linewidth) # plot osw top3\n",
    "    axs.plot(df_ms.index, df_ms.DE, \"g\", linewidth=linewidth) # plot MSSTATS\n",
    "    axs.plot(df_msqrob.index, df_msqrob.DE, \"r\", linewidth=linewidth) # plot msqrob\n",
    "\n",
    "    axs.legend(labels=[\"Triqler\", \"OSW Top3\", \"msStats\", \"mSqRob\", ])\n",
    "    axs.set_title(f\"OSW, {specie} (fc = {fc})\",  fontsize=18, fontweight='bold')\n",
    "    axs.set_xlabel(\"q-value\", fontsize=18, fontweight='bold')\n",
    "    axs.set_ylabel(\"ratio FP/DE - Differentially expressed.\", fontsize=18, fontweight='bold')\n",
    "    axs.set_xlim([0,0.10])\n",
    "\n",
    "    def abline(slope, intercept):\n",
    "        \"\"\"Plot a line from slope and intercept\"\"\"\n",
    "        axes = plt.gca()\n",
    "        x_vals = np.array(axs.get_xlim())\n",
    "        y_vals = intercept + slope * x_vals\n",
    "        axs.plot(x_vals, y_vals, 'k--', alpha = 0.7)\n",
    "    abline(1,0)\n",
    "\n"
   ]
  },
  {
   "cell_type": "code",
   "execution_count": null,
   "metadata": {},
   "outputs": [],
   "source": [
    "fig, axs = plt.subplots(1, 1, figsize=(16,10))\n",
    "fc = 0.4\n",
    "plot_ratio_FP_DE_osw(\"YEAST\", linewidth=4)"
   ]
  },
  {
   "cell_type": "code",
   "execution_count": null,
   "metadata": {},
   "outputs": [],
   "source": [
    "fig, axs = plt.subplots(1, 1, figsize=(16,10))\n",
    "fc = 0.4\n",
    "plot_ratio_FP_DE_osw(\"ECOLI\", linewidth=4)"
   ]
  },
  {
   "cell_type": "code",
   "execution_count": null,
   "metadata": {},
   "outputs": [],
   "source": [
    "fig, axs = plt.subplots(1, 1, figsize=(16,10))\n",
    "fc = 0.4\n",
    "plot_ratio_FP_DE_osw(\"all\", linewidth=4)"
   ]
  },
  {
   "cell_type": "markdown",
   "metadata": {},
   "source": [
    "# Protein quantity distributions\n",
    "This is used to show how the data looks"
   ]
  },
  {
   "cell_type": "code",
   "execution_count": null,
   "metadata": {},
   "outputs": [],
   "source": [
    "import seaborn as sns"
   ]
  },
  {
   "cell_type": "code",
   "execution_count": null,
   "metadata": {},
   "outputs": [],
   "source": [
    "os.chdir(\"/hdd_14T/data/PXD002952/20210614_dataset/diaumpire_spectral_lib_20210706/MSFragger_20210707/diann_20210811/triqler_results\")\n"
   ]
  },
  {
   "cell_type": "code",
   "execution_count": null,
   "metadata": {},
   "outputs": [],
   "source": [
    "#os.chdir(\"/hdd_14T/data/PXD002952/20210805_osw_run/triqler_results\")\n",
    "q_val = 1\n",
    "file = \"fc_0.40\"\n",
    "df_triq = parse_triqler(file)\n",
    "df_triq[\"decoy\"] = df_triq.protein.map(decoy_mapper)\n",
    "df_triq = df_triq[df_triq.decoy == False] # remove decoy proteins.\n",
    "df_triq = df_triq[df_triq.q_value < q_val] # not filtered by q_value\n",
    "df_triq[\"specie\"] = df_triq.protein.map(specie_mapper)\n",
    "df_triq.sort_values(by = \"specie\", inplace = True)\n",
    "df_triq.log2_fold_change = -df_triq.log2_fold_change\n",
    "\n",
    "fig, axs = plt.subplots(2, 2, figsize=(20,15))\n",
    "\n",
    "sns.histplot(df_triq[\"log2_fold_change\"], kde = False, ax = axs[0,0])\n",
    "sns.histplot(data=df_triq, x=\"log2_fold_change\", hue=\"specie\", multiple=\"stack\", kde = True, ax = axs[0,0])\n",
    "axs[0,0].set_xlim([-2, 3])\n",
    "axs[0,0].set_title(\"Triqler\")\n",
    "\n",
    "axs[0,0].axvline(x = 0, color = \"orange\", linestyle = \"--\")\n",
    "axs[0,0].axvline(x = -1, color = \"green\", linestyle = \"--\")\n",
    "axs[0,0].axvline(x = 2, color = \"blue\", linestyle = \"--\")\n",
    "\n",
    "msqrob.sort_values(by = \"specie\", inplace = True )\n",
    "msqrob[\"specie\"] = msqrob.proteins.map(specie_mapper)\n",
    "sns.histplot(msqrob, x = \"logFC\", hue = \"specie\",kde = True, ax = axs[0,1])\n",
    "sns.histplot(msqrob, x = \"logFC\", hue = \"specie\",kde = False, ax = axs[0,1])\n",
    "axs[0,1].set_title(\"MSqRobSum\")\n",
    "axs[0,1].set_xlim([-2, 3])\n",
    "\n",
    "axs[0,1].axvline(x = 0, color = \"orange\", linestyle = \"--\")\n",
    "axs[0,1].axvline(x = -1, color = \"green\", linestyle = \"--\")\n",
    "axs[0,1].axvline(x = 2, color = \"blue\", linestyle = \"--\")\n",
    "\n",
    "\n",
    "ms.sort_values(by = \"specie\", inplace = True )\n",
    "sns.histplot(ms.log2FC, kde = False, ax = axs[1,0], bins = 70)\n",
    "sns.histplot(data=ms, x=\"log2FC\", hue=\"specie\", multiple=\"stack\", bins = 70, kde = True, ax = axs[1,0])\n",
    "axs[1,0].set_title(\"MsStats\")\n",
    "axs[1,0].set_xlim([-2, 3])\n",
    "\n",
    "\n",
    "axs[1,0].axvline(x = 0, color = \"orange\", linestyle = \"--\")\n",
    "axs[1,0].axvline(x = -1, color = \"green\", linestyle = \"--\")\n",
    "axs[1,0].axvline(x = 2, color = \"blue\", linestyle = \"--\")\n",
    "\n",
    "# add -1* to reverse histograms\n",
    "#sns.histplot(-1*df_final[\"log2(A,B)\"], kde = False, ax = axs[1,1])\n",
    "axs[1,1].set_title(\"Top3\")\n",
    "#sns.histplot(data=-1*df_final, x=\"log2(A,B)\", hue=\"specie\", multiple=\"stack\", kde = True)\n",
    "sns.histplot(data=-1*df_final, x=\"log2(A,B)\", hue=\"specie\", kde = False)\n",
    "sns.histplot(data=df_final, x=\"log2(A,B)\", hue=\"specie\", kde = False)\n",
    "\n",
    "axs[1,1].axvline(x = 0, color = \"orange\", linestyle = \"--\")\n",
    "axs[1,1].axvline(x = -1, color = \"green\", linestyle = \"--\")\n",
    "axs[1,1].axvline(x = 2, color = \"blue\", linestyle = \"--\")\n",
    "\n",
    "\n",
    "fig.suptitle('Triqler log2FC empirical density (True ratios 1:1 for human, 2:1 for yeast, and 1:4 for E.coli )')"
   ]
  },
  {
   "cell_type": "code",
   "execution_count": null,
   "metadata": {},
   "outputs": [],
   "source": [
    "df_final[\"log2(A,B)\"] = -df_final[\"log2(A,B)\"] "
   ]
  },
  {
   "cell_type": "code",
   "execution_count": null,
   "metadata": {},
   "outputs": [],
   "source": [
    "fig, axs = plt.subplots(1, 1, figsize=(20,15))\n",
    "\n",
    "#sns.histplot(df_triq[\"log2_fold_change\"], kde = False, ax = axs)\n",
    "#sns.histplot(data=df_triq, x=\"log2_fold_change\", hue=\"specie\", multiple=\"stack\", kde = False, ax = axs)\n",
    "sns.histplot(data=df_triq, x=\"log2_fold_change\", hue=\"specie\", kde = False, ax = axs)\n",
    "axs.set_xlim([-2, 3])\n",
    "axs.set_title(\"OSW, Triqler\", fontsize=18, fontweight='bold')\n",
    "axs.set_xlabel(\"log2 fold change\", fontsize=18, fontweight='bold')\n",
    "axs.set_ylabel(\"Protein count\", fontsize=18, fontweight='bold')\n",
    "plt.setp(axs.get_legend().get_texts(), fontsize='16')\n",
    "\n",
    "axs.axvline(x = 0, color = \"orange\", linestyle = \"--\")\n",
    "axs.axvline(x = -1, color = \"green\", linestyle = \"--\")\n",
    "axs.axvline(x = 2, color = \"blue\", linestyle = \"--\")\n",
    "\n"
   ]
  },
  {
   "cell_type": "code",
   "execution_count": null,
   "metadata": {},
   "outputs": [],
   "source": [
    "fig, axs = plt.subplots(1, 1, figsize=(20,15))\n",
    "\n",
    "\n",
    "msqrob.sort_values(by = \"specie\", inplace = True )\n",
    "msqrob[\"specie\"] = msqrob.proteins.map(specie_mapper)\n",
    "sns.histplot(msqrob, x = \"logFC\", hue = \"specie\",kde = False, ax = axs)\n",
    "#sns.histplot(msqrob, x = \"logFC\", hue = \"specie\",kde = False, ax = axs[0,1])\n",
    "axs.set_title(\"OSW, MSqRobSum\", fontsize=18, fontweight='bold')\n",
    "axs.set_xlabel(\"log2 fold change\", fontsize=18, fontweight='bold')\n",
    "axs.set_ylabel(\"Protein count\", fontsize=18, fontweight='bold')\n",
    "plt.setp(axs.get_legend().get_texts(), fontsize='16')\n",
    "\n",
    "axs.set_xlim([-2, 3])\n",
    "\n",
    "axs.axvline(x = 0, color = \"orange\", linestyle = \"--\")\n",
    "axs.axvline(x = -1, color = \"green\", linestyle = \"--\")\n",
    "axs.axvline(x = 2, color = \"blue\", linestyle = \"--\")\n"
   ]
  },
  {
   "cell_type": "code",
   "execution_count": null,
   "metadata": {},
   "outputs": [],
   "source": [
    "fig, axs = plt.subplots(1, 1, figsize=(20,15))\n",
    "\n",
    "ms.sort_values(by = \"specie\", inplace = True )\n",
    "#sns.histplot(ms.log2FC, kde = False, ax = axs, bins = 70)\n",
    "sns.histplot(data=ms, x=\"log2FC\", hue=\"specie\", bins = 70, kde = False, ax = axs)\n",
    "#sns.histplot(data=ms, x=\"log2FC\", hue=\"specie\", multiple=\"stack\", bins = 70, kde = True, ax = axs)\n",
    "axs.set_title(\"OSW, MSstats\", fontsize=18, fontweight='bold')\n",
    "axs.set_xlabel(\"log2 fold change\", fontsize=18, fontweight='bold')\n",
    "axs.set_ylabel(\"Protein count\", fontsize=18, fontweight='bold')\n",
    "plt.setp(axs.get_legend().get_texts(), fontsize='16')\n",
    "axs.set_xlim([-2, 3])\n",
    "\n",
    "axs.axvline(x = 0, color = \"orange\", linestyle = \"--\")\n",
    "axs.axvline(x = -1, color = \"green\", linestyle = \"--\")\n",
    "axs.axvline(x = 2, color = \"blue\", linestyle = \"--\")\n"
   ]
  },
  {
   "cell_type": "code",
   "execution_count": null,
   "metadata": {},
   "outputs": [],
   "source": [
    "fig, axs = plt.subplots(1, 1, figsize=(20,15))\n",
    "\n",
    "# add -1* to reverse histograms\n",
    "#sns.histplot(-1*df_final[\"log2(A,B)\"], kde = False, ax = axs)\n",
    "axs.set_xlim([-2, 3])\n",
    "#sns.histplot(data=-1*df_final, x=\"log2(A,B)\", hue=\"specie\", multiple=\"stack\", kde = True)\n",
    "sns.histplot(data=df_final, x=\"log2(A,B)\", hue=\"specie\", kde = True)\n",
    "\n",
    "axs.set_title(\"OSW, Top3\", fontsize=18, fontweight='bold')\n",
    "axs.set_xlabel(\"log2 fold change\", fontsize=18, fontweight='bold')\n",
    "axs.set_ylabel(\"Protein count\", fontsize=18, fontweight='bold')\n",
    "plt.setp(axs.get_legend().get_texts(), fontsize='16')\n",
    "\n",
    "axs.axvline(x = 0, color = \"orange\", linestyle = \"--\")\n",
    "axs.axvline(x = -1, color = \"green\", linestyle = \"--\")\n",
    "axs.axvline(x = 2, color = \"blue\", linestyle = \"--\")"
   ]
  },
  {
   "cell_type": "code",
   "execution_count": null,
   "metadata": {},
   "outputs": [],
   "source": []
  },
  {
   "cell_type": "markdown",
   "metadata": {},
   "source": [
    "# OSW - Protein quantity distributions"
   ]
  },
  {
   "cell_type": "code",
   "execution_count": null,
   "metadata": {},
   "outputs": [],
   "source": [
    "os.chdir(\"/hdd_14T/data/PXD002952/20210805_osw_run/triqler_results\")\n",
    "q_val = 1\n",
    "file = \"fc_0.40\"\n",
    "df_triq_osw = parse_triqler(file)\n",
    "df_triq_osw[\"decoy\"] = df_triq_osw.protein.map(decoy_mapper)\n",
    "df_triq_osw = df_triq_osw[df_triq_osw.decoy == False] # remove decoy proteins.\n",
    "df_triq_osw = df_triq_osw[df_triq_osw.q_value < q_val]\n",
    "df_triq_osw[\"specie\"] = df_triq_osw.protein.map(specie_mapper)\n",
    "df_triq_osw.sort_values(by = \"specie\", inplace = True)\n",
    "df_triq_osw.log2_fold_change = -df_triq_osw.log2_fold_change"
   ]
  },
  {
   "cell_type": "code",
   "execution_count": null,
   "metadata": {},
   "outputs": [],
   "source": [
    "df_final_osw[\"log2(A,B)\"] =  -df_final_osw[\"log2(A,B)\"] "
   ]
  },
  {
   "cell_type": "code",
   "execution_count": null,
   "metadata": {},
   "outputs": [],
   "source": [
    "fig, axs = plt.subplots(2, 2, figsize=(20,15))\n",
    "\n",
    "sns.histplot(df_triq_osw[\"log2_fold_change\"], kde = False, ax = axs[0,0])\n",
    "sns.histplot(data=df_triq_osw, x=\"log2_fold_change\", hue=\"specie\", multiple=\"stack\", kde = True, ax = axs[0,0])\n",
    "axs[0,0].set_xlim([-2, 3])\n",
    "axs[0,0].set_title(\"Triqler\")\n",
    "\n",
    "axs[0,0].axvline(x = 0, color = \"orange\", linestyle = \"--\")\n",
    "axs[0,0].axvline(x = -1, color = \"green\", linestyle = \"--\")\n",
    "axs[0,0].axvline(x = 2, color = \"blue\", linestyle = \"--\")\n",
    "\n",
    "msqrob_osw.sort_values(by = \"specie\", inplace = True )\n",
    "msqrob_osw[\"specie\"] = msqrob_osw.proteins.map(specie_mapper)\n",
    "#sns.histplot(msqrob_osw, x = \"logFC\", hue = \"specie\",kde = True, ax = axs[0,1])\n",
    "sns.histplot(msqrob_osw, x = \"logFC\", hue = \"specie\",kde = False, ax = axs[0,1])\n",
    "axs[0,1].set_title(\"MSqRobSum\")\n",
    "axs[0,1].set_xlim([-2, 3])\n",
    "\n",
    "axs[0,1].axvline(x = 0, color = \"orange\", linestyle = \"--\")\n",
    "axs[0,1].axvline(x = -1, color = \"green\", linestyle = \"--\")\n",
    "axs[0,1].axvline(x = 2, color = \"blue\", linestyle = \"--\")\n",
    "\n",
    "ms_osw.sort_values(by = \"specie\", inplace = True )\n",
    "#sns.histplot(ms_osw.log2FC, kde = False, ax = axs[1,0], bins = 70)\n",
    "sns.histplot(data=ms_osw, x=\"log2FC\", hue=\"specie\", bins = 70, kde = False, ax = axs[1,0])\n",
    "axs[1,0].set_title(\"MsStats\")\n",
    "axs[1,0].set_xlim([-2, 3])\n",
    "\n",
    "\n",
    "axs[1,0].axvline(x = 0, color = \"orange\", linestyle = \"--\")\n",
    "axs[1,0].axvline(x = -1, color = \"green\", linestyle = \"--\")\n",
    "axs[1,0].axvline(x = 2, color = \"blue\", linestyle = \"--\")\n",
    "\n",
    "# add -1* to reverse histograms\n",
    "#sns.histplot(-1*df_final[\"log2(A,B)\"], kde = False, ax = axs[1,1])\n",
    "axs[1,1].set_title(\"Top3\")\n",
    "#sns.histplot(data=-1*df_final, x=\"log2(A,B)\", hue=\"specie\", multiple=\"stack\", kde = True)\n",
    "#sns.histplot(data=-1*df_final, x=\"log2(A,B)\", hue=\"specie\", kde = False)\n",
    "sns.histplot(data=df_final_osw, x=\"log2(A,B)\", hue=\"specie\", kde = False)\n",
    "\n",
    "axs[1,1].axvline(x = 0, color = \"orange\", linestyle = \"--\")\n",
    "axs[1,1].axvline(x = -1, color = \"green\", linestyle = \"--\")\n",
    "axs[1,1].axvline(x = 2, color = \"blue\", linestyle = \"--\")\n",
    "\n",
    "\n",
    "fig.suptitle('Triqler log2FC empirical density (True ratios 1:1 for human, 2:1 for yeast, and 1:4 for E.coli )')"
   ]
  },
  {
   "cell_type": "code",
   "execution_count": null,
   "metadata": {},
   "outputs": [],
   "source": [
    "fig, axs = plt.subplots(1, 1, figsize=(20,15))\n",
    "\n",
    "#sns.histplot(df_triq[\"log2_fold_change\"], kde = False, ax = axs)\n",
    "sns.histplot(data=df_triq_osw, x=\"log2_fold_change\", hue=\"specie\", kde = False, ax = axs)\n",
    "axs.set_xlim([-2, 3])\n",
    "axs.set_title(\"Triqler\", fontsize=18, fontweight='bold')\n",
    "axs.set_xlabel(\"log2 fold change\", fontsize=18, fontweight='bold')\n",
    "axs.set_ylabel(\"Protein count\", fontsize=18, fontweight='bold')\n",
    "plt.setp(axs.get_legend().get_texts(), fontsize='16')\n",
    "\n",
    "axs.axvline(x = 0, color = \"orange\", linestyle = \"--\")\n",
    "axs.axvline(x = -1, color = \"green\", linestyle = \"--\")\n",
    "axs.axvline(x = 2, color = \"blue\", linestyle = \"--\")"
   ]
  },
  {
   "cell_type": "code",
   "execution_count": null,
   "metadata": {},
   "outputs": [],
   "source": [
    "fig, axs = plt.subplots(1, 1, figsize=(20,15))\n",
    "\n",
    "msqrob_osw.sort_values(by = \"specie\", inplace = True )\n",
    "msqrob_osw[\"specie\"] = msqrob_osw.proteins.map(specie_mapper)\n",
    "sns.histplot(msqrob_osw, x = \"logFC\", hue = \"specie\",kde = False, ax = axs)\n",
    "axs.set_title(\"MSqRobSum\", fontsize=18, fontweight='bold')\n",
    "axs.set_xlabel(\"log2 fold change\", fontsize=18, fontweight='bold')\n",
    "axs.set_ylabel(\"Protein count\", fontsize=18, fontweight='bold')\n",
    "plt.setp(axs.get_legend().get_texts(), fontsize='16')\n",
    "axs.set_xlim([-2, 3])\n",
    "\n",
    "axs.axvline(x = 0, color = \"orange\", linestyle = \"--\")\n",
    "axs.axvline(x = -1, color = \"green\", linestyle = \"--\")\n",
    "axs.axvline(x = 2, color = \"blue\", linestyle = \"--\")\n"
   ]
  },
  {
   "cell_type": "code",
   "execution_count": null,
   "metadata": {},
   "outputs": [],
   "source": [
    "fig, axs = plt.subplots(1, 1, figsize=(20,15))\n",
    "\n",
    "ms_osw.sort_values(by = \"specie\", inplace = True )\n",
    "#sns.histplot(ms_osw.log2FC, kde = False, ax = axs[1,0], bins = 70)\n",
    "sns.histplot(data=ms_osw, x=\"log2FC\", hue=\"specie\", bins = 70, kde = False, ax = axs)\n",
    "axs.set_title(\"MSstats\", fontsize=18, fontweight='bold')\n",
    "axs.set_xlabel(\"log2 fold change\", fontsize=18, fontweight='bold')\n",
    "axs.set_ylabel(\"Protein count\", fontsize=18, fontweight='bold')\n",
    "plt.setp(axs.get_legend().get_texts(), fontsize='16')\n",
    "axs.set_xlim([-2, 3])\n",
    "\n",
    "\n",
    "axs.axvline(x = 0, color = \"orange\", linestyle = \"--\")\n",
    "axs.axvline(x = -1, color = \"green\", linestyle = \"--\")\n",
    "axs.axvline(x = 2, color = \"blue\", linestyle = \"--\")"
   ]
  },
  {
   "cell_type": "code",
   "execution_count": null,
   "metadata": {},
   "outputs": [],
   "source": [
    "fig, axs = plt.subplots(1, 1, figsize=(20,15))\n",
    "\n",
    "#axs[1,1].set_title(\"Top3\")\n",
    "#sns.histplot(data=-1*df_final, x=\"log2(A,B)\", hue=\"specie\", multiple=\"stack\", kde = True)\n",
    "#sns.histplot(data=-1*df_final, x=\"log2(A,B)\", hue=\"specie\", kde = False)\n",
    "sns.histplot(data=df_final_osw, x=\"log2(A,B)\", hue=\"specie\", kde = False)\n",
    "\n",
    "axs.set_title(\"Top3\", fontsize=18, fontweight='bold')\n",
    "axs.set_xlabel(\"log2 fold change\", fontsize=18, fontweight='bold')\n",
    "axs.set_ylabel(\"Protein count\", fontsize=18, fontweight='bold')\n",
    "plt.setp(axs.get_legend().get_texts(), fontsize='16')\n",
    "\n",
    "\n",
    "axs.axvline(x = 0, color = \"orange\", linestyle = \"--\")\n",
    "axs.axvline(x = -1, color = \"green\", linestyle = \"--\")\n",
    "axs.axvline(x = 2, color = \"blue\", linestyle = \"--\")\n"
   ]
  },
  {
   "cell_type": "markdown",
   "metadata": {},
   "source": [
    "# DE specie vs DE human\n",
    "\n",
    "This plot shows how many true positives we get compares to false positives."
   ]
  },
  {
   "cell_type": "code",
   "execution_count": null,
   "metadata": {},
   "outputs": [],
   "source": [
    "\n",
    "#Rewrite this to function subplot\n",
    "\n",
    "def plot_de_specie_xy(specie_x, specie_y,linewidth):\n",
    "    df_triq_x = res[10][specie_x]\n",
    "    df_x = pq_data(df_final[df_final.index.get_level_values(\"specie\") == specie_x], fc_treshold = fc)\n",
    "    df_ms_x = msstats_pq_data(ms[ms.specie == specie_x], fc = fc)\n",
    "    df_msqrob_x = msqrob_pq_data(msqrob[msqrob.specie == specie_x], fc = fc)\n",
    "\n",
    "    df_triq_y = res[10][specie_y]\n",
    "    df_y = pq_data(df_final[df_final.index.get_level_values(\"specie\") == specie_y], fc_treshold = fc)\n",
    "    df_ms_y = msstats_pq_data(ms[ms.specie == specie_y], fc = fc)\n",
    "    df_msqrob_y = msqrob_pq_data(msqrob[msqrob.specie == specie_y], fc = fc)\n",
    "\n",
    "    #df_triq_x.plot(ax = axs[row,col]) #triqler data plot        \n",
    "    #axs[row, col].plot(df.index, df.DE) # plot osw top3\n",
    "    #axs[row, col].plot(df_ms.index, df_ms.DE) # plot MSSTATS\n",
    "    #axs[row, col].plot(df_msqrob.index, df_msqrob.DE) # plot msqrob\n",
    "\n",
    "    axs.plot(df_triq_x.values, df_triq_y.values,linewidth=linewidth)\n",
    "    axs.plot(df_x.values, df_y.values,linewidth=linewidth)\n",
    "    axs.plot(df_ms_x.values, df_ms_y.values,linewidth=linewidth)\n",
    "    axs.plot(df_msqrob_x.values, df_msqrob_y.values,linewidth=linewidth)\n",
    "\n",
    "    axs.legend(labels=[\"Triqler\", \"Top3\", \"MSstats\", \"mSqRob\"])\n",
    "    axs.set_title(f\"OSW, fc = {fc}\",  fontsize=18, fontweight='bold')\n",
    "    axs.set_xlabel(f\"n - Differentially expressed {specie_x}\",  fontsize=18, fontweight='bold')\n",
    "    axs.set_ylabel(f\"n - Differentially expressed {specie_y}\",  fontsize=18, fontweight='bold')\n",
    "\n",
    "#plot_de_specie_xy(specie_x = \"HUMAN\", specie_y = \"YEAST\", ax_n = 1)\n",
    "\n",
    "#plt.suptitle(f\"Differentially expressed proteins specie to human ratio\")# + specie)\n",
    "#plt.show()\n"
   ]
  },
  {
   "cell_type": "code",
   "execution_count": null,
   "metadata": {},
   "outputs": [],
   "source": [
    "fig, axs = plt.subplots(1, 1, figsize=(16,8))\n",
    "fc = 0.4 \n",
    "\n",
    "plot_de_specie_xy(specie_x = \"HUMAN\", specie_y = \"ECOLI\", linewidth=4)"
   ]
  },
  {
   "cell_type": "code",
   "execution_count": null,
   "metadata": {},
   "outputs": [],
   "source": [
    "fig, axs = plt.subplots(1, 1, figsize=(16,8))\n",
    "fc = 0.4 \n",
    "\n",
    "plot_de_specie_xy(specie_x = \"HUMAN\", specie_y = \"YEAST\", linewidth=4)"
   ]
  },
  {
   "cell_type": "markdown",
   "metadata": {},
   "source": [
    "# OSW DE specie vs DE human\n"
   ]
  },
  {
   "cell_type": "code",
   "execution_count": null,
   "metadata": {},
   "outputs": [],
   "source": [
    "\n",
    "def plot_de_specie_xy_osw(specie_x, specie_y,linewidth):\n",
    "    df_triq_x = res_osw[10][specie_x]\n",
    "    df_x = pq_data(df_final_osw[df_final_osw.index.get_level_values(\"specie\") == specie_x], fc_treshold = fc)\n",
    "    df_ms_x = msstats_pq_data(ms_osw[ms_osw.specie == specie_x], fc = fc)\n",
    "    df_msqrob_x = msqrob_pq_data(msqrob_osw[msqrob_osw.specie == specie_x], fc = fc)\n",
    "\n",
    "    df_triq_y = res_osw[10][specie_y]\n",
    "    df_y = pq_data(df_final_osw[df_final_osw.index.get_level_values(\"specie\") == specie_y], fc_treshold = fc)\n",
    "    df_ms_y = msstats_pq_data(ms_osw[ms_osw.specie == specie_y], fc = fc)\n",
    "    df_msqrob_y = msqrob_pq_data(msqrob_osw[msqrob_osw.specie == specie_y], fc = fc)\n",
    "\n",
    "    #df_triq_x.plot(ax = axs[row,col]) #triqler data plot        \n",
    "    #axs[row, col].plot(df.index, df.DE) # plot osw top3\n",
    "    #axs[row, col].plot(df_ms.index, df_ms.DE) # plot MSSTATS\n",
    "    #axs[row, col].plot(df_msqrob.index, df_msqrob.DE) # plot msqrob\n",
    "\n",
    "    axs.plot(df_triq_x.values, df_triq_y.values,linewidth=linewidth)\n",
    "    axs.plot(df_x.values, df_y.values,linewidth=linewidth)\n",
    "    axs.plot(df_ms_x.values, df_ms_y.values,linewidth=linewidth)\n",
    "    axs.plot(df_msqrob_x.values, df_msqrob_y.values,linewidth=linewidth)\n",
    "\n",
    "    axs.legend(labels=[\"Triqler\", \"Top3\", \"MSstats\", \"mSqRob\"])\n",
    "    axs.set_title(f\"DIANN - fc = {fc}\",  fontsize=18, fontweight='bold')\n",
    "    axs.set_xlabel(f\"n - Differentially expressed {specie_x}\",  fontsize=18, fontweight='bold')\n",
    "    axs.set_ylabel(f\"n - Differentially expressed {specie_y}\",  fontsize=18, fontweight='bold')\n"
   ]
  },
  {
   "cell_type": "code",
   "execution_count": null,
   "metadata": {},
   "outputs": [],
   "source": [
    "fig, axs = plt.subplots(1, 1, figsize=(16,8))\n",
    "fc = 0.4 \n",
    "\n",
    "plot_de_specie_xy_osw(specie_x = \"HUMAN\", specie_y = \"ECOLI\", linewidth=4)"
   ]
  },
  {
   "cell_type": "code",
   "execution_count": null,
   "metadata": {},
   "outputs": [],
   "source": [
    "fig, axs = plt.subplots(1, 1, figsize=(16,8))\n",
    "fc = 0.4 \n",
    "\n",
    "plot_de_specie_xy_osw(specie_x = \"HUMAN\", specie_y = \"YEAST\", linewidth=4)"
   ]
  },
  {
   "cell_type": "markdown",
   "metadata": {},
   "source": [
    "# LFQ Scatter plot\n",
    "\n"
   ]
  },
  {
   "cell_type": "code",
   "execution_count": null,
   "metadata": {},
   "outputs": [],
   "source": [
    "df_final[\"log2(A)\"] = df_final[\"1\"] #log(A)\n",
    "df_final[\"log2(B)\"] = df_final[\"2\"] #log(A)"
   ]
  },
  {
   "cell_type": "code",
   "execution_count": null,
   "metadata": {},
   "outputs": [],
   "source": [
    "\n",
    "f, ax = plt.subplots(1, 1, figsize = (15,8))\n",
    "#sns.scatterplot(ax = ax, data = df_final, x = \"log2(B)\", y = \"log2(A,B)\", alpha = 0.7, hue = \"specie\")\n",
    "df_final[\"specie\"] = df_final.index.get_level_values(\"specie\")\n",
    "sns.regplot(data = df_final[df_final.specie == \"ECOLI\"], x = \"log2(A)\", y = \"log2(A,B)\", ax = ax, line_kws = {\"ls\":\"--\"}, label =\"ECOLI\")\n",
    "sns.regplot(data = df_final[df_final.specie == \"HUMAN\"], x = \"log2(A)\", y = \"log2(A,B)\", ax = ax, line_kws = {\"ls\":\"--\"}, label = \"HUMAN\")\n",
    "sns.regplot(data = df_final[df_final.specie == \"YEAST\"], x = \"log2(A)\", y = \"log2(A,B)\", ax = ax, line_kws = {\"ls\":\"--\"}, label = \"YEAST\")\n",
    "ax.legend()\n",
    "ax.axhline(1, linestyle = \"--\", color=\"tab:green\", alpha = 0.5)\n",
    "ax.axhline(0, linestyle = \"--\", color=\"tab:orange\", alpha = 0.5)\n",
    "ax.axhline(-2, linestyle = \"--\", color=\"tab:blue\", alpha = 0.5)\n",
    "#ax.grid()\n",
    "#plt.legend(labels=['HUMAN (sample 1)', 'YEAST (sample 1)', \"ECOLI (sample 1)\", \"HUMAN (sample 2)\", \"YEAST (sample 2)\", \"ECOLI (sample 2)\"])\n",
    "plt.title(\"std/mu ratio for log-transformed peptide values\")"
   ]
  },
  {
   "cell_type": "code",
   "execution_count": null,
   "metadata": {},
   "outputs": [],
   "source": [
    "\n",
    "sns.jointplot(data = df_final, x = \"log2(A)\", y = \"log2(A,B)\", hue = \"specie\", height = 10)#, line_kws = {\"ls\":\"--\"}, label =\"ECOLI\")\n"
   ]
  },
  {
   "cell_type": "code",
   "execution_count": null,
   "metadata": {},
   "outputs": [],
   "source": [
    "sns.jointplot(data = df_final, x = \"log2(A)\", y = \"log2(A,B)\", hue = \"specie\", kind = \"kde\", height = 10, \n",
    "             fill = True,  joint_kws={'alpha': 0.4})#, line_kws = {\"ls\":\"--\"}, label =\"ECOLI\")\n",
    "\n",
    "#sns.jointplot(data=penguins, x=\"bill_length_mm\", y=\"bill_depth_mm\", hue=\"species\", kind=\"kde\")"
   ]
  },
  {
   "cell_type": "code",
   "execution_count": null,
   "metadata": {},
   "outputs": [],
   "source": [
    "df_triq[\"log2(mu_sample1)\"] = np.log2(df_triq[[\"1:002-Pedro\", \"1:004-Pedro\", \"1:006-Pedro\"]].mean(axis = 1))\n",
    "df_triq[\"log2(mu_sample2)\"] = np.log2(df_triq[[\"2:003-Pedro\", \"2:005-Pedro\", \"2:007-Pedro\"]].mean(axis = 1))\n",
    "df_triq[\"log2(median_sample1)\"] = np.log2(df_triq[[\"1:002-Pedro\", \"1:004-Pedro\", \"1:006-Pedro\"]].median(axis = 1))\n",
    "df_triq[\"log2(median_sample2)\"] = np.log2(df_triq[[\"2:003-Pedro\", \"2:005-Pedro\", \"2:007-Pedro\"]].median(axis = 1))\n",
    "df_triq[\"log2(mu_sample1-mu_sample2)\"] = (df_triq[\"log2(mu_sample1)\"] - df_triq[\"log2(mu_sample2)\"])\n"
   ]
  },
  {
   "cell_type": "code",
   "execution_count": null,
   "metadata": {},
   "outputs": [],
   "source": [
    "df_triq[\"mu_sample1\"] = np.exp(np.log(df_triq[[\"1:002-Pedro\", \"1:004-Pedro\", \"1:006-Pedro\"]]).mean(axis = 1))\n",
    "df_triq[\"mu_sample2\"] = np.exp(np.log(df_triq[[\"2:003-Pedro\", \"2:005-Pedro\", \"2:007-Pedro\"]]).mean(axis = 1))\n",
    "df_triq[\"log2FC\"] = (df_triq[\"mu_sample1\"] - df_triq[\"mu_sample2\"])\n",
    "df_triq[\"-log2_fold_change\"] = -1* df_triq[\"log2_fold_change\"]"
   ]
  },
  {
   "cell_type": "code",
   "execution_count": null,
   "metadata": {},
   "outputs": [],
   "source": [
    "### muProtein experiment\n",
    "\n",
    "df_triq[\"mu_sample1\"] = df_triq[[\"1:002-Pedro\", \"1:004-Pedro\", \"1:006-Pedro\"]]\n"
   ]
  },
  {
   "cell_type": "code",
   "execution_count": null,
   "metadata": {},
   "outputs": [],
   "source": [
    "df_triq[df_triq.specie == \"ECOLI\"][\"mu_sample1\"] = -df_triq[df_triq.specie == \"ECOLI\"][\"mu_sample1\"]"
   ]
  },
  {
   "cell_type": "code",
   "execution_count": null,
   "metadata": {},
   "outputs": [],
   "source": [
    "#def ecoli_sign_correction(x):\n",
    "#    if x == \"ECOLI\":\n",
    "#        return -1\n",
    "#    else:\n",
    "#        return 1\n",
    "\n",
    "#df_triq[\"ecoli_correction_sign\"] = df_triq.specie.map(ecoli_sign_correction)\n"
   ]
  },
  {
   "cell_type": "code",
   "execution_count": null,
   "metadata": {},
   "outputs": [],
   "source": [
    "#df_triq.mu_sample1 = df_triq[\"ecoli_correction_sign\"] * df_triq.mu_sample1"
   ]
  },
  {
   "cell_type": "code",
   "execution_count": null,
   "metadata": {},
   "outputs": [],
   "source": []
  },
  {
   "cell_type": "code",
   "execution_count": null,
   "metadata": {},
   "outputs": [],
   "source": [
    "muProtein = -0.003126\n",
    "df_triq[[\"1:002-Pedro\", \"1:004-Pedro\", \"1:006-Pedro\"]]"
   ]
  },
  {
   "cell_type": "code",
   "execution_count": null,
   "metadata": {},
   "outputs": [],
   "source": [
    "\n",
    "f, ax = plt.subplots(1, 1, figsize = (15,8))\n",
    "#sns.scatterplot(ax = ax, data = df_triq, x = \"log2(mu_sample2)\", y = \"log2_fold_change\", alpha = 0.7, hue = \"specie\")\n",
    "sns.regplot(data = 1*df_triq[df_triq.specie == \"ECOLI\"], x = \"mu_sample1\", y = \"log2_fold_change\", ax = ax, line_kws = {\"ls\":\"--\"}, label =\"ECOLI\", ci = 0)\n",
    "sns.regplot(data = 1*df_triq[df_triq.specie == \"HUMAN\"], x = \"mu_sample1\", y = \"log2_fold_change\", ax = ax, line_kws = {\"ls\":\"--\"}, label =\"HUMAN\", ci = 0)\n",
    "sns.regplot(data = 1*df_triq[df_triq.specie == \"YEAST\"], x = \"mu_sample1\", y = \"log2_fold_change\", ax = ax, line_kws = {\"ls\":\"--\"}, label =\"YEAST\", ci = 0)\n",
    "ax.legend()\n",
    "ax.axhline(2, linestyle = \"--\", color=\"tab:blue\", alpha = 0.5)\n",
    "ax.axhline(0, linestyle = \"--\", color=\"tab:orange\", alpha = 0.5)\n",
    "ax.axhline(-1, linestyle = \"--\", color=\"tab:green\", alpha = 0.5)\n",
    "ax.set_ylim([-4, 4])\n",
    "ax.set_xlim([-5, 5])"
   ]
  },
  {
   "cell_type": "code",
   "execution_count": null,
   "metadata": {},
   "outputs": [],
   "source": [
    "sns.jointplot(data = df_triq, x = \"mu_sample1\", y = \"log2_fold_change\", hue = \"specie\", height = 10, \n",
    "              xlim = (0,5), ylim = (-5,5))"
   ]
  },
  {
   "cell_type": "code",
   "execution_count": null,
   "metadata": {},
   "outputs": [],
   "source": [
    "sns.jointplot(data = df_triq, x = \"mu_sample1\", y = \"log2_fold_change\", hue = \"specie\", kind = \"kde\", height = 10, \n",
    "              xlim = (0,5), ylim = (-5,5),\n",
    "             fill = True, joint_kws={'alpha': 0.4})"
   ]
  },
  {
   "cell_type": "code",
   "execution_count": null,
   "metadata": {},
   "outputs": [],
   "source": [
    "os.chdir(\"/hdd_14T/data/PXD002952/20210614_dataset/diaumpire_spectral_lib_20210706/MSFragger_20210707/diann_20210811\")\n",
    "msrob_protein = pd.read_csv(\"msqrobsum_protein_sum_20210817.csv\", sep = \"\\t\")\n",
    "msstat_protein = pd.read_csv(\"msstat_output_runleveldata.csv\", sep = \",\")\n",
    "msstat_run = pd.read_csv(\"msstats_run.csv\", sep = \",\")"
   ]
  },
  {
   "cell_type": "code",
   "execution_count": null,
   "metadata": {},
   "outputs": [],
   "source": [
    "msrob_protein[\"sample\"].unique()"
   ]
  },
  {
   "cell_type": "code",
   "execution_count": null,
   "metadata": {},
   "outputs": [],
   "source": [
    "msstat_protein.RUN.unique()"
   ]
  },
  {
   "cell_type": "code",
   "execution_count": null,
   "metadata": {},
   "outputs": [],
   "source": [
    "run_to_replicate_mapper = dict(msstat_run[[\"Run\",\"BioReplicate\"]].values)\n",
    "run_to_condition_mapper = dict(msstat_run[[\"Run\", \"Condition\"]].values)\n",
    "msstat_protein[\"replicate\"] = msstat_protein.RUN.map(run_to_replicate_mapper)\n",
    "msstat_protein[\"condition\"] = msstat_protein.RUN.map(run_to_condition_mapper)\n",
    "msrob_protein_sum = msrob_protein.groupby([\"proteins\", \"condition\"]).mean()\n",
    "msrob_sample1 = msrob_protein_sum[msrob_protein_sum.index.get_level_values(\"condition\") == 1].expression.droplevel(\"condition\")\n",
    "msrob_sample2 = msrob_protein_sum[msrob_protein_sum.index.get_level_values(\"condition\") == 2].expression.droplevel(\"condition\")\n",
    "\n",
    "#msrob_log2 = np.log2(msrob_sample1) - np.log2(msrob_sample2)\n",
    "#msrob_log2 = np.log2(msrob_sample2) - np.log2(msrob_sample1)\n",
    "msrob_log2 = msrob_sample2 - msrob_sample1"
   ]
  },
  {
   "cell_type": "code",
   "execution_count": null,
   "metadata": {},
   "outputs": [],
   "source": [
    "msrob_sample1.name = \"sample1\"\n",
    "msrob_sample2.name = \"sample2\"\n",
    "msrob_log2.name = \"log2FC\"\n",
    "msrob_df = pd.concat([msrob_sample1, msrob_sample2, msrob_log2], axis = 1)\n",
    "species_mapper = lambda x: x.split(\"_\")[-1]\n",
    "msrob_df[\"specie\"] = msrob_df.index.map(species_mapper)\n"
   ]
  },
  {
   "cell_type": "code",
   "execution_count": null,
   "metadata": {},
   "outputs": [],
   "source": [
    "\n",
    "f, ax = plt.subplots(1, 1, figsize = (15,8))\n",
    "#sns.scatterplot(ax = ax, data = df_triq, x = \"log2(mu_sample2)\", y = \"log2_fold_change\", alpha = 0.7, hue = \"specie\")\n",
    "sns.regplot(data = 1*msrob_df[msrob_df.specie == \"ECOLI\"], x = \"sample1\", y = \"log2FC\", ax = ax, line_kws = {\"ls\":\"--\"}, label =\"ECOLI\", ci = 0)\n",
    "sns.regplot(data = 1*msrob_df[msrob_df.specie == \"HUMAN\"], x = \"sample1\", y = \"log2FC\", ax = ax, line_kws = {\"ls\":\"--\"}, label =\"HUMAN\", ci = 0)\n",
    "sns.regplot(data = 1*msrob_df[msrob_df.specie == \"YEAST\"], x = \"sample1\", y = \"log2FC\", ax = ax, line_kws = {\"ls\":\"--\"}, label =\"YEAST\", ci = 0)\n",
    "ax.legend()\n",
    "ax.axhline(2, linestyle = \"--\", color=\"tab:blue\", alpha = 0.5)\n",
    "ax.axhline(0, linestyle = \"--\", color=\"tab:orange\", alpha = 0.5)\n",
    "ax.axhline(-1, linestyle = \"--\", color=\"tab:green\", alpha = 0.5)\n",
    "#ax.set_ylim([-5, 3])\n",
    "#ax.set_xlim([-2, 1])"
   ]
  },
  {
   "cell_type": "code",
   "execution_count": null,
   "metadata": {},
   "outputs": [],
   "source": [
    "sns.jointplot(data = msrob_df, x = \"sample1\", y = \"log2FC\", hue = \"specie\", height = 10)#, \n",
    "#              xlim = (0,5), ylim = (-5,5))"
   ]
  },
  {
   "cell_type": "code",
   "execution_count": null,
   "metadata": {},
   "outputs": [],
   "source": [
    "sns.jointplot(data = msrob_df, x = \"sample1\", y = \"log2FC\", hue = \"specie\", height = 10, kind = \"kde\", \n",
    "              fill = True, joint_kws={'alpha': 0.4})"
   ]
  },
  {
   "cell_type": "code",
   "execution_count": null,
   "metadata": {},
   "outputs": [],
   "source": [
    "msstat_sum = msstat_protein.groupby([\"Protein\", \"GROUP_ORIGINAL\"]).LogIntensities.mean()\n"
   ]
  },
  {
   "cell_type": "code",
   "execution_count": null,
   "metadata": {},
   "outputs": [],
   "source": [
    "msstat_sum_sample1 = msstat_sum[msstat_sum.index.get_level_values(\"GROUP_ORIGINAL\") == 1].droplevel(\"GROUP_ORIGINAL\")\n",
    "msstat_sum_sample2 = msstat_sum[msstat_sum.index.get_level_values(\"GROUP_ORIGINAL\") == 2].droplevel(\"GROUP_ORIGINAL\")\n",
    "msstat_log2 = msstat_sum_sample2 - msstat_sum_sample1\n",
    "\n",
    "msstat_sum_sample1.name = \"sample1\"\n",
    "msstat_sum_sample2.name = \"sample2\"\n",
    "msstat_log2.name = \"log2FC\""
   ]
  },
  {
   "cell_type": "code",
   "execution_count": null,
   "metadata": {},
   "outputs": [],
   "source": [
    "msstat_df = pd.concat([msstat_sum_sample1, msstat_sum_sample2, msstat_log2], axis = 1)\n",
    "msstat_df[\"specie\"] = msstat_df.index.map(specie_mapper)"
   ]
  },
  {
   "cell_type": "code",
   "execution_count": null,
   "metadata": {},
   "outputs": [],
   "source": [
    "\n",
    "f, ax = plt.subplots(1, 1, figsize = (15,8))\n",
    "#sns.scatterplot(ax = ax, data = df_triq, x = \"log2(mu_sample2)\", y = \"log2_fold_change\", alpha = 0.7, hue = \"specie\")\n",
    "sns.regplot(data = 1*msstat_df[msstat_df.specie == \"ECOLI\"], x = \"sample1\", y = \"log2FC\", ax = ax, line_kws = {\"ls\":\"--\"}, label =\"ECOLI\", ci = 0)\n",
    "sns.regplot(data = 1*msstat_df[msstat_df.specie == \"HUMAN\"], x = \"sample1\", y = \"log2FC\", ax = ax, line_kws = {\"ls\":\"--\"}, label =\"HUMAN\", ci = 0)\n",
    "sns.regplot(data = 1*msstat_df[msstat_df.specie == \"YEAST\"], x = \"sample1\", y = \"log2FC\", ax = ax, line_kws = {\"ls\":\"--\"}, label =\"YEAST\", ci = 0)\n",
    "ax.legend()\n",
    "ax.axhline(2, linestyle = \"--\", color=\"tab:blue\", alpha = 0.5)\n",
    "ax.axhline(0, linestyle = \"--\", color=\"tab:orange\", alpha = 0.5)\n",
    "ax.axhline(-1, linestyle = \"--\", color=\"tab:green\", alpha = 0.5)\n",
    "#ax.set_ylim([-5, 3])\n",
    "#ax.set_xlim([-2, 1])"
   ]
  },
  {
   "cell_type": "code",
   "execution_count": null,
   "metadata": {},
   "outputs": [],
   "source": [
    "sns.jointplot(data = msstat_df, x = \"sample1\", y = \"log2FC\", hue = \"specie\", height = 10)#, \n",
    "#              xlim = (0,5), ylim = (-5,5))"
   ]
  },
  {
   "cell_type": "code",
   "execution_count": null,
   "metadata": {},
   "outputs": [],
   "source": [
    "sns.jointplot(data = msstat_df, x = \"sample1\", y = \"log2FC\", hue = \"specie\", height = 10, kind = \"kde\", \n",
    "              fill = True, joint_kws={'alpha': 0.4})"
   ]
  },
  {
   "cell_type": "code",
   "execution_count": null,
   "metadata": {},
   "outputs": [],
   "source": [
    "df_triq[\"mu_sample1\"]"
   ]
  },
  {
   "cell_type": "code",
   "execution_count": null,
   "metadata": {},
   "outputs": [],
   "source": []
  },
  {
   "cell_type": "code",
   "execution_count": null,
   "metadata": {},
   "outputs": [],
   "source": []
  },
  {
   "cell_type": "code",
   "execution_count": null,
   "metadata": {},
   "outputs": [],
   "source": [
    "df_triq[\"-mu_sample1\"] = np.log(df_triq[\"mu_sample1\"]).abs()\n",
    "df_triq[\"-mu_sample1\"]\n",
    "\n",
    "df_triq[\"-mu_sample2\"] = np.log(df_triq[\"mu_sample2\"]).abs()\n",
    "df_triq[\"-mu_sample2\"]"
   ]
  },
  {
   "cell_type": "code",
   "execution_count": null,
   "metadata": {},
   "outputs": [],
   "source": [
    "\n",
    "f, ax = plt.subplots(2, 2, figsize = (15,8))\n",
    "\n",
    "df_final[\"specie\"] = df_final.index.get_level_values(\"specie\")\n",
    "sns.regplot(data = df_final[df_final.specie == \"ECOLI\"], x = \"log2(A)\", y = \"log2(A,B)\", ax = ax[0,0], line_kws = {\"ls\":\"--\"}, label =\"ECOLI\")\n",
    "sns.regplot(data = df_final[df_final.specie == \"HUMAN\"], x = \"log2(A)\", y = \"log2(A,B)\", ax = ax[0,0], line_kws = {\"ls\":\"--\"}, label = \"HUMAN\")\n",
    "sns.regplot(data = df_final[df_final.specie == \"YEAST\"], x = \"log2(A)\", y = \"log2(A,B)\", ax = ax[0,0], line_kws = {\"ls\":\"--\"}, label = \"YEAST\")\n",
    "ax[0,0].legend()\n",
    "ax[0,0].axhline(1, linestyle = \"--\", color=\"tab:green\", alpha = 0.5)\n",
    "ax[0,0].axhline(0, linestyle = \"--\", color=\"tab:orange\", alpha = 0.5)\n",
    "ax[0,0].axhline(-2, linestyle = \"--\", color=\"tab:blue\", alpha = 0.5)\n",
    "ax[0,0].set_title(\"Top3\")\n",
    "\n",
    "sns.regplot(data = 1*df_triq[df_triq.specie == \"ECOLI\"], x = \"-mu_sample2\", y = \"-log2_fold_change\", ax = ax[0,1], line_kws = {\"ls\":\"--\"}, label =\"ECOLI\", ci = 0)\n",
    "sns.regplot(data = 1*df_triq[df_triq.specie == \"HUMAN\"], x = \"-mu_sample2\", y = \"-log2_fold_change\", ax = ax[0,1], line_kws = {\"ls\":\"--\"}, label =\"HUMAN\", ci = 0)\n",
    "sns.regplot(data = 1*df_triq[df_triq.specie == \"YEAST\"], x = \"-mu_sample2\", y = \"-log2_fold_change\", ax = ax[0,1], line_kws = {\"ls\":\"--\"}, label =\"YEAST\", ci = 0)\n",
    "ax[0,1].legend()\n",
    "ax[0,1].axhline(1, linestyle = \"--\", color=\"tab:green\", alpha = 0.5)\n",
    "ax[0,1].axhline(0, linestyle = \"--\", color=\"tab:orange\", alpha = 0.5)\n",
    "ax[0,1].axhline(-2, linestyle = \"--\", color=\"tab:blue\", alpha = 0.5)\n",
    "ax[0,1].set_ylim([-4, 4])\n",
    "ax[0,1].set_xlim([0, 3.5])\n",
    "ax[0,1].set_title(\"triqler\")\n",
    "\n",
    "sns.regplot(data = 1*msrob_df[msrob_df.specie == \"ECOLI\"], x = \"sample1\", y = \"log2FC\", ax = ax[1,0], line_kws = {\"ls\":\"--\"}, label =\"ECOLI\", ci = 0)\n",
    "sns.regplot(data = 1*msrob_df[msrob_df.specie == \"HUMAN\"], x = \"sample1\", y = \"log2FC\", ax = ax[1,0], line_kws = {\"ls\":\"--\"}, label =\"HUMAN\", ci = 0)\n",
    "sns.regplot(data = 1*msrob_df[msrob_df.specie == \"YEAST\"], x = \"sample1\", y = \"log2FC\", ax = ax[1,0], line_kws = {\"ls\":\"--\"}, label =\"YEAST\", ci = 0)\n",
    "ax[1,0].legend()\n",
    "ax[1,0].axhline(2, linestyle = \"--\", color=\"tab:green\", alpha = 0.5)\n",
    "ax[1,0].axhline(0, linestyle = \"--\", color=\"tab:orange\", alpha = 0.5)\n",
    "ax[1,0].axhline(-1, linestyle = \"--\", color=\"tab:blue\", alpha = 0.5)\n",
    "ax[1,0].set_title(\"msqrobsum\")\n",
    "\n",
    "sns.regplot(data = 1*msstat_df[msstat_df.specie == \"ECOLI\"], x = \"sample1\", y = \"log2FC\", ax = ax[1,1], line_kws = {\"ls\":\"--\"}, label =\"ECOLI\", ci = 0)\n",
    "sns.regplot(data = 1*msstat_df[msstat_df.specie == \"HUMAN\"], x = \"sample1\", y = \"log2FC\", ax = ax[1,1], line_kws = {\"ls\":\"--\"}, label =\"HUMAN\", ci = 0)\n",
    "sns.regplot(data = 1*msstat_df[msstat_df.specie == \"YEAST\"], x = \"sample1\", y = \"log2FC\", ax = ax[1,1], line_kws = {\"ls\":\"--\"}, label =\"YEAST\", ci = 0)\n",
    "ax[1,1].legend()\n",
    "ax[1,1].axhline(2, linestyle = \"--\", color=\"tab:blue\", alpha = 0.5)\n",
    "ax[1,1].axhline(0, linestyle = \"--\", color=\"tab:orange\", alpha = 0.5)\n",
    "ax[1,1].axhline(-1, linestyle = \"--\", color=\"tab:green\", alpha = 0.5)\n",
    "ax[1,1].set_title(\"MSstats\")\n",
    "\n",
    "plt.suptitle(\"DIANN protein level results\")"
   ]
  },
  {
   "cell_type": "markdown",
   "metadata": {},
   "source": [
    "## Scaled  calibration plots "
   ]
  },
  {
   "cell_type": "code",
   "execution_count": null,
   "metadata": {},
   "outputs": [],
   "source": [
    "os.chdir(\"/hdd_14T/data/PXD002952/20210614_dataset/diaumpire_spectral_lib_20210706/MSFragger_20210707/diann_20210811/triqler_results\")\n",
    "\n",
    "def get_pq_data_triqler(q_val):\n",
    "    fc_tresh = []\n",
    "    n_hs = []\n",
    "    n_ye = []\n",
    "    n_ec = []\n",
    "    ecoli_scaling_factor = []\n",
    "    yeast_scaling_factor = []\n",
    "    human_scaling_factor = []\n",
    "    for file in sorted(os.listdir()):       \n",
    "        fc = float(file.split(\"_\")[1])\n",
    "        df_triq = parse_triqler(file)\n",
    "        df_triq[\"specie\"] = df_triq.protein.map(specie_mapper)\n",
    "        ecoli_factor = (df_triq[\"specie\"] == \"ECOLI\").sum()/(df_triq[\"specie\"] == \"HUMAN\").sum()\n",
    "        yeast_factor = (df_triq[\"specie\"] == \"YEAST\").sum()/(df_triq[\"specie\"] == \"HUMAN\").sum()\n",
    "        human_factor = (df_triq[\"specie\"] == \"HUMAN\").sum()/(df_triq[\"specie\"] == \"HUMAN\").sum()\n",
    "        df_triq = df_triq[df_triq.q_value < q_val]\n",
    "        n_hs.append((df_triq[\"specie\"] == \"HUMAN\").sum())\n",
    "        n_ye.append((df_triq[\"specie\"] == \"YEAST\").sum())\n",
    "        n_ec.append((df_triq[\"specie\"] == \"ECOLI\").sum())\n",
    "        ecoli_scaling_factor.append(ecoli_factor) #Should be same for all values because we want the full length of protein list\n",
    "        yeast_scaling_factor.append(yeast_factor) #Should be same for all values because we want the full length of protein list\n",
    "        human_scaling_factor.append(human_factor)\n",
    "        fc_tresh.append(fc)\n",
    "    \n",
    "    df =pd.DataFrame(np.array([n_hs, n_ye, n_ec,\n",
    "                               human_scaling_factor, yeast_scaling_factor, ecoli_scaling_factor]).T, index = fc_tresh, columns = [\"HUMAN\", \"YEAS8\", \"ECOLI\", \"HUMAN_factor\", \"YEAS8_factor\", \"ECOLI_factor\"])\n",
    "    return df\n",
    "\n",
    "def map_decoy(x):\n",
    "    if x.split(\"_\")[0] == \"DECOY\":\n",
    "        return True\n",
    "    else:\n",
    "        return False\n",
    "\n",
    "#start = time.time()\n",
    "def get_DE_for_fcs(fcs =  [round(i*0.2,2) for i in range(9)] + [0.68]):\n",
    "    qs = []\n",
    "    dfs = []\n",
    "    for q in np.arange(0,0.101, 0.001):\n",
    "        qs.append(q)\n",
    "        dfs.append(get_pq_data_triqler(q))\n",
    "        #print(time.time()-start)\n",
    "    end = time.time()\n",
    "    #print(end-start)\n",
    "    \n",
    "    fcs = fcs\n",
    "    fcs.sort()\n",
    "    res = []\n",
    "    for fc in fcs:\n",
    "        vals = []\n",
    "        for df in dfs:\n",
    "            #print(df)\n",
    "            try:\n",
    "                val = list(df[df.index == fc].values[0])\n",
    "            except:\n",
    "                print(df)\n",
    "                break\n",
    "            vals.append(val)    \n",
    "        df_res = pd.DataFrame(vals, index = np.arange(0,0.101, 0.001), columns = [\"HUMAN\", \"YEAST\", \"ECOLI\", \"HUMAN_factor\", \"YEAST_factor\", \"ECOLI_factor\"])\n",
    "        res.append(df_res)\n",
    "    return res\n",
    "\n",
    "res = get_DE_for_fcs( fcs = fcs)\n"
   ]
  },
  {
   "cell_type": "code",
   "execution_count": null,
   "metadata": {},
   "outputs": [],
   "source": [
    "def get_top3_factor(specie):\n",
    "    return len(df_final[df_final.index.get_level_values(\"specie\") == specie])/len(df_final[df_final.index.get_level_values(\"specie\") == \"HUMAN\"])\n",
    "\n",
    "#triqler_factor() # contained in res from get_DE_for_fcs - triqler read-in funciton\n",
    "\n",
    "def get_msstat_factor(specie):\n",
    "    return len(ms[ms[\"specie\"] == specie]) / len(ms[ms[\"specie\"] == \"HUMAN\"])  \n",
    "\n",
    "def get_msqrob_factor(specie):\n",
    "    return len(msqrob[msqrob[\"specie\"] == specie]) / len(msqrob[msqrob[\"specie\"] == \"HUMAN\"])"
   ]
  },
  {
   "cell_type": "code",
   "execution_count": null,
   "metadata": {},
   "outputs": [],
   "source": [
    "res = get_DE_for_fcs( fcs = [fc])"
   ]
  },
  {
   "cell_type": "code",
   "execution_count": null,
   "metadata": {},
   "outputs": [],
   "source": [
    "#row = 0\n",
    "#col = 0\n",
    "#specie = \"ECOLI\"\n",
    "#fcs = fcs\n",
    "#fcs.sort()\n",
    "#for i in range(20):\n",
    "#    fc = fcs[i]\n",
    "\n",
    "def scaled_FP_DE_plot(axs, col, fc, specie):\n",
    "    top3_factor = get_top3_factor(specie)\n",
    "    msstat_factor = get_msstat_factor(specie)\n",
    "    msqrob_factor = get_msqrob_factor(specie)\n",
    "\n",
    "    \n",
    "    if specie == \"all\":\n",
    "        top3_factor =  get_top3_factor(\"HUMAN\") + get_top3_factor(\"ECOLI\") + get_top3_factor(\"YEAST\")\n",
    "        msstat_factor = get_msstat_factor(\"HUMAN\") + get_msstat_factor(\"ECOLI\") + get_msstat_factor(\"YEAST\")\n",
    "        msqrob_factor = get_msqrob_factor(\"HUMAN\") + get_msqrob_factor(\"ECOLI\") + get_msqrob_factor(\"YEAST\")\n",
    "\n",
    "\n",
    "        df = ((pq_data(df_final[df_final.index.get_level_values(\"specie\") == \"HUMAN\"], fc_treshold = fc) / \n",
    "              pq_data(df_final, fc_treshold = fc))) * (top3_factor)\n",
    "        df_triq = ((res[0][\"HUMAN\"] / \n",
    "                   res[0].sum(axis=1))) * (res[0][\"HUMAN_factor\"]+res[0][\"ECOLI_factor\"] +res[0][\"YEAST_factor\"] )\n",
    "        df_ms = ((msstats_pq_data(ms[ms.specie == \"HUMAN\"], fc = fc) / \n",
    "                 msstats_pq_data(ms, fc = fc))) * msstat_factor\n",
    "        df_msqrob = ((msqrob_pq_data(msqrob[msqrob.specie == \"HUMAN\"], fc = fc) / \n",
    "                     msqrob_pq_data(msqrob, fc = fc))) * msqrob_factor        \n",
    "    else:\n",
    "        df = ((pq_data(df_final[df_final.index.get_level_values(\"specie\") == \"HUMAN\"], fc_treshold = fc) / \n",
    "              pq_data(df_final[df_final.index.get_level_values(\"specie\") == specie], fc_treshold = fc))) * top3_factor\n",
    "        df_triq = ((res[0][\"HUMAN\"] / \n",
    "                   res[0][specie])) * res[0][specie + \"_factor\"]\n",
    "        df_ms = ((msstats_pq_data(ms[ms.specie == \"HUMAN\"], fc = fc) / \n",
    "                 msstats_pq_data(ms[ms.specie == specie], fc = fc))) * msstat_factor\n",
    "        df_msqrob = ((msqrob_pq_data(msqrob[msqrob.specie == \"HUMAN\"], fc = fc) / \n",
    "                     msqrob_pq_data(msqrob[msqrob.specie == specie], fc = fc))) * msqrob_factor   \n",
    "\n",
    "    df_triq.plot(ax = axs[col], style = \"b\") # triqler data plot\n",
    "    axs[col].plot(df.index, df.DE, \"m\") # plot osw top3\n",
    "    axs[col].plot(df_ms.index, df_ms.DE, \"g\") # plot MSSTATS\n",
    "    axs[col].plot(df_msqrob.index, df_msqrob.DE, \"r\") # plot msqrob\n",
    "\n",
    "    axs[col].legend(labels=[\"Triqler\", \"OSW Top3\", \"msStats\", \"mSqRob\", ])\n",
    "    #axs[row, col].set_title(f\"fc = {fc}\")\n",
    "    #axs[row, col].set_xlabel(\"q-value\")\n",
    "    #axs[row, col].set_ylabel(\"ratio FP/DE - Differentially expressed.\")\n",
    "\n",
    "    def abline(slope, intercept, col):\n",
    "        \"\"\"Plot a line from slope and intercept\"\"\"\n",
    "        axes = plt.gca()\n",
    "        x_vals = np.array(axs[col].get_xlim())\n",
    "        y_vals = intercept + slope * x_vals\n",
    "        axs[col].plot(x_vals, y_vals, 'k--', alpha = 0.7)\n",
    "    abline(1,0,col)\n",
    "    #col+=1\n",
    "    #if col == 5:\n",
    "    #    row+=1\n",
    "    #    col=0\n",
    "    #plt.suptitle(f\"Ratio FP / Differentially expressed proteins ( True ratios 1:1 for human, 2:1 for yeast, and 1:4 for E.coli )\")# + specie)\n",
    "    #plt.show()"
   ]
  },
  {
   "cell_type": "code",
   "execution_count": null,
   "metadata": {},
   "outputs": [],
   "source": [
    "fig, axs = plt.subplots(1, 3, figsize=(20,6))\n",
    "#scaled_FP_DE_plot(axs, col = 0, fc = 0.4, specie = \"HUMAN\")\n",
    "#axs[0,0].set_title(\"HUMAN\")\n",
    "scaled_FP_DE_plot(axs, col = 0, fc = 0.4, specie = \"YEAST\")\n",
    "axs[0].set_title(\"YEAST\")\n",
    "scaled_FP_DE_plot(axs, col = 1, fc = 0.4, specie = \"ECOLI\")\n",
    "axs[1].set_title(\"ECOLI\")\n",
    "scaled_FP_DE_plot(axs, col = 2, fc = 0.4, specie = \"all\")\n",
    "axs[2].set_title(\"all\")\n",
    "plt.suptitle(f\"Ratio FP / Differentially expressed proteins ( True ratios 1:1 for human, 2:1 for yeast, and 1:4 for E.coli )\")# + specie)\n"
   ]
  },
  {
   "cell_type": "code",
   "execution_count": null,
   "metadata": {},
   "outputs": [],
   "source": [
    "res_ = get_DE_for_fcs( fcs = [0.4])"
   ]
  },
  {
   "cell_type": "code",
   "execution_count": null,
   "metadata": {},
   "outputs": [],
   "source": [
    "specie"
   ]
  },
  {
   "cell_type": "markdown",
   "metadata": {},
   "source": [
    "# Volcano"
   ]
  },
  {
   "cell_type": "code",
   "execution_count": null,
   "metadata": {},
   "outputs": [],
   "source": [
    "\n",
    "df_final"
   ]
  },
  {
   "cell_type": "code",
   "execution_count": null,
   "metadata": {},
   "outputs": [],
   "source": [
    "from bioinfokit import analys, visuz"
   ]
  },
  {
   "cell_type": "markdown",
   "metadata": {},
   "source": [
    "# Top3 "
   ]
  },
  {
   "cell_type": "code",
   "execution_count": null,
   "metadata": {},
   "outputs": [],
   "source": [
    "#fig, axs = plt.subplots(2, 2, figsize=(20,6))\n",
    "#df_final[\"-log10(q)\"] = -np.log10(df_final.q)\n",
    "#sns.scatterplot(data = df_final, x = \"log2(A,B)\", y = \"-log10(q)\", ax = axs[0,0])\n",
    "visuz.gene_exp.volcano(df= df_final, lfc = \"log2(A,B)\", pv=\"q\", show = True, dim = (10, 10), lfc_thr=(0.5, 1) )"
   ]
  },
  {
   "cell_type": "markdown",
   "metadata": {},
   "source": [
    "# Triqler"
   ]
  },
  {
   "cell_type": "code",
   "execution_count": null,
   "metadata": {},
   "outputs": [],
   "source": [
    "visuz.gene_exp.volcano(df= df_triq, lfc = \"log2FC\", pv=\"q_value\", show = True, dim = (10, 10), lfc_thr=(0.5, 1))\n"
   ]
  },
  {
   "cell_type": "code",
   "execution_count": null,
   "metadata": {},
   "outputs": [],
   "source": [
    "visuz.gene_exp.volcano(df= df_triq, lfc = \"log2FC\", pv=\"q_value\", show = True, dim = (10, 10), xlm=[-5, 5, 1], lfc_thr=(0.5, 1))\n"
   ]
  },
  {
   "cell_type": "markdown",
   "metadata": {},
   "source": [
    "# MSqRobSum"
   ]
  },
  {
   "cell_type": "code",
   "execution_count": null,
   "metadata": {},
   "outputs": [],
   "source": [
    "visuz.gene_exp.volcano(df= msqrob, lfc = \"logFC\", pv=\"qvalue\", show = True, dim = (10, 10), lfc_thr=(1, 0.5))"
   ]
  },
  {
   "cell_type": "markdown",
   "metadata": {},
   "source": [
    "# MsStat"
   ]
  },
  {
   "cell_type": "code",
   "execution_count": null,
   "metadata": {},
   "outputs": [],
   "source": [
    "visuz.gene_exp.volcano(df= ms[~ms[\"adj.pvalue\"].isna()], lfc = \"log2FC\", pv=\"adj.pvalue\", show = True, dim = (10, 10), lfc_thr=(1, 0.5))"
   ]
  },
  {
   "cell_type": "code",
   "execution_count": null,
   "metadata": {},
   "outputs": [],
   "source": [
    "help(visuz.gene_exp.volcano)"
   ]
  },
  {
   "cell_type": "markdown",
   "metadata": {},
   "source": [
    "# Triqler absoluute protein quantifications"
   ]
  },
  {
   "cell_type": "code",
   "execution_count": null,
   "metadata": {},
   "outputs": [],
   "source": [
    "f, ax = plt.subplots(1, 1, figsize = (15,8))\n",
    "#sns.scatterplot(ax = ax, data = df_triq, x = \"log2(mu_sample2)\", y = \"log2_fold_change\", alpha = 0.7, hue = \"specie\")\n",
    "sns.regplot(data = 1*df_triq[df_triq.specie == \"ECOLI\"], x = \"mu_sample1\", y = \"log2_fold_change\", ax = ax, line_kws = {\"ls\":\"--\"}, label =\"ECOLI\", ci = 0)\n",
    "sns.regplot(data = 1*df_triq[df_triq.specie == \"HUMAN\"], x = \"mu_sample1\", y = \"log2_fold_change\", ax = ax, line_kws = {\"ls\":\"--\"}, label =\"HUMAN\", ci = 0)\n",
    "sns.regplot(data = 1*df_triq[df_triq.specie == \"YEAST\"], x = \"mu_sample1\", y = \"log2_fold_change\", ax = ax, line_kws = {\"ls\":\"--\"}, label =\"YEAST\", ci = 0)\n",
    "ax.legend()\n",
    "ax.axhline(2, linestyle = \"--\", color=\"tab:blue\", alpha = 0.5)\n",
    "ax.axhline(0, linestyle = \"--\", color=\"tab:orange\", alpha = 0.5)\n",
    "ax.axhline(-1, linestyle = \"--\", color=\"tab:green\", alpha = 0.5)\n",
    "ax.set_ylim([-4, 4])\n",
    "ax.set_xlim([-5, 5])"
   ]
  },
  {
   "cell_type": "code",
   "execution_count": null,
   "metadata": {},
   "outputs": [],
   "source": [
    "os.chdir(\"/hdd_14T/data/PXD002952/20210805_osw_run/py37_triqler_mod_test_20210831\")\n",
    "\n",
    "q_val = 1\n",
    "file = \"fc_1.00\"\n",
    "df_triq = parse_triqler(file)\n",
    "df_triq[\"decoy\"] = df_triq.protein.map(decoy_mapper)\n",
    "df_triq = df_triq[df_triq.decoy == False] # remove decoy proteins.\n",
    "df_triq = df_triq[df_triq.q_value < q_val] # not filtered by q_value\n",
    "df_triq[\"specie\"] = df_triq.protein.map(specie_mapper)\n",
    "df_triq.sort_values(by = \"specie\", inplace = True)\n",
    "df_triq.log2_fold_change = -df_triq.log2_fold_change\n"
   ]
  },
  {
   "cell_type": "code",
   "execution_count": null,
   "metadata": {},
   "outputs": [],
   "source": [
    "tmp = pd.read_csv(\"triqler_input_diann_searchScore_Qvalue.csv\", sep = \"\\t\")"
   ]
  },
  {
   "cell_type": "code",
   "execution_count": null,
   "metadata": {},
   "outputs": [],
   "source": [
    "tmp"
   ]
  },
  {
   "cell_type": "code",
   "execution_count": null,
   "metadata": {},
   "outputs": [],
   "source": [
    "df_triq_absolute_quantity = pd.read_csv(\"geoAvgQuantRow.csv\", sep = \"\\t\")"
   ]
  },
  {
   "cell_type": "code",
   "execution_count": null,
   "metadata": {},
   "outputs": [],
   "source": [
    "df_triq_absolute_quantity"
   ]
  },
  {
   "cell_type": "code",
   "execution_count": null,
   "metadata": {},
   "outputs": [],
   "source": [
    "df_triq"
   ]
  },
  {
   "cell_type": "code",
   "execution_count": null,
   "metadata": {},
   "outputs": [],
   "source": [
    "#bool(set(df_triq.protein) & set(df_triq_absolute_quantity.Protein))\n",
    "len(set(df_triq.protein).intersection( set(df_triq_absolute_quantity.protein)))"
   ]
  },
  {
   "cell_type": "code",
   "execution_count": null,
   "metadata": {},
   "outputs": [],
   "source": [
    "#df_triq_absolute_quantity[df_triq_absolute_quantity.Protein == \"P53337_YEAST\"]"
   ]
  },
  {
   "cell_type": "code",
   "execution_count": null,
   "metadata": {},
   "outputs": [],
   "source": [
    "df_triq[df_triq.protein == \"P53337_YEAST\"]"
   ]
  },
  {
   "cell_type": "code",
   "execution_count": null,
   "metadata": {},
   "outputs": [],
   "source": [
    "df_triq.set_index(\"protein\", inplace = True)"
   ]
  },
  {
   "cell_type": "code",
   "execution_count": null,
   "metadata": {},
   "outputs": [],
   "source": [
    "df_triq_absolute_quantity.set_index(\"protein\", inplace = True)"
   ]
  },
  {
   "cell_type": "code",
   "execution_count": null,
   "metadata": {},
   "outputs": [],
   "source": [
    "df_triq = pd.concat([df_triq, df_triq_absolute_quantity], axis = 1)"
   ]
  },
  {
   "cell_type": "code",
   "execution_count": null,
   "metadata": {},
   "outputs": [],
   "source": [
    "df_triq"
   ]
  },
  {
   "cell_type": "code",
   "execution_count": null,
   "metadata": {},
   "outputs": [],
   "source": [
    "prefix = \"nonNorm_\"\n",
    "#prefix = \"geomAvg_\"\n",
    "df_triq[\"log2(mu_sample1)\"] = np.log2(df_triq[[prefix + \"1:002-Pedro\", prefix + \"1:004-Pedro\", prefix + \"1:006-Pedro\"]].mean(axis = 1))\n",
    "df_triq[\"log2(mu_sample2)\"] = np.log2(df_triq[[prefix + \"2:003-Pedro\", prefix + \"2:005-Pedro\", prefix + \"2:007-Pedro\"]].mean(axis = 1))\n",
    "df_triq[\"log2(median_sample1)\"] = np.log2(df_triq[[prefix + \"1:002-Pedro\", prefix + \"1:004-Pedro\", prefix + \"1:006-Pedro\"]].median(axis = 1))\n",
    "df_triq[\"log2(median_sample2)\"] = np.log2(df_triq[[prefix + \"2:003-Pedro\", prefix + \"2:005-Pedro\", prefix + \"2:007-Pedro\"]].median(axis = 1))\n",
    "df_triq[\"log2(max_sample1)\"] = np.log2(df_triq[[prefix + \"1:002-Pedro\", prefix + \"1:004-Pedro\", prefix + \"1:006-Pedro\"]].max(axis = 1))\n",
    "df_triq[\"log2(max_sample2)\"] = np.log2(df_triq[[prefix + \"2:003-Pedro\", prefix + \"2:005-Pedro\", prefix + \"2:007-Pedro\"]].max(axis = 1))\n",
    "\n",
    "df_triq[\"log2(mu_sample1-mu_sample2)\"] = (df_triq[\"log2(mu_sample1)\"] - df_triq[\"log2(mu_sample2)\"])\n",
    "df_triq[\"log2(median_sample1-median_sample2)\"] = (df_triq[\"log2(median_sample1)\"] - df_triq[\"log2(median_sample2)\"])\n",
    "df_triq[\"log2(max_sample1-max_sample2)\"] = (df_triq[\"log2(max_sample1)\"] - df_triq[\"log2(max_sample2)\"])\n",
    "\n",
    "\n",
    "\n",
    "#df_triq[\"mu_sample1\"] = np.exp(np.log(df_triq[[prefix + \"1:002-Pedro\", prefix + \"1:004-Pedro\", prefix + \"1:006-Pedro\"]]).mean(axis = 1))\n",
    "#df_triq[\"mu_sample2\"] = np.exp(np.log(df_triq[[prefix + \"2:003-Pedro\", prefix + \"2:005-Pedro\", prefix + \"2:007-Pedro\"]]).mean(axis = 1))\n",
    "#df_triq[\"median_sample1\"] = np.exp(np.log(df_triq[[prefix + \"1:002-Pedro\", prefix + \"1:004-Pedro\", prefix + \"1:006-Pedro\"]]).median(axis = 1))\n",
    "#df_triq[\"median_sample2\"] = np.exp(np.log(df_triq[[prefix + \"2:003-Pedro\", prefix + \"2:005-Pedro\", prefix + \"2:007-Pedro\"]]).median(axis = 1))\n",
    "#df_triq[\"max_sample1\"] = np.exp(np.log(df_triq[[prefix + \"1:002-Pedro\", prefix + \"1:004-Pedro\", prefix + \"1:006-Pedro\"]]).max(axis = 1))\n",
    "#df_triq[\"max_sample2\"] = np.exp(np.log(df_triq[[prefix + \"2:003-Pedro\", prefix + \"2:005-Pedro\", prefix + \"2:007-Pedro\"]]).max(axis = 1))\n",
    "#df_triq[\"mu_log2FC\"] = np.log(df_triq[\"mu_sample1\"]) - np.log(df_triq[\"mu_sample2\"])\n",
    "#df_triq[\"median_log2FC\"] = np.log(df_triq[\"median_sample1\"]) - np.log(df_triq[\"median_sample2\"])\n",
    "#df_triq[\"max_log2FC\"] = np.log(df_triq[\"max_sample1\"]) - np.log(df_triq[\"max_sample2\"])\n",
    "\n",
    "df_triq[\"mu_sample1\"] = df_triq[[prefix + \"1:002-Pedro\", prefix + \"1:004-Pedro\", prefix + \"1:006-Pedro\"]].mean(axis = 1)\n",
    "df_triq[\"mu_sample2\"] = df_triq[[prefix + \"2:003-Pedro\", prefix + \"2:005-Pedro\", prefix + \"2:007-Pedro\"]].mean(axis = 1)\n",
    "df_triq[\"median_sample1\"] = df_triq[[prefix + \"1:002-Pedro\", prefix + \"1:004-Pedro\", prefix + \"1:006-Pedro\"]].median(axis = 1)\n",
    "df_triq[\"median_sample2\"] = df_triq[[prefix + \"2:003-Pedro\", prefix + \"2:005-Pedro\", prefix + \"2:007-Pedro\"]].median(axis = 1)\n",
    "df_triq[\"max_sample1\"] = df_triq[[prefix + \"1:002-Pedro\", prefix + \"1:004-Pedro\", prefix + \"1:006-Pedro\"]].max(axis = 1)\n",
    "df_triq[\"max_sample2\"] = df_triq[[prefix + \"2:003-Pedro\", prefix + \"2:005-Pedro\", prefix + \"2:007-Pedro\"]].max(axis = 1)\n",
    "df_triq[\"mu_log2FC\"] = df_triq[\"mu_sample1\"] - df_triq[\"mu_sample2\"]\n",
    "df_triq[\"median_log2FC\"] = df_triq[\"median_sample1\"] - df_triq[\"median_sample2\"]\n",
    "df_triq[\"max_log2FC\"] = df_triq[\"max_sample1\"] - df_triq[\"max_sample2\"]\n",
    "\n",
    "\n",
    "\n",
    "df_triq[\"-log2_fold_change\"] = -1* df_triq[\"log2_fold_change\"]"
   ]
  },
  {
   "cell_type": "markdown",
   "metadata": {},
   "source": [
    "# Non-KDE style plot"
   ]
  },
  {
   "cell_type": "markdown",
   "metadata": {},
   "source": [
    "# log2 quantities - triqler fc"
   ]
  },
  {
   "cell_type": "code",
   "execution_count": null,
   "metadata": {},
   "outputs": [],
   "source": [
    "sns.jointplot(data = df_triq, x = \"log2(mu_sample1)\", y = \"log2_fold_change\", hue = \"specie\", height = 10)#, \n",
    "              #xlim = (-5,5), ylim = (-5,5))"
   ]
  },
  {
   "cell_type": "code",
   "execution_count": null,
   "metadata": {},
   "outputs": [],
   "source": [
    "sns.jointplot(data = df_triq, x = \"log2(median_sample1)\", y = \"log2_fold_change\", hue = \"specie\", height = 10)#, \n",
    "              #xlim = (0,5), ylim = (-5,5))"
   ]
  },
  {
   "cell_type": "code",
   "execution_count": null,
   "metadata": {},
   "outputs": [],
   "source": [
    "sns.jointplot(data = df_triq, x = \"log2(max_sample1)\", y = \"log2_fold_change\", hue = \"specie\", height = 10)#, \n",
    "              #xlim = (0,5), ylim = (-5,5))"
   ]
  },
  {
   "cell_type": "markdown",
   "metadata": {},
   "source": [
    "# log2 quantities "
   ]
  },
  {
   "cell_type": "code",
   "execution_count": null,
   "metadata": {},
   "outputs": [],
   "source": [
    "sns.jointplot(data = df_triq, x = \"log2(mu_sample1)\", y = \"log2(mu_sample1-mu_sample2)\", hue = \"specie\", height = 10)#, \n",
    "              #xlim = (0,5), ylim = (-5,5))"
   ]
  },
  {
   "cell_type": "code",
   "execution_count": null,
   "metadata": {},
   "outputs": [],
   "source": [
    "sns.jointplot(data = df_triq, x = \"log2(median_sample1)\", y = \"log2(median_sample1-median_sample2)\", hue = \"specie\", height = 10)#, \n",
    "#              xlim = (0,5), ylim = (-5,5))"
   ]
  },
  {
   "cell_type": "code",
   "execution_count": null,
   "metadata": {},
   "outputs": [],
   "source": [
    "sns.jointplot(data = df_triq, x = \"log2(max_sample1)\", y = \"log2(max_sample1-max_sample2)\", hue = \"specie\", height = 10)#, \n",
    "#              xlim = (0,5), ylim = (-5,5))"
   ]
  },
  {
   "cell_type": "markdown",
   "metadata": {},
   "source": [
    "# no log2  - triqler fc"
   ]
  },
  {
   "cell_type": "code",
   "execution_count": null,
   "metadata": {},
   "outputs": [],
   "source": [
    "sns.jointplot(data = df_triq, x = \"mu_sample1\", y = \"log2_fold_change\", hue = \"specie\", height = 10)#, \n",
    "#              xlim = (0,5), ylim = (-5,5))"
   ]
  },
  {
   "cell_type": "code",
   "execution_count": null,
   "metadata": {},
   "outputs": [],
   "source": [
    "sns.jointplot(data = df_triq, x = \"median_sample1\", y = \"log2_fold_change\", hue = \"specie\", height = 10)#, \n",
    "#              xlim = (0,5), ylim = (-5,5))"
   ]
  },
  {
   "cell_type": "code",
   "execution_count": null,
   "metadata": {},
   "outputs": [],
   "source": [
    "sns.jointplot(data = df_triq, x = \"max_sample1\", y = \"log2_fold_change\", hue = \"specie\", height = 10)#, \n",
    "#              xlim = (0,5), ylim = (-5,5))"
   ]
  },
  {
   "cell_type": "markdown",
   "metadata": {},
   "source": [
    "# no log2 "
   ]
  },
  {
   "cell_type": "code",
   "execution_count": null,
   "metadata": {},
   "outputs": [],
   "source": [
    "sns.jointplot(data = df_triq, x = \"mu_sample1\", y = \"mu_log2FC\", hue = \"specie\", height = 10)#, \n",
    "#              xlim = (0,5), ylim = (-5,5))"
   ]
  },
  {
   "cell_type": "code",
   "execution_count": null,
   "metadata": {},
   "outputs": [],
   "source": [
    "sns.jointplot(data = df_triq, x = \"median_sample1\", y = \"median_log2FC\", hue = \"specie\", height = 10)#, \n",
    "#              xlim = (0,5), ylim = (-5,5))"
   ]
  },
  {
   "cell_type": "code",
   "execution_count": null,
   "metadata": {},
   "outputs": [],
   "source": [
    "sns.jointplot(data = df_triq, x = \"max_sample1\", y = \"max_log2FC\", hue = \"specie\", height = 10)#, \n",
    "#              xlim = (0,5), ylim = (-5,5))"
   ]
  },
  {
   "cell_type": "markdown",
   "metadata": {},
   "source": [
    "# kde style plots"
   ]
  },
  {
   "cell_type": "code",
   "execution_count": null,
   "metadata": {},
   "outputs": [],
   "source": [
    "sns.jointplot(data = df_triq, x = \"log2(mu_sample1)\", y = \"log2_fold_change\", hue = \"specie\", height = 10, \n",
    "              kind = \"kde\", fill = True, joint_kws={'alpha': 0.4} )#, \n",
    "              #xlim = (-5,5), ylim = (-5,5))"
   ]
  },
  {
   "cell_type": "code",
   "execution_count": null,
   "metadata": {},
   "outputs": [],
   "source": [
    "sns.jointplot(data = df_triq, x = \"log2(median_sample1)\", y = \"log2_fold_change\", hue = \"specie\", height = 10,\n",
    "             kind = \"kde\", fill = True, joint_kws={'alpha': 0.4})#, \n",
    "              #xlim = (0,5), ylim = (-5,5))"
   ]
  },
  {
   "cell_type": "code",
   "execution_count": null,
   "metadata": {},
   "outputs": [],
   "source": [
    "sns.jointplot(data = df_triq, x = \"log2(max_sample1)\", y = \"log2_fold_change\", hue = \"specie\", height = 10,\n",
    "             kind = \"kde\", fill = True, joint_kws={'alpha': 0.4})#, \n",
    "              #xlim = (0,5), ylim = (-5,5))"
   ]
  },
  {
   "cell_type": "code",
   "execution_count": null,
   "metadata": {},
   "outputs": [],
   "source": [
    "sns.jointplot(data = df_triq, x = \"log2(mu_sample1)\", y = \"log2(mu_sample1-mu_sample2)\", hue = \"specie\", height = 10,\n",
    "             kind = \"kde\", fill = True, joint_kws={'alpha': 0.4})#, \n",
    "              #xlim = (0,5), ylim = (-5,5))"
   ]
  },
  {
   "cell_type": "code",
   "execution_count": null,
   "metadata": {},
   "outputs": [],
   "source": [
    "sns.jointplot(data = df_triq, x = \"log2(median_sample1)\", y = \"log2(median_sample1-median_sample2)\", hue = \"specie\", height = 10,\n",
    "             kind = \"kde\", fill = True, joint_kws={'alpha': 0.4}\n",
    "             )#, \n",
    "#              xlim = (0,5), ylim = (-5,5))"
   ]
  },
  {
   "cell_type": "code",
   "execution_count": null,
   "metadata": {},
   "outputs": [],
   "source": [
    "sns.jointplot(data = df_triq, x = \"log2(max_sample1)\", y = \"log2(max_sample1-max_sample2)\", hue = \"specie\", height = 10,\n",
    "             kind = \"kde\", fill = True, joint_kws={'alpha': 0.4})#, \n",
    "#              xlim = (0,5), ylim = (-5,5))"
   ]
  }
 ],
 "metadata": {
  "kernelspec": {
   "display_name": "Python 3",
   "language": "python",
   "name": "python3"
  },
  "language_info": {
   "codemirror_mode": {
    "name": "ipython",
    "version": 3
   },
   "file_extension": ".py",
   "mimetype": "text/x-python",
   "name": "python",
   "nbconvert_exporter": "python",
   "pygments_lexer": "ipython3",
   "version": "3.7.10"
  }
 },
 "nbformat": 4,
 "nbformat_minor": 4
}
