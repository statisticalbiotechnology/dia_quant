{
 "cells": [
  {
   "cell_type": "code",
   "execution_count": 1,
   "id": "e88730ca",
   "metadata": {},
   "outputs": [],
   "source": [
    "import os\n",
    "os.chdir(\"/hdd_14T/data/PXD031322_oxaliplatin_dia_study/ftp.pride.ebi.ac.uk/pride/data/archive/2022/07/PXD031322/2022-09-22_ctrl_vs_ST_vs_LT_study\")"
   ]
  },
  {
   "cell_type": "code",
   "execution_count": 2,
   "id": "5ca61cb6",
   "metadata": {},
   "outputs": [],
   "source": [
    "import pandas as pd "
   ]
  },
  {
   "cell_type": "code",
   "execution_count": 3,
   "id": "d969d348",
   "metadata": {},
   "outputs": [],
   "source": [
    "apoptosis = pd.read_csv(\"apoptosis.tsv\", sep = \"\\t\", index_col = 0)\n",
    "cell_cycle = pd.read_csv(\"cell_cycle.tsv\", sep = \"\\t\", index_col = 0)\n",
    "erbB_signaling_pathway = pd.read_csv(\"erbB_signaling_pathway.tsv\", sep = \"\\t\", index_col = 0)\n",
    "mismatch_repair = pd.read_csv(\"mismatch_repair.tsv\", sep = \"\\t\", index_col = 0)\n",
    "nucleotide_excision_repair = pd.read_csv(\"nucleotide_excision_repair.tsv\", sep = \"\\t\", index_col = 0)\n",
    "p53_signaling_pathway = pd.read_csv(\"p53_signaling_pathway.tsv\", sep = \"\\t\", index_col = 0)"
   ]
  },
  {
   "cell_type": "code",
   "execution_count": 4,
   "id": "b6345c51",
   "metadata": {},
   "outputs": [],
   "source": [
    "def print_significant_proteins(df, fdr_threshold):\n",
    "    ctrl_ST_triqler = len(df[df[\"triqler_FDR_CTRL_ST\"] < fdr_threshold])\n",
    "    ctrl_ST_reported = len(df[df[\"reported_FDR_CTRL_ST\"] < fdr_threshold])\n",
    "\n",
    "    ctrl_LT_triqler = len(df[df[\"triqler_FDR_CTRL_LT\"] < fdr_threshold])\n",
    "    ctrl_LT_reported = len(df[df[\"reported_FDR_CTRL_LT\"] < fdr_threshold])\n",
    "\n",
    "    LT_ST_triqler = len(df[df[\"triqler_FDR_LT_ST\"] < fdr_threshold])\n",
    "    LT_ST_reported = len(df[df[\"reported_FDR_LT_ST\"] < fdr_threshold])\n",
    "\n",
    "    #print(\"Apoptosis pathway\")\n",
    "    print(f\"{len(df)} proteins are in pathway.\")\n",
    "    \n",
    "    print()\n",
    "    print(f\"ctrl_ST_triqler {ctrl_ST_triqler} proteins significantly differentially abundant at fdr: {fdr_threshold}\")\n",
    "    print(f\"ctrl_ST_reported {ctrl_ST_reported} proteins significantly differentially abundant at fdr: {fdr_threshold}\")\n",
    "    print()\n",
    "    print(f\"ctrl_LT_triqler {ctrl_LT_triqler} proteins significantly differentially abundant at fdr: {fdr_threshold}\")\n",
    "    print(f\"ctrl_LT_reported {ctrl_LT_reported} proteins significantly differentially abundant at fdr: {fdr_threshold}\")\n",
    "    print()\n",
    "    print(f\"LT_ST_triqler {LT_ST_triqler} proteins significantly differentially abundant at fdr: {fdr_threshold}\")\n",
    "    print(f\"LT_ST_reported {LT_ST_reported} proteins significantly differentially abundant at fdr: {fdr_threshold}\")"
   ]
  },
  {
   "cell_type": "code",
   "execution_count": 5,
   "id": "1a4d485c",
   "metadata": {},
   "outputs": [],
   "source": [
    "def print_identified_proteins(df):\n",
    "\n",
    "    ctrl_ST_triqler = len(df[\"triqler_log2FC_CTRL_ST\"].dropna())\n",
    "    ctrl_ST_reported = len(df[\"reported_log2FC_CTRL_ST\"].dropna())\n",
    "\n",
    "    ctrl_LT_triqler = len(df[\"triqler_log2FC_CTRL_LT\"].dropna())\n",
    "    ctrl_LT_reported = len(df[\"reported_log2FC_CTRL_LT\"].dropna())\n",
    "\n",
    "    LT_ST_triqler = len(df[\"triqler_log2FC_LT_ST\"].dropna())\n",
    "    LT_ST_reported = len(df[\"reported_log2FC_LT_ST\"].dropna())\n",
    "\n",
    "    print()\n",
    "    print(f\"ctrl_ST_triqler {ctrl_ST_triqler} proteins quantified in both samples\")\n",
    "    print(f\"ctrl_ST_reported {ctrl_ST_reported} proteins quantified in both samples\")\n",
    "    print()\n",
    "    print(f\"ctrl_LT_triqler {ctrl_LT_triqler} proteins quantified in both samples\")\n",
    "    print(f\"ctrl_LT_reported {ctrl_LT_reported} proteins quantified in both samples\")\n",
    "    print()\n",
    "    print(f\"LT_ST_triqler {LT_ST_triqler} proteins quantified in both samples\")\n",
    "    print(f\"LT_ST_reported {LT_ST_reported} proteins quantified in both samples\")\n",
    "\n"
   ]
  },
  {
   "cell_type": "markdown",
   "id": "84d943d6",
   "metadata": {},
   "source": [
    "# NOTE: Triqler is used with fold_change_eval = 0.1"
   ]
  },
  {
   "cell_type": "markdown",
   "id": "9437907c",
   "metadata": {},
   "source": [
    "# Apoptosis"
   ]
  },
  {
   "cell_type": "code",
   "execution_count": 6,
   "id": "3dfbba4d",
   "metadata": {},
   "outputs": [
    {
     "name": "stdout",
     "output_type": "stream",
     "text": [
      "136 proteins are in pathway.\n",
      "\n",
      "ctrl_ST_triqler 12 proteins significantly differentially abundant at fdr: 0.05\n",
      "ctrl_ST_reported 8 proteins significantly differentially abundant at fdr: 0.05\n",
      "\n",
      "ctrl_LT_triqler 21 proteins significantly differentially abundant at fdr: 0.05\n",
      "ctrl_LT_reported 13 proteins significantly differentially abundant at fdr: 0.05\n",
      "\n",
      "LT_ST_triqler 14 proteins significantly differentially abundant at fdr: 0.05\n",
      "LT_ST_reported 9 proteins significantly differentially abundant at fdr: 0.05\n",
      "-------\n",
      "\n",
      "ctrl_ST_triqler 57 proteins quantified in both samples\n",
      "ctrl_ST_reported 40 proteins quantified in both samples\n",
      "\n",
      "ctrl_LT_triqler 57 proteins quantified in both samples\n",
      "ctrl_LT_reported 40 proteins quantified in both samples\n",
      "\n",
      "LT_ST_triqler 57 proteins quantified in both samples\n",
      "LT_ST_reported 40 proteins quantified in both samples\n"
     ]
    }
   ],
   "source": [
    "print_significant_proteins(apoptosis, fdr_threshold = 0.05)\n",
    "print(\"-------\")\n",
    "print_identified_proteins(apoptosis)"
   ]
  },
  {
   "cell_type": "raw",
   "id": "3c53bb35",
   "metadata": {},
   "source": [
    "Triqler has more significant proteins in every group"
   ]
  },
  {
   "cell_type": "markdown",
   "id": "992e45fb",
   "metadata": {},
   "source": [
    "# Cell cycle"
   ]
  },
  {
   "cell_type": "code",
   "execution_count": 7,
   "id": "bf7ec0cc",
   "metadata": {},
   "outputs": [
    {
     "name": "stdout",
     "output_type": "stream",
     "text": [
      "125 proteins are in pathway.\n",
      "\n",
      "ctrl_ST_triqler 9 proteins significantly differentially abundant at fdr: 0.05\n",
      "ctrl_ST_reported 3 proteins significantly differentially abundant at fdr: 0.05\n",
      "\n",
      "ctrl_LT_triqler 18 proteins significantly differentially abundant at fdr: 0.05\n",
      "ctrl_LT_reported 9 proteins significantly differentially abundant at fdr: 0.05\n",
      "\n",
      "LT_ST_triqler 5 proteins significantly differentially abundant at fdr: 0.05\n",
      "LT_ST_reported 5 proteins significantly differentially abundant at fdr: 0.05\n",
      "-------\n",
      "\n",
      "ctrl_ST_triqler 34 proteins quantified in both samples\n",
      "ctrl_ST_reported 23 proteins quantified in both samples\n",
      "\n",
      "ctrl_LT_triqler 34 proteins quantified in both samples\n",
      "ctrl_LT_reported 23 proteins quantified in both samples\n",
      "\n",
      "LT_ST_triqler 34 proteins quantified in both samples\n",
      "LT_ST_reported 23 proteins quantified in both samples\n"
     ]
    }
   ],
   "source": [
    "print_significant_proteins(cell_cycle, fdr_threshold = 0.05)\n",
    "print(\"-------\")\n",
    "print_identified_proteins(cell_cycle)"
   ]
  },
  {
   "cell_type": "markdown",
   "id": "4d4c5748",
   "metadata": {},
   "source": [
    "Triqler has more significant proteins in ctrl_ST and ctrl_LT"
   ]
  },
  {
   "cell_type": "markdown",
   "id": "d816a5c8",
   "metadata": {},
   "source": [
    "# erbB Signaling pathway"
   ]
  },
  {
   "cell_type": "code",
   "execution_count": 8,
   "id": "ce46aa3c",
   "metadata": {},
   "outputs": [
    {
     "name": "stdout",
     "output_type": "stream",
     "text": [
      "84 proteins are in pathway.\n",
      "\n",
      "ctrl_ST_triqler 7 proteins significantly differentially abundant at fdr: 0.05\n",
      "ctrl_ST_reported 2 proteins significantly differentially abundant at fdr: 0.05\n",
      "\n",
      "ctrl_LT_triqler 15 proteins significantly differentially abundant at fdr: 0.05\n",
      "ctrl_LT_reported 6 proteins significantly differentially abundant at fdr: 0.05\n",
      "\n",
      "LT_ST_triqler 7 proteins significantly differentially abundant at fdr: 0.05\n",
      "LT_ST_reported 3 proteins significantly differentially abundant at fdr: 0.05\n",
      "-------\n",
      "\n",
      "ctrl_ST_triqler 46 proteins quantified in both samples\n",
      "ctrl_ST_reported 35 proteins quantified in both samples\n",
      "\n",
      "ctrl_LT_triqler 46 proteins quantified in both samples\n",
      "ctrl_LT_reported 35 proteins quantified in both samples\n",
      "\n",
      "LT_ST_triqler 46 proteins quantified in both samples\n",
      "LT_ST_reported 35 proteins quantified in both samples\n"
     ]
    }
   ],
   "source": [
    "print_significant_proteins(erbB_signaling_pathway, fdr_threshold = 0.05)\n",
    "print(\"-------\")\n",
    "print_identified_proteins(erbB_signaling_pathway)"
   ]
  },
  {
   "cell_type": "markdown",
   "id": "455e0c2a",
   "metadata": {},
   "source": [
    "Triqler has more significant proteins in every group"
   ]
  },
  {
   "cell_type": "markdown",
   "id": "83eb6507",
   "metadata": {},
   "source": [
    "# Mismatch Repair"
   ]
  },
  {
   "cell_type": "code",
   "execution_count": 9,
   "id": "3e328f44",
   "metadata": {},
   "outputs": [
    {
     "name": "stdout",
     "output_type": "stream",
     "text": [
      "22 proteins are in pathway.\n",
      "\n",
      "ctrl_ST_triqler 3 proteins significantly differentially abundant at fdr: 0.05\n",
      "ctrl_ST_reported 2 proteins significantly differentially abundant at fdr: 0.05\n",
      "\n",
      "ctrl_LT_triqler 3 proteins significantly differentially abundant at fdr: 0.05\n",
      "ctrl_LT_reported 2 proteins significantly differentially abundant at fdr: 0.05\n",
      "\n",
      "LT_ST_triqler 1 proteins significantly differentially abundant at fdr: 0.05\n",
      "LT_ST_reported 2 proteins significantly differentially abundant at fdr: 0.05\n",
      "-------\n",
      "\n",
      "ctrl_ST_triqler 6 proteins quantified in both samples\n",
      "ctrl_ST_reported 3 proteins quantified in both samples\n",
      "\n",
      "ctrl_LT_triqler 6 proteins quantified in both samples\n",
      "ctrl_LT_reported 3 proteins quantified in both samples\n",
      "\n",
      "LT_ST_triqler 6 proteins quantified in both samples\n",
      "LT_ST_reported 3 proteins quantified in both samples\n"
     ]
    }
   ],
   "source": [
    "print_significant_proteins(mismatch_repair, fdr_threshold = 0.05)\n",
    "print(\"-------\")\n",
    "print_identified_proteins(mismatch_repair)"
   ]
  },
  {
   "cell_type": "markdown",
   "id": "06e2cf7c",
   "metadata": {},
   "source": [
    "Triqler has more significant proteins in every ctrl_ST and ctrl_LT, reported has more in LT_ST"
   ]
  },
  {
   "cell_type": "markdown",
   "id": "a32a4ecc",
   "metadata": {},
   "source": [
    "# Nucelotide Excision Repair"
   ]
  },
  {
   "cell_type": "code",
   "execution_count": 10,
   "id": "83d5cab5",
   "metadata": {},
   "outputs": [
    {
     "name": "stdout",
     "output_type": "stream",
     "text": [
      "43 proteins are in pathway.\n",
      "\n",
      "ctrl_ST_triqler 4 proteins significantly differentially abundant at fdr: 0.05\n",
      "ctrl_ST_reported 3 proteins significantly differentially abundant at fdr: 0.05\n",
      "\n",
      "ctrl_LT_triqler 5 proteins significantly differentially abundant at fdr: 0.05\n",
      "ctrl_LT_reported 2 proteins significantly differentially abundant at fdr: 0.05\n",
      "\n",
      "LT_ST_triqler 3 proteins significantly differentially abundant at fdr: 0.05\n",
      "LT_ST_reported 2 proteins significantly differentially abundant at fdr: 0.05\n",
      "-------\n",
      "\n",
      "ctrl_ST_triqler 10 proteins quantified in both samples\n",
      "ctrl_ST_reported 7 proteins quantified in both samples\n",
      "\n",
      "ctrl_LT_triqler 10 proteins quantified in both samples\n",
      "ctrl_LT_reported 7 proteins quantified in both samples\n",
      "\n",
      "LT_ST_triqler 10 proteins quantified in both samples\n",
      "LT_ST_reported 7 proteins quantified in both samples\n"
     ]
    }
   ],
   "source": [
    "print_significant_proteins(nucleotide_excision_repair, fdr_threshold = 0.05)\n",
    "print(\"-------\")\n",
    "print_identified_proteins(nucleotide_excision_repair)"
   ]
  },
  {
   "cell_type": "markdown",
   "id": "36af5506",
   "metadata": {},
   "source": [
    "Triqler has more significant proteins in every group"
   ]
  },
  {
   "cell_type": "markdown",
   "id": "c4959e6a",
   "metadata": {},
   "source": [
    "# p53 Signaling Pathway"
   ]
  },
  {
   "cell_type": "code",
   "execution_count": 11,
   "id": "51c90abb",
   "metadata": {},
   "outputs": [
    {
     "name": "stdout",
     "output_type": "stream",
     "text": [
      "72 proteins are in pathway.\n",
      "\n",
      "ctrl_ST_triqler 3 proteins significantly differentially abundant at fdr: 0.05\n",
      "ctrl_ST_reported 1 proteins significantly differentially abundant at fdr: 0.05\n",
      "\n",
      "ctrl_LT_triqler 4 proteins significantly differentially abundant at fdr: 0.05\n",
      "ctrl_LT_reported 4 proteins significantly differentially abundant at fdr: 0.05\n",
      "\n",
      "LT_ST_triqler 3 proteins significantly differentially abundant at fdr: 0.05\n",
      "LT_ST_reported 2 proteins significantly differentially abundant at fdr: 0.05\n",
      "-------\n",
      "\n",
      "ctrl_ST_triqler 15 proteins quantified in both samples\n",
      "ctrl_ST_reported 7 proteins quantified in both samples\n",
      "\n",
      "ctrl_LT_triqler 15 proteins quantified in both samples\n",
      "ctrl_LT_reported 7 proteins quantified in both samples\n",
      "\n",
      "LT_ST_triqler 15 proteins quantified in both samples\n",
      "LT_ST_reported 7 proteins quantified in both samples\n"
     ]
    }
   ],
   "source": [
    "print_significant_proteins(p53_signaling_pathway, fdr_threshold = 0.05)\n",
    "print(\"-------\")\n",
    "print_identified_proteins(p53_signaling_pathway)"
   ]
  },
  {
   "cell_type": "markdown",
   "id": "5ce2087a",
   "metadata": {},
   "source": [
    "Triqler has more significant proteins in every group"
   ]
  },
  {
   "cell_type": "code",
   "execution_count": null,
   "id": "21e23129",
   "metadata": {},
   "outputs": [],
   "source": []
  },
  {
   "cell_type": "code",
   "execution_count": null,
   "id": "022c5282",
   "metadata": {},
   "outputs": [],
   "source": []
  }
 ],
 "metadata": {
  "kernelspec": {
   "display_name": "Python [conda env:snakemake]",
   "language": "python",
   "name": "conda-env-snakemake-py"
  },
  "language_info": {
   "codemirror_mode": {
    "name": "ipython",
    "version": 3
   },
   "file_extension": ".py",
   "mimetype": "text/x-python",
   "name": "python",
   "nbconvert_exporter": "python",
   "pygments_lexer": "ipython3",
   "version": "3.10.2"
  }
 },
 "nbformat": 4,
 "nbformat_minor": 5
}
