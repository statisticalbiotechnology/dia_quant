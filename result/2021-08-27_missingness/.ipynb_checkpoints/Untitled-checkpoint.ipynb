{
 "cells": [
  {
   "cell_type": "code",
   "execution_count": 2,
   "id": "66125435",
   "metadata": {},
   "outputs": [],
   "source": [
    "import pandas as pd\n",
    "import numpy as np\n",
    "import os"
   ]
  },
  {
   "cell_type": "code",
   "execution_count": 3,
   "id": "67de5daf",
   "metadata": {},
   "outputs": [],
   "source": [
    "os.chdir(\"/home/ptruong/dia_sum_results\")"
   ]
  },
  {
   "cell_type": "code",
   "execution_count": 4,
   "id": "6624a66d",
   "metadata": {},
   "outputs": [],
   "source": [
    "diann = pd.read_csv(\"report.tsv\", sep = \"\\t\")"
   ]
  },
  {
   "cell_type": "code",
   "execution_count": 6,
   "id": "aec3ce42",
   "metadata": {},
   "outputs": [
    {
     "data": {
      "text/html": [
       "<div>\n",
       "<style scoped>\n",
       "    .dataframe tbody tr th:only-of-type {\n",
       "        vertical-align: middle;\n",
       "    }\n",
       "\n",
       "    .dataframe tbody tr th {\n",
       "        vertical-align: top;\n",
       "    }\n",
       "\n",
       "    .dataframe thead th {\n",
       "        text-align: right;\n",
       "    }\n",
       "</style>\n",
       "<table border=\"1\" class=\"dataframe\">\n",
       "  <thead>\n",
       "    <tr style=\"text-align: right;\">\n",
       "      <th></th>\n",
       "      <th>File.Name</th>\n",
       "      <th>Run</th>\n",
       "      <th>Protein.Group</th>\n",
       "      <th>Protein.Ids</th>\n",
       "      <th>Protein.Names</th>\n",
       "      <th>Genes</th>\n",
       "      <th>PG.Quantity</th>\n",
       "      <th>PG.Normalised</th>\n",
       "      <th>PG.MaxLFQ</th>\n",
       "      <th>Genes.Quantity</th>\n",
       "      <th>...</th>\n",
       "      <th>Fragment.Quant.Raw</th>\n",
       "      <th>Fragment.Quant.Corrected</th>\n",
       "      <th>Fragment.Correlations</th>\n",
       "      <th>MS2.Scan</th>\n",
       "      <th>Precursor.Mz</th>\n",
       "      <th>Fragment.Info</th>\n",
       "      <th>IM</th>\n",
       "      <th>iIM</th>\n",
       "      <th>Predicted.IM</th>\n",
       "      <th>Predicted.iIM</th>\n",
       "    </tr>\n",
       "  </thead>\n",
       "  <tbody>\n",
       "    <tr>\n",
       "      <th>0</th>\n",
       "      <td>X:\\data\\PXD002952\\20210614_dataset\\HYE124_TTOF...</td>\n",
       "      <td>HYE124_TTOF6600_32fix_lgillet_I150211_002-Pedr...</td>\n",
       "      <td>Q86U42_HUMAN</td>\n",
       "      <td>Q86U42_HUMAN</td>\n",
       "      <td>NaN</td>\n",
       "      <td>PABPN1</td>\n",
       "      <td>791.822144</td>\n",
       "      <td>871.959412</td>\n",
       "      <td>846.847900</td>\n",
       "      <td>791.822144</td>\n",
       "      <td>...</td>\n",
       "      <td>275.3001709;276.2752686;108.1183701;245.064926...</td>\n",
       "      <td>265.1627808;276.2752686;35.81865692;242.442794...</td>\n",
       "      <td>0.9827201962;0.9898743033;0.5915916562;0.98692...</td>\n",
       "      <td>38696</td>\n",
       "      <td>620.823303</td>\n",
       "      <td>b5-unknown^1/398.2033997;y9-unknown^1/701.3688...</td>\n",
       "      <td>0</td>\n",
       "      <td>-1</td>\n",
       "      <td>0</td>\n",
       "      <td>0</td>\n",
       "    </tr>\n",
       "    <tr>\n",
       "      <th>1</th>\n",
       "      <td>X:\\data\\PXD002952\\20210614_dataset\\HYE124_TTOF...</td>\n",
       "      <td>HYE124_TTOF6600_32fix_lgillet_I150211_003-Pedr...</td>\n",
       "      <td>Q86U42_HUMAN</td>\n",
       "      <td>Q86U42_HUMAN</td>\n",
       "      <td>NaN</td>\n",
       "      <td>PABPN1</td>\n",
       "      <td>773.533447</td>\n",
       "      <td>828.349976</td>\n",
       "      <td>820.115051</td>\n",
       "      <td>773.533447</td>\n",
       "      <td>...</td>\n",
       "      <td>261.0098877;270.7337341;287.9536743;247.489883...</td>\n",
       "      <td>258.3292542;270.7337341;287.9537048;241.008544...</td>\n",
       "      <td>0.9957844615;0.9710015655;0.8522638679;0.98491...</td>\n",
       "      <td>38760</td>\n",
       "      <td>620.823303</td>\n",
       "      <td>b5-unknown^1/398.2033997;y9-unknown^1/701.3688...</td>\n",
       "      <td>0</td>\n",
       "      <td>-1</td>\n",
       "      <td>0</td>\n",
       "      <td>0</td>\n",
       "    </tr>\n",
       "    <tr>\n",
       "      <th>2</th>\n",
       "      <td>X:\\data\\PXD002952\\20210614_dataset\\HYE124_TTOF...</td>\n",
       "      <td>HYE124_TTOF6600_32fix_lgillet_I150211_004-Pedr...</td>\n",
       "      <td>Q86U42_HUMAN</td>\n",
       "      <td>Q86U42_HUMAN</td>\n",
       "      <td>NaN</td>\n",
       "      <td>PABPN1</td>\n",
       "      <td>910.519959</td>\n",
       "      <td>895.431641</td>\n",
       "      <td>888.334045</td>\n",
       "      <td>910.519959</td>\n",
       "      <td>...</td>\n",
       "      <td>310.8852234;333.1827087;0;274.8252258;266.4520...</td>\n",
       "      <td>310.8851929;333.1827087;0;274.0179138;266.4520...</td>\n",
       "      <td>0.9898768067;0.9898441434;0;0.9865185618;0.995...</td>\n",
       "      <td>38824</td>\n",
       "      <td>620.823303</td>\n",
       "      <td>b5-unknown^1/398.2033997;y9-unknown^1/701.3688...</td>\n",
       "      <td>0</td>\n",
       "      <td>-1</td>\n",
       "      <td>0</td>\n",
       "      <td>0</td>\n",
       "    </tr>\n",
       "    <tr>\n",
       "      <th>3</th>\n",
       "      <td>X:\\data\\PXD002952\\20210614_dataset\\HYE124_TTOF...</td>\n",
       "      <td>HYE124_TTOF6600_32fix_lgillet_I150211_005-Pedr...</td>\n",
       "      <td>Q86U42_HUMAN</td>\n",
       "      <td>Q86U42_HUMAN</td>\n",
       "      <td>NaN</td>\n",
       "      <td>PABPN1</td>\n",
       "      <td>860.940491</td>\n",
       "      <td>860.272400</td>\n",
       "      <td>887.424560</td>\n",
       "      <td>860.940491</td>\n",
       "      <td>...</td>\n",
       "      <td>290.7749939;291.9428406;335.2031555;275.140472...</td>\n",
       "      <td>290.7749939;291.9428406;323.8549194;275.140472...</td>\n",
       "      <td>0.9901569486;0.9819293618;0.8374413848;0.99600...</td>\n",
       "      <td>38920</td>\n",
       "      <td>620.823303</td>\n",
       "      <td>b5-unknown^1/398.2033997;y9-unknown^1/701.3688...</td>\n",
       "      <td>0</td>\n",
       "      <td>-1</td>\n",
       "      <td>0</td>\n",
       "      <td>0</td>\n",
       "    </tr>\n",
       "    <tr>\n",
       "      <th>4</th>\n",
       "      <td>X:\\data\\PXD002952\\20210614_dataset\\HYE124_TTOF...</td>\n",
       "      <td>HYE124_TTOF6600_32fix_lgillet_I150211_006-Pedr...</td>\n",
       "      <td>Q86U42_HUMAN</td>\n",
       "      <td>Q86U42_HUMAN</td>\n",
       "      <td>NaN</td>\n",
       "      <td>PABPN1</td>\n",
       "      <td>909.658081</td>\n",
       "      <td>839.443787</td>\n",
       "      <td>862.897156</td>\n",
       "      <td>909.658081</td>\n",
       "      <td>...</td>\n",
       "      <td>289.3541565;337.4868164;365.3640747;301.580017...</td>\n",
       "      <td>289.354126;337.4868164;357.2070007;300.6397095...</td>\n",
       "      <td>0.966734767;0.9718726277;0.8664544821;0.944001...</td>\n",
       "      <td>38888</td>\n",
       "      <td>620.823303</td>\n",
       "      <td>b5-unknown^1/398.2033997;y9-unknown^1/701.3688...</td>\n",
       "      <td>0</td>\n",
       "      <td>-1</td>\n",
       "      <td>0</td>\n",
       "      <td>0</td>\n",
       "    </tr>\n",
       "  </tbody>\n",
       "</table>\n",
       "<p>5 rows × 54 columns</p>\n",
       "</div>"
      ],
      "text/plain": [
       "                                           File.Name  \\\n",
       "0  X:\\data\\PXD002952\\20210614_dataset\\HYE124_TTOF...   \n",
       "1  X:\\data\\PXD002952\\20210614_dataset\\HYE124_TTOF...   \n",
       "2  X:\\data\\PXD002952\\20210614_dataset\\HYE124_TTOF...   \n",
       "3  X:\\data\\PXD002952\\20210614_dataset\\HYE124_TTOF...   \n",
       "4  X:\\data\\PXD002952\\20210614_dataset\\HYE124_TTOF...   \n",
       "\n",
       "                                                 Run Protein.Group  \\\n",
       "0  HYE124_TTOF6600_32fix_lgillet_I150211_002-Pedr...  Q86U42_HUMAN   \n",
       "1  HYE124_TTOF6600_32fix_lgillet_I150211_003-Pedr...  Q86U42_HUMAN   \n",
       "2  HYE124_TTOF6600_32fix_lgillet_I150211_004-Pedr...  Q86U42_HUMAN   \n",
       "3  HYE124_TTOF6600_32fix_lgillet_I150211_005-Pedr...  Q86U42_HUMAN   \n",
       "4  HYE124_TTOF6600_32fix_lgillet_I150211_006-Pedr...  Q86U42_HUMAN   \n",
       "\n",
       "    Protein.Ids  Protein.Names   Genes  PG.Quantity  PG.Normalised  \\\n",
       "0  Q86U42_HUMAN            NaN  PABPN1   791.822144     871.959412   \n",
       "1  Q86U42_HUMAN            NaN  PABPN1   773.533447     828.349976   \n",
       "2  Q86U42_HUMAN            NaN  PABPN1   910.519959     895.431641   \n",
       "3  Q86U42_HUMAN            NaN  PABPN1   860.940491     860.272400   \n",
       "4  Q86U42_HUMAN            NaN  PABPN1   909.658081     839.443787   \n",
       "\n",
       "    PG.MaxLFQ  Genes.Quantity  ...  \\\n",
       "0  846.847900      791.822144  ...   \n",
       "1  820.115051      773.533447  ...   \n",
       "2  888.334045      910.519959  ...   \n",
       "3  887.424560      860.940491  ...   \n",
       "4  862.897156      909.658081  ...   \n",
       "\n",
       "                                  Fragment.Quant.Raw  \\\n",
       "0  275.3001709;276.2752686;108.1183701;245.064926...   \n",
       "1  261.0098877;270.7337341;287.9536743;247.489883...   \n",
       "2  310.8852234;333.1827087;0;274.8252258;266.4520...   \n",
       "3  290.7749939;291.9428406;335.2031555;275.140472...   \n",
       "4  289.3541565;337.4868164;365.3640747;301.580017...   \n",
       "\n",
       "                            Fragment.Quant.Corrected  \\\n",
       "0  265.1627808;276.2752686;35.81865692;242.442794...   \n",
       "1  258.3292542;270.7337341;287.9537048;241.008544...   \n",
       "2  310.8851929;333.1827087;0;274.0179138;266.4520...   \n",
       "3  290.7749939;291.9428406;323.8549194;275.140472...   \n",
       "4  289.354126;337.4868164;357.2070007;300.6397095...   \n",
       "\n",
       "                               Fragment.Correlations MS2.Scan Precursor.Mz  \\\n",
       "0  0.9827201962;0.9898743033;0.5915916562;0.98692...    38696   620.823303   \n",
       "1  0.9957844615;0.9710015655;0.8522638679;0.98491...    38760   620.823303   \n",
       "2  0.9898768067;0.9898441434;0;0.9865185618;0.995...    38824   620.823303   \n",
       "3  0.9901569486;0.9819293618;0.8374413848;0.99600...    38920   620.823303   \n",
       "4  0.966734767;0.9718726277;0.8664544821;0.944001...    38888   620.823303   \n",
       "\n",
       "                                       Fragment.Info  IM  iIM  Predicted.IM  \\\n",
       "0  b5-unknown^1/398.2033997;y9-unknown^1/701.3688...   0   -1             0   \n",
       "1  b5-unknown^1/398.2033997;y9-unknown^1/701.3688...   0   -1             0   \n",
       "2  b5-unknown^1/398.2033997;y9-unknown^1/701.3688...   0   -1             0   \n",
       "3  b5-unknown^1/398.2033997;y9-unknown^1/701.3688...   0   -1             0   \n",
       "4  b5-unknown^1/398.2033997;y9-unknown^1/701.3688...   0   -1             0   \n",
       "\n",
       "   Predicted.iIM  \n",
       "0              0  \n",
       "1              0  \n",
       "2              0  \n",
       "3              0  \n",
       "4              0  \n",
       "\n",
       "[5 rows x 54 columns]"
      ]
     },
     "execution_count": 6,
     "metadata": {},
     "output_type": "execute_result"
    }
   ],
   "source": [
    "diann.head(5)"
   ]
  },
  {
   "cell_type": "code",
   "execution_count": 7,
   "id": "fe662ad8",
   "metadata": {},
   "outputs": [
    {
     "data": {
      "text/plain": [
       "Index(['File.Name', 'Run', 'Protein.Group', 'Protein.Ids', 'Protein.Names',\n",
       "       'Genes', 'PG.Quantity', 'PG.Normalised', 'PG.MaxLFQ', 'Genes.Quantity',\n",
       "       'Genes.Normalised', 'Genes.MaxLFQ', 'Genes.MaxLFQ.Unique',\n",
       "       'Modified.Sequence', 'Stripped.Sequence', 'Precursor.Id',\n",
       "       'Precursor.Charge', 'Q.Value', 'Global.Q.Value', 'Protein.Q.Value',\n",
       "       'PG.Q.Value', 'Global.PG.Q.Value', 'GG.Q.Value', 'Translated.Q.Value',\n",
       "       'Proteotypic', 'Precursor.Quantity', 'Precursor.Normalised',\n",
       "       'Precursor.Translated', 'Quantity.Quality', 'RT', 'RT.Start', 'RT.Stop',\n",
       "       'iRT', 'Predicted.RT', 'Predicted.iRT', 'Lib.Q.Value',\n",
       "       'Ms1.Profile.Corr', 'Ms1.Area', 'Evidence', 'Spectrum.Similarity',\n",
       "       'Mass.Evidence', 'CScore', 'Decoy.Evidence', 'Decoy.CScore',\n",
       "       'Fragment.Quant.Raw', 'Fragment.Quant.Corrected',\n",
       "       'Fragment.Correlations', 'MS2.Scan', 'Precursor.Mz', 'Fragment.Info',\n",
       "       'IM', 'iIM', 'Predicted.IM', 'Predicted.iIM'],\n",
       "      dtype='object')"
      ]
     },
     "execution_count": 7,
     "metadata": {},
     "output_type": "execute_result"
    }
   ],
   "source": [
    "diann.columns"
   ]
  },
  {
   "cell_type": "code",
   "execution_count": 14,
   "id": "854478c9",
   "metadata": {},
   "outputs": [],
   "source": [
    "x = diann[\"File.Name\"][0].split(\"_\")[6]"
   ]
  },
  {
   "cell_type": "code",
   "execution_count": 15,
   "id": "819dc380",
   "metadata": {},
   "outputs": [
    {
     "data": {
      "text/plain": [
       "['X:\\\\data\\\\PXD002952\\\\20210614',\n",
       " 'dataset\\\\HYE124',\n",
       " 'TTOF6600',\n",
       " '32fix',\n",
       " 'lgillet',\n",
       " 'I150211',\n",
       " '002-Pedro',\n",
       " '-',\n",
       " 'Sample',\n",
       " '1',\n",
       " '-',\n",
       " 'SW32',\n",
       " '-',\n",
       " 'Repl1.mzML']"
      ]
     },
     "execution_count": 15,
     "metadata": {},
     "output_type": "execute_result"
    }
   ],
   "source": [
    "x"
   ]
  },
  {
   "cell_type": "code",
   "execution_count": 17,
   "id": "ade4f2cc",
   "metadata": {},
   "outputs": [
    {
     "data": {
      "text/plain": [
       "'002-Pedro'"
      ]
     },
     "execution_count": 17,
     "metadata": {},
     "output_type": "execute_result"
    }
   ],
   "source": [
    "x[6] # run"
   ]
  },
  {
   "cell_type": "code",
   "execution_count": 18,
   "id": "a92de071",
   "metadata": {},
   "outputs": [
    {
     "data": {
      "text/plain": [
       "'1'"
      ]
     },
     "execution_count": 18,
     "metadata": {},
     "output_type": "execute_result"
    }
   ],
   "source": [
    "x[9] # sample"
   ]
  },
  {
   "cell_type": "code",
   "execution_count": 19,
   "id": "7aa02668",
   "metadata": {},
   "outputs": [
    {
     "data": {
      "text/plain": [
       "'Repl1'"
      ]
     },
     "execution_count": 19,
     "metadata": {},
     "output_type": "execute_result"
    }
   ],
   "source": [
    "x[-1].split(\".\")[0] # replicate"
   ]
  },
  {
   "cell_type": "code",
   "execution_count": 20,
   "id": "4734df81",
   "metadata": {},
   "outputs": [],
   "source": [
    "run_mapper = lambda x:x.split(\"_\")[6]\n",
    "sample_mapper = lambda x:x.split(\"_\")[9]\n",
    "replicate_mapper = lambda x:x.split(\"_\")[-1].split(\".\")[0]"
   ]
  },
  {
   "cell_type": "code",
   "execution_count": 21,
   "id": "f36b605f",
   "metadata": {},
   "outputs": [],
   "source": [
    "diann[\"run\"] = diann[\"File.Name\"].map(run_mapper)\n",
    "diann[\"sample\"] = diann[\"File.Name\"].map(sample_mapper)\n",
    "diann[\"replicate\"] = diann[\"File.Name\"].map(replicate_mapper)"
   ]
  },
  {
   "cell_type": "code",
   "execution_count": 22,
   "id": "1557ce36",
   "metadata": {},
   "outputs": [],
   "source": [
    "runs = diann[\"run\"].unique()\n",
    "samples = diann[\"sample\"].unique()\n",
    "replicates = diann[\"replicate\"].unique()"
   ]
  },
  {
   "cell_type": "raw",
   "id": "65079c42",
   "metadata": {},
   "source": []
  },
  {
   "cell_type": "code",
   "execution_count": null,
   "id": "5389ccb4",
   "metadata": {},
   "outputs": [],
   "source": []
  },
  {
   "cell_type": "code",
   "execution_count": null,
   "id": "bad4fad5",
   "metadata": {},
   "outputs": [],
   "source": []
  },
  {
   "cell_type": "code",
   "execution_count": null,
   "id": "a3c2cefa",
   "metadata": {},
   "outputs": [],
   "source": []
  },
  {
   "cell_type": "code",
   "execution_count": null,
   "id": "6903d38d",
   "metadata": {},
   "outputs": [],
   "source": []
  },
  {
   "cell_type": "code",
   "execution_count": null,
   "id": "a885a9b8",
   "metadata": {},
   "outputs": [],
   "source": []
  },
  {
   "cell_type": "code",
   "execution_count": null,
   "id": "c09de58d",
   "metadata": {},
   "outputs": [],
   "source": []
  }
 ],
 "metadata": {
  "kernelspec": {
   "display_name": "Python [conda env:py37]",
   "language": "python",
   "name": "conda-env-py37-py"
  },
  "language_info": {
   "codemirror_mode": {
    "name": "ipython",
    "version": 3
   },
   "file_extension": ".py",
   "mimetype": "text/x-python",
   "name": "python",
   "nbconvert_exporter": "python",
   "pygments_lexer": "ipython3",
   "version": "3.7.7"
  }
 },
 "nbformat": 4,
 "nbformat_minor": 5
}
