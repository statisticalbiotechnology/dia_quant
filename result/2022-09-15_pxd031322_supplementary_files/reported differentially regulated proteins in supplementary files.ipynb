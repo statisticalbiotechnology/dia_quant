{
 "cells": [
  {
   "cell_type": "code",
   "execution_count": 2,
   "id": "45cf4d3a",
   "metadata": {},
   "outputs": [],
   "source": [
    "import pandas as pd \n",
    "\n",
    "ST_ctrl = pd.read_excel(\"S2_list_of_proteins_differentially_regulated_between_ST_and_Ctrl.xlsx\", header = 1)\n",
    "LT_ctrl = pd.read_excel(\"S3_list_of_proteins_differentially_regulated_between_LT_and_Ctrl.xlsx\", header = 1)\n",
    "diffReg = pd.read_excel(\"S4_list_of_differential_regulation_protein_in_six_subclusters.xlsx\", header = 1)\n",
    "keggEnrichment = pd.read_excel(\"S5_KEGG_enrichment_analysis_of_proteins_in_six_subclusters.xlsx\", header = 1)\n",
    "gsvaEnrichment = pd.read_excel(\"S6_GSVA_enrichment_analysis.xlsx\", header = 1)"
   ]
  },
  {
   "cell_type": "code",
   "execution_count": 17,
   "id": "1024bad5",
   "metadata": {},
   "outputs": [],
   "source": [
    "st_ctrl_from_supplement_file_2 = pd.concat([ST_ctrl[~ST_ctrl[\"Condition\"].isin([\"Not_sig\"]) & (ST_ctrl['log2（FC）'] > 1.5) ], \n",
    "ST_ctrl[~ST_ctrl[\"Condition\"].isin([\"Not_sig\"]) & (ST_ctrl['log2（FC）'] > 0.67)]])\n"
   ]
  },
  {
   "cell_type": "code",
   "execution_count": 18,
   "id": "3dae6b6c",
   "metadata": {},
   "outputs": [],
   "source": [
    "lt_ctrl_from_supplement_file_3 = pd.concat([LT_ctrl[~LT_ctrl[\"Condition\"].isin([\"Not_sig\"]) & (LT_ctrl['log2（FC）'] > 1.5) ],\n",
    "LT_ctrl[~LT_ctrl[\"Condition\"].isin([\"Not_sig\"]) & (LT_ctrl['log2（FC）'] > 0.67)]])\n"
   ]
  },
  {
   "cell_type": "code",
   "execution_count": 19,
   "id": "89bd1f27",
   "metadata": {},
   "outputs": [],
   "source": [
    "diffReg = diffReg[~diffReg[\"Condition\"].isin([\"Others\"])]\n",
    "\n",
    "lt_st = pd.concat([diffReg[(diffReg[\"LT-ST_diff\"] > 1.5) & (diffReg[\"LT-ST_p adj\"] < 0.05)], diffReg[(diffReg[\"LT-ST_diff\"] < 0.67) & (diffReg[\"LT-ST_p adj\"] < 0.05)] ])\n",
    "st_ctrl = pd.concat([diffReg[(diffReg[\"ST-Ctrl_diff\"] > 1.5) & (diffReg[\"ST-Ctrl_p adj\"] < 0.05)], diffReg[(diffReg[\"ST-Ctrl_diff\"] < 0.67) & (diffReg[\"ST-Ctrl_p adj\"] < 0.05)] ])\n",
    "lt_ctrl = pd.concat([diffReg[(diffReg[\"LT-Ctrl_diff\"] > 1.5) & (diffReg[\"LT-Ctrl_p adj\"] < 0.05)], diffReg[(diffReg[\"LT-Ctrl_diff\"] < 0.67) & (diffReg[\"LT-Ctrl_p adj\"] < 0.05)] ])\n",
    "\n",
    "st_ctrl_from_supplement_file_4 = st_ctrl\n",
    "lt_ctrl_from_supplement_file_4 = lt_ctrl\n"
   ]
  },
  {
   "cell_type": "markdown",
   "id": "3e65f717",
   "metadata": {},
   "source": [
    "# NOTE: \n",
    " \n",
    "## S2 is the list of differentially regulated proteins between ST and Ctrl\n",
    "## S3 is the list of differentially regulated proteins between LT and Ctrl\n",
    "## S4 is the list of differentially regulated proteins in the six subclusters\n"
   ]
  },
  {
   "cell_type": "code",
   "execution_count": 24,
   "id": "90415b0b",
   "metadata": {},
   "outputs": [
    {
     "name": "stdout",
     "output_type": "stream",
     "text": [
      "Number of significant differentially regulated proteins in supplementary file 2: 82\n",
      "Number of significant differentially regulated proteins in supplementary file 3: 312\n",
      "Number of significant differentially regulated proteins in supplementary file 4: 468\n",
      "Number of significant differentially regulated proteins in supplementary file 4: 849\n"
     ]
    }
   ],
   "source": [
    "print(\"Number of significant differentially regulated proteins in supplementary file 2: \" + str(len(st_ctrl_from_supplement_file_2)))\n",
    "print(\"Number of significant differentially regulated proteins in supplementary file 3: \" + str(len(lt_ctrl_from_supplement_file_3)))\n",
    "print(\"Number of significant differentially regulated proteins in supplementary file 4: \" + str(len(st_ctrl_from_supplement_file_4)))\n",
    "print(\"Number of significant differentially regulated proteins in supplementary file 4: \" + str(len(lt_ctrl_from_supplement_file_4)))\n"
   ]
  },
  {
   "cell_type": "code",
   "execution_count": null,
   "id": "79474be2",
   "metadata": {},
   "outputs": [],
   "source": []
  }
 ],
 "metadata": {
  "kernelspec": {
   "display_name": "Python [conda env:root] *",
   "language": "python",
   "name": "conda-root-py"
  },
  "language_info": {
   "codemirror_mode": {
    "name": "ipython",
    "version": 3
   },
   "file_extension": ".py",
   "mimetype": "text/x-python",
   "name": "python",
   "nbconvert_exporter": "python",
   "pygments_lexer": "ipython3",
   "version": "3.9.7"
  }
 },
 "nbformat": 4,
 "nbformat_minor": 5
}
