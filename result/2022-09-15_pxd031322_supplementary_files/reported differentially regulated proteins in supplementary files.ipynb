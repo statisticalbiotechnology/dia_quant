{
 "cells": [
  {
   "cell_type": "code",
   "execution_count": 1,
   "id": "63d41293",
   "metadata": {},
   "outputs": [],
   "source": [
    "import os \n",
    "\n",
    "os.chdir(\"/hdd_14T/data/PXD031322_oxaliplatin_dia_study/ftp.pride.ebi.ac.uk/pride/data/archive/2022/07/PXD031322/supplementary_material\")\n"
   ]
  },
  {
   "cell_type": "code",
   "execution_count": 2,
   "id": "3c33b13c",
   "metadata": {},
   "outputs": [],
   "source": [
    "import pandas as pd \n",
    "\n",
    "ST_ctrl = pd.read_excel(\"S2_list_of_proteins_differentially_regulated_between_ST_and_Ctrl.xlsx\", header = 1)\n",
    "LT_ctrl = pd.read_excel(\"S3_list_of_proteins_differentially_regulated_between_LT_and_Ctrl.xlsx\", header = 1)\n",
    "diffReg = pd.read_excel(\"S4_list_of_differential_regulation_protein_in_six_subclusters.xlsx\", header = 1)\n",
    "keggEnrichment = pd.read_excel(\"S5_KEGG_enrichment_analysis_of_proteins_in_six_subclusters.xlsx\", header = 1)\n",
    "gsvaEnrichment = pd.read_excel(\"S6_GSVA_enrichment_analysis.xlsx\", header = 1)"
   ]
  },
  {
   "cell_type": "code",
   "execution_count": 3,
   "id": "aa3161f0",
   "metadata": {},
   "outputs": [],
   "source": [
    "st_ctrl_from_supplement_file_2 = pd.concat([ST_ctrl[~ST_ctrl[\"Condition\"].isin([\"Not_sig\"]) & (ST_ctrl['log2（FC）'] > 1.5) ], \n",
    "ST_ctrl[~ST_ctrl[\"Condition\"].isin([\"Not_sig\"]) & (ST_ctrl['log2（FC）'] > 0.67)]])\n"
   ]
  },
  {
   "cell_type": "code",
   "execution_count": 4,
   "id": "3dae6b6c",
   "metadata": {},
   "outputs": [],
   "source": [
    "lt_ctrl_from_supplement_file_3 = pd.concat([LT_ctrl[~LT_ctrl[\"Condition\"].isin([\"Not_sig\"]) & (LT_ctrl['log2（FC）'] > 1.5) ],\n",
    "LT_ctrl[~LT_ctrl[\"Condition\"].isin([\"Not_sig\"]) & (LT_ctrl['log2（FC）'] > 0.67)]])\n"
   ]
  },
  {
   "cell_type": "code",
   "execution_count": 5,
   "id": "89bd1f27",
   "metadata": {},
   "outputs": [],
   "source": [
    "diffReg = diffReg[~diffReg[\"Condition\"].isin([\"Others\"])]\n",
    "\n",
    "lt_st = pd.concat([diffReg[(diffReg[\"LT-ST_diff\"] > 1.5) & (diffReg[\"LT-ST_p adj\"] < 0.05)], diffReg[(diffReg[\"LT-ST_diff\"] < 0.67) & (diffReg[\"LT-ST_p adj\"] < 0.05)] ])\n",
    "st_ctrl = pd.concat([diffReg[(diffReg[\"ST-Ctrl_diff\"] > 1.5) & (diffReg[\"ST-Ctrl_p adj\"] < 0.05)], diffReg[(diffReg[\"ST-Ctrl_diff\"] < 0.67) & (diffReg[\"ST-Ctrl_p adj\"] < 0.05)] ])\n",
    "lt_ctrl = pd.concat([diffReg[(diffReg[\"LT-Ctrl_diff\"] > 1.5) & (diffReg[\"LT-Ctrl_p adj\"] < 0.05)], diffReg[(diffReg[\"LT-Ctrl_diff\"] < 0.67) & (diffReg[\"LT-Ctrl_p adj\"] < 0.05)] ])\n",
    "\n",
    "st_ctrl_from_supplement_file_4 = st_ctrl\n",
    "lt_ctrl_from_supplement_file_4 = lt_ctrl\n"
   ]
  },
  {
   "cell_type": "markdown",
   "id": "5b38c8d4",
   "metadata": {},
   "source": [
    "# NOTE: \n",
    " \n",
    "## S2 is the list of differentially regulated proteins between ST and Ctrl\n",
    "## S3 is the list of differentially regulated proteins between LT and Ctrl\n",
    "## S4 is the list of differentially regulated proteins in the six subclusters\n"
   ]
  },
  {
   "cell_type": "code",
   "execution_count": 6,
   "id": "90415b0b",
   "metadata": {},
   "outputs": [
    {
     "name": "stdout",
     "output_type": "stream",
     "text": [
      "Number of significant differentially regulated proteins in supplementary file 2: 82\n",
      "Number of significant differentially regulated proteins in supplementary file 3: 312\n",
      "Number of significant differentially regulated proteins in supplementary file 4: 468\n",
      "Number of significant differentially regulated proteins in supplementary file 4: 849\n"
     ]
    }
   ],
   "source": [
    "print(\"Number of significant differentially regulated proteins in supplementary file 2: \" + str(len(st_ctrl_from_supplement_file_2)))\n",
    "print(\"Number of significant differentially regulated proteins in supplementary file 3: \" + str(len(lt_ctrl_from_supplement_file_3)))\n",
    "print(\"Number of significant differentially regulated proteins in supplementary file 4: \" + str(len(st_ctrl_from_supplement_file_4)))\n",
    "print(\"Number of significant differentially regulated proteins in supplementary file 4: \" + str(len(lt_ctrl_from_supplement_file_4)))\n"
   ]
  },
  {
   "cell_type": "markdown",
   "id": "afbd9bb2",
   "metadata": {},
   "source": [
    "## Investigating the fold-changes ST-Ctrl supplmentary file 2\n",
    "\n",
    "0.67 < FC < 1.5\n",
    "\n",
    "92 up-regulated proteins in ST-Ctrl\n",
    "188 down-regulated proteins in ST-Ctrl\n",
    "\n",
    "296 up-regulated proteins in LT-Ctrl\n",
    "422 down-regulated proteins in LT-Ctrl\n",
    "\n",
    "53 up-regulated proteins are shared between ST and LT groups\n",
    "111 down-regulated proteins are shared between ST and LT groups\n",
    "\n",
    "Text from section 3.1 in the report (PXD031322):\n",
    "\n",
    "Next, we compared the protein abundance between the two OXA-treated groups and the control mice using FC > 1.5 or FC < 0.67 and adjusted P value <0.05 as the cutoff threshold. As a result, we found 92 proteins up-regulated and 188 proteins down-regulated in the ST group compared to Ctrl (Fig. 2C and Supplemental Table S2). Meanwhile, 296 proteins were up-regulated and 422 proteins were down-regulated in the LT group (Fig. 2D and Supplemental Table S3). Moreover, 53 up-regulated proteins and 111 down-regulated proteins were shared between the ST and LT groups (Supplemental Fig. S1D). The results revealed that OXA treatment altered protein abundance in DRG tissues, and the proteome changes were affected by drug dose.\n"
   ]
  },
  {
   "attachments": {
    "image.png": {
     "image/png": "[encoded data removed]"
    }
   },
   "cell_type": "markdown",
   "id": "47c5dbd3",
   "metadata": {},
   "source": [
    "![image.png](attachment:image.png)"
   ]
  },
  {
   "cell_type": "code",
   "execution_count": 7,
   "id": "79474be2",
   "metadata": {},
   "outputs": [
    {
     "data": {
      "text/html": [
       "<div>\n",
       "<style scoped>\n",
       "    .dataframe tbody tr th:only-of-type {\n",
       "        vertical-align: middle;\n",
       "    }\n",
       "\n",
       "    .dataframe tbody tr th {\n",
       "        vertical-align: top;\n",
       "    }\n",
       "\n",
       "    .dataframe thead th {\n",
       "        text-align: right;\n",
       "    }\n",
       "</style>\n",
       "<table border=\"1\" class=\"dataframe\">\n",
       "  <thead>\n",
       "    <tr style=\"text-align: right;\">\n",
       "      <th></th>\n",
       "      <th>Protein.Ids</th>\n",
       "      <th>Gene_Symbol</th>\n",
       "      <th>First.Protein.Description</th>\n",
       "      <th>log2（FC）</th>\n",
       "      <th>log2（protein.intensity）</th>\n",
       "      <th>P_value</th>\n",
       "      <th>Adjusted_P_value</th>\n",
       "      <th>Condition</th>\n",
       "    </tr>\n",
       "  </thead>\n",
       "  <tbody>\n",
       "    <tr>\n",
       "      <th>9</th>\n",
       "      <td>A2ABU4</td>\n",
       "      <td>Myom3</td>\n",
       "      <td>Myomesin-3</td>\n",
       "      <td>1.727125</td>\n",
       "      <td>19.569754</td>\n",
       "      <td>0.007688</td>\n",
       "      <td>0.041938</td>\n",
       "      <td>Up</td>\n",
       "    </tr>\n",
       "    <tr>\n",
       "      <th>58</th>\n",
       "      <td>E9PZQ0</td>\n",
       "      <td>Ryr1</td>\n",
       "      <td>Ryanodine receptor 1</td>\n",
       "      <td>1.719560</td>\n",
       "      <td>21.005710</td>\n",
       "      <td>0.003520</td>\n",
       "      <td>0.026367</td>\n",
       "      <td>Up</td>\n",
       "    </tr>\n",
       "    <tr>\n",
       "      <th>149</th>\n",
       "      <td>O35379</td>\n",
       "      <td>Abcc1</td>\n",
       "      <td>Multidrug resistance-associated protein 1</td>\n",
       "      <td>1.774881</td>\n",
       "      <td>16.808166</td>\n",
       "      <td>0.001646</td>\n",
       "      <td>0.016784</td>\n",
       "      <td>Up</td>\n",
       "    </tr>\n",
       "    <tr>\n",
       "      <th>325</th>\n",
       "      <td>O89104</td>\n",
       "      <td>Sypl2</td>\n",
       "      <td>Synaptophysin-like protein 2</td>\n",
       "      <td>1.786095</td>\n",
       "      <td>21.044375</td>\n",
       "      <td>0.003386</td>\n",
       "      <td>0.025947</td>\n",
       "      <td>Up</td>\n",
       "    </tr>\n",
       "    <tr>\n",
       "      <th>359</th>\n",
       "      <td>P03987</td>\n",
       "      <td>NaN</td>\n",
       "      <td>Ig gamma-2A chain C region secreted form</td>\n",
       "      <td>1.993856</td>\n",
       "      <td>20.503970</td>\n",
       "      <td>0.000049</td>\n",
       "      <td>0.002788</td>\n",
       "      <td>Up</td>\n",
       "    </tr>\n",
       "    <tr>\n",
       "      <th>728</th>\n",
       "      <td>P40936</td>\n",
       "      <td>Inmt</td>\n",
       "      <td>Indolethylamine N-methyltransferase</td>\n",
       "      <td>1.714115</td>\n",
       "      <td>18.107524</td>\n",
       "      <td>0.000027</td>\n",
       "      <td>0.002182</td>\n",
       "      <td>Up</td>\n",
       "    </tr>\n",
       "    <tr>\n",
       "      <th>1294</th>\n",
       "      <td>Q3KNY0</td>\n",
       "      <td>Igfn1</td>\n",
       "      <td>Immunoglobulin-like and fibronectin type III d...</td>\n",
       "      <td>2.494612</td>\n",
       "      <td>16.364348</td>\n",
       "      <td>0.001305</td>\n",
       "      <td>0.014728</td>\n",
       "      <td>Up</td>\n",
       "    </tr>\n",
       "    <tr>\n",
       "      <th>1331</th>\n",
       "      <td>Q3TVI8</td>\n",
       "      <td>Pbxip1</td>\n",
       "      <td>Pre-B-cell leukemia transcription factor-inter...</td>\n",
       "      <td>1.601706</td>\n",
       "      <td>18.226358</td>\n",
       "      <td>0.007330</td>\n",
       "      <td>0.040682</td>\n",
       "      <td>Up</td>\n",
       "    </tr>\n",
       "    <tr>\n",
       "      <th>1401</th>\n",
       "      <td>Q3USB7</td>\n",
       "      <td>Plcl1</td>\n",
       "      <td>Inactive phospholipase C-like protein 1</td>\n",
       "      <td>2.925169</td>\n",
       "      <td>17.383983</td>\n",
       "      <td>0.000127</td>\n",
       "      <td>0.004630</td>\n",
       "      <td>Up</td>\n",
       "    </tr>\n",
       "    <tr>\n",
       "      <th>1704</th>\n",
       "      <td>Q64691</td>\n",
       "      <td>Capn3</td>\n",
       "      <td>Calpain-3</td>\n",
       "      <td>2.298162</td>\n",
       "      <td>16.539455</td>\n",
       "      <td>0.006861</td>\n",
       "      <td>0.038871</td>\n",
       "      <td>Up</td>\n",
       "    </tr>\n",
       "    <tr>\n",
       "      <th>3201</th>\n",
       "      <td>Q9D5J6</td>\n",
       "      <td>Shpk</td>\n",
       "      <td>Sedoheptulokinase</td>\n",
       "      <td>1.593216</td>\n",
       "      <td>17.034959</td>\n",
       "      <td>0.005595</td>\n",
       "      <td>0.034233</td>\n",
       "      <td>Up</td>\n",
       "    </tr>\n",
       "    <tr>\n",
       "      <th>3549</th>\n",
       "      <td>Q9QUP5</td>\n",
       "      <td>Hapln1</td>\n",
       "      <td>Hyaluronan and proteoglycan link protein 1</td>\n",
       "      <td>1.606119</td>\n",
       "      <td>19.462175</td>\n",
       "      <td>0.008284</td>\n",
       "      <td>0.044030</td>\n",
       "      <td>Up</td>\n",
       "    </tr>\n",
       "  </tbody>\n",
       "</table>\n",
       "</div>"
      ],
      "text/plain": [
       "     Protein.Ids Gene_Symbol  \\\n",
       "9         A2ABU4       Myom3   \n",
       "58        E9PZQ0        Ryr1   \n",
       "149       O35379       Abcc1   \n",
       "325       O89104       Sypl2   \n",
       "359       P03987         NaN   \n",
       "728       P40936        Inmt   \n",
       "1294      Q3KNY0       Igfn1   \n",
       "1331      Q3TVI8      Pbxip1   \n",
       "1401      Q3USB7       Plcl1   \n",
       "1704      Q64691       Capn3   \n",
       "3201      Q9D5J6        Shpk   \n",
       "3549      Q9QUP5      Hapln1   \n",
       "\n",
       "                              First.Protein.Description  log2（FC）  \\\n",
       "9                                            Myomesin-3  1.727125   \n",
       "58                                 Ryanodine receptor 1  1.719560   \n",
       "149           Multidrug resistance-associated protein 1  1.774881   \n",
       "325                        Synaptophysin-like protein 2  1.786095   \n",
       "359            Ig gamma-2A chain C region secreted form  1.993856   \n",
       "728                 Indolethylamine N-methyltransferase  1.714115   \n",
       "1294  Immunoglobulin-like and fibronectin type III d...  2.494612   \n",
       "1331  Pre-B-cell leukemia transcription factor-inter...  1.601706   \n",
       "1401            Inactive phospholipase C-like protein 1  2.925169   \n",
       "1704                                          Calpain-3  2.298162   \n",
       "3201                                  Sedoheptulokinase  1.593216   \n",
       "3549         Hyaluronan and proteoglycan link protein 1  1.606119   \n",
       "\n",
       "      log2（protein.intensity）   P_value  Adjusted_P_value Condition  \n",
       "9                   19.569754  0.007688          0.041938        Up  \n",
       "58                  21.005710  0.003520          0.026367        Up  \n",
       "149                 16.808166  0.001646          0.016784        Up  \n",
       "325                 21.044375  0.003386          0.025947        Up  \n",
       "359                 20.503970  0.000049          0.002788        Up  \n",
       "728                 18.107524  0.000027          0.002182        Up  \n",
       "1294                16.364348  0.001305          0.014728        Up  \n",
       "1331                18.226358  0.007330          0.040682        Up  \n",
       "1401                17.383983  0.000127          0.004630        Up  \n",
       "1704                16.539455  0.006861          0.038871        Up  \n",
       "3201                17.034959  0.005595          0.034233        Up  \n",
       "3549                19.462175  0.008284          0.044030        Up  "
      ]
     },
     "execution_count": 7,
     "metadata": {},
     "output_type": "execute_result"
    }
   ],
   "source": [
    "ST_ctrl[(ST_ctrl[\"Adjusted_P_value\"] < 0.05) & (ST_ctrl[\"log2（FC）\"] > 1.5)]"
   ]
  },
  {
   "cell_type": "code",
   "execution_count": 8,
   "id": "4877ed8c",
   "metadata": {},
   "outputs": [
    {
     "data": {
      "text/plain": [
       "0.047863207906366"
      ]
     },
     "execution_count": 8,
     "metadata": {},
     "output_type": "execute_result"
    }
   ],
   "source": [
    "ST_ctrl[ST_ctrl.Condition == \"Up\"][\"Adjusted_P_value\"].max()"
   ]
  },
  {
   "cell_type": "code",
   "execution_count": 9,
   "id": "09966dce",
   "metadata": {},
   "outputs": [
    {
     "data": {
      "text/plain": [
       "0.0490167551966368"
      ]
     },
     "execution_count": 9,
     "metadata": {},
     "output_type": "execute_result"
    }
   ],
   "source": [
    "ST_ctrl[ST_ctrl.Condition == \"Down\"][\"Adjusted_P_value\"].max()"
   ]
  },
  {
   "cell_type": "code",
   "execution_count": 10,
   "id": "2b4b2219",
   "metadata": {},
   "outputs": [
    {
     "data": {
      "text/plain": [
       "2.92516942287782"
      ]
     },
     "execution_count": 10,
     "metadata": {},
     "output_type": "execute_result"
    }
   ],
   "source": [
    "ST_ctrl[ST_ctrl.Condition == \"Up\"][\"log2（FC）\"].max()"
   ]
  },
  {
   "cell_type": "code",
   "execution_count": 11,
   "id": "a85869e3",
   "metadata": {},
   "outputs": [
    {
     "data": {
      "text/plain": [
       "0.592748916715291"
      ]
     },
     "execution_count": 11,
     "metadata": {},
     "output_type": "execute_result"
    }
   ],
   "source": [
    "ST_ctrl[ST_ctrl.Condition == \"Up\"][\"log2（FC）\"].min()"
   ]
  },
  {
   "cell_type": "code",
   "execution_count": 12,
   "id": "702130ca",
   "metadata": {},
   "outputs": [
    {
     "data": {
      "text/plain": [
       "-0.587031387105799"
      ]
     },
     "execution_count": 12,
     "metadata": {},
     "output_type": "execute_result"
    }
   ],
   "source": [
    "ST_ctrl[ST_ctrl.Condition == \"Down\"][\"log2（FC）\"].max()"
   ]
  },
  {
   "cell_type": "code",
   "execution_count": 13,
   "id": "7452dc89",
   "metadata": {},
   "outputs": [
    {
     "data": {
      "text/plain": [
       "-5.76879640601209"
      ]
     },
     "execution_count": 13,
     "metadata": {},
     "output_type": "execute_result"
    }
   ],
   "source": [
    "ST_ctrl[ST_ctrl.Condition == \"Down\"][\"log2（FC）\"].min()"
   ]
  },
  {
   "cell_type": "markdown",
   "id": "5bdab7b4",
   "metadata": {},
   "source": [
    "### Conclusion\n",
    "\n",
    "The maximum adjusted p-value seems to be 0.05 for supplementary file 2\n",
    "\n",
    "The FC-threshold seems to be   FC < -0.6 and FC > 0.6 for the ST-ctrl group"
   ]
  },
  {
   "cell_type": "markdown",
   "id": "da840397",
   "metadata": {},
   "source": [
    "## Investigating the fold-changes LT-Ctrl supplementary file 3\n"
   ]
  },
  {
   "cell_type": "code",
   "execution_count": 14,
   "id": "11dba04f",
   "metadata": {},
   "outputs": [
    {
     "data": {
      "text/html": [
       "<div>\n",
       "<style scoped>\n",
       "    .dataframe tbody tr th:only-of-type {\n",
       "        vertical-align: middle;\n",
       "    }\n",
       "\n",
       "    .dataframe tbody tr th {\n",
       "        vertical-align: top;\n",
       "    }\n",
       "\n",
       "    .dataframe thead th {\n",
       "        text-align: right;\n",
       "    }\n",
       "</style>\n",
       "<table border=\"1\" class=\"dataframe\">\n",
       "  <thead>\n",
       "    <tr style=\"text-align: right;\">\n",
       "      <th></th>\n",
       "      <th>Protein.Ids</th>\n",
       "      <th>Gene_Symbol</th>\n",
       "      <th>First.Protein.Description</th>\n",
       "      <th>log2（FC）</th>\n",
       "      <th>log2（protein.intensity）</th>\n",
       "      <th>P_value</th>\n",
       "      <th>Adjusted_P_value</th>\n",
       "      <th>Condition</th>\n",
       "    </tr>\n",
       "  </thead>\n",
       "  <tbody>\n",
       "    <tr>\n",
       "      <th>7</th>\n",
       "      <td>A2AAJ9</td>\n",
       "      <td>Obscn</td>\n",
       "      <td>Obscurin</td>\n",
       "      <td>1.882176</td>\n",
       "      <td>21.722283</td>\n",
       "      <td>0.008617</td>\n",
       "      <td>0.032117</td>\n",
       "      <td>Up</td>\n",
       "    </tr>\n",
       "    <tr>\n",
       "      <th>23</th>\n",
       "      <td>A2AUC9</td>\n",
       "      <td>Klhl41</td>\n",
       "      <td>Kelch-like protein 41</td>\n",
       "      <td>1.531751</td>\n",
       "      <td>21.427499</td>\n",
       "      <td>0.002466</td>\n",
       "      <td>0.012997</td>\n",
       "      <td>Up</td>\n",
       "    </tr>\n",
       "    <tr>\n",
       "      <th>31</th>\n",
       "      <td>A6X935</td>\n",
       "      <td>Itih4</td>\n",
       "      <td>Inter alpha-trypsin inhibitor, heavy chain 4</td>\n",
       "      <td>1.956590</td>\n",
       "      <td>22.004443</td>\n",
       "      <td>0.000006</td>\n",
       "      <td>0.000271</td>\n",
       "      <td>Up</td>\n",
       "    </tr>\n",
       "    <tr>\n",
       "      <th>32</th>\n",
       "      <td>B1AVD1</td>\n",
       "      <td>Xpnpep2</td>\n",
       "      <td>Xaa-Pro aminopeptidase 2</td>\n",
       "      <td>1.755934</td>\n",
       "      <td>18.084087</td>\n",
       "      <td>0.015465</td>\n",
       "      <td>0.048786</td>\n",
       "      <td>Up</td>\n",
       "    </tr>\n",
       "    <tr>\n",
       "      <th>58</th>\n",
       "      <td>E9PZQ0</td>\n",
       "      <td>Ryr1</td>\n",
       "      <td>Ryanodine receptor 1</td>\n",
       "      <td>1.976667</td>\n",
       "      <td>21.024448</td>\n",
       "      <td>0.004290</td>\n",
       "      <td>0.019577</td>\n",
       "      <td>Up</td>\n",
       "    </tr>\n",
       "    <tr>\n",
       "      <th>...</th>\n",
       "      <td>...</td>\n",
       "      <td>...</td>\n",
       "      <td>...</td>\n",
       "      <td>...</td>\n",
       "      <td>...</td>\n",
       "      <td>...</td>\n",
       "      <td>...</td>\n",
       "      <td>...</td>\n",
       "    </tr>\n",
       "    <tr>\n",
       "      <th>3563</th>\n",
       "      <td>Q9QXF8</td>\n",
       "      <td>Gnmt</td>\n",
       "      <td>Glycine N-methyltransferase</td>\n",
       "      <td>3.647686</td>\n",
       "      <td>16.738235</td>\n",
       "      <td>0.006427</td>\n",
       "      <td>0.026341</td>\n",
       "      <td>Up</td>\n",
       "    </tr>\n",
       "    <tr>\n",
       "      <th>3625</th>\n",
       "      <td>Q9R0A1</td>\n",
       "      <td>Clcn2</td>\n",
       "      <td>Chloride channel protein 2</td>\n",
       "      <td>1.637763</td>\n",
       "      <td>18.791353</td>\n",
       "      <td>0.000241</td>\n",
       "      <td>0.002924</td>\n",
       "      <td>Up</td>\n",
       "    </tr>\n",
       "    <tr>\n",
       "      <th>3630</th>\n",
       "      <td>Q9R0G6</td>\n",
       "      <td>Comp</td>\n",
       "      <td>Cartilage oligomeric matrix protein</td>\n",
       "      <td>1.608153</td>\n",
       "      <td>19.969354</td>\n",
       "      <td>0.000053</td>\n",
       "      <td>0.001068</td>\n",
       "      <td>Up</td>\n",
       "    </tr>\n",
       "    <tr>\n",
       "      <th>3687</th>\n",
       "      <td>Q9WU79</td>\n",
       "      <td>Prodh</td>\n",
       "      <td>Proline dehydrogenase 1, mitochondrial</td>\n",
       "      <td>1.690775</td>\n",
       "      <td>17.161081</td>\n",
       "      <td>0.007404</td>\n",
       "      <td>0.028844</td>\n",
       "      <td>Up</td>\n",
       "    </tr>\n",
       "    <tr>\n",
       "      <th>3758</th>\n",
       "      <td>Q9Z127</td>\n",
       "      <td>Slc7a5</td>\n",
       "      <td>Large neutral amino acids transporter small su...</td>\n",
       "      <td>1.837283</td>\n",
       "      <td>18.366789</td>\n",
       "      <td>0.000180</td>\n",
       "      <td>0.002456</td>\n",
       "      <td>Up</td>\n",
       "    </tr>\n",
       "  </tbody>\n",
       "</table>\n",
       "<p>61 rows × 8 columns</p>\n",
       "</div>"
      ],
      "text/plain": [
       "     Protein.Ids Gene_Symbol  \\\n",
       "7         A2AAJ9       Obscn   \n",
       "23        A2AUC9      Klhl41   \n",
       "31        A6X935       Itih4   \n",
       "32        B1AVD1     Xpnpep2   \n",
       "58        E9PZQ0        Ryr1   \n",
       "...          ...         ...   \n",
       "3563      Q9QXF8        Gnmt   \n",
       "3625      Q9R0A1       Clcn2   \n",
       "3630      Q9R0G6        Comp   \n",
       "3687      Q9WU79       Prodh   \n",
       "3758      Q9Z127      Slc7a5   \n",
       "\n",
       "                              First.Protein.Description  log2（FC）  \\\n",
       "7                                              Obscurin  1.882176   \n",
       "23                                Kelch-like protein 41  1.531751   \n",
       "31         Inter alpha-trypsin inhibitor, heavy chain 4  1.956590   \n",
       "32                             Xaa-Pro aminopeptidase 2  1.755934   \n",
       "58                                 Ryanodine receptor 1  1.976667   \n",
       "...                                                 ...       ...   \n",
       "3563                        Glycine N-methyltransferase  3.647686   \n",
       "3625                         Chloride channel protein 2  1.637763   \n",
       "3630                Cartilage oligomeric matrix protein  1.608153   \n",
       "3687             Proline dehydrogenase 1, mitochondrial  1.690775   \n",
       "3758  Large neutral amino acids transporter small su...  1.837283   \n",
       "\n",
       "      log2（protein.intensity）   P_value  Adjusted_P_value Condition  \n",
       "7                   21.722283  0.008617          0.032117        Up  \n",
       "23                  21.427499  0.002466          0.012997        Up  \n",
       "31                  22.004443  0.000006          0.000271        Up  \n",
       "32                  18.084087  0.015465          0.048786        Up  \n",
       "58                  21.024448  0.004290          0.019577        Up  \n",
       "...                       ...       ...               ...       ...  \n",
       "3563                16.738235  0.006427          0.026341        Up  \n",
       "3625                18.791353  0.000241          0.002924        Up  \n",
       "3630                19.969354  0.000053          0.001068        Up  \n",
       "3687                17.161081  0.007404          0.028844        Up  \n",
       "3758                18.366789  0.000180          0.002456        Up  \n",
       "\n",
       "[61 rows x 8 columns]"
      ]
     },
     "execution_count": 14,
     "metadata": {},
     "output_type": "execute_result"
    }
   ],
   "source": [
    "LT_ctrl[(LT_ctrl[\"Adjusted_P_value\"] < 0.05) & (LT_ctrl[\"log2（FC）\"] > 1.5)]"
   ]
  },
  {
   "cell_type": "code",
   "execution_count": 15,
   "id": "6a4d97ac",
   "metadata": {},
   "outputs": [
    {
     "data": {
      "text/plain": [
       "0.0495416969174467"
      ]
     },
     "execution_count": 15,
     "metadata": {},
     "output_type": "execute_result"
    }
   ],
   "source": [
    "LT_ctrl[LT_ctrl.Condition == \"Up\"][\"Adjusted_P_value\"].max()"
   ]
  },
  {
   "cell_type": "code",
   "execution_count": 16,
   "id": "1481f547",
   "metadata": {},
   "outputs": [
    {
     "data": {
      "text/plain": [
       "0.0499204385622022"
      ]
     },
     "execution_count": 16,
     "metadata": {},
     "output_type": "execute_result"
    }
   ],
   "source": [
    "LT_ctrl[LT_ctrl.Condition == \"Down\"][\"Adjusted_P_value\"].max()"
   ]
  },
  {
   "cell_type": "code",
   "execution_count": 17,
   "id": "3ba8c6fe",
   "metadata": {},
   "outputs": [
    {
     "data": {
      "text/plain": [
       "9.09179785752679"
      ]
     },
     "execution_count": 17,
     "metadata": {},
     "output_type": "execute_result"
    }
   ],
   "source": [
    "LT_ctrl[LT_ctrl.Condition == \"Up\"][\"log2（FC）\"].max()"
   ]
  },
  {
   "cell_type": "code",
   "execution_count": 18,
   "id": "c7510431",
   "metadata": {},
   "outputs": [
    {
     "data": {
      "text/plain": [
       "0.585655883293821"
      ]
     },
     "execution_count": 18,
     "metadata": {},
     "output_type": "execute_result"
    }
   ],
   "source": [
    "LT_ctrl[LT_ctrl.Condition == \"Up\"][\"log2（FC）\"].min()"
   ]
  },
  {
   "cell_type": "code",
   "execution_count": 19,
   "id": "eff9d834",
   "metadata": {},
   "outputs": [
    {
     "data": {
      "text/plain": [
       "-0.585003797367708"
      ]
     },
     "execution_count": 19,
     "metadata": {},
     "output_type": "execute_result"
    }
   ],
   "source": [
    "LT_ctrl[LT_ctrl.Condition == \"Down\"][\"log2（FC）\"].max()"
   ]
  },
  {
   "cell_type": "code",
   "execution_count": 20,
   "id": "230b4f4f",
   "metadata": {},
   "outputs": [
    {
     "data": {
      "text/plain": [
       "-9.39793433825828"
      ]
     },
     "execution_count": 20,
     "metadata": {},
     "output_type": "execute_result"
    }
   ],
   "source": [
    "LT_ctrl[LT_ctrl.Condition == \"Down\"][\"log2（FC）\"].min()"
   ]
  },
  {
   "cell_type": "markdown",
   "id": "efbc8e2f",
   "metadata": {},
   "source": [
    "### Conclusion\n",
    "\n",
    "The maximum adjusted p-value seems to be 0.05 for supplementary file 3\n",
    "\n",
    "The FC-threshold seems to be FC < -0.6 and FC > 0.6 for the ST-ctrl group"
   ]
  },
  {
   "cell_type": "markdown",
   "id": "74fe3488",
   "metadata": {},
   "source": [
    "## Investigating the fold-changes ST-Ctrl supplementary file 4"
   ]
  },
  {
   "cell_type": "code",
   "execution_count": 21,
   "id": "4dad3a8e",
   "metadata": {},
   "outputs": [],
   "source": [
    "diffReg = diffReg[~diffReg[\"Condition\"].isin([\"Others\"])]\n",
    "diffReg.set_index([\"Protein.Ids\", \"Gene.Symbol\"], inplace = True)"
   ]
  },
  {
   "cell_type": "code",
   "execution_count": 22,
   "id": "d7cc960f",
   "metadata": {},
   "outputs": [
    {
     "data": {
      "text/html": [
       "<div>\n",
       "<style scoped>\n",
       "    .dataframe tbody tr th:only-of-type {\n",
       "        vertical-align: middle;\n",
       "    }\n",
       "\n",
       "    .dataframe tbody tr th {\n",
       "        vertical-align: top;\n",
       "    }\n",
       "\n",
       "    .dataframe thead th {\n",
       "        text-align: right;\n",
       "    }\n",
       "</style>\n",
       "<table border=\"1\" class=\"dataframe\">\n",
       "  <thead>\n",
       "    <tr style=\"text-align: right;\">\n",
       "      <th></th>\n",
       "      <th></th>\n",
       "      <th>First.Protein.Description</th>\n",
       "      <th>ST-Ctrl_diff</th>\n",
       "      <th>ST-Ctrl_p adj</th>\n",
       "      <th>LT-Ctrl_diff</th>\n",
       "      <th>LT-Ctrl_p adj</th>\n",
       "      <th>LT-ST_diff</th>\n",
       "      <th>LT-ST_p adj</th>\n",
       "      <th>Condition</th>\n",
       "    </tr>\n",
       "    <tr>\n",
       "      <th>Protein.Ids</th>\n",
       "      <th>Gene.Symbol</th>\n",
       "      <th></th>\n",
       "      <th></th>\n",
       "      <th></th>\n",
       "      <th></th>\n",
       "      <th></th>\n",
       "      <th></th>\n",
       "      <th></th>\n",
       "      <th></th>\n",
       "    </tr>\n",
       "  </thead>\n",
       "  <tbody>\n",
       "    <tr>\n",
       "      <th>A2AGT5</th>\n",
       "      <th>Ckap5</th>\n",
       "      <td>Cytoskeleton-associated protein 5</td>\n",
       "      <td>0.142507</td>\n",
       "      <td>0.207542</td>\n",
       "      <td>-0.128627</td>\n",
       "      <td>0.306358</td>\n",
       "      <td>-0.271134</td>\n",
       "      <td>0.018850</td>\n",
       "      <td>C4</td>\n",
       "    </tr>\n",
       "    <tr>\n",
       "      <th>A3KMP2</th>\n",
       "      <th>Ttc38</th>\n",
       "      <td>Tetratricopeptide repeat protein 38</td>\n",
       "      <td>-0.027055</td>\n",
       "      <td>0.968188</td>\n",
       "      <td>0.446700</td>\n",
       "      <td>0.007929</td>\n",
       "      <td>0.473755</td>\n",
       "      <td>0.005392</td>\n",
       "      <td>C3</td>\n",
       "    </tr>\n",
       "    <tr>\n",
       "      <th>A6H5Y3</th>\n",
       "      <th>Mtr</th>\n",
       "      <td>Methionine synthase</td>\n",
       "      <td>0.322126</td>\n",
       "      <td>0.005789</td>\n",
       "      <td>0.306277</td>\n",
       "      <td>0.011615</td>\n",
       "      <td>-0.015849</td>\n",
       "      <td>0.981586</td>\n",
       "      <td>C5</td>\n",
       "    </tr>\n",
       "    <tr>\n",
       "      <th>A6X8Z5</th>\n",
       "      <th>Arhgap31</th>\n",
       "      <td>Rho GTPase-activating protein 31</td>\n",
       "      <td>-0.121535</td>\n",
       "      <td>0.826330</td>\n",
       "      <td>0.469724</td>\n",
       "      <td>0.122217</td>\n",
       "      <td>0.591259</td>\n",
       "      <td>0.048175</td>\n",
       "      <td>C3</td>\n",
       "    </tr>\n",
       "    <tr>\n",
       "      <th>A6X935</th>\n",
       "      <th>Itih4</th>\n",
       "      <td>Inter alpha-trypsin inhibitor, heavy chain 4</td>\n",
       "      <td>0.712827</td>\n",
       "      <td>0.024456</td>\n",
       "      <td>1.956590</td>\n",
       "      <td>0.000017</td>\n",
       "      <td>1.243763</td>\n",
       "      <td>0.000878</td>\n",
       "      <td>C1</td>\n",
       "    </tr>\n",
       "    <tr>\n",
       "      <th>...</th>\n",
       "      <th>...</th>\n",
       "      <td>...</td>\n",
       "      <td>...</td>\n",
       "      <td>...</td>\n",
       "      <td>...</td>\n",
       "      <td>...</td>\n",
       "      <td>...</td>\n",
       "      <td>...</td>\n",
       "      <td>...</td>\n",
       "    </tr>\n",
       "    <tr>\n",
       "      <th>Q9Z2M7</th>\n",
       "      <th>Pmm2</th>\n",
       "      <td>Phosphomannomutase 2</td>\n",
       "      <td>-0.089319</td>\n",
       "      <td>0.788624</td>\n",
       "      <td>0.337358</td>\n",
       "      <td>0.088092</td>\n",
       "      <td>0.426677</td>\n",
       "      <td>0.030502</td>\n",
       "      <td>C3</td>\n",
       "    </tr>\n",
       "    <tr>\n",
       "      <th>Q9Z2N8</th>\n",
       "      <th>Actl6a</th>\n",
       "      <td>Actin-like protein 6A</td>\n",
       "      <td>-0.583078</td>\n",
       "      <td>0.000662</td>\n",
       "      <td>-0.536855</td>\n",
       "      <td>0.001981</td>\n",
       "      <td>0.046223</td>\n",
       "      <td>0.917355</td>\n",
       "      <td>C6</td>\n",
       "    </tr>\n",
       "    <tr>\n",
       "      <th>Q9Z2U1</th>\n",
       "      <th>Psma5</th>\n",
       "      <td>Proteasome subunit alpha type-5</td>\n",
       "      <td>-0.284836</td>\n",
       "      <td>0.000765</td>\n",
       "      <td>-0.180117</td>\n",
       "      <td>0.024713</td>\n",
       "      <td>0.104719</td>\n",
       "      <td>0.211689</td>\n",
       "      <td>C6</td>\n",
       "    </tr>\n",
       "    <tr>\n",
       "      <th>Q9Z2V5</th>\n",
       "      <th>Hdac6</th>\n",
       "      <td>Histone deacetylase 6</td>\n",
       "      <td>0.330774</td>\n",
       "      <td>0.011637</td>\n",
       "      <td>0.476913</td>\n",
       "      <td>0.001411</td>\n",
       "      <td>0.146139</td>\n",
       "      <td>0.337647</td>\n",
       "      <td>C5</td>\n",
       "    </tr>\n",
       "    <tr>\n",
       "      <th>Q9Z2X1</th>\n",
       "      <th>Hnrnpf</th>\n",
       "      <td>Heterogeneous nuclear ribonucleoprotein F</td>\n",
       "      <td>-0.728827</td>\n",
       "      <td>0.001272</td>\n",
       "      <td>-0.722335</td>\n",
       "      <td>0.002121</td>\n",
       "      <td>0.006492</td>\n",
       "      <td>0.999070</td>\n",
       "      <td>C6</td>\n",
       "    </tr>\n",
       "  </tbody>\n",
       "</table>\n",
       "<p>1128 rows × 8 columns</p>\n",
       "</div>"
      ],
      "text/plain": [
       "                                            First.Protein.Description  \\\n",
       "Protein.Ids Gene.Symbol                                                 \n",
       "A2AGT5      Ckap5                   Cytoskeleton-associated protein 5   \n",
       "A3KMP2      Ttc38                 Tetratricopeptide repeat protein 38   \n",
       "A6H5Y3      Mtr                                   Methionine synthase   \n",
       "A6X8Z5      Arhgap31                 Rho GTPase-activating protein 31   \n",
       "A6X935      Itih4        Inter alpha-trypsin inhibitor, heavy chain 4   \n",
       "...                                                               ...   \n",
       "Q9Z2M7      Pmm2                                 Phosphomannomutase 2   \n",
       "Q9Z2N8      Actl6a                              Actin-like protein 6A   \n",
       "Q9Z2U1      Psma5                     Proteasome subunit alpha type-5   \n",
       "Q9Z2V5      Hdac6                               Histone deacetylase 6   \n",
       "Q9Z2X1      Hnrnpf          Heterogeneous nuclear ribonucleoprotein F   \n",
       "\n",
       "                         ST-Ctrl_diff  ST-Ctrl_p adj  LT-Ctrl_diff  \\\n",
       "Protein.Ids Gene.Symbol                                              \n",
       "A2AGT5      Ckap5            0.142507       0.207542     -0.128627   \n",
       "A3KMP2      Ttc38           -0.027055       0.968188      0.446700   \n",
       "A6H5Y3      Mtr              0.322126       0.005789      0.306277   \n",
       "A6X8Z5      Arhgap31        -0.121535       0.826330      0.469724   \n",
       "A6X935      Itih4            0.712827       0.024456      1.956590   \n",
       "...                               ...            ...           ...   \n",
       "Q9Z2M7      Pmm2            -0.089319       0.788624      0.337358   \n",
       "Q9Z2N8      Actl6a          -0.583078       0.000662     -0.536855   \n",
       "Q9Z2U1      Psma5           -0.284836       0.000765     -0.180117   \n",
       "Q9Z2V5      Hdac6            0.330774       0.011637      0.476913   \n",
       "Q9Z2X1      Hnrnpf          -0.728827       0.001272     -0.722335   \n",
       "\n",
       "                         LT-Ctrl_p adj  LT-ST_diff  LT-ST_p adj Condition  \n",
       "Protein.Ids Gene.Symbol                                                    \n",
       "A2AGT5      Ckap5             0.306358   -0.271134     0.018850        C4  \n",
       "A3KMP2      Ttc38             0.007929    0.473755     0.005392        C3  \n",
       "A6H5Y3      Mtr               0.011615   -0.015849     0.981586        C5  \n",
       "A6X8Z5      Arhgap31          0.122217    0.591259     0.048175        C3  \n",
       "A6X935      Itih4             0.000017    1.243763     0.000878        C1  \n",
       "...                                ...         ...          ...       ...  \n",
       "Q9Z2M7      Pmm2              0.088092    0.426677     0.030502        C3  \n",
       "Q9Z2N8      Actl6a            0.001981    0.046223     0.917355        C6  \n",
       "Q9Z2U1      Psma5             0.024713    0.104719     0.211689        C6  \n",
       "Q9Z2V5      Hdac6             0.001411    0.146139     0.337647        C5  \n",
       "Q9Z2X1      Hnrnpf            0.002121    0.006492     0.999070        C6  \n",
       "\n",
       "[1128 rows x 8 columns]"
      ]
     },
     "execution_count": 22,
     "metadata": {},
     "output_type": "execute_result"
    }
   ],
   "source": [
    "diffReg"
   ]
  },
  {
   "cell_type": "code",
   "execution_count": 23,
   "id": "a0faabc9",
   "metadata": {},
   "outputs": [],
   "source": [
    "diffReg_st_ctrl = diffReg.T[diffReg.columns.str.contains(\"ST-C|Co\")].T\n",
    "diffReg_lt_ctrl = diffReg.T[diffReg.columns.str.contains(\"LT-C|Co\")].T\n"
   ]
  },
  {
   "cell_type": "code",
   "execution_count": 24,
   "id": "5e77c1db",
   "metadata": {},
   "outputs": [
    {
     "data": {
      "text/plain": [
       "0.0492917166078002"
      ]
     },
     "execution_count": 24,
     "metadata": {},
     "output_type": "execute_result"
    }
   ],
   "source": [
    " # C5 is up-regulated between st-ctrl, C6 is down-regulated between st-ctrl\n",
    "\n",
    "    \n",
    "diffReg_st_ctrl[diffReg_st_ctrl[\"Condition\"] == \"C5\"][\"ST-Ctrl_p adj\"].max()"
   ]
  },
  {
   "cell_type": "code",
   "execution_count": 25,
   "id": "39b85144",
   "metadata": {},
   "outputs": [
    {
     "data": {
      "text/plain": [
       "0.0489101737103306"
      ]
     },
     "execution_count": 25,
     "metadata": {},
     "output_type": "execute_result"
    }
   ],
   "source": [
    "diffReg_st_ctrl[diffReg_st_ctrl[\"Condition\"] == \"C6\"][\"ST-Ctrl_p adj\"].max()"
   ]
  },
  {
   "cell_type": "code",
   "execution_count": 26,
   "id": "26af7b20",
   "metadata": {},
   "outputs": [
    {
     "data": {
      "text/plain": [
       "2.92516942287782"
      ]
     },
     "execution_count": 26,
     "metadata": {},
     "output_type": "execute_result"
    }
   ],
   "source": [
    "diffReg_st_ctrl[diffReg_st_ctrl[\"Condition\"] == \"C5\"][\"ST-Ctrl_diff\"].max()"
   ]
  },
  {
   "cell_type": "code",
   "execution_count": 27,
   "id": "13fb3529",
   "metadata": {},
   "outputs": [
    {
     "data": {
      "text/plain": [
       "0.100961586288616"
      ]
     },
     "execution_count": 27,
     "metadata": {},
     "output_type": "execute_result"
    }
   ],
   "source": [
    "diffReg_st_ctrl[diffReg_st_ctrl[\"Condition\"] == \"C5\"][\"ST-Ctrl_diff\"].min()"
   ]
  },
  {
   "cell_type": "code",
   "execution_count": 28,
   "id": "70c26964",
   "metadata": {},
   "outputs": [
    {
     "data": {
      "text/plain": [
       "-0.157645014458168"
      ]
     },
     "execution_count": 28,
     "metadata": {},
     "output_type": "execute_result"
    }
   ],
   "source": [
    "diffReg_st_ctrl[diffReg_st_ctrl[\"Condition\"] == \"C6\"][\"ST-Ctrl_diff\"].max()"
   ]
  },
  {
   "cell_type": "code",
   "execution_count": 29,
   "id": "ca4d575c",
   "metadata": {},
   "outputs": [
    {
     "data": {
      "text/plain": [
       "-5.76879640601209"
      ]
     },
     "execution_count": 29,
     "metadata": {},
     "output_type": "execute_result"
    }
   ],
   "source": [
    "diffReg_st_ctrl[diffReg_st_ctrl[\"Condition\"] == \"C6\"][\"ST-Ctrl_diff\"].min()"
   ]
  },
  {
   "cell_type": "markdown",
   "id": "347f1d1d",
   "metadata": {},
   "source": [
    "### Conclusion\n",
    "\n",
    "The maximum adjusted p-value seems to be 0.05 for supplementary file 4\n",
    "\n",
    "The FC-threshold seems to be FC < -0.15 and FC > 0.1 for the ST-ctrl group"
   ]
  },
  {
   "cell_type": "markdown",
   "id": "63a49cac",
   "metadata": {},
   "source": [
    "## Investigating the fold-changes LT-Ctrl supplementary file 4"
   ]
  },
  {
   "cell_type": "code",
   "execution_count": 30,
   "id": "0bd707bd",
   "metadata": {},
   "outputs": [
    {
     "data": {
      "text/plain": [
       "0.00056301274508197"
      ]
     },
     "execution_count": 30,
     "metadata": {},
     "output_type": "execute_result"
    }
   ],
   "source": [
    " # C1 is up-regulated between st-ctrl, C2 is down-regulated between st-ctrl\n",
    "\n",
    "\n",
    "diffReg_lt_ctrl[diffReg_lt_ctrl[\"Condition\"] == \"C1\"][\"LT-Ctrl_p adj\"].max()"
   ]
  },
  {
   "cell_type": "code",
   "execution_count": 31,
   "id": "5b034dfd",
   "metadata": {},
   "outputs": [
    {
     "data": {
      "text/plain": [
       "0.000538920791776087"
      ]
     },
     "execution_count": 31,
     "metadata": {},
     "output_type": "execute_result"
    }
   ],
   "source": [
    "diffReg_lt_ctrl[diffReg_lt_ctrl[\"Condition\"] == \"C2\"][\"LT-Ctrl_p adj\"].max()"
   ]
  },
  {
   "cell_type": "code",
   "execution_count": 32,
   "id": "8885d228",
   "metadata": {},
   "outputs": [
    {
     "data": {
      "text/plain": [
       "6.31327002847166"
      ]
     },
     "execution_count": 32,
     "metadata": {},
     "output_type": "execute_result"
    }
   ],
   "source": [
    "diffReg_lt_ctrl[diffReg_lt_ctrl[\"Condition\"] == \"C1\"][\"LT-Ctrl_diff\"].max()"
   ]
  },
  {
   "cell_type": "code",
   "execution_count": 33,
   "id": "d97b84fd",
   "metadata": {},
   "outputs": [
    {
     "data": {
      "text/plain": [
       "0.515110009334432"
      ]
     },
     "execution_count": 33,
     "metadata": {},
     "output_type": "execute_result"
    }
   ],
   "source": [
    "diffReg_lt_ctrl[diffReg_lt_ctrl[\"Condition\"] == \"C1\"][\"LT-Ctrl_diff\"].min()"
   ]
  },
  {
   "cell_type": "code",
   "execution_count": 34,
   "id": "30708a84",
   "metadata": {},
   "outputs": [
    {
     "data": {
      "text/plain": [
       "-0.287517677034845"
      ]
     },
     "execution_count": 34,
     "metadata": {},
     "output_type": "execute_result"
    }
   ],
   "source": [
    "diffReg_lt_ctrl[diffReg_lt_ctrl[\"Condition\"] == \"C2\"][\"LT-Ctrl_diff\"].max()"
   ]
  },
  {
   "cell_type": "code",
   "execution_count": 35,
   "id": "e442472d",
   "metadata": {},
   "outputs": [
    {
     "data": {
      "text/plain": [
       "-9.39793433825827"
      ]
     },
     "execution_count": 35,
     "metadata": {},
     "output_type": "execute_result"
    }
   ],
   "source": [
    "diffReg_lt_ctrl[diffReg_lt_ctrl[\"Condition\"] == \"C2\"][\"LT-Ctrl_diff\"].min()"
   ]
  },
  {
   "cell_type": "code",
   "execution_count": null,
   "id": "608b9deb",
   "metadata": {},
   "outputs": [],
   "source": [
    "### Conclusion\n",
    "\n",
    "The maximum adjusted p-value seems to be 0.0006 (?) for supplementary file 4\n",
    "\n",
    "The FC-threshold seems to be FC < -0.15 and FC > 0.1 for the ST-ctrl group"
   ]
  }
 ],
 "metadata": {
  "kernelspec": {
   "display_name": "Python [conda env:root] *",
   "language": "python",
   "name": "conda-root-py"
  },
  "language_info": {
   "codemirror_mode": {
    "name": "ipython",
    "version": 3
   },
   "file_extension": ".py",
   "mimetype": "text/x-python",
   "name": "python",
   "nbconvert_exporter": "python",
   "pygments_lexer": "ipython3",
   "version": "3.9.7"
  }
 },
 "nbformat": 4,
 "nbformat_minor": 5
}
