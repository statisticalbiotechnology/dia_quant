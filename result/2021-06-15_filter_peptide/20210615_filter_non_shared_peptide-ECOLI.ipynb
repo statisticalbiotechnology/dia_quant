{
 "cells": [
  {
   "cell_type": "markdown",
   "metadata": {},
   "source": [
    "# About \n",
    "This scripts removes as much shared peptides as possible with trivial methods.\n"
   ]
  },
  {
   "cell_type": "code",
   "execution_count": 1,
   "metadata": {},
   "outputs": [],
   "source": [
    "\n",
    "import os \n",
    "import re\n",
    "import pandas as pd\n",
    "import numpy as np"
   ]
  },
  {
   "cell_type": "code",
   "execution_count": 3,
   "metadata": {},
   "outputs": [],
   "source": [
    "# read in .fasta file and count shared peptides\n",
    "\n",
    "os.chdir(\"/home/ptruong/git/dia_sum\")\n",
    "\n",
    "fasta = \"UP000000625_ecoli.fasta\"\n",
    "\n",
    "filename = \"database/2021-06-16/\" + fasta\n",
    "#filename = \"database/napedro_3mixed_human_yeast_ecoli_20140403_iRT_reverse.fasta\"\n",
    "\n",
    "\n",
    "file = open(filename, \"r\")\n",
    "\n",
    "\n",
    "protein_list = []\n",
    "sequence_list = []\n",
    "for line in file: \n",
    "    if line[0] == \">\":\n",
    "        protein = line \n",
    "    else:\n",
    "        sequence = line.rstrip()\n",
    "        split_sequence = re.split(r\"(?<=[KR])\", sequence)\n",
    "        split_sequence = list(dict.fromkeys(split_sequence))\n",
    "        sequence_list += split_sequence\n",
    "        protein_list += [protein for i in range(len(split_sequence))]\n",
    "        \n",
    "\n",
    "df_ = pd.DataFrame(np.array([protein_list, sequence_list]).T, columns = [\"protein\", \"sequence\"])\n",
    "df = pd.DataFrame(np.array([protein_list, sequence_list]).T, columns = [\"protein\", \"sequence\"])\n"
   ]
  },
  {
   "cell_type": "code",
   "execution_count": 4,
   "metadata": {},
   "outputs": [],
   "source": [
    "def decoy_map(protein):\n",
    "    if protein.split(\"_\")[0] == \">reverse\":\n",
    "        return True\n",
    "    else:\n",
    "        return False\n",
    "    \n",
    "    \n",
    "df[\"decoy\"] = df.protein.map(decoy_map)\n",
    "\n",
    "df = df[df.decoy == False]\n",
    "df[\"seq_length\"] = df.sequence.str.len()\n",
    "df = df[df[\"seq_length\"] > 7]\n",
    "df.drop(\"seq_length\", axis = 1, inplace = True)\n",
    "df.drop_duplicates(inplace=True)\n"
   ]
  },
  {
   "cell_type": "markdown",
   "metadata": {},
   "source": [
    "# Find protein with only one sequence"
   ]
  },
  {
   "cell_type": "code",
   "execution_count": 5,
   "metadata": {},
   "outputs": [
    {
     "data": {
      "text/html": [
       "<div>\n",
       "<style scoped>\n",
       "    .dataframe tbody tr th:only-of-type {\n",
       "        vertical-align: middle;\n",
       "    }\n",
       "\n",
       "    .dataframe tbody tr th {\n",
       "        vertical-align: top;\n",
       "    }\n",
       "\n",
       "    .dataframe thead th {\n",
       "        text-align: right;\n",
       "    }\n",
       "</style>\n",
       "<table border=\"1\" class=\"dataframe\">\n",
       "  <thead>\n",
       "    <tr style=\"text-align: right;\">\n",
       "      <th></th>\n",
       "      <th>protein</th>\n",
       "      <th>decoy</th>\n",
       "    </tr>\n",
       "    <tr>\n",
       "      <th>sequence</th>\n",
       "      <th></th>\n",
       "      <th></th>\n",
       "    </tr>\n",
       "  </thead>\n",
       "  <tbody>\n",
       "    <tr>\n",
       "      <th>NQLAMLFTLANLFR</th>\n",
       "      <td>12</td>\n",
       "      <td>12</td>\n",
       "    </tr>\n",
       "    <tr>\n",
       "      <th>EELAEVDVDWL</th>\n",
       "      <td>12</td>\n",
       "      <td>12</td>\n",
       "    </tr>\n",
       "    <tr>\n",
       "      <th>DPEMHQTK</th>\n",
       "      <td>12</td>\n",
       "      <td>12</td>\n",
       "    </tr>\n",
       "    <tr>\n",
       "      <th>WLAEAGVMMTQGTLVDATIIEAPSSTK</th>\n",
       "      <td>12</td>\n",
       "      <td>12</td>\n",
       "    </tr>\n",
       "    <tr>\n",
       "      <th>IHCMQHWYNLSDGAMEDALYEIASMR</th>\n",
       "      <td>12</td>\n",
       "      <td>12</td>\n",
       "    </tr>\n",
       "    <tr>\n",
       "      <th>...</th>\n",
       "      <td>...</td>\n",
       "      <td>...</td>\n",
       "    </tr>\n",
       "    <tr>\n",
       "      <th>GVMVVEER</th>\n",
       "      <td>1</td>\n",
       "      <td>1</td>\n",
       "    </tr>\n",
       "    <tr>\n",
       "      <th>GVMVVGVHFMSLELGGR</th>\n",
       "      <td>1</td>\n",
       "      <td>1</td>\n",
       "    </tr>\n",
       "    <tr>\n",
       "      <th>GVNAIELMHDAIGHILQLR</th>\n",
       "      <td>1</td>\n",
       "      <td>1</td>\n",
       "    </tr>\n",
       "    <tr>\n",
       "      <th>GVNANHIIR</th>\n",
       "      <td>1</td>\n",
       "      <td>1</td>\n",
       "    </tr>\n",
       "    <tr>\n",
       "      <th>LLSVAPVLLWLITPLAFAQLPGITSQPLPGGGQSWSLPVQTLVFITSLTFIPAILLM</th>\n",
       "      <td>1</td>\n",
       "      <td>1</td>\n",
       "    </tr>\n",
       "  </tbody>\n",
       "</table>\n",
       "<p>63400 rows × 2 columns</p>\n",
       "</div>"
      ],
      "text/plain": [
       "                                                    protein  decoy\n",
       "sequence                                                          \n",
       "NQLAMLFTLANLFR                                           12     12\n",
       "EELAEVDVDWL                                              12     12\n",
       "DPEMHQTK                                                 12     12\n",
       "WLAEAGVMMTQGTLVDATIIEAPSSTK                              12     12\n",
       "IHCMQHWYNLSDGAMEDALYEIASMR                               12     12\n",
       "...                                                     ...    ...\n",
       "GVMVVEER                                                  1      1\n",
       "GVMVVGVHFMSLELGGR                                         1      1\n",
       "GVNAIELMHDAIGHILQLR                                       1      1\n",
       "GVNANHIIR                                                 1      1\n",
       "LLSVAPVLLWLITPLAFAQLPGITSQPLPGGGQSWSLPVQTLVFITS...        1      1\n",
       "\n",
       "[63400 rows x 2 columns]"
      ]
     },
     "execution_count": 5,
     "metadata": {},
     "output_type": "execute_result"
    }
   ],
   "source": [
    "counted_df = df.groupby(\"sequence\").count().sort_values(by = \"protein\", ascending = False)\n",
    "counted_df"
   ]
  },
  {
   "cell_type": "code",
   "execution_count": 6,
   "metadata": {},
   "outputs": [],
   "source": [
    "single_protein_seq = counted_df[counted_df.protein == 1]"
   ]
  },
  {
   "cell_type": "markdown",
   "metadata": {},
   "source": [
    "# investigate if a single protein sequence has proteins containing single sequences."
   ]
  },
  {
   "cell_type": "code",
   "execution_count": 7,
   "metadata": {},
   "outputs": [],
   "source": [
    "df_single_seq = df[df.sequence.isin(single_protein_seq.index)]"
   ]
  },
  {
   "cell_type": "code",
   "execution_count": 8,
   "metadata": {},
   "outputs": [
    {
     "data": {
      "text/plain": [
       "protein    1\n",
       "decoy      1\n",
       "dtype: int64"
      ]
     },
     "execution_count": 8,
     "metadata": {},
     "output_type": "execute_result"
    }
   ],
   "source": [
    "df_single_seq.groupby(\"sequence\").count().max()"
   ]
  },
  {
   "cell_type": "code",
   "execution_count": 9,
   "metadata": {},
   "outputs": [
    {
     "data": {
      "text/plain": [
       "4306"
      ]
     },
     "execution_count": 9,
     "metadata": {},
     "output_type": "execute_result"
    }
   ],
   "source": [
    "# seems fine, keep these proteins \n",
    "len(df_single_seq.protein.unique())"
   ]
  },
  {
   "cell_type": "code",
   "execution_count": 10,
   "metadata": {},
   "outputs": [
    {
     "data": {
      "text/plain": [
       "4374"
      ]
     },
     "execution_count": 10,
     "metadata": {},
     "output_type": "execute_result"
    }
   ],
   "source": [
    "len(df.protein.unique())"
   ]
  },
  {
   "cell_type": "code",
   "execution_count": 11,
   "metadata": {},
   "outputs": [],
   "source": [
    "keep_list = df_single_seq.protein.unique()"
   ]
  },
  {
   "cell_type": "markdown",
   "metadata": {},
   "source": [
    "# Read in both fasta files and compare results."
   ]
  },
  {
   "cell_type": "code",
   "execution_count": 13,
   "metadata": {},
   "outputs": [],
   "source": [
    "os.chdir(\"/home/ptruong/git/dia_sum\")\n",
    "filename = \"database/2021-06-16/\" + fasta\n",
    "#filename = \"database/napedro_3mixed_human_yeast_ecoli_20140403_iRT_reverse.fasta\"\n",
    "file = open(filename, \"r\")\n",
    "\n",
    "file_w = open(f\"database/2021-06-16/no_shared_{fasta}\", \"w\")\n",
    "\n",
    "for line in file:\n",
    "    if line[0] == \">\":\n",
    "        protein = line \n",
    "        file_w.write(protein)\n",
    "    else:\n",
    "        if protein in keep_list:\n",
    "            sequence = line\n",
    "            file_w.write(sequence)\n",
    "        "
   ]
  },
  {
   "cell_type": "code",
   "execution_count": 85,
   "metadata": {},
   "outputs": [
    {
     "data": {
      "text/plain": [
       "'>sp|Q9ULT0|TTC7A_HUMAN Tetratricopeptide repeat protein 7A OS=Homo sapiens OX=9606 GN=TTC7A PE=1 SV=3\\n'"
      ]
     },
     "execution_count": 85,
     "metadata": {},
     "output_type": "execute_result"
    }
   ],
   "source": []
  },
  {
   "cell_type": "code",
   "execution_count": null,
   "metadata": {},
   "outputs": [],
   "source": []
  },
  {
   "cell_type": "code",
   "execution_count": null,
   "metadata": {},
   "outputs": [],
   "source": []
  },
  {
   "cell_type": "code",
   "execution_count": null,
   "metadata": {},
   "outputs": [],
   "source": []
  },
  {
   "cell_type": "code",
   "execution_count": null,
   "metadata": {},
   "outputs": [],
   "source": []
  },
  {
   "cell_type": "code",
   "execution_count": null,
   "metadata": {},
   "outputs": [],
   "source": []
  }
 ],
 "metadata": {
  "kernelspec": {
   "display_name": "Python [conda env:py37]",
   "language": "python",
   "name": "conda-env-py37-py"
  },
  "language_info": {
   "codemirror_mode": {
    "name": "ipython",
    "version": 3
   },
   "file_extension": ".py",
   "mimetype": "text/x-python",
   "name": "python",
   "nbconvert_exporter": "python",
   "pygments_lexer": "ipython3",
   "version": "3.7.10"
  }
 },
 "nbformat": 4,
 "nbformat_minor": 4
}
