{
 "cells": [
  {
   "cell_type": "markdown",
   "metadata": {},
   "source": [
    "# About \n",
    "This scripts removes as much shared peptides as possible with trivial methods.\n"
   ]
  },
  {
   "cell_type": "code",
   "execution_count": 1,
   "metadata": {},
   "outputs": [],
   "source": [
    "\n",
    "import os \n",
    "import re\n",
    "import pandas as pd\n",
    "import numpy as np"
   ]
  },
  {
   "cell_type": "code",
   "execution_count": null,
   "metadata": {},
   "outputs": [],
   "source": [
    "# read in .fasta file and count shared peptides\n",
    "\n",
    "os.chdir(\"/home/ptruong/git/dia_sum\")\n",
    "\n",
    "#human_fasta = \"2021-06-15-decoys-reviewed-contam-UP000000625.fas\"\n",
    "#yeast_fasta = \"2021-06-15-decoys-reviewed-contam-UP000002311\"\n",
    "ecoli_fasta = \"2021-06-15-decoys-reviewed-contam-UP000005640.fas\"\n",
    "\n",
    "filename = \"database/2021-06-15/\" + ecoli_fasta\n",
    "#filename = \"database/napedro_3mixed_human_yeast_ecoli_20140403_iRT_reverse.fasta\"\n",
    "\n",
    "\n",
    "\n",
    "file = open(filename, \"r\")\n",
    "\n",
    "\n",
    "protein_list = []\n",
    "sequence_list = []\n",
    "for line in file: \n",
    "    if line[0] == \">\":\n",
    "        protein = line \n",
    "    else:\n",
    "        sequence = line.rstrip()\n",
    "        split_sequence = re.split(r\"(?<=[KR])\", sequence)\n",
    "        split_sequence = list(dict.fromkeys(split_sequence))\n",
    "        sequence_list += split_sequence\n",
    "        protein_list += [protein for i in range(len(split_sequence))]\n",
    "        \n",
    "\n",
    "df_ = pd.DataFrame(np.array([protein_list, sequence_list]).T, columns = [\"protein\", \"sequence\"])\n",
    "df = pd.DataFrame(np.array([protein_list, sequence_list]).T, columns = [\"protein\", \"sequence\"])\n"
   ]
  },
  {
   "cell_type": "code",
   "execution_count": null,
   "metadata": {},
   "outputs": [],
   "source": [
    "def decoy_map(protein):\n",
    "    if protein.split(\"_\")[0] == \">reverse\":\n",
    "        return True\n",
    "    else:\n",
    "        return False\n",
    "    \n",
    "    \n",
    "df[\"decoy\"] = df.protein.map(decoy_map)\n",
    "\n",
    "df = df[df.decoy == False]\n",
    "df[\"seq_length\"] = df.sequence.str.len()\n",
    "df = df[df[\"seq_length\"] > 7]\n",
    "df.drop(\"seq_length\", axis = 1, inplace = True)\n",
    "df.drop_duplicates(inplace=True)\n"
   ]
  },
  {
   "cell_type": "markdown",
   "metadata": {},
   "source": [
    "# Find protein with only one sequence"
   ]
  },
  {
   "cell_type": "code",
   "execution_count": null,
   "metadata": {},
   "outputs": [],
   "source": [
    "counted_df = df.groupby(\"sequence\").count().sort_values(by = \"protein\", ascending = False)\n",
    "counted_df"
   ]
  },
  {
   "cell_type": "code",
   "execution_count": null,
   "metadata": {},
   "outputs": [],
   "source": [
    "single_protein_seq = counted_df[counted_df.protein == 1]"
   ]
  },
  {
   "cell_type": "markdown",
   "metadata": {},
   "source": [
    "# investigate if a single protein sequence has proteins containing single sequences."
   ]
  },
  {
   "cell_type": "code",
   "execution_count": null,
   "metadata": {},
   "outputs": [],
   "source": [
    "df_single_seq = df[df.sequence.isin(single_protein_seq.index)]"
   ]
  },
  {
   "cell_type": "code",
   "execution_count": null,
   "metadata": {},
   "outputs": [],
   "source": [
    "df_single_seq.groupby(\"sequence\").count().max()"
   ]
  },
  {
   "cell_type": "code",
   "execution_count": 1,
   "metadata": {},
   "outputs": [
    {
     "ename": "NameError",
     "evalue": "name 'df_single_seq' is not defined",
     "output_type": "error",
     "traceback": [
      "\u001b[0;31m---------------------------------------------------------------------------\u001b[0m",
      "\u001b[0;31mNameError\u001b[0m                                 Traceback (most recent call last)",
      "\u001b[0;32m<ipython-input-1-7d82d4092a58>\u001b[0m in \u001b[0;36m<module>\u001b[0;34m\u001b[0m\n\u001b[1;32m      1\u001b[0m \u001b[0;31m# seems fine, keep these proteins\u001b[0m\u001b[0;34m\u001b[0m\u001b[0;34m\u001b[0m\u001b[0;34m\u001b[0m\u001b[0m\n\u001b[0;32m----> 2\u001b[0;31m \u001b[0mlen\u001b[0m\u001b[0;34m(\u001b[0m\u001b[0mdf_single_seq\u001b[0m\u001b[0;34m.\u001b[0m\u001b[0mprotein\u001b[0m\u001b[0;34m.\u001b[0m\u001b[0munique\u001b[0m\u001b[0;34m(\u001b[0m\u001b[0;34m)\u001b[0m\u001b[0;34m)\u001b[0m\u001b[0;34m\u001b[0m\u001b[0;34m\u001b[0m\u001b[0m\n\u001b[0m",
      "\u001b[0;31mNameError\u001b[0m: name 'df_single_seq' is not defined"
     ]
    }
   ],
   "source": [
    "# seems fine, keep these proteins \n",
    "len(df_single_seq.protein.unique())"
   ]
  },
  {
   "cell_type": "code",
   "execution_count": 63,
   "metadata": {},
   "outputs": [
    {
     "data": {
      "text/plain": [
       "31010"
      ]
     },
     "execution_count": 63,
     "metadata": {},
     "output_type": "execute_result"
    }
   ],
   "source": [
    "len(df.protein.unique())"
   ]
  },
  {
   "cell_type": "code",
   "execution_count": 69,
   "metadata": {},
   "outputs": [],
   "source": [
    "keep_list = df_single_seq.protein.unique()"
   ]
  },
  {
   "cell_type": "markdown",
   "metadata": {},
   "source": [
    "# Read in both fasta files and compare results."
   ]
  },
  {
   "cell_type": "code",
   "execution_count": 89,
   "metadata": {},
   "outputs": [],
   "source": [
    "\n",
    "os.chdir(\"/home/ptruong/git/dia_sum\")\n",
    "filename = \"database/2021-06-07/UP00000625_UP000002311_UP000005640.fasta\"\n",
    "#filename = \"database/napedro_3mixed_human_yeast_ecoli_20140403_iRT_reverse.fasta\"\n",
    "file = open(filename, \"r\")\n",
    "\n",
    "file_w = open(\"database/UP00000625_UP000002311_UP000005640_no_shared_peptides.fasta\", \"w\")\n",
    "\n",
    "for line in file:\n",
    "    if line[0] == \">\":\n",
    "        protein = line \n",
    "        file_w.write(protein)\n",
    "    else:\n",
    "        if protein in keep_list:\n",
    "            sequence = line\n",
    "            file_w.write(sequence)\n",
    "        "
   ]
  },
  {
   "cell_type": "code",
   "execution_count": 85,
   "metadata": {},
   "outputs": [
    {
     "data": {
      "text/plain": [
       "'>sp|Q9ULT0|TTC7A_HUMAN Tetratricopeptide repeat protein 7A OS=Homo sapiens OX=9606 GN=TTC7A PE=1 SV=3\\n'"
      ]
     },
     "execution_count": 85,
     "metadata": {},
     "output_type": "execute_result"
    }
   ],
   "source": []
  },
  {
   "cell_type": "code",
   "execution_count": null,
   "metadata": {},
   "outputs": [],
   "source": []
  },
  {
   "cell_type": "code",
   "execution_count": null,
   "metadata": {},
   "outputs": [],
   "source": []
  },
  {
   "cell_type": "code",
   "execution_count": null,
   "metadata": {},
   "outputs": [],
   "source": []
  },
  {
   "cell_type": "code",
   "execution_count": null,
   "metadata": {},
   "outputs": [],
   "source": []
  },
  {
   "cell_type": "code",
   "execution_count": null,
   "metadata": {},
   "outputs": [],
   "source": []
  }
 ],
 "metadata": {
  "kernelspec": {
   "display_name": "Python [conda env:py37]",
   "language": "python",
   "name": "conda-env-py37-py"
  },
  "language_info": {
   "codemirror_mode": {
    "name": "ipython",
    "version": 3
   },
   "file_extension": ".py",
   "mimetype": "text/x-python",
   "name": "python",
   "nbconvert_exporter": "python",
   "pygments_lexer": "ipython3",
   "version": "3.7.10"
  }
 },
 "nbformat": 4,
 "nbformat_minor": 4
}
