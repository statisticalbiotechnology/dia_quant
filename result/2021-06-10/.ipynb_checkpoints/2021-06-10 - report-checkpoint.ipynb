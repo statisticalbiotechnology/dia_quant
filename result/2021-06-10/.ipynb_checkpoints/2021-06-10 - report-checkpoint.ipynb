{
 "cells": [
  {
   "cell_type": "markdown",
   "metadata": {},
   "source": [
    "\n",
    "# Just some notes on week tasks\n",
    "\n",
    "Databases\n",
    "\n",
    "napedro_3mixed_human_yeast_ecoli_20140403_iRT_reverse.fasta\n",
    "\n",
    "UP00000625_UP000002311_UP000005640.fasta \n",
    "\n",
    "Tasks run\n",
    "- TTOF6600 32fix (DIA .mzML) --> DIAUmpire (SE) --> MSFragger (500 mz fragment tolerance) --> Database (napedro_3mixed_human_yeast_ecoli_20140403_iRT_reverse) \n"
   ]
  },
  {
   "cell_type": "code",
   "execution_count": null,
   "metadata": {},
   "outputs": [],
   "source": []
  },
  {
   "cell_type": "code",
   "execution_count": null,
   "metadata": {},
   "outputs": [],
   "source": []
  },
  {
   "cell_type": "code",
   "execution_count": null,
   "metadata": {},
   "outputs": [],
   "source": []
  }
 ],
 "metadata": {
  "kernelspec": {
   "display_name": "Python [conda env:py37]",
   "language": "python",
   "name": "conda-env-py37-py"
  },
  "language_info": {
   "codemirror_mode": {
    "name": "ipython",
    "version": 3
   },
   "file_extension": ".py",
   "mimetype": "text/x-python",
   "name": "python",
   "nbconvert_exporter": "python",
   "pygments_lexer": "ipython3",
   "version": "3.7.10"
  }
 },
 "nbformat": 4,
 "nbformat_minor": 4
}
