{
 "cells": [
  {
   "cell_type": "markdown",
   "metadata": {},
   "source": [
    "# About \n",
    "This scripts removes as much shared peptides as possible with trivial methods.\n",
    "\n",
    "Algorithm:\n",
    "1. Read in the database\n",
    "2. Loop through lines of database\n",
    "3. Protein <- line starting with \">\"\n",
    "4. sequence <- other lines.\n",
    "5. Split sequence at \"K\" and \"R\".\n",
    "6. Create a list with the split sequences.\n",
    "7. Create an equally sized list with the protein name for each split sequence. \n",
    "8. Create a DataFrame with all the proteins and splitted sequences.\n",
    "9. If we want to replace I/L with L then set \"modify_IL\" to True.\n",
    "10. Create a column with mapped decoys.\n",
    "11. Create a column with mapped species.\n",
    "12. Create a column with mapped \"sequence length\".\n",
    "13. Keep only rows with \"sequence length\" > 7.\n",
    "14. Drop duplicates.\n",
    "15. Create a dataframe for number of protein per sequence by using - Groupby sequence (These are the splitted sequences still).\n",
    "16. Count proteins for each sequence. \n",
    "17. Filter count dataframe to contain only sequences with count == 1.\n",
    "18. Take only unique protein.\n",
    "19. Make a list of the unique proteins. \n",
    "20. This protein contains the final result that we keep.\n",
    "21. Read in the orignal db again and keep only proteins that exist in list created in 19).\n"
   ]
  },
  {
   "cell_type": "code",
   "execution_count": 2,
   "metadata": {},
   "outputs": [],
   "source": [
    "\n",
    "import os \n",
    "import re\n",
    "import pandas as pd\n",
    "import numpy as np"
   ]
  },
  {
   "cell_type": "code",
   "execution_count": 3,
   "metadata": {},
   "outputs": [],
   "source": [
    "# read in .fasta file and count shared peptides\n",
    "\n",
    "os.chdir(\"/home/ptruong/git/dia_sum\")\n",
    "\n",
    "#human_fasta = \"2021-06-15-decoys-reviewed-contam-UP000000625.fas\"\n",
    "#yeast_fasta = \"2021-06-15-decoys-reviewed-contam-UP000002311\"\n",
    "#ecoli_fasta = \"2021-06-15-decoys-reviewed-contam-UP000005640\"\n",
    "\n",
    "#filename = \"database/2021-06-15/\" + human_fasta\n",
    "#filename = \"database/napedro_3mixed_human_yeast_ecoli_20140403_iRT_reverse.fasta\"\n",
    "#filename = \"database/2021-06-07/UP00000625_UP000002311_UP000005640.fasta\"\n",
    "filename = \"database/2021-09-15_malaria_yeast_PXD017705/UP000002311_UP000001450.fasta\"\n",
    "\n",
    "\n",
    "file = open(filename, \"r\")\n",
    "\n",
    "\n",
    "protein_list = []\n",
    "sequence_list = []\n",
    "for line in file: \n",
    "    if line[0] == \">\":\n",
    "        protein = line \n",
    "    else:\n",
    "        sequence = line.rstrip()\n",
    "        split_sequence = re.split(r\"(?<=[KR])\", sequence)\n",
    "        split_sequence = list(dict.fromkeys(split_sequence))\n",
    "        sequence_list += split_sequence\n",
    "        protein_list += [protein for i in range(len(split_sequence))]\n",
    "        \n",
    "\n",
    "df_ = pd.DataFrame(np.array([protein_list, sequence_list]).T, columns = [\"protein\", \"sequence\"])\n",
    "df = pd.DataFrame(np.array([protein_list, sequence_list]).T, columns = [\"protein\", \"sequence\"])\n"
   ]
  },
  {
   "cell_type": "markdown",
   "metadata": {},
   "source": [
    "# If True replace I and L with common symbol\n",
    "\n",
    "Amino acis I (Iso-leucine) and L (leucine) have the same weight and therefore the same peak in a mass-spec. We want to make them interchangable to see if it affects the final database."
   ]
  },
  {
   "cell_type": "code",
   "execution_count": 4,
   "metadata": {},
   "outputs": [
    {
     "name": "stdout",
     "output_type": "stream",
     "text": [
      "No I/L modification\n"
     ]
    }
   ],
   "source": [
    "\n",
    "mofidy_IL = False #Set the variable\n",
    "if mofidy_IL == True:\n",
    "    modify_IL_function = lambda x: x.replace(\"I\", \"L\")\n",
    "    df[\"sequence\"] = df.sequence.map(modify_IL_function)\n",
    "    print(\"All I and L are now L\")\n",
    "else:\n",
    "    print(\"No I/L modification\")"
   ]
  },
  {
   "cell_type": "code",
   "execution_count": 5,
   "metadata": {},
   "outputs": [],
   "source": [
    "def decoy_map(protein):\n",
    "    if protein.split(\"_\")[0] == \">reverse\":\n",
    "        return True\n",
    "    else:\n",
    "        return False\n",
    "    \n",
    "    \n",
    "df[\"decoy\"] = df.protein.map(decoy_map)\n",
    "\n",
    "df = df[df.decoy == False]\n"
   ]
  },
  {
   "cell_type": "code",
   "execution_count": 6,
   "metadata": {},
   "outputs": [
    {
     "data": {
      "text/html": [
       "<div>\n",
       "<style scoped>\n",
       "    .dataframe tbody tr th:only-of-type {\n",
       "        vertical-align: middle;\n",
       "    }\n",
       "\n",
       "    .dataframe tbody tr th {\n",
       "        vertical-align: top;\n",
       "    }\n",
       "\n",
       "    .dataframe thead th {\n",
       "        text-align: right;\n",
       "    }\n",
       "</style>\n",
       "<table border=\"1\" class=\"dataframe\">\n",
       "  <thead>\n",
       "    <tr style=\"text-align: right;\">\n",
       "      <th></th>\n",
       "      <th>protein</th>\n",
       "      <th>sequence</th>\n",
       "      <th>decoy</th>\n",
       "    </tr>\n",
       "  </thead>\n",
       "  <tbody>\n",
       "    <tr>\n",
       "      <th>0</th>\n",
       "      <td>&gt;sp|O13587|YP096_YEAST Uncharacterized protein...</td>\n",
       "      <td>MR</td>\n",
       "      <td>False</td>\n",
       "    </tr>\n",
       "    <tr>\n",
       "      <th>1</th>\n",
       "      <td>&gt;sp|O13587|YP096_YEAST Uncharacterized protein...</td>\n",
       "      <td>GETGVSIK</td>\n",
       "      <td>False</td>\n",
       "    </tr>\n",
       "    <tr>\n",
       "      <th>2</th>\n",
       "      <td>&gt;sp|O13587|YP096_YEAST Uncharacterized protein...</td>\n",
       "      <td>NPR</td>\n",
       "      <td>False</td>\n",
       "    </tr>\n",
       "    <tr>\n",
       "      <th>3</th>\n",
       "      <td>&gt;sp|O13587|YP096_YEAST Uncharacterized protein...</td>\n",
       "      <td>PSR</td>\n",
       "      <td>False</td>\n",
       "    </tr>\n",
       "    <tr>\n",
       "      <th>4</th>\n",
       "      <td>&gt;sp|O13587|YP096_YEAST Uncharacterized protein...</td>\n",
       "      <td>PFSCFWR</td>\n",
       "      <td>False</td>\n",
       "    </tr>\n",
       "    <tr>\n",
       "      <th>...</th>\n",
       "      <td>...</td>\n",
       "      <td>...</td>\n",
       "      <td>...</td>\n",
       "    </tr>\n",
       "    <tr>\n",
       "      <th>963674</th>\n",
       "      <td>&gt;tr|Q9U0J0|Q9U0J0_PLAF7 Replication protein A1...</td>\n",
       "      <td>SIK</td>\n",
       "      <td>False</td>\n",
       "    </tr>\n",
       "    <tr>\n",
       "      <th>963675</th>\n",
       "      <td>&gt;tr|Q9U0J0|Q9U0J0_PLAF7 Replication protein A1...</td>\n",
       "      <td>NLTSK</td>\n",
       "      <td>False</td>\n",
       "    </tr>\n",
       "    <tr>\n",
       "      <th>963676</th>\n",
       "      <td>&gt;tr|Q9U0J0|Q9U0J0_PLAF7 Replication protein A1...</td>\n",
       "      <td>R</td>\n",
       "      <td>False</td>\n",
       "    </tr>\n",
       "    <tr>\n",
       "      <th>963677</th>\n",
       "      <td>&gt;tr|Q9U0J0|Q9U0J0_PLAF7 Replication protein A1...</td>\n",
       "      <td>D</td>\n",
       "      <td>False</td>\n",
       "    </tr>\n",
       "    <tr>\n",
       "      <th>963678</th>\n",
       "      <td>&gt;tr|Q9U0J0|Q9U0J0_PLAF7 Replication protein A1...</td>\n",
       "      <td>TDHDE</td>\n",
       "      <td>False</td>\n",
       "    </tr>\n",
       "  </tbody>\n",
       "</table>\n",
       "<p>963679 rows × 3 columns</p>\n",
       "</div>"
      ],
      "text/plain": [
       "                                                  protein  sequence  decoy\n",
       "0       >sp|O13587|YP096_YEAST Uncharacterized protein...        MR  False\n",
       "1       >sp|O13587|YP096_YEAST Uncharacterized protein...  GETGVSIK  False\n",
       "2       >sp|O13587|YP096_YEAST Uncharacterized protein...       NPR  False\n",
       "3       >sp|O13587|YP096_YEAST Uncharacterized protein...       PSR  False\n",
       "4       >sp|O13587|YP096_YEAST Uncharacterized protein...   PFSCFWR  False\n",
       "...                                                   ...       ...    ...\n",
       "963674  >tr|Q9U0J0|Q9U0J0_PLAF7 Replication protein A1...       SIK  False\n",
       "963675  >tr|Q9U0J0|Q9U0J0_PLAF7 Replication protein A1...     NLTSK  False\n",
       "963676  >tr|Q9U0J0|Q9U0J0_PLAF7 Replication protein A1...         R  False\n",
       "963677  >tr|Q9U0J0|Q9U0J0_PLAF7 Replication protein A1...         D  False\n",
       "963678  >tr|Q9U0J0|Q9U0J0_PLAF7 Replication protein A1...     TDHDE  False\n",
       "\n",
       "[963679 rows x 3 columns]"
      ]
     },
     "execution_count": 6,
     "metadata": {},
     "output_type": "execute_result"
    }
   ],
   "source": [
    "df"
   ]
  },
  {
   "cell_type": "code",
   "execution_count": 7,
   "metadata": {},
   "outputs": [],
   "source": [
    "specie_map = lambda x: x.split(\"_\")[1].split(\" \")[0]\n",
    "df[\"specie\"] = df.protein.map(specie_map)"
   ]
  },
  {
   "cell_type": "code",
   "execution_count": 8,
   "metadata": {},
   "outputs": [
    {
     "data": {
      "text/plain": [
       "array(['YEAST', 'PLAF7'], dtype=object)"
      ]
     },
     "execution_count": 8,
     "metadata": {},
     "output_type": "execute_result"
    }
   ],
   "source": [
    "df.specie.unique()"
   ]
  },
  {
   "cell_type": "code",
   "execution_count": 9,
   "metadata": {},
   "outputs": [],
   "source": [
    "n_protein = len(df.protein.unique())\n",
    "n_protein_yeast  = len(df[df[\"specie\"] == \"YEAST\"].protein.unique())\n",
    "n_protein_plasmodium = len(df[df[\"specie\"] == \"PLAF7\"].protein.unique())\n"
   ]
  },
  {
   "cell_type": "code",
   "execution_count": 10,
   "metadata": {},
   "outputs": [
    {
     "data": {
      "text/plain": [
       "array(['YEAST', 'PLAF7'], dtype=object)"
      ]
     },
     "execution_count": 10,
     "metadata": {},
     "output_type": "execute_result"
    }
   ],
   "source": [
    "df.specie.unique()"
   ]
  },
  {
   "cell_type": "code",
   "execution_count": 11,
   "metadata": {},
   "outputs": [
    {
     "name": "stdout",
     "output_type": "stream",
     "text": [
      "Unfiltered protein statistics:\n",
      "All proteins: 11433\n",
      "ECOLI proteins: 6050\n",
      "HUMAN proteins: 5383\n"
     ]
    }
   ],
   "source": [
    "print(\"Unfiltered protein statistics:\")\n",
    "print(f\"All proteins: {n_protein}\")\n",
    "print(f\"ECOLI proteins: {n_protein_yeast}\")\n",
    "print(f\"HUMAN proteins: {n_protein_plasmodium}\")"
   ]
  },
  {
   "cell_type": "code",
   "execution_count": 12,
   "metadata": {},
   "outputs": [
    {
     "name": "stderr",
     "output_type": "stream",
     "text": [
      "/home/ptruong/anaconda3/envs/py37/lib/python3.7/site-packages/pandas/core/frame.py:4312: SettingWithCopyWarning: \n",
      "A value is trying to be set on a copy of a slice from a DataFrame\n",
      "\n",
      "See the caveats in the documentation: https://pandas.pydata.org/pandas-docs/stable/user_guide/indexing.html#returning-a-view-versus-a-copy\n",
      "  errors=errors,\n",
      "/home/ptruong/anaconda3/envs/py37/lib/python3.7/site-packages/ipykernel_launcher.py:4: SettingWithCopyWarning: \n",
      "A value is trying to be set on a copy of a slice from a DataFrame\n",
      "\n",
      "See the caveats in the documentation: https://pandas.pydata.org/pandas-docs/stable/user_guide/indexing.html#returning-a-view-versus-a-copy\n",
      "  after removing the cwd from sys.path.\n"
     ]
    }
   ],
   "source": [
    "df[\"seq_length\"] = df.sequence.str.len()\n",
    "df = df[df[\"seq_length\"] > 7]\n",
    "df.drop(\"seq_length\", axis = 1, inplace = True)\n",
    "df.drop_duplicates(inplace=True)\n"
   ]
  },
  {
   "cell_type": "markdown",
   "metadata": {},
   "source": [
    "# Find protein with only one sequence"
   ]
  },
  {
   "cell_type": "code",
   "execution_count": 13,
   "metadata": {},
   "outputs": [
    {
     "data": {
      "text/html": [
       "<div>\n",
       "<style scoped>\n",
       "    .dataframe tbody tr th:only-of-type {\n",
       "        vertical-align: middle;\n",
       "    }\n",
       "\n",
       "    .dataframe tbody tr th {\n",
       "        vertical-align: top;\n",
       "    }\n",
       "\n",
       "    .dataframe thead th {\n",
       "        text-align: right;\n",
       "    }\n",
       "</style>\n",
       "<table border=\"1\" class=\"dataframe\">\n",
       "  <thead>\n",
       "    <tr style=\"text-align: right;\">\n",
       "      <th></th>\n",
       "      <th>protein</th>\n",
       "      <th>decoy</th>\n",
       "      <th>specie</th>\n",
       "    </tr>\n",
       "    <tr>\n",
       "      <th>sequence</th>\n",
       "      <th></th>\n",
       "      <th></th>\n",
       "      <th></th>\n",
       "    </tr>\n",
       "  </thead>\n",
       "  <tbody>\n",
       "    <tr>\n",
       "      <th>LSVDYTDIMK</th>\n",
       "      <td>59</td>\n",
       "      <td>59</td>\n",
       "      <td>59</td>\n",
       "    </tr>\n",
       "    <tr>\n",
       "      <th>ANSQQTTTPAS</th>\n",
       "      <td>58</td>\n",
       "      <td>58</td>\n",
       "      <td>58</td>\n",
       "    </tr>\n",
       "    <tr>\n",
       "      <th>PPPMLTSPND</th>\n",
       "      <td>58</td>\n",
       "      <td>58</td>\n",
       "      <td>58</td>\n",
       "    </tr>\n",
       "    <tr>\n",
       "      <th>EVHTNQDPLDVSASK</th>\n",
       "      <td>58</td>\n",
       "      <td>58</td>\n",
       "      <td>58</td>\n",
       "    </tr>\n",
       "    <tr>\n",
       "      <th>FLQNSNLGGIIPTVNGK</th>\n",
       "      <td>56</td>\n",
       "      <td>56</td>\n",
       "      <td>56</td>\n",
       "    </tr>\n",
       "    <tr>\n",
       "      <th>...</th>\n",
       "      <td>...</td>\n",
       "      <td>...</td>\n",
       "      <td>...</td>\n",
       "    </tr>\n",
       "    <tr>\n",
       "      <th>IENDYFSANVNENIIK</th>\n",
       "      <td>1</td>\n",
       "      <td>1</td>\n",
       "      <td>1</td>\n",
       "    </tr>\n",
       "    <tr>\n",
       "      <th>IENDWYCNSCLNS</th>\n",
       "      <td>1</td>\n",
       "      <td>1</td>\n",
       "      <td>1</td>\n",
       "    </tr>\n",
       "    <tr>\n",
       "      <th>IENDSVIDEEK</th>\n",
       "      <td>1</td>\n",
       "      <td>1</td>\n",
       "      <td>1</td>\n",
       "    </tr>\n",
       "    <tr>\n",
       "      <th>IENDQSFHNILMK</th>\n",
       "      <td>1</td>\n",
       "      <td>1</td>\n",
       "      <td>1</td>\n",
       "    </tr>\n",
       "    <tr>\n",
       "      <th>YYYYYSWLLFYFIILFFYNIIFTLVVYFYVYK</th>\n",
       "      <td>1</td>\n",
       "      <td>1</td>\n",
       "      <td>1</td>\n",
       "    </tr>\n",
       "  </tbody>\n",
       "</table>\n",
       "<p>309529 rows × 3 columns</p>\n",
       "</div>"
      ],
      "text/plain": [
       "                                  protein  decoy  specie\n",
       "sequence                                                \n",
       "LSVDYTDIMK                             59     59      59\n",
       "ANSQQTTTPAS                            58     58      58\n",
       "PPPMLTSPND                             58     58      58\n",
       "EVHTNQDPLDVSASK                        58     58      58\n",
       "FLQNSNLGGIIPTVNGK                      56     56      56\n",
       "...                                   ...    ...     ...\n",
       "IENDYFSANVNENIIK                        1      1       1\n",
       "IENDWYCNSCLNS                           1      1       1\n",
       "IENDSVIDEEK                             1      1       1\n",
       "IENDQSFHNILMK                           1      1       1\n",
       "YYYYYSWLLFYFIILFFYNIIFTLVVYFYVYK        1      1       1\n",
       "\n",
       "[309529 rows x 3 columns]"
      ]
     },
     "execution_count": 13,
     "metadata": {},
     "output_type": "execute_result"
    }
   ],
   "source": [
    "counted_df = df.groupby(\"sequence\").count().sort_values(by = \"protein\", ascending = False)\n",
    "counted_df"
   ]
  },
  {
   "cell_type": "code",
   "execution_count": 15,
   "metadata": {},
   "outputs": [],
   "source": [
    "single_protein_seq = counted_df[counted_df.protein == 1]"
   ]
  },
  {
   "cell_type": "markdown",
   "metadata": {},
   "source": [
    "# investigate if a single protein sequence has proteins containing single sequences."
   ]
  },
  {
   "cell_type": "code",
   "execution_count": 16,
   "metadata": {},
   "outputs": [],
   "source": [
    "df_single_seq = df[df.sequence.isin(single_protein_seq.index)]"
   ]
  },
  {
   "cell_type": "code",
   "execution_count": 17,
   "metadata": {},
   "outputs": [
    {
     "data": {
      "text/plain": [
       "protein    1\n",
       "decoy      1\n",
       "specie     1\n",
       "dtype: int64"
      ]
     },
     "execution_count": 17,
     "metadata": {},
     "output_type": "execute_result"
    }
   ],
   "source": [
    "df_single_seq.groupby(\"sequence\").count().max()"
   ]
  },
  {
   "cell_type": "code",
   "execution_count": 18,
   "metadata": {},
   "outputs": [
    {
     "data": {
      "text/plain": [
       "11192"
      ]
     },
     "execution_count": 18,
     "metadata": {},
     "output_type": "execute_result"
    }
   ],
   "source": [
    "# seems fine, keep these proteins \n",
    "len(df_single_seq.protein.unique())"
   ]
  },
  {
   "cell_type": "code",
   "execution_count": 19,
   "metadata": {},
   "outputs": [
    {
     "data": {
      "text/plain": [
       "11423"
      ]
     },
     "execution_count": 19,
     "metadata": {},
     "output_type": "execute_result"
    }
   ],
   "source": [
    "len(df.protein.unique())"
   ]
  },
  {
   "cell_type": "code",
   "execution_count": 20,
   "metadata": {},
   "outputs": [],
   "source": [
    "keep_list = df_single_seq.protein.unique()"
   ]
  },
  {
   "cell_type": "code",
   "execution_count": 21,
   "metadata": {},
   "outputs": [
    {
     "data": {
      "text/plain": [
       "array(['>sp|O13587|YP096_YEAST Uncharacterized protein YPR096C OS=Saccharomyces cerevisiae (strain ATCC 204508 / S288c) OX=559292 GN=YPR096C PE=1 SV=1\\n',\n",
       "       '>sp|P00044|CYC1_YEAST Cytochrome c isoform 1 OS=Saccharomyces cerevisiae (strain ATCC 204508 / S288c) OX=559292 GN=CYC1 PE=1 SV=2\\n',\n",
       "       '>sp|P00498|HIS1_YEAST ATP phosphoribosyltransferase OS=Saccharomyces cerevisiae (strain ATCC 204508 / S288c) OX=559292 GN=HIS1 PE=1 SV=1\\n',\n",
       "       ...,\n",
       "       '>tr|Q8ILG7|Q8ILG7_PLAF7 Mitochondrial ribosomal protein L15, putative OS=Plasmodium falciparum (isolate 3D7) OX=36329 GN=PF3D7_1429700 PE=3 SV=1\\n',\n",
       "       '>tr|Q8IM82|Q8IM82_PLAF7 Rifin OS=Plasmodium falciparum (isolate 3D7) OX=36329 GN=PF3D7_1400600 PE=4 SV=1\\n',\n",
       "       '>tr|Q9U0J0|Q9U0J0_PLAF7 Replication protein A1, large subunit OS=Plasmodium falciparum (isolate 3D7) OX=36329 GN=PF3D7_0409600 PE=3 SV=1\\n'],\n",
       "      dtype=object)"
      ]
     },
     "execution_count": 21,
     "metadata": {},
     "output_type": "execute_result"
    }
   ],
   "source": [
    "keep_list"
   ]
  },
  {
   "cell_type": "markdown",
   "metadata": {},
   "source": [
    "# Read in both fasta files and compare results.\n",
    "\n",
    "This is the function to check if the protein is in \"keep_list\", if it is in keep it from the original."
   ]
  },
  {
   "cell_type": "code",
   "execution_count": 22,
   "metadata": {},
   "outputs": [],
   "source": [
    "\n",
    "os.chdir(\"/home/ptruong/git/dia_sum\")\n",
    "#filename = \"database/2021-06-07/UP00000625_UP000002311_UP000005640.fasta\"\n",
    "filename = \"database/2021-09-15_malaria_yeast_PXD017705/UP000002311_UP000001450.fasta\"\n",
    "\n",
    "#filename = \"database/napedro_3mixed_human_yeast_ecoli_20140403_iRT_reverse.fasta\"\n",
    "file = open(filename, \"r\")\n",
    "\n",
    "file_w = open(\"database/2021-09-15_malaria_yeast_PXD017705/UP000002311_UP000001450_no_shared.fasta\", \"w\")\n",
    "\n",
    "for line in file:\n",
    "    if line[0] == \">\":\n",
    "        protein = line \n",
    "        file_w.write(protein)\n",
    "    else:\n",
    "        if protein in keep_list:\n",
    "            sequence = line\n",
    "            file_w.write(sequence)\n",
    "        "
   ]
  },
  {
   "cell_type": "markdown",
   "metadata": {},
   "source": [
    "# Protein database analysis\n",
    "\n",
    "Here we analyse the amount of proteins in each library"
   ]
  },
  {
   "cell_type": "code",
   "execution_count": 25,
   "metadata": {},
   "outputs": [],
   "source": [
    "\n",
    "def read_in_fasta(filename):\n",
    "    file = open(filename, \"r\")\n",
    "\n",
    "    protein_list = []\n",
    "    sequence_list = []\n",
    "    for line in file: \n",
    "        if line[0] == \">\":\n",
    "            protein = line \n",
    "        else:\n",
    "            sequence = line.rstrip()\n",
    "            #sequence_list += split_sequence\n",
    "\n",
    "            #protein_list += [protein for i in range(len(sequence))]\n",
    "            sequence_list.append(sequence)\n",
    "            protein_list.append(protein)\n",
    "\n",
    "    df = pd.DataFrame(np.array([protein_list, sequence_list]).T, columns = [\"protein\", \"sequence\"])\n",
    "    df[\"decoy\"] = df.protein.map(decoy_map)\n",
    "    df[\"specie\"] = df.protein.map(specie_map)\n",
    "    return df\n"
   ]
  },
  {
   "cell_type": "code",
   "execution_count": 31,
   "metadata": {},
   "outputs": [],
   "source": [
    "filename = \"database/2021-09-15_malaria_yeast_PXD017705/UP000002311_UP000001450.fasta\"\n",
    "filename_no_shared = \"database/2021-09-15_malaria_yeast_PXD017705/UP000002311_UP000001450_no_shared.fasta\"\n",
    "filename_no_shared_IL_mod = \"database/2021-09-15_malaria_yeast_PXD017705/UP000002311_UP000001450_no_shared_IL_mod.fasta\""
   ]
  },
  {
   "cell_type": "code",
   "execution_count": 32,
   "metadata": {},
   "outputs": [],
   "source": [
    "db = read_in_fasta(filename)\n",
    "db_no_shared = read_in_fasta(filename_no_shared)\n",
    "db_no_shared_IL_mod = read_in_fasta(filename_no_shared_IL_mod)"
   ]
  },
  {
   "cell_type": "code",
   "execution_count": 33,
   "metadata": {},
   "outputs": [
    {
     "data": {
      "text/html": [
       "<div>\n",
       "<style scoped>\n",
       "    .dataframe tbody tr th:only-of-type {\n",
       "        vertical-align: middle;\n",
       "    }\n",
       "\n",
       "    .dataframe tbody tr th {\n",
       "        vertical-align: top;\n",
       "    }\n",
       "\n",
       "    .dataframe thead th {\n",
       "        text-align: right;\n",
       "    }\n",
       "</style>\n",
       "<table border=\"1\" class=\"dataframe\">\n",
       "  <thead>\n",
       "    <tr style=\"text-align: right;\">\n",
       "      <th></th>\n",
       "      <th>protein</th>\n",
       "      <th>sequence</th>\n",
       "      <th>decoy</th>\n",
       "      <th>specie</th>\n",
       "    </tr>\n",
       "  </thead>\n",
       "  <tbody>\n",
       "    <tr>\n",
       "      <th>0</th>\n",
       "      <td>&gt;sp|O13587|YP096_YEAST Uncharacterized protein...</td>\n",
       "      <td>MRGETGVSIKNPRPSRPFSCFWRKGDVENIRKSDIGNEKKIDAKFN...</td>\n",
       "      <td>False</td>\n",
       "      <td>YEAST</td>\n",
       "    </tr>\n",
       "    <tr>\n",
       "      <th>1</th>\n",
       "      <td>&gt;sp|O13587|YP096_YEAST Uncharacterized protein...</td>\n",
       "      <td>KAGLLYKELFFRSCFSYTTCSLDFQGKRHQVERKAVDIVL</td>\n",
       "      <td>False</td>\n",
       "      <td>YEAST</td>\n",
       "    </tr>\n",
       "    <tr>\n",
       "      <th>2</th>\n",
       "      <td>&gt;sp|P00044|CYC1_YEAST Cytochrome c isoform 1 O...</td>\n",
       "      <td>MTEFKAGSAKKGATLFKTRCLQCHTVEKGGPHKVGPNLHGIFGRHS...</td>\n",
       "      <td>False</td>\n",
       "      <td>YEAST</td>\n",
       "    </tr>\n",
       "    <tr>\n",
       "      <th>3</th>\n",
       "      <td>&gt;sp|P00044|CYC1_YEAST Cytochrome c isoform 1 O...</td>\n",
       "      <td>KNVLWDENNMSEYLTNPKKYIPGTKMAFGGLKKEKDRNDLITYLKKACE</td>\n",
       "      <td>False</td>\n",
       "      <td>YEAST</td>\n",
       "    </tr>\n",
       "    <tr>\n",
       "      <th>4</th>\n",
       "      <td>&gt;sp|P00498|HIS1_YEAST ATP phosphoribosyltransf...</td>\n",
       "      <td>MDLVNHLTDRLLFAIPKKGRLYSKSVSILNGADITFHRSQRLDIAL...</td>\n",
       "      <td>False</td>\n",
       "      <td>YEAST</td>\n",
       "    </tr>\n",
       "    <tr>\n",
       "      <th>...</th>\n",
       "      <td>...</td>\n",
       "      <td>...</td>\n",
       "      <td>...</td>\n",
       "      <td>...</td>\n",
       "    </tr>\n",
       "    <tr>\n",
       "      <th>123172</th>\n",
       "      <td>&gt;tr|Q9U0J0|Q9U0J0_PLAF7 Replication protein A1...</td>\n",
       "      <td>KIEINPDNIEKAYILKNWWIHNKKMICNSINLSSNYINIETQKTIQ...</td>\n",
       "      <td>False</td>\n",
       "      <td>PLAF7</td>\n",
       "    </tr>\n",
       "    <tr>\n",
       "      <th>123173</th>\n",
       "      <td>&gt;tr|Q9U0J0|Q9U0J0_PLAF7 Replication protein A1...</td>\n",
       "      <td>SGKGIMFTTYGFIDQIYNNMPVYSACPDCNKKMISNSVDDNEYEPS...</td>\n",
       "      <td>False</td>\n",
       "      <td>PLAF7</td>\n",
       "    </tr>\n",
       "    <tr>\n",
       "      <th>123174</th>\n",
       "      <td>&gt;tr|Q9U0J0|Q9U0J0_PLAF7 Replication protein A1...</td>\n",
       "      <td>KNNIPVYNYYINLKITDSTDSIRASAFANCAKIIMNGLSAEEYMKL...</td>\n",
       "      <td>False</td>\n",
       "      <td>PLAF7</td>\n",
       "    </tr>\n",
       "    <tr>\n",
       "      <th>123175</th>\n",
       "      <td>&gt;tr|Q9U0J0|Q9U0J0_PLAF7 Replication protein A1...</td>\n",
       "      <td>IIEKIKLNEFFFRIKVYMTSHMDELKKNYTIIDIAPVGKLLIDNCR...</td>\n",
       "      <td>False</td>\n",
       "      <td>PLAF7</td>\n",
       "    </tr>\n",
       "    <tr>\n",
       "      <th>123176</th>\n",
       "      <td>&gt;tr|Q9U0J0|Q9U0J0_PLAF7 Replication protein A1...</td>\n",
       "      <td>TDHDE</td>\n",
       "      <td>False</td>\n",
       "      <td>PLAF7</td>\n",
       "    </tr>\n",
       "  </tbody>\n",
       "</table>\n",
       "<p>123177 rows × 4 columns</p>\n",
       "</div>"
      ],
      "text/plain": [
       "                                                  protein  \\\n",
       "0       >sp|O13587|YP096_YEAST Uncharacterized protein...   \n",
       "1       >sp|O13587|YP096_YEAST Uncharacterized protein...   \n",
       "2       >sp|P00044|CYC1_YEAST Cytochrome c isoform 1 O...   \n",
       "3       >sp|P00044|CYC1_YEAST Cytochrome c isoform 1 O...   \n",
       "4       >sp|P00498|HIS1_YEAST ATP phosphoribosyltransf...   \n",
       "...                                                   ...   \n",
       "123172  >tr|Q9U0J0|Q9U0J0_PLAF7 Replication protein A1...   \n",
       "123173  >tr|Q9U0J0|Q9U0J0_PLAF7 Replication protein A1...   \n",
       "123174  >tr|Q9U0J0|Q9U0J0_PLAF7 Replication protein A1...   \n",
       "123175  >tr|Q9U0J0|Q9U0J0_PLAF7 Replication protein A1...   \n",
       "123176  >tr|Q9U0J0|Q9U0J0_PLAF7 Replication protein A1...   \n",
       "\n",
       "                                                 sequence  decoy specie  \n",
       "0       MRGETGVSIKNPRPSRPFSCFWRKGDVENIRKSDIGNEKKIDAKFN...  False  YEAST  \n",
       "1                KAGLLYKELFFRSCFSYTTCSLDFQGKRHQVERKAVDIVL  False  YEAST  \n",
       "2       MTEFKAGSAKKGATLFKTRCLQCHTVEKGGPHKVGPNLHGIFGRHS...  False  YEAST  \n",
       "3       KNVLWDENNMSEYLTNPKKYIPGTKMAFGGLKKEKDRNDLITYLKKACE  False  YEAST  \n",
       "4       MDLVNHLTDRLLFAIPKKGRLYSKSVSILNGADITFHRSQRLDIAL...  False  YEAST  \n",
       "...                                                   ...    ...    ...  \n",
       "123172  KIEINPDNIEKAYILKNWWIHNKKMICNSINLSSNYINIETQKTIQ...  False  PLAF7  \n",
       "123173  SGKGIMFTTYGFIDQIYNNMPVYSACPDCNKKMISNSVDDNEYEPS...  False  PLAF7  \n",
       "123174  KNNIPVYNYYINLKITDSTDSIRASAFANCAKIIMNGLSAEEYMKL...  False  PLAF7  \n",
       "123175  IIEKIKLNEFFFRIKVYMTSHMDELKKNYTIIDIAPVGKLLIDNCR...  False  PLAF7  \n",
       "123176                                              TDHDE  False  PLAF7  \n",
       "\n",
       "[123177 rows x 4 columns]"
      ]
     },
     "execution_count": 33,
     "metadata": {},
     "output_type": "execute_result"
    }
   ],
   "source": [
    "db"
   ]
  },
  {
   "cell_type": "code",
   "execution_count": 34,
   "metadata": {},
   "outputs": [
    {
     "data": {
      "text/html": [
       "<div>\n",
       "<style scoped>\n",
       "    .dataframe tbody tr th:only-of-type {\n",
       "        vertical-align: middle;\n",
       "    }\n",
       "\n",
       "    .dataframe tbody tr th {\n",
       "        vertical-align: top;\n",
       "    }\n",
       "\n",
       "    .dataframe thead th {\n",
       "        text-align: right;\n",
       "    }\n",
       "</style>\n",
       "<table border=\"1\" class=\"dataframe\">\n",
       "  <thead>\n",
       "    <tr style=\"text-align: right;\">\n",
       "      <th></th>\n",
       "      <th>protein</th>\n",
       "      <th>sequence</th>\n",
       "      <th>decoy</th>\n",
       "      <th>specie</th>\n",
       "    </tr>\n",
       "  </thead>\n",
       "  <tbody>\n",
       "    <tr>\n",
       "      <th>0</th>\n",
       "      <td>&gt;sp|O13587|YP096_YEAST Uncharacterized protein...</td>\n",
       "      <td>MRGETGVSIKNPRPSRPFSCFWRKGDVENIRKSDIGNEKKIDAKFN...</td>\n",
       "      <td>False</td>\n",
       "      <td>YEAST</td>\n",
       "    </tr>\n",
       "    <tr>\n",
       "      <th>1</th>\n",
       "      <td>&gt;sp|O13587|YP096_YEAST Uncharacterized protein...</td>\n",
       "      <td>KAGLLYKELFFRSCFSYTTCSLDFQGKRHQVERKAVDIVL</td>\n",
       "      <td>False</td>\n",
       "      <td>YEAST</td>\n",
       "    </tr>\n",
       "    <tr>\n",
       "      <th>2</th>\n",
       "      <td>&gt;sp|P00044|CYC1_YEAST Cytochrome c isoform 1 O...</td>\n",
       "      <td>MTEFKAGSAKKGATLFKTRCLQCHTVEKGGPHKVGPNLHGIFGRHS...</td>\n",
       "      <td>False</td>\n",
       "      <td>YEAST</td>\n",
       "    </tr>\n",
       "    <tr>\n",
       "      <th>3</th>\n",
       "      <td>&gt;sp|P00044|CYC1_YEAST Cytochrome c isoform 1 O...</td>\n",
       "      <td>KNVLWDENNMSEYLTNPKKYIPGTKMAFGGLKKEKDRNDLITYLKKACE</td>\n",
       "      <td>False</td>\n",
       "      <td>YEAST</td>\n",
       "    </tr>\n",
       "    <tr>\n",
       "      <th>4</th>\n",
       "      <td>&gt;sp|P00498|HIS1_YEAST ATP phosphoribosyltransf...</td>\n",
       "      <td>MDLVNHLTDRLLFAIPKKGRLYSKSVSILNGADITFHRSQRLDIAL...</td>\n",
       "      <td>False</td>\n",
       "      <td>YEAST</td>\n",
       "    </tr>\n",
       "    <tr>\n",
       "      <th>...</th>\n",
       "      <td>...</td>\n",
       "      <td>...</td>\n",
       "      <td>...</td>\n",
       "      <td>...</td>\n",
       "    </tr>\n",
       "    <tr>\n",
       "      <th>121221</th>\n",
       "      <td>&gt;tr|Q8IM82|Q8IM82_PLAF7 Rifin OS=Plasmodium fa...</td>\n",
       "      <td>IPTCVCEKSLADKMEKVCLKCAQNLGGIVAPSTGVLGEIAALAVNA...</td>\n",
       "      <td>False</td>\n",
       "      <td>PLAF7</td>\n",
       "    </tr>\n",
       "    <tr>\n",
       "      <th>121222</th>\n",
       "      <td>&gt;tr|Q8IM82|Q8IM82_PLAF7 Rifin OS=Plasmodium fa...</td>\n",
       "      <td>KAGDAAGKIAGESKGVETIIGILEQYYSIYELKGTPLKSFFATTHY...</td>\n",
       "      <td>False</td>\n",
       "      <td>PLAF7</td>\n",
       "    </tr>\n",
       "    <tr>\n",
       "      <th>121223</th>\n",
       "      <td>&gt;tr|Q8IM82|Q8IM82_PLAF7 Rifin OS=Plasmodium fa...</td>\n",
       "      <td>NTSCGLNSLANQAICGLRTKLGLVAKPGQVMVTQKEAITKMITNVV...</td>\n",
       "      <td>False</td>\n",
       "      <td>PLAF7</td>\n",
       "    </tr>\n",
       "    <tr>\n",
       "      <th>121224</th>\n",
       "      <td>&gt;tr|Q8IM82|Q8IM82_PLAF7 Rifin OS=Plasmodium fa...</td>\n",
       "      <td>AATKTAAAIKMNTEAIEAATTPYYTPIIASIVAIVVIVLIMVIIYL...</td>\n",
       "      <td>False</td>\n",
       "      <td>PLAF7</td>\n",
       "    </tr>\n",
       "    <tr>\n",
       "      <th>121225</th>\n",
       "      <td>&gt;tr|Q8IM82|Q8IM82_PLAF7 Rifin OS=Plasmodium fa...</td>\n",
       "      <td>QYIKLLN</td>\n",
       "      <td>False</td>\n",
       "      <td>PLAF7</td>\n",
       "    </tr>\n",
       "  </tbody>\n",
       "</table>\n",
       "<p>121226 rows × 4 columns</p>\n",
       "</div>"
      ],
      "text/plain": [
       "                                                  protein  \\\n",
       "0       >sp|O13587|YP096_YEAST Uncharacterized protein...   \n",
       "1       >sp|O13587|YP096_YEAST Uncharacterized protein...   \n",
       "2       >sp|P00044|CYC1_YEAST Cytochrome c isoform 1 O...   \n",
       "3       >sp|P00044|CYC1_YEAST Cytochrome c isoform 1 O...   \n",
       "4       >sp|P00498|HIS1_YEAST ATP phosphoribosyltransf...   \n",
       "...                                                   ...   \n",
       "121221  >tr|Q8IM82|Q8IM82_PLAF7 Rifin OS=Plasmodium fa...   \n",
       "121222  >tr|Q8IM82|Q8IM82_PLAF7 Rifin OS=Plasmodium fa...   \n",
       "121223  >tr|Q8IM82|Q8IM82_PLAF7 Rifin OS=Plasmodium fa...   \n",
       "121224  >tr|Q8IM82|Q8IM82_PLAF7 Rifin OS=Plasmodium fa...   \n",
       "121225  >tr|Q8IM82|Q8IM82_PLAF7 Rifin OS=Plasmodium fa...   \n",
       "\n",
       "                                                 sequence  decoy specie  \n",
       "0       MRGETGVSIKNPRPSRPFSCFWRKGDVENIRKSDIGNEKKIDAKFN...  False  YEAST  \n",
       "1                KAGLLYKELFFRSCFSYTTCSLDFQGKRHQVERKAVDIVL  False  YEAST  \n",
       "2       MTEFKAGSAKKGATLFKTRCLQCHTVEKGGPHKVGPNLHGIFGRHS...  False  YEAST  \n",
       "3       KNVLWDENNMSEYLTNPKKYIPGTKMAFGGLKKEKDRNDLITYLKKACE  False  YEAST  \n",
       "4       MDLVNHLTDRLLFAIPKKGRLYSKSVSILNGADITFHRSQRLDIAL...  False  YEAST  \n",
       "...                                                   ...    ...    ...  \n",
       "121221  IPTCVCEKSLADKMEKVCLKCAQNLGGIVAPSTGVLGEIAALAVNA...  False  PLAF7  \n",
       "121222  KAGDAAGKIAGESKGVETIIGILEQYYSIYELKGTPLKSFFATTHY...  False  PLAF7  \n",
       "121223  NTSCGLNSLANQAICGLRTKLGLVAKPGQVMVTQKEAITKMITNVV...  False  PLAF7  \n",
       "121224  AATKTAAAIKMNTEAIEAATTPYYTPIIASIVAIVVIVLIMVIIYL...  False  PLAF7  \n",
       "121225                                            QYIKLLN  False  PLAF7  \n",
       "\n",
       "[121226 rows x 4 columns]"
      ]
     },
     "execution_count": 34,
     "metadata": {},
     "output_type": "execute_result"
    }
   ],
   "source": [
    "db_no_shared"
   ]
  },
  {
   "cell_type": "code",
   "execution_count": 43,
   "metadata": {},
   "outputs": [
    {
     "data": {
      "text/html": [
       "<div>\n",
       "<style scoped>\n",
       "    .dataframe tbody tr th:only-of-type {\n",
       "        vertical-align: middle;\n",
       "    }\n",
       "\n",
       "    .dataframe tbody tr th {\n",
       "        vertical-align: top;\n",
       "    }\n",
       "\n",
       "    .dataframe thead th {\n",
       "        text-align: right;\n",
       "    }\n",
       "</style>\n",
       "<table border=\"1\" class=\"dataframe\">\n",
       "  <thead>\n",
       "    <tr style=\"text-align: right;\">\n",
       "      <th></th>\n",
       "      <th>protein</th>\n",
       "      <th>sequence</th>\n",
       "      <th>decoy</th>\n",
       "      <th>specie</th>\n",
       "    </tr>\n",
       "  </thead>\n",
       "  <tbody>\n",
       "    <tr>\n",
       "      <th>0</th>\n",
       "      <td>&gt;sp|O13587|YP096_YEAST Uncharacterized protein...</td>\n",
       "      <td>MRGETGVSIKNPRPSRPFSCFWRKGDVENIRKSDIGNEKKIDAKFN...</td>\n",
       "      <td>False</td>\n",
       "      <td>YEAST</td>\n",
       "    </tr>\n",
       "    <tr>\n",
       "      <th>1</th>\n",
       "      <td>&gt;sp|O13587|YP096_YEAST Uncharacterized protein...</td>\n",
       "      <td>KAGLLYKELFFRSCFSYTTCSLDFQGKRHQVERKAVDIVL</td>\n",
       "      <td>False</td>\n",
       "      <td>YEAST</td>\n",
       "    </tr>\n",
       "    <tr>\n",
       "      <th>2</th>\n",
       "      <td>&gt;sp|P00044|CYC1_YEAST Cytochrome c isoform 1 O...</td>\n",
       "      <td>MTEFKAGSAKKGATLFKTRCLQCHTVEKGGPHKVGPNLHGIFGRHS...</td>\n",
       "      <td>False</td>\n",
       "      <td>YEAST</td>\n",
       "    </tr>\n",
       "    <tr>\n",
       "      <th>3</th>\n",
       "      <td>&gt;sp|P00044|CYC1_YEAST Cytochrome c isoform 1 O...</td>\n",
       "      <td>KNVLWDENNMSEYLTNPKKYIPGTKMAFGGLKKEKDRNDLITYLKKACE</td>\n",
       "      <td>False</td>\n",
       "      <td>YEAST</td>\n",
       "    </tr>\n",
       "    <tr>\n",
       "      <th>4</th>\n",
       "      <td>&gt;sp|P00498|HIS1_YEAST ATP phosphoribosyltransf...</td>\n",
       "      <td>MDLVNHLTDRLLFAIPKKGRLYSKSVSILNGADITFHRSQRLDIAL...</td>\n",
       "      <td>False</td>\n",
       "      <td>YEAST</td>\n",
       "    </tr>\n",
       "    <tr>\n",
       "      <th>...</th>\n",
       "      <td>...</td>\n",
       "      <td>...</td>\n",
       "      <td>...</td>\n",
       "      <td>...</td>\n",
       "    </tr>\n",
       "    <tr>\n",
       "      <th>121219</th>\n",
       "      <td>&gt;tr|Q8IM82|Q8IM82_PLAF7 Rifin OS=Plasmodium fa...</td>\n",
       "      <td>IPTCVCEKSLADKMEKVCLKCAQNLGGIVAPSTGVLGEIAALAVNA...</td>\n",
       "      <td>False</td>\n",
       "      <td>PLAF7</td>\n",
       "    </tr>\n",
       "    <tr>\n",
       "      <th>121220</th>\n",
       "      <td>&gt;tr|Q8IM82|Q8IM82_PLAF7 Rifin OS=Plasmodium fa...</td>\n",
       "      <td>KAGDAAGKIAGESKGVETIIGILEQYYSIYELKGTPLKSFFATTHY...</td>\n",
       "      <td>False</td>\n",
       "      <td>PLAF7</td>\n",
       "    </tr>\n",
       "    <tr>\n",
       "      <th>121221</th>\n",
       "      <td>&gt;tr|Q8IM82|Q8IM82_PLAF7 Rifin OS=Plasmodium fa...</td>\n",
       "      <td>NTSCGLNSLANQAICGLRTKLGLVAKPGQVMVTQKEAITKMITNVV...</td>\n",
       "      <td>False</td>\n",
       "      <td>PLAF7</td>\n",
       "    </tr>\n",
       "    <tr>\n",
       "      <th>121222</th>\n",
       "      <td>&gt;tr|Q8IM82|Q8IM82_PLAF7 Rifin OS=Plasmodium fa...</td>\n",
       "      <td>AATKTAAAIKMNTEAIEAATTPYYTPIIASIVAIVVIVLIMVIIYL...</td>\n",
       "      <td>False</td>\n",
       "      <td>PLAF7</td>\n",
       "    </tr>\n",
       "    <tr>\n",
       "      <th>121223</th>\n",
       "      <td>&gt;tr|Q8IM82|Q8IM82_PLAF7 Rifin OS=Plasmodium fa...</td>\n",
       "      <td>QYIKLLN</td>\n",
       "      <td>False</td>\n",
       "      <td>PLAF7</td>\n",
       "    </tr>\n",
       "  </tbody>\n",
       "</table>\n",
       "<p>121224 rows × 4 columns</p>\n",
       "</div>"
      ],
      "text/plain": [
       "                                                  protein  \\\n",
       "0       >sp|O13587|YP096_YEAST Uncharacterized protein...   \n",
       "1       >sp|O13587|YP096_YEAST Uncharacterized protein...   \n",
       "2       >sp|P00044|CYC1_YEAST Cytochrome c isoform 1 O...   \n",
       "3       >sp|P00044|CYC1_YEAST Cytochrome c isoform 1 O...   \n",
       "4       >sp|P00498|HIS1_YEAST ATP phosphoribosyltransf...   \n",
       "...                                                   ...   \n",
       "121219  >tr|Q8IM82|Q8IM82_PLAF7 Rifin OS=Plasmodium fa...   \n",
       "121220  >tr|Q8IM82|Q8IM82_PLAF7 Rifin OS=Plasmodium fa...   \n",
       "121221  >tr|Q8IM82|Q8IM82_PLAF7 Rifin OS=Plasmodium fa...   \n",
       "121222  >tr|Q8IM82|Q8IM82_PLAF7 Rifin OS=Plasmodium fa...   \n",
       "121223  >tr|Q8IM82|Q8IM82_PLAF7 Rifin OS=Plasmodium fa...   \n",
       "\n",
       "                                                 sequence  decoy specie  \n",
       "0       MRGETGVSIKNPRPSRPFSCFWRKGDVENIRKSDIGNEKKIDAKFN...  False  YEAST  \n",
       "1                KAGLLYKELFFRSCFSYTTCSLDFQGKRHQVERKAVDIVL  False  YEAST  \n",
       "2       MTEFKAGSAKKGATLFKTRCLQCHTVEKGGPHKVGPNLHGIFGRHS...  False  YEAST  \n",
       "3       KNVLWDENNMSEYLTNPKKYIPGTKMAFGGLKKEKDRNDLITYLKKACE  False  YEAST  \n",
       "4       MDLVNHLTDRLLFAIPKKGRLYSKSVSILNGADITFHRSQRLDIAL...  False  YEAST  \n",
       "...                                                   ...    ...    ...  \n",
       "121219  IPTCVCEKSLADKMEKVCLKCAQNLGGIVAPSTGVLGEIAALAVNA...  False  PLAF7  \n",
       "121220  KAGDAAGKIAGESKGVETIIGILEQYYSIYELKGTPLKSFFATTHY...  False  PLAF7  \n",
       "121221  NTSCGLNSLANQAICGLRTKLGLVAKPGQVMVTQKEAITKMITNVV...  False  PLAF7  \n",
       "121222  AATKTAAAIKMNTEAIEAATTPYYTPIIASIVAIVVIVLIMVIIYL...  False  PLAF7  \n",
       "121223                                            QYIKLLN  False  PLAF7  \n",
       "\n",
       "[121224 rows x 4 columns]"
      ]
     },
     "execution_count": 43,
     "metadata": {},
     "output_type": "execute_result"
    }
   ],
   "source": [
    "db_no_shared_IL_mod"
   ]
  },
  {
   "cell_type": "code",
   "execution_count": 38,
   "metadata": {},
   "outputs": [],
   "source": [
    "\n",
    "def print_db_proteins(db):\n",
    "    n_protein = len(db.protein.unique())\n",
    "    n_protein_plasmodium = len(df[df[\"specie\"] == \"PLAF7\"].protein.unique())\n",
    "    n_protein_yeast = len(db[db[\"specie\"] == \"YEAST\"].protein.unique())\n",
    "\n",
    "    print(f\"All proteins: {n_protein}\")\n",
    "    print(f\"HUMAN proteins: {n_protein_plasmodium}\")\n",
    "    print(f\"YEAST protein: {n_protein_yeast}\")\n",
    "\n"
   ]
  },
  {
   "cell_type": "code",
   "execution_count": 39,
   "metadata": {},
   "outputs": [
    {
     "name": "stdout",
     "output_type": "stream",
     "text": [
      "Unfiltered db:\n",
      "All proteins: 11433\n",
      "HUMAN proteins: 5377\n",
      "YEAST protein: 6050\n"
     ]
    }
   ],
   "source": [
    "print(\"Unfiltered db:\")\n",
    "print_db_proteins(db)"
   ]
  },
  {
   "cell_type": "code",
   "execution_count": 40,
   "metadata": {},
   "outputs": [
    {
     "name": "stdout",
     "output_type": "stream",
     "text": [
      "No shared:\n",
      "All proteins: 11191\n",
      "HUMAN proteins: 5377\n",
      "YEAST protein: 5848\n"
     ]
    }
   ],
   "source": [
    "print(\"No shared:\")\n",
    "print_db_proteins(db_no_shared)"
   ]
  },
  {
   "cell_type": "code",
   "execution_count": 44,
   "metadata": {},
   "outputs": [
    {
     "name": "stdout",
     "output_type": "stream",
     "text": [
      "No shared IL modified:\n",
      "All proteins: 11190\n",
      "HUMAN proteins: 5377\n",
      "YEAST protein: 5847\n"
     ]
    }
   ],
   "source": [
    "print(\"No shared IL modified:\")\n",
    "print_db_proteins(db_no_shared_IL_mod)"
   ]
  },
  {
   "cell_type": "code",
   "execution_count": 48,
   "metadata": {},
   "outputs": [],
   "source": [
    "def get_db_proteins(db):\n",
    "    n_protein = len(db.protein.unique())\n",
    "    n_protein_plasmodium = len(df[df[\"specie\"] == \"PLAF7\"].protein.unique())\n",
    "    n_protein_yeast = len(db[db[\"specie\"] == \"YEAST\"].protein.unique())\n",
    "    return n_protein, n_protein_plasmodium, n_protein_yeast\n"
   ]
  },
  {
   "cell_type": "code",
   "execution_count": 49,
   "metadata": {},
   "outputs": [],
   "source": [
    "db_stats = pd.DataFrame([list(get_db_proteins(db)), list(get_db_proteins(db_no_shared)), list(get_db_proteins(db_no_shared_IL_mod))],\n",
    "            index = [\"Unfiltered\", \"No_shared\", \"No_shared_IL_mod\"],\n",
    "            columns = [\"all\", \"plasmodium\", \"yeast\"]).T"
   ]
  },
  {
   "cell_type": "code",
   "execution_count": 50,
   "metadata": {},
   "outputs": [
    {
     "data": {
      "text/html": [
       "<div>\n",
       "<style scoped>\n",
       "    .dataframe tbody tr th:only-of-type {\n",
       "        vertical-align: middle;\n",
       "    }\n",
       "\n",
       "    .dataframe tbody tr th {\n",
       "        vertical-align: top;\n",
       "    }\n",
       "\n",
       "    .dataframe thead th {\n",
       "        text-align: right;\n",
       "    }\n",
       "</style>\n",
       "<table border=\"1\" class=\"dataframe\">\n",
       "  <thead>\n",
       "    <tr style=\"text-align: right;\">\n",
       "      <th></th>\n",
       "      <th>Unfiltered</th>\n",
       "      <th>No_shared</th>\n",
       "      <th>No_shared_IL_mod</th>\n",
       "    </tr>\n",
       "  </thead>\n",
       "  <tbody>\n",
       "    <tr>\n",
       "      <th>all</th>\n",
       "      <td>11433</td>\n",
       "      <td>11191</td>\n",
       "      <td>11190</td>\n",
       "    </tr>\n",
       "    <tr>\n",
       "      <th>plasmodium</th>\n",
       "      <td>5377</td>\n",
       "      <td>5377</td>\n",
       "      <td>5377</td>\n",
       "    </tr>\n",
       "    <tr>\n",
       "      <th>yeast</th>\n",
       "      <td>6050</td>\n",
       "      <td>5848</td>\n",
       "      <td>5847</td>\n",
       "    </tr>\n",
       "  </tbody>\n",
       "</table>\n",
       "</div>"
      ],
      "text/plain": [
       "            Unfiltered  No_shared  No_shared_IL_mod\n",
       "all              11433      11191             11190\n",
       "plasmodium        5377       5377              5377\n",
       "yeast             6050       5848              5847"
      ]
     },
     "execution_count": 50,
     "metadata": {},
     "output_type": "execute_result"
    }
   ],
   "source": [
    "db_stats"
   ]
  }
 ],
 "metadata": {
  "kernelspec": {
   "display_name": "Python [conda env:py37]",
   "language": "python",
   "name": "conda-env-py37-py"
  },
  "language_info": {
   "codemirror_mode": {
    "name": "ipython",
    "version": 3
   },
   "file_extension": ".py",
   "mimetype": "text/x-python",
   "name": "python",
   "nbconvert_exporter": "python",
   "pygments_lexer": "ipython3",
   "version": "3.7.10"
  }
 },
 "nbformat": 4,
 "nbformat_minor": 4
}
