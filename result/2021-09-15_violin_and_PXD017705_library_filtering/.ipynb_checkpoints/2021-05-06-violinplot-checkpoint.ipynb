{
 "cells": [
  {
   "cell_type": "code",
   "execution_count": 299,
   "metadata": {},
   "outputs": [],
   "source": [
    "\n",
    "import pandas as pd\n",
    "import numpy as np\n",
    "\n",
    "from scipy import stats\n",
    "\n",
    "import os \n",
    "\n",
    "os.chdir(\"/home/ptruong/git/dia_sum/scripts/PXD002952\")\n",
    "\n",
    "from q_value import qvalues\n",
    "from triqler_output_to_df import  parse_triqler\n",
    "#os.chdir(\"/hdd_14T/data/PXD002952/osw_res_20210303/hye124/ttof6600/32fix/full_ts_v\")\n",
    "\n",
    "os.chdir(\"/hdd_14T/data/PXD002952/20210805_osw_run\")"
   ]
  },
  {
   "cell_type": "code",
   "execution_count": 300,
   "metadata": {},
   "outputs": [],
   "source": [
    "import seaborn as sns\n",
    "\n",
    "sns.set_context(\"poster\")"
   ]
  },
  {
   "cell_type": "code",
   "execution_count": 301,
   "metadata": {},
   "outputs": [],
   "source": [
    "\n",
    "# filename has different formatting, we need to change number or implement regex.\n",
    "experiment_id_mapper = lambda x: x.split(\"_\")[5]\n",
    "sample_id_mapper = lambda x: x.split(\"_\")[8] #hye124 \n",
    "specie_mapper = lambda x: x.split(\"_\")[-1]\n",
    "\n",
    "def read_in_and_filter(filename, m_score_treshold = 0.01):  \n",
    "    print(filename)\n",
    "    df = pd.read_csv(filename, sep = \"\\t\")\n",
    "    df = df[df.decoy != 1]\n",
    "    df = df[df.m_score < m_score_treshold] # filter away crap, so all values should be good... we take average of top3 here\n",
    "    print(str(len(df)) + \" significantly identified peptides at \" + str(m_score_treshold) + \" FDR-treshold.\")\n",
    "    print(\"\")\n",
    "    df[\"experiment_id\"] = df[\"filename\"].map(experiment_id_mapper)\n",
    "    df[\"sample_id\"] = df[\"filename\"].map(sample_id_mapper)\n",
    "    sample_id = df.sample_id.unique()[0]\n",
    "    experiment_id = df.experiment_id.unique()[0]     \n",
    "\n",
    "    #midx = pd.MultiIndex(levels = [[sample_id],[experiment_id]], codes = [[0],[0]], names = [\"sample_id\", \"experiment_id\"])\n",
    "    df[\"specie\"] = df[\"ProteinName\"].map(specie_mapper)\n",
    "    df = df.set_index([\"specie\", \"ProteinName\", \"FullPeptideName\", \"sample_id\", \"experiment_id\"])\n",
    "    df = df[[\"Intensity\"]]\n",
    "    df = pd.DataFrame(df.values, index = df.index)\n",
    "    \n",
    "    return df\n"
   ]
  },
  {
   "cell_type": "code",
   "execution_count": null,
   "metadata": {},
   "outputs": [],
   "source": [
    "filename = \"osw_output.HYE124_TTOF6600_32fix_lgillet_I150211_003-Pedro_-_Sample_2_-_SW32_-_Repl1.mzML_with_dscore.csv\"\n",
    "#m_score_treshold = 0.01\n",
    "m_score_treshold = 1.00\n",
    "df = pd.read_csv(filename, sep = \"\\t\")\n",
    "df = df[df.decoy != 1]\n",
    "df = df[df.m_score < m_score_treshold] # filter away crap, so all values should be good... we take average of top3 here\n",
    "print(str(len(df)) + \" significantly identified peptides at \" + str(m_score_treshold) + \" FDR-treshold.\")\n",
    "print(\"\")\n",
    "df[\"experiment_id\"] = df[\"filename\"].map(experiment_id_mapper)\n",
    "df[\"sample_id\"] = df[\"filename\"].map(sample_id_mapper)\n",
    "sample_id = df.sample_id.unique()[0]\n",
    "experiment_id = df.experiment_id.unique()[0] \n",
    "\n"
   ]
  },
  {
   "cell_type": "code",
   "execution_count": null,
   "metadata": {},
   "outputs": [],
   "source": [
    "df\n"
   ]
  },
  {
   "cell_type": "code",
   "execution_count": null,
   "metadata": {},
   "outputs": [],
   "source": [
    "\n",
    "dfs = []\n",
    "for file in os.listdir():\n",
    "    if file[-10:] == \"dscore.csv\":\n",
    "        dfs.append(read_in_and_filter(file, m_score_treshold=0.01))\n",
    "        #print(len(df_part))\n",
    "        #df = pd.concat([df, df_part],axis = 1)        \n",
    "df = pd.concat(dfs, axis = 0)\n"
   ]
  },
  {
   "cell_type": "code",
   "execution_count": null,
   "metadata": {},
   "outputs": [],
   "source": [
    "df"
   ]
  },
  {
   "cell_type": "code",
   "execution_count": null,
   "metadata": {},
   "outputs": [],
   "source": [
    "df = np.log2(df) # log-transform"
   ]
  },
  {
   "cell_type": "code",
   "execution_count": null,
   "metadata": {},
   "outputs": [],
   "source": [
    "df"
   ]
  },
  {
   "cell_type": "code",
   "execution_count": null,
   "metadata": {},
   "outputs": [],
   "source": [
    "x = len(df[df.index.get_level_values(\"sample_id\") == \"1\"].index.get_level_values(\"FullPeptideName\").unique())\n",
    "x_paper = 34851\n",
    "print(f\"Iteration 1 has {x} peptides identified.\")\n",
    "print(f\"Reported iteration 1 is {x_paper} peptides identifies. \")\n",
    "print(f\"Diff {x_paper - x} ({(x_paper/x - 1)})\")"
   ]
  },
  {
   "cell_type": "code",
   "execution_count": null,
   "metadata": {},
   "outputs": [],
   "source": [
    "x = len(df[df.index.get_level_values(\"sample_id\") == \"2\"].index.get_level_values(\"FullPeptideName\").unique())\n",
    "x_paper = 35110\n",
    "print(f\"Iteration 2 has {x} peptides identified.\")\n",
    "print(f\"Reported iteration 2 is {x_paper} peptides identifies. \")\n",
    "print(f\"Diff {x_paper - x} ({(x_paper/x - 1)})\")"
   ]
  },
  {
   "cell_type": "code",
   "execution_count": null,
   "metadata": {},
   "outputs": [],
   "source": [
    "\n",
    "import matplotlib.pyplot as plt\n",
    "import seaborn as sns \n",
    "\n",
    "def get_peptide_mu_sigma(df):\n",
    "    df_means = df.groupby(df.index.get_level_values(\"FullPeptideName\")).mean()\n",
    "    \n",
    "    df_stat = pd.DataFrame(df_means.values, index = df_means.index, columns = [\"mu\"])\n",
    "    df_stat[\"std\"] = df.groupby(df.index.get_level_values(\"FullPeptideName\")).std()\n",
    "    df_stat[\"std/mu-ratio\"] = df_stat[\"std\"] / df_stat[\"mu\"]\n",
    "    return df_stat\n",
    "\n",
    "def select_specie_and_sample(df, specie = \"HUMAN\", sample = \"1\"):\n",
    "    return df.iloc[(df.index.get_level_values(\"specie\") == specie) & (df.index.get_level_values(\"sample_id\") == sample), :]\n",
    "\n",
    "def select_sample(df, sample = \"1\"):\n",
    "    return df.iloc[(df.index.get_level_values(\"sample_id\") == sample), :]"
   ]
  },
  {
   "cell_type": "code",
   "execution_count": null,
   "metadata": {},
   "outputs": [],
   "source": [
    "mu_sig_sample1 = get_peptide_mu_sigma(select_sample(df, sample = \"1\"))\n",
    "mu_sig_sample2 = get_peptide_mu_sigma(select_sample(df, sample = \"2\"))\n",
    "\n",
    "bins = [i*2 for i in range(11)]\n",
    "mu_sig_sample1[\"binned_mu\"] = pd.cut(mu_sig_sample1[\"mu\"], bins)\n",
    "mu_sig_sample1[\"quantile_bin_mu\"] = pd.qcut(mu_sig_sample1[\"mu\"], q=8)\n",
    "\n",
    "mu_sig_sample2[\"binned_mu\"] = pd.cut(mu_sig_sample2[\"mu\"], bins)\n",
    "mu_sig_sample2[\"quantile_bin_mu\"] = pd.qcut(mu_sig_sample2[\"mu\"], q=8)"
   ]
  },
  {
   "cell_type": "code",
   "execution_count": null,
   "metadata": {},
   "outputs": [],
   "source": [
    "mu_sig_sample1"
   ]
  },
  {
   "cell_type": "code",
   "execution_count": null,
   "metadata": {},
   "outputs": [],
   "source": [
    "f, ax = plt.subplots(2, 2, figsize = (17,17))\n",
    "sns.violinplot(x='binned_mu', y='std', data=mu_sig_sample1, ax=ax[0,0])\n",
    "ax[0,0].set_title(\"sample1 - std/mu ratio vs binned_mu for log-transformed peptide values\")\n",
    "\n",
    "sns.violinplot(x='binned_mu', y='std', data=mu_sig_sample2, ax=ax[0,1])\n",
    "ax[0,1].set_title(\"sample2 - std/mu ratio vs binned_mu for log-transformed peptide values\")\n",
    "\n",
    "sns.violinplot(x='quantile_bin_mu', y='std', data=mu_sig_sample1, ax=ax[1,0])\n",
    "ax[1,0].set_title(\"sample1 - std/mu vs quantile_bin_mu for log-transformed peptide values\")\n",
    "\n",
    "sns.violinplot(x='quantile_bin_mu', y='std', data=mu_sig_sample2, ax=ax[1,1])\n",
    "ax[1,1].set_title(\"sample2 - std/mu vs quantile_bin_mu for log-transformed peptide values\")\n"
   ]
  },
  {
   "cell_type": "code",
   "execution_count": null,
   "metadata": {},
   "outputs": [],
   "source": [
    "df[\"intensity\"] = df[0]\n",
    "df = df.drop([0], axis = 1)\n",
    "df_stats = get_peptide_mu_sigma(df)"
   ]
  },
  {
   "cell_type": "code",
   "execution_count": null,
   "metadata": {},
   "outputs": [],
   "source": [
    "df.intensity.values.max()"
   ]
  },
  {
   "cell_type": "code",
   "execution_count": null,
   "metadata": {},
   "outputs": [],
   "source": [
    "df_stats[\"mu\"] \n",
    "\n",
    "bins = [i*2 for i in range(11)]\n",
    "df_stats[\"binned_mu\"] = pd.cut(df_stats[\"mu\"], bins,  include_lowest=True)\n",
    "df_stats[\"quantile_bin_mu\"] = pd.qcut(df_stats[\"mu\"], q=20)\n",
    "\n",
    "\n"
   ]
  },
  {
   "cell_type": "code",
   "execution_count": null,
   "metadata": {},
   "outputs": [],
   "source": [
    "df_stats\n"
   ]
  },
  {
   "cell_type": "code",
   "execution_count": null,
   "metadata": {},
   "outputs": [],
   "source": [
    "f, ax = plt.subplots(1, 1, figsize = (17,17))\n",
    "sns.violinplot(x='binned_mu', y='std', data=df_stats, ax=ax)\n",
    "ax.set_title(\"mu vs std for log-transformed peptide values\", fontsize = 18, fontweight = \"bold\")\n",
    "\n",
    "ax.set_ylabel(\"std\", fontsize=18, fontweight=\"bold\")\n",
    "ax.set_xlabel(\"binned mean peptide intensity\", fontsize=18, fontweight=\"bold\")\n",
    "ax.tick_params(axis='x', which='major', labelsize=14, labelrotation=90)\n",
    "ax.tick_params(axis='y', which='major', labelsize=14)\n"
   ]
  },
  {
   "cell_type": "code",
   "execution_count": null,
   "metadata": {},
   "outputs": [],
   "source": [
    "df_stats"
   ]
  },
  {
   "cell_type": "markdown",
   "metadata": {},
   "source": [
    "# Adjust to remove peptides with missing values in samples"
   ]
  },
  {
   "cell_type": "code",
   "execution_count": null,
   "metadata": {},
   "outputs": [],
   "source": [
    "peptides_included_in_all_samples = (df.groupby(\"FullPeptideName\").count() >= 6).index"
   ]
  },
  {
   "cell_type": "code",
   "execution_count": null,
   "metadata": {},
   "outputs": [],
   "source": [
    "df_filtered = df[df.index.get_level_values(\"FullPeptideName\").isin(peptides_included_in_all_samples)]"
   ]
  },
  {
   "cell_type": "code",
   "execution_count": null,
   "metadata": {},
   "outputs": [],
   "source": [
    "df_stats_filtered = get_peptide_mu_sigma(df_filtered)"
   ]
  },
  {
   "cell_type": "code",
   "execution_count": null,
   "metadata": {},
   "outputs": [],
   "source": [
    "bins = [i*2 for i in range(11)]\n",
    "df_stats_filtered[\"binned_mu\"] = pd.cut(df_stats_filtered[\"mu\"], bins,  include_lowest=True)\n",
    "df_stats_filtered[\"quantile_bin_mu\"] = pd.qcut(df_stats_filtered[\"mu\"], q=8)\n"
   ]
  },
  {
   "cell_type": "code",
   "execution_count": null,
   "metadata": {
    "scrolled": true
   },
   "outputs": [],
   "source": [
    "f, ax = plt.subplots(1, 1, figsize = (17,17))\n",
    "sns.violinplot(x='binned_mu', y='std', data=df_stats_filtered, ax=ax)\n",
    "ax.set_title(\"mu vs std for log-transformed peptide values\", fontsize = 18, fontweight = \"bold\")\n",
    "\n",
    "ax.set_ylabel(\"std\", fontsize=18, fontweight=\"bold\")\n",
    "ax.set_xlabel(\"binned mean peptide intensity\", fontsize=18, fontweight=\"bold\")\n",
    "ax.tick_params(axis='x', which='major', labelsize=14, labelrotation=90)\n",
    "ax.tick_params(axis='y', which='major', labelsize=14)\n",
    "\n"
   ]
  },
  {
   "cell_type": "code",
   "execution_count": null,
   "metadata": {},
   "outputs": [],
   "source": [
    "df_stats"
   ]
  },
  {
   "cell_type": "markdown",
   "metadata": {},
   "source": [
    "# Quantile binning"
   ]
  },
  {
   "cell_type": "code",
   "execution_count": null,
   "metadata": {},
   "outputs": [],
   "source": [
    "q = 10\n",
    "df_stats[\"quantile_bin_mu\"] = pd.qcut(df_stats[\"mu\"], q=q, precision = 0)\n",
    "df_stats_filtered[\"quantile_bin_mu\"] = pd.qcut(df_stats_filtered[\"mu\"], q=q, precision = 0)\n"
   ]
  },
  {
   "cell_type": "code",
   "execution_count": null,
   "metadata": {},
   "outputs": [],
   "source": [
    "bin_median_function = lambda x: round((x.left + x.right)/2, 2)\n",
    "df_stats[\"quantile_bin_mu_median_of_bin_range\"] = df_stats[\"quantile_bin_mu\"].apply(bin_median_function)\n",
    "df_stats_filtered[\"quantile_bin_mu_median_of_bin_range\"] = df_stats_filtered[\"quantile_bin_mu\"].apply(bin_median_function)"
   ]
  },
  {
   "cell_type": "code",
   "execution_count": null,
   "metadata": {},
   "outputs": [],
   "source": []
  },
  {
   "cell_type": "code",
   "execution_count": null,
   "metadata": {},
   "outputs": [],
   "source": [
    "f, ax = plt.subplots(1, 1, figsize = (12,12))\n",
    "sns.violinplot(x='quantile_bin_mu_median_of_bin_range', y='std', data=df_stats, ax=ax)\n",
    "#ax.set_title(\"Mean vs Standard Deviation of Logarithm of Peptide Intensity, quantile binned\", fontsize = 26, fontweight = \"bold\")\n",
    "#ax.set_title(\"Mean vs Standard Deviation of Peptide Intensity, quantile binned\", fontsize = 26, fontweight = \"bold\")\n",
    "\n",
    "#ax.set_ylabel(\"Standard Deviation of Logarithm of Peptide intensity\", fontsize=26, fontweight=\"bold\")\n",
    "#ax.set_xlabel(\"Logarithm of Peptide intensity\", fontsize=26, fontweight=\"bold\")\n",
    "\n",
    "#ax.set_ylabel(\"Standard Deviation of Peptide intensity\", fontsize=26, fontweight=\"bold\")\n",
    "#ax.set_xlabel(\" Peptide intensity\", fontsize=26, fontweight=\"bold\")\n",
    "\n",
    "\n",
    "#ax.tick_params(axis='x', which='major', labelsize=22, labelrotation=90)\n",
    "#ax.tick_params(axis='y', which='major', labelsize=22)\n",
    "\n",
    "\n",
    "#ax.set_title(\"mu vs std for log-transformed peptide values\", fontsize = 18, fontweight = \"bold\")\n",
    "#ax.set_ylabel(\"std\", fontsize=18, fontweight=\"bold\")\n",
    "ax.set_ylabel(\"Standard Deviation of log of Peptide intensity\")\n",
    "#ax.set_xlabel(\"binned mean peptide intensity\", fontsize=18, fontweight=\"bold\")\n",
    "ax.set_xlabel(\"Log of Peptide\")\n",
    "#ax.tick_params(axis='x', which='major', labelsize=14, labelrotation=90)\n",
    "ax.tick_params(axis='x', which='major',labelrotation=90)\n",
    "#ax.tick_params(axis='y', which='major', labelsize=14)\n",
    "ax.set_ylim(0, 5)"
   ]
  },
  {
   "cell_type": "code",
   "execution_count": null,
   "metadata": {},
   "outputs": [],
   "source": [
    "f, ax = plt.subplots(1, 1, figsize = (12,12))\n",
    "sns.violinplot(x='quantile_bin_mu_median_of_bin_range', y='std', data=df_stats_filtered, ax=ax)\n",
    "#ax.set_title(\"Mean vs Standard Deviation of Logarithm of Peptide Intensity\", fontsize = 26, fontweight = \"bold\")\n",
    "#ax.set_title(\"Mean vs Standard Deviation of Peptide Intensity\", fontsize = 26, fontweight = \"bold\")\n",
    "\n",
    "#ax.set_ylabel(\"Standard Deviation of Logarithm of Peptide intensity\", fontsize=26, fontweight=\"bold\")\n",
    "#ax.set_xlabel(\"Logarithm of Peptide intensity\", fontsize=26, fontweight=\"bold\")\n",
    "\n",
    "#ax.set_ylabel(\"Standard Deviation of Peptide intensity\", fontsize=26, fontweight=\"bold\")\n",
    "#ax.set_xlabel(\" Peptide intensity\", fontsize=26, fontweight=\"bold\")\n",
    "\n",
    "#ax.tick_params(axis='x', which='major', labelsize=22, labelrotation=90)\n",
    "#ax.tick_params(axis='y', which='major', labelsize=22)\n",
    "\n",
    "#ax.set_title(\"mu vs std for log-transformed peptide values\", fontsize = 18, fontweight = \"bold\")\n",
    "#ax.set_ylabel(\"std\", fontsize=18, fontweight=\"bold\")\n",
    "ax.set_ylabel(r\"$\\sigma$ of log of Peptide intensity\", fontsize = 34)\n",
    "#ax.set_xlabel(\"binned mean peptide intensity\", fontsize=18, fontweight=\"bold\")\n",
    "ax.set_xlabel(\"Log of Peptide\", fontsize = 34)\n",
    "#ax.tick_params(axis='x', which='major', labelsize=14, labelrotation=90)\n",
    "ax.tick_params(axis='x', which='major', labelsize = 30, labelrotation=90)\n",
    "#ax.tick_params(axis='y', which='major', labelsize=14)\n",
    "\n",
    "ax.set_ylim([0,5])"
   ]
  },
  {
   "cell_type": "code",
   "execution_count": null,
   "metadata": {},
   "outputs": [],
   "source": [
    "f, ax = plt.subplots(1, 1, figsize = (12,12))\n",
    "#sns.violinplot(x='quantile_bin_mu', y='std', data=df_stats, ax=ax)\n",
    "sns.boxplot(x='quantile_bin_mu_median_of_bin_range', y='std', data=df_stats, ax=ax)\n",
    "\n",
    "ax.set_ylabel(\"Standard Deviation of log of Peptide intensity\")\n",
    "ax.set_xlabel(\"Log of Peptide\")\n",
    "ax.tick_params(axis='x', which='major',labelrotation=90)\n",
    "\n",
    "ax.set_ylim([0,5])"
   ]
  },
  {
   "cell_type": "code",
   "execution_count": null,
   "metadata": {},
   "outputs": [],
   "source": [
    "f, ax = plt.subplots(1, 1, figsize = (12,12))\n",
    "#sns.violinplot(x='quantile_bin_mu', y='std', data=df_stats, ax=ax)\n",
    "sns.boxplot(x='quantile_bin_mu_median_of_bin_range', y='std', data=df_stats_filtered, ax=ax)\n",
    "\n",
    "ax.set_ylabel(\"Standard Deviation of log of Peptide intensity\")\n",
    "ax.set_xlabel(\"Log of Peptide\")\n",
    "ax.tick_params(axis='x', which='major',labelrotation=90)\n",
    "\n",
    "ax.set_ylim([0,5])"
   ]
  },
  {
   "cell_type": "code",
   "execution_count": null,
   "metadata": {},
   "outputs": [],
   "source": []
  },
  {
   "cell_type": "markdown",
   "metadata": {},
   "source": [
    "# KDE histograms of the bin-distributions"
   ]
  },
  {
   "cell_type": "code",
   "execution_count": null,
   "metadata": {},
   "outputs": [],
   "source": [
    "df_stats"
   ]
  },
  {
   "cell_type": "code",
   "execution_count": null,
   "metadata": {},
   "outputs": [],
   "source": [
    "bin_vals = df_stats[\"quantile_bin_mu_median_of_bin_range\"].values.unique()"
   ]
  },
  {
   "cell_type": "code",
   "execution_count": null,
   "metadata": {},
   "outputs": [],
   "source": []
  },
  {
   "cell_type": "code",
   "execution_count": null,
   "metadata": {},
   "outputs": [],
   "source": [
    "f, ax = plt.subplots(1, 1, figsize = (12,12))\n",
    "\n",
    "for i in bin_vals:\n",
    "    df_stats_slice = df_stats[df_stats[\"quantile_bin_mu_median_of_bin_range\"] == i].copy()\n",
    "    sns.kdeplot(data = df_stats_slice, x = \"std\", alpha = 0.5, ax = ax)\n",
    "ax.set_xlim(-1,5)\n",
    "\n",
    "for line in ax.get_lines():\n",
    "    line.set_alpha(0.5)"
   ]
  },
  {
   "cell_type": "code",
   "execution_count": null,
   "metadata": {},
   "outputs": [],
   "source": [
    "f, ax = plt.subplots(1, 1, figsize = (12,12))\n",
    "\n",
    "for i in bin_vals:\n",
    "    df_stats_slice = df_stats_filtered[df_stats_filtered[\"quantile_bin_mu_median_of_bin_range\"] == i].copy()\n",
    "    sns.kdeplot(data = df_stats_slice, x = \"std\", alpha = 0.5, ax = ax)\n",
    "ax.set_xlim(-1,5)\n",
    "\n",
    "for line in ax.get_lines():\n",
    "    line.set_alpha(0.5)"
   ]
  },
  {
   "cell_type": "code",
   "execution_count": null,
   "metadata": {},
   "outputs": [],
   "source": [
    "f, ax = plt.subplots(1, 1, figsize = (12,12))\n",
    "\n",
    "for i in bin_vals:\n",
    "    df_stats_slice = df_stats[df_stats[\"quantile_bin_mu_median_of_bin_range\"] == i].copy()\n",
    "    sns.histplot(data = df_stats_slice, x = \"std\", alpha = 0.5, ax = ax)\n",
    "ax.set_xlim(-1,5)\n",
    "\n",
    "for line in ax.get_lines():\n",
    "    line.set_alpha(0.5)"
   ]
  },
  {
   "cell_type": "code",
   "execution_count": null,
   "metadata": {},
   "outputs": [],
   "source": []
  },
  {
   "cell_type": "code",
   "execution_count": null,
   "metadata": {},
   "outputs": [],
   "source": []
  }
 ],
 "metadata": {
  "kernelspec": {
   "display_name": "Python [conda env:py37]",
   "language": "python",
   "name": "conda-env-py37-py"
  },
  "language_info": {
   "codemirror_mode": {
    "name": "ipython",
    "version": 3
   },
   "file_extension": ".py",
   "mimetype": "text/x-python",
   "name": "python",
   "nbconvert_exporter": "python",
   "pygments_lexer": "ipython3",
   "version": "3.7.10"
  }
 },
 "nbformat": 4,
 "nbformat_minor": 5
}
